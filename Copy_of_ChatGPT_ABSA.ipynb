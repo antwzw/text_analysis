{
  "cells": [
    {
      "cell_type": "code",
      "execution_count": 2,
      "metadata": {
        "colab": {
          "base_uri": "https://localhost:8080/"
        },
        "id": "JKAbKlNYC0Hp",
        "outputId": "c27e7aa6-dce2-408a-e7b7-f537b5370e1f"
      },
      "outputs": [
        {
          "name": "stdout",
          "output_type": "stream",
          "text": [
            "Requirement already satisfied: openai in /Users/zhengbaoqin/anaconda3/lib/python3.11/site-packages (0.27.8)\n",
            "Requirement already satisfied: requests>=2.20 in /Users/zhengbaoqin/anaconda3/lib/python3.11/site-packages (from openai) (2.29.0)\n",
            "Requirement already satisfied: tqdm in /Users/zhengbaoqin/anaconda3/lib/python3.11/site-packages (from openai) (4.65.0)\n",
            "Requirement already satisfied: aiohttp in /Users/zhengbaoqin/anaconda3/lib/python3.11/site-packages (from openai) (3.8.3)\n",
            "Requirement already satisfied: charset-normalizer<4,>=2 in /Users/zhengbaoqin/anaconda3/lib/python3.11/site-packages (from requests>=2.20->openai) (2.0.4)\n",
            "Requirement already satisfied: idna<4,>=2.5 in /Users/zhengbaoqin/anaconda3/lib/python3.11/site-packages (from requests>=2.20->openai) (3.4)\n",
            "Requirement already satisfied: urllib3<1.27,>=1.21.1 in /Users/zhengbaoqin/anaconda3/lib/python3.11/site-packages (from requests>=2.20->openai) (1.26.16)\n",
            "Requirement already satisfied: certifi>=2017.4.17 in /Users/zhengbaoqin/anaconda3/lib/python3.11/site-packages (from requests>=2.20->openai) (2023.7.22)\n",
            "Requirement already satisfied: attrs>=17.3.0 in /Users/zhengbaoqin/anaconda3/lib/python3.11/site-packages (from aiohttp->openai) (22.1.0)\n",
            "Requirement already satisfied: multidict<7.0,>=4.5 in /Users/zhengbaoqin/anaconda3/lib/python3.11/site-packages (from aiohttp->openai) (6.0.2)\n",
            "Requirement already satisfied: async-timeout<5.0,>=4.0.0a3 in /Users/zhengbaoqin/anaconda3/lib/python3.11/site-packages (from aiohttp->openai) (4.0.2)\n",
            "Requirement already satisfied: yarl<2.0,>=1.0 in /Users/zhengbaoqin/anaconda3/lib/python3.11/site-packages (from aiohttp->openai) (1.8.1)\n",
            "Requirement already satisfied: frozenlist>=1.1.1 in /Users/zhengbaoqin/anaconda3/lib/python3.11/site-packages (from aiohttp->openai) (1.3.3)\n",
            "Requirement already satisfied: aiosignal>=1.1.2 in /Users/zhengbaoqin/anaconda3/lib/python3.11/site-packages (from aiohttp->openai) (1.2.0)\n"
          ]
        }
      ],
      "source": [
        "!pip install openai"
      ]
    },
    {
      "cell_type": "code",
      "execution_count": 3,
      "metadata": {
        "colab": {
          "base_uri": "https://localhost:8080/"
        },
        "id": "g2bQATdau9RP",
        "outputId": "a7e168e9-45ea-48e0-bfed-3e434161927a"
      },
      "outputs": [
        {
          "name": "stdout",
          "output_type": "stream",
          "text": [
            "Requirement already satisfied: tqdm in /Users/zhengbaoqin/anaconda3/lib/python3.11/site-packages (4.65.0)\n"
          ]
        }
      ],
      "source": [
        "!pip install tqdm"
      ]
    },
    {
      "cell_type": "code",
      "execution_count": 4,
      "metadata": {
        "colab": {
          "base_uri": "https://localhost:8080/",
          "height": 393
        },
        "id": "CFxIFhCvDJUm",
        "outputId": "f79bbcc9-bf80-40b7-faf5-1c82ea0f001f"
      },
      "outputs": [
        {
          "ename": "ImportError",
          "evalue": "dlopen(/Library/Frameworks/Python.framework/Versions/3.11/lib/python3.11/site-packages/charset_normalizer/md.cpython-311-darwin.so, 2): no suitable image found.  Did find:\n\t/Library/Frameworks/Python.framework/Versions/3.11/lib/python3.11/site-packages/charset_normalizer/md.cpython-311-darwin.so: mach-o, but wrong architecture\n\t/Library/Frameworks/Python.framework/Versions/3.11/lib/python3.11/site-packages/charset_normalizer/md.cpython-311-darwin.so: mach-o, but wrong architecture",
          "output_type": "error",
          "traceback": [
            "\u001b[0;31m---------------------------------------------------------------------------\u001b[0m",
            "\u001b[0;31mModuleNotFoundError\u001b[0m                       Traceback (most recent call last)",
            "File \u001b[0;32m/Library/Frameworks/Python.framework/Versions/3.11/lib/python3.11/site-packages/aiohttp/client_reqrep.py:70\u001b[0m\n\u001b[1;32m     69\u001b[0m \u001b[39mtry\u001b[39;00m:\n\u001b[0;32m---> 70\u001b[0m     \u001b[39mimport\u001b[39;00m \u001b[39mcchardet\u001b[39;00m \u001b[39mas\u001b[39;00m \u001b[39mchardet\u001b[39;00m\n\u001b[1;32m     71\u001b[0m \u001b[39mexcept\u001b[39;00m \u001b[39mImportError\u001b[39;00m:  \u001b[39m# pragma: no cover\u001b[39;00m\n",
            "\u001b[0;31mModuleNotFoundError\u001b[0m: No module named 'cchardet'",
            "\nDuring handling of the above exception, another exception occurred:\n",
            "\u001b[0;31mImportError\u001b[0m                               Traceback (most recent call last)",
            "Cell \u001b[0;32mIn[4], line 1\u001b[0m\n\u001b[0;32m----> 1\u001b[0m \u001b[39mimport\u001b[39;00m \u001b[39mopenai\u001b[39;00m\n\u001b[1;32m      2\u001b[0m \u001b[39mimport\u001b[39;00m \u001b[39mos\u001b[39;00m\n\u001b[1;32m      3\u001b[0m \u001b[39mimport\u001b[39;00m \u001b[39mpandas\u001b[39;00m \u001b[39mas\u001b[39;00m \u001b[39mpd\u001b[39;00m\n",
            "File \u001b[0;32m/Library/Frameworks/Python.framework/Versions/3.11/lib/python3.11/site-packages/openai/__init__.py:19\u001b[0m\n\u001b[1;32m     15\u001b[0m     \u001b[39mimport\u001b[39;00m \u001b[39maiohttp\u001b[39;00m\n\u001b[1;32m     17\u001b[0m     \u001b[39mdel\u001b[39;00m sys\u001b[39m.\u001b[39mmodules[\u001b[39m\"\u001b[39m\u001b[39mpkg_resources\u001b[39m\u001b[39m\"\u001b[39m]\n\u001b[0;32m---> 19\u001b[0m \u001b[39mfrom\u001b[39;00m \u001b[39mopenai\u001b[39;00m\u001b[39m.\u001b[39;00m\u001b[39mapi_resources\u001b[39;00m \u001b[39mimport\u001b[39;00m (\n\u001b[1;32m     20\u001b[0m     Audio,\n\u001b[1;32m     21\u001b[0m     ChatCompletion,\n\u001b[1;32m     22\u001b[0m     Completion,\n\u001b[1;32m     23\u001b[0m     Customer,\n\u001b[1;32m     24\u001b[0m     Deployment,\n\u001b[1;32m     25\u001b[0m     Edit,\n\u001b[1;32m     26\u001b[0m     Embedding,\n\u001b[1;32m     27\u001b[0m     Engine,\n\u001b[1;32m     28\u001b[0m     ErrorObject,\n\u001b[1;32m     29\u001b[0m     File,\n\u001b[1;32m     30\u001b[0m     FineTune,\n\u001b[1;32m     31\u001b[0m     Image,\n\u001b[1;32m     32\u001b[0m     Model,\n\u001b[1;32m     33\u001b[0m     Moderation,\n\u001b[1;32m     34\u001b[0m )\n\u001b[1;32m     35\u001b[0m \u001b[39mfrom\u001b[39;00m \u001b[39mopenai\u001b[39;00m\u001b[39m.\u001b[39;00m\u001b[39merror\u001b[39;00m \u001b[39mimport\u001b[39;00m APIError, InvalidRequestError, OpenAIError\n\u001b[1;32m     36\u001b[0m \u001b[39mfrom\u001b[39;00m \u001b[39mopenai\u001b[39;00m\u001b[39m.\u001b[39;00m\u001b[39mversion\u001b[39;00m \u001b[39mimport\u001b[39;00m VERSION\n",
            "File \u001b[0;32m/Library/Frameworks/Python.framework/Versions/3.11/lib/python3.11/site-packages/openai/api_resources/__init__.py:1\u001b[0m\n\u001b[0;32m----> 1\u001b[0m \u001b[39mfrom\u001b[39;00m \u001b[39mopenai\u001b[39;00m\u001b[39m.\u001b[39;00m\u001b[39mapi_resources\u001b[39;00m\u001b[39m.\u001b[39;00m\u001b[39maudio\u001b[39;00m \u001b[39mimport\u001b[39;00m Audio  \u001b[39m# noqa: F401\u001b[39;00m\n\u001b[1;32m      2\u001b[0m \u001b[39mfrom\u001b[39;00m \u001b[39mopenai\u001b[39;00m\u001b[39m.\u001b[39;00m\u001b[39mapi_resources\u001b[39;00m\u001b[39m.\u001b[39;00m\u001b[39mchat_completion\u001b[39;00m \u001b[39mimport\u001b[39;00m ChatCompletion  \u001b[39m# noqa: F401\u001b[39;00m\n\u001b[1;32m      3\u001b[0m \u001b[39mfrom\u001b[39;00m \u001b[39mopenai\u001b[39;00m\u001b[39m.\u001b[39;00m\u001b[39mapi_resources\u001b[39;00m\u001b[39m.\u001b[39;00m\u001b[39mcompletion\u001b[39;00m \u001b[39mimport\u001b[39;00m Completion  \u001b[39m# noqa: F401\u001b[39;00m\n",
            "File \u001b[0;32m/Library/Frameworks/Python.framework/Versions/3.11/lib/python3.11/site-packages/openai/api_resources/audio.py:4\u001b[0m\n\u001b[1;32m      1\u001b[0m \u001b[39mfrom\u001b[39;00m \u001b[39mtyping\u001b[39;00m \u001b[39mimport\u001b[39;00m Any, List\n\u001b[1;32m      3\u001b[0m \u001b[39mimport\u001b[39;00m \u001b[39mopenai\u001b[39;00m\n\u001b[0;32m----> 4\u001b[0m \u001b[39mfrom\u001b[39;00m \u001b[39mopenai\u001b[39;00m \u001b[39mimport\u001b[39;00m api_requestor, util\n\u001b[1;32m      5\u001b[0m \u001b[39mfrom\u001b[39;00m \u001b[39mopenai\u001b[39;00m\u001b[39m.\u001b[39;00m\u001b[39mapi_resources\u001b[39;00m\u001b[39m.\u001b[39;00m\u001b[39mabstract\u001b[39;00m \u001b[39mimport\u001b[39;00m APIResource\n\u001b[1;32m      8\u001b[0m \u001b[39mclass\u001b[39;00m \u001b[39mAudio\u001b[39;00m(APIResource):\n",
            "File \u001b[0;32m/Library/Frameworks/Python.framework/Versions/3.11/lib/python3.11/site-packages/openai/api_requestor.py:21\u001b[0m\n\u001b[1;32m      9\u001b[0m \u001b[39mfrom\u001b[39;00m \u001b[39mtyping\u001b[39;00m \u001b[39mimport\u001b[39;00m (\n\u001b[1;32m     10\u001b[0m     AsyncGenerator,\n\u001b[1;32m     11\u001b[0m     AsyncIterator,\n\u001b[0;32m   (...)\u001b[0m\n\u001b[1;32m     17\u001b[0m     overload,\n\u001b[1;32m     18\u001b[0m )\n\u001b[1;32m     19\u001b[0m \u001b[39mfrom\u001b[39;00m \u001b[39murllib\u001b[39;00m\u001b[39m.\u001b[39;00m\u001b[39mparse\u001b[39;00m \u001b[39mimport\u001b[39;00m urlencode, urlsplit, urlunsplit\n\u001b[0;32m---> 21\u001b[0m \u001b[39mimport\u001b[39;00m \u001b[39maiohttp\u001b[39;00m\n\u001b[1;32m     22\u001b[0m \u001b[39mimport\u001b[39;00m \u001b[39mrequests\u001b[39;00m\n\u001b[1;32m     24\u001b[0m \u001b[39mif\u001b[39;00m sys\u001b[39m.\u001b[39mversion_info \u001b[39m>\u001b[39m\u001b[39m=\u001b[39m (\u001b[39m3\u001b[39m, \u001b[39m8\u001b[39m):\n",
            "File \u001b[0;32m/Library/Frameworks/Python.framework/Versions/3.11/lib/python3.11/site-packages/aiohttp/__init__.py:6\u001b[0m\n\u001b[1;32m      3\u001b[0m \u001b[39mfrom\u001b[39;00m \u001b[39mtyping\u001b[39;00m \u001b[39mimport\u001b[39;00m Tuple\n\u001b[1;32m      5\u001b[0m \u001b[39mfrom\u001b[39;00m \u001b[39m.\u001b[39;00m \u001b[39mimport\u001b[39;00m hdrs \u001b[39mas\u001b[39;00m hdrs\n\u001b[0;32m----> 6\u001b[0m \u001b[39mfrom\u001b[39;00m \u001b[39m.\u001b[39;00m\u001b[39mclient\u001b[39;00m \u001b[39mimport\u001b[39;00m (\n\u001b[1;32m      7\u001b[0m     BaseConnector \u001b[39mas\u001b[39;00m BaseConnector,\n\u001b[1;32m      8\u001b[0m     ClientConnectionError \u001b[39mas\u001b[39;00m ClientConnectionError,\n\u001b[1;32m      9\u001b[0m     ClientConnectorCertificateError \u001b[39mas\u001b[39;00m ClientConnectorCertificateError,\n\u001b[1;32m     10\u001b[0m     ClientConnectorError \u001b[39mas\u001b[39;00m ClientConnectorError,\n\u001b[1;32m     11\u001b[0m     ClientConnectorSSLError \u001b[39mas\u001b[39;00m ClientConnectorSSLError,\n\u001b[1;32m     12\u001b[0m     ClientError \u001b[39mas\u001b[39;00m ClientError,\n\u001b[1;32m     13\u001b[0m     ClientHttpProxyError \u001b[39mas\u001b[39;00m ClientHttpProxyError,\n\u001b[1;32m     14\u001b[0m     ClientOSError \u001b[39mas\u001b[39;00m ClientOSError,\n\u001b[1;32m     15\u001b[0m     ClientPayloadError \u001b[39mas\u001b[39;00m ClientPayloadError,\n\u001b[1;32m     16\u001b[0m     ClientProxyConnectionError \u001b[39mas\u001b[39;00m ClientProxyConnectionError,\n\u001b[1;32m     17\u001b[0m     ClientRequest \u001b[39mas\u001b[39;00m ClientRequest,\n\u001b[1;32m     18\u001b[0m     ClientResponse \u001b[39mas\u001b[39;00m ClientResponse,\n\u001b[1;32m     19\u001b[0m     ClientResponseError \u001b[39mas\u001b[39;00m ClientResponseError,\n\u001b[1;32m     20\u001b[0m     ClientSession \u001b[39mas\u001b[39;00m ClientSession,\n\u001b[1;32m     21\u001b[0m     ClientSSLError \u001b[39mas\u001b[39;00m ClientSSLError,\n\u001b[1;32m     22\u001b[0m     ClientTimeout \u001b[39mas\u001b[39;00m ClientTimeout,\n\u001b[1;32m     23\u001b[0m     ClientWebSocketResponse \u001b[39mas\u001b[39;00m ClientWebSocketResponse,\n\u001b[1;32m     24\u001b[0m     ContentTypeError \u001b[39mas\u001b[39;00m ContentTypeError,\n\u001b[1;32m     25\u001b[0m     Fingerprint \u001b[39mas\u001b[39;00m Fingerprint,\n\u001b[1;32m     26\u001b[0m     InvalidURL \u001b[39mas\u001b[39;00m InvalidURL,\n\u001b[1;32m     27\u001b[0m     NamedPipeConnector \u001b[39mas\u001b[39;00m NamedPipeConnector,\n\u001b[1;32m     28\u001b[0m     RequestInfo \u001b[39mas\u001b[39;00m RequestInfo,\n\u001b[1;32m     29\u001b[0m     ServerConnectionError \u001b[39mas\u001b[39;00m ServerConnectionError,\n\u001b[1;32m     30\u001b[0m     ServerDisconnectedError \u001b[39mas\u001b[39;00m ServerDisconnectedError,\n\u001b[1;32m     31\u001b[0m     ServerFingerprintMismatch \u001b[39mas\u001b[39;00m ServerFingerprintMismatch,\n\u001b[1;32m     32\u001b[0m     ServerTimeoutError \u001b[39mas\u001b[39;00m ServerTimeoutError,\n\u001b[1;32m     33\u001b[0m     TCPConnector \u001b[39mas\u001b[39;00m TCPConnector,\n\u001b[1;32m     34\u001b[0m     TooManyRedirects \u001b[39mas\u001b[39;00m TooManyRedirects,\n\u001b[1;32m     35\u001b[0m     UnixConnector \u001b[39mas\u001b[39;00m UnixConnector,\n\u001b[1;32m     36\u001b[0m     WSServerHandshakeError \u001b[39mas\u001b[39;00m WSServerHandshakeError,\n\u001b[1;32m     37\u001b[0m     request \u001b[39mas\u001b[39;00m request,\n\u001b[1;32m     38\u001b[0m )\n\u001b[1;32m     39\u001b[0m \u001b[39mfrom\u001b[39;00m \u001b[39m.\u001b[39;00m\u001b[39mcookiejar\u001b[39;00m \u001b[39mimport\u001b[39;00m CookieJar \u001b[39mas\u001b[39;00m CookieJar, DummyCookieJar \u001b[39mas\u001b[39;00m DummyCookieJar\n\u001b[1;32m     40\u001b[0m \u001b[39mfrom\u001b[39;00m \u001b[39m.\u001b[39;00m\u001b[39mformdata\u001b[39;00m \u001b[39mimport\u001b[39;00m FormData \u001b[39mas\u001b[39;00m FormData\n",
            "File \u001b[0;32m/Library/Frameworks/Python.framework/Versions/3.11/lib/python3.11/site-packages/aiohttp/client.py:59\u001b[0m\n\u001b[1;32m     37\u001b[0m \u001b[39mfrom\u001b[39;00m \u001b[39m.\u001b[39;00m\u001b[39mabc\u001b[39;00m \u001b[39mimport\u001b[39;00m AbstractCookieJar\n\u001b[1;32m     38\u001b[0m \u001b[39mfrom\u001b[39;00m \u001b[39m.\u001b[39;00m\u001b[39mclient_exceptions\u001b[39;00m \u001b[39mimport\u001b[39;00m (\n\u001b[1;32m     39\u001b[0m     ClientConnectionError \u001b[39mas\u001b[39;00m ClientConnectionError,\n\u001b[1;32m     40\u001b[0m     ClientConnectorCertificateError \u001b[39mas\u001b[39;00m ClientConnectorCertificateError,\n\u001b[0;32m   (...)\u001b[0m\n\u001b[1;32m     57\u001b[0m     WSServerHandshakeError \u001b[39mas\u001b[39;00m WSServerHandshakeError,\n\u001b[1;32m     58\u001b[0m )\n\u001b[0;32m---> 59\u001b[0m \u001b[39mfrom\u001b[39;00m \u001b[39m.\u001b[39;00m\u001b[39mclient_reqrep\u001b[39;00m \u001b[39mimport\u001b[39;00m (\n\u001b[1;32m     60\u001b[0m     ClientRequest \u001b[39mas\u001b[39;00m ClientRequest,\n\u001b[1;32m     61\u001b[0m     ClientResponse \u001b[39mas\u001b[39;00m ClientResponse,\n\u001b[1;32m     62\u001b[0m     Fingerprint \u001b[39mas\u001b[39;00m Fingerprint,\n\u001b[1;32m     63\u001b[0m     RequestInfo \u001b[39mas\u001b[39;00m RequestInfo,\n\u001b[1;32m     64\u001b[0m     _merge_ssl_params,\n\u001b[1;32m     65\u001b[0m )\n\u001b[1;32m     66\u001b[0m \u001b[39mfrom\u001b[39;00m \u001b[39m.\u001b[39;00m\u001b[39mclient_ws\u001b[39;00m \u001b[39mimport\u001b[39;00m ClientWebSocketResponse \u001b[39mas\u001b[39;00m ClientWebSocketResponse\n\u001b[1;32m     67\u001b[0m \u001b[39mfrom\u001b[39;00m \u001b[39m.\u001b[39;00m\u001b[39mconnector\u001b[39;00m \u001b[39mimport\u001b[39;00m (\n\u001b[1;32m     68\u001b[0m     BaseConnector \u001b[39mas\u001b[39;00m BaseConnector,\n\u001b[1;32m     69\u001b[0m     NamedPipeConnector \u001b[39mas\u001b[39;00m NamedPipeConnector,\n\u001b[1;32m     70\u001b[0m     TCPConnector \u001b[39mas\u001b[39;00m TCPConnector,\n\u001b[1;32m     71\u001b[0m     UnixConnector \u001b[39mas\u001b[39;00m UnixConnector,\n\u001b[1;32m     72\u001b[0m )\n",
            "File \u001b[0;32m/Library/Frameworks/Python.framework/Versions/3.11/lib/python3.11/site-packages/aiohttp/client_reqrep.py:72\u001b[0m\n\u001b[1;32m     70\u001b[0m     \u001b[39mimport\u001b[39;00m \u001b[39mcchardet\u001b[39;00m \u001b[39mas\u001b[39;00m \u001b[39mchardet\u001b[39;00m\n\u001b[1;32m     71\u001b[0m \u001b[39mexcept\u001b[39;00m \u001b[39mImportError\u001b[39;00m:  \u001b[39m# pragma: no cover\u001b[39;00m\n\u001b[0;32m---> 72\u001b[0m     \u001b[39mimport\u001b[39;00m \u001b[39mcharset_normalizer\u001b[39;00m \u001b[39mas\u001b[39;00m \u001b[39mchardet\u001b[39;00m  \u001b[39m# type: ignore[no-redef]\u001b[39;00m\n\u001b[1;32m     75\u001b[0m __all__ \u001b[39m=\u001b[39m (\u001b[39m\"\u001b[39m\u001b[39mClientRequest\u001b[39m\u001b[39m\"\u001b[39m, \u001b[39m\"\u001b[39m\u001b[39mClientResponse\u001b[39m\u001b[39m\"\u001b[39m, \u001b[39m\"\u001b[39m\u001b[39mRequestInfo\u001b[39m\u001b[39m\"\u001b[39m, \u001b[39m\"\u001b[39m\u001b[39mFingerprint\u001b[39m\u001b[39m\"\u001b[39m)\n\u001b[1;32m     78\u001b[0m \u001b[39mif\u001b[39;00m TYPE_CHECKING:  \u001b[39m# pragma: no cover\u001b[39;00m\n",
            "File \u001b[0;32m/Library/Frameworks/Python.framework/Versions/3.11/lib/python3.11/site-packages/charset_normalizer/__init__.py:24\u001b[0m\n\u001b[1;32m      2\u001b[0m \u001b[39m\"\"\"\u001b[39;00m\n\u001b[1;32m      3\u001b[0m \u001b[39mCharset-Normalizer\u001b[39;00m\n\u001b[1;32m      4\u001b[0m \u001b[39m~~~~~~~~~~~~~~\u001b[39;00m\n\u001b[0;32m   (...)\u001b[0m\n\u001b[1;32m     20\u001b[0m \u001b[39m:license: MIT, see LICENSE for more details.\u001b[39;00m\n\u001b[1;32m     21\u001b[0m \u001b[39m\"\"\"\u001b[39;00m\n\u001b[1;32m     22\u001b[0m \u001b[39mimport\u001b[39;00m \u001b[39mlogging\u001b[39;00m\n\u001b[0;32m---> 24\u001b[0m \u001b[39mfrom\u001b[39;00m \u001b[39m.\u001b[39;00m\u001b[39mapi\u001b[39;00m \u001b[39mimport\u001b[39;00m from_bytes, from_fp, from_path\n\u001b[1;32m     25\u001b[0m \u001b[39mfrom\u001b[39;00m \u001b[39m.\u001b[39;00m\u001b[39mlegacy\u001b[39;00m \u001b[39mimport\u001b[39;00m detect\n\u001b[1;32m     26\u001b[0m \u001b[39mfrom\u001b[39;00m \u001b[39m.\u001b[39;00m\u001b[39mmodels\u001b[39;00m \u001b[39mimport\u001b[39;00m CharsetMatch, CharsetMatches\n",
            "File \u001b[0;32m/Library/Frameworks/Python.framework/Versions/3.11/lib/python3.11/site-packages/charset_normalizer/api.py:5\u001b[0m\n\u001b[1;32m      2\u001b[0m \u001b[39mfrom\u001b[39;00m \u001b[39mos\u001b[39;00m \u001b[39mimport\u001b[39;00m PathLike\n\u001b[1;32m      3\u001b[0m \u001b[39mfrom\u001b[39;00m \u001b[39mtyping\u001b[39;00m \u001b[39mimport\u001b[39;00m Any, BinaryIO, List, Optional, Set\n\u001b[0;32m----> 5\u001b[0m \u001b[39mfrom\u001b[39;00m \u001b[39m.\u001b[39;00m\u001b[39mcd\u001b[39;00m \u001b[39mimport\u001b[39;00m (\n\u001b[1;32m      6\u001b[0m     coherence_ratio,\n\u001b[1;32m      7\u001b[0m     encoding_languages,\n\u001b[1;32m      8\u001b[0m     mb_encoding_languages,\n\u001b[1;32m      9\u001b[0m     merge_coherence_ratios,\n\u001b[1;32m     10\u001b[0m )\n\u001b[1;32m     11\u001b[0m \u001b[39mfrom\u001b[39;00m \u001b[39m.\u001b[39;00m\u001b[39mconstant\u001b[39;00m \u001b[39mimport\u001b[39;00m IANA_SUPPORTED, TOO_BIG_SEQUENCE, TOO_SMALL_SEQUENCE, TRACE\n\u001b[1;32m     12\u001b[0m \u001b[39mfrom\u001b[39;00m \u001b[39m.\u001b[39;00m\u001b[39mmd\u001b[39;00m \u001b[39mimport\u001b[39;00m mess_ratio\n",
            "File \u001b[0;32m/Library/Frameworks/Python.framework/Versions/3.11/lib/python3.11/site-packages/charset_normalizer/cd.py:9\u001b[0m\n\u001b[1;32m      7\u001b[0m \u001b[39mfrom\u001b[39;00m \u001b[39m.\u001b[39;00m\u001b[39massets\u001b[39;00m \u001b[39mimport\u001b[39;00m FREQUENCIES\n\u001b[1;32m      8\u001b[0m \u001b[39mfrom\u001b[39;00m \u001b[39m.\u001b[39;00m\u001b[39mconstant\u001b[39;00m \u001b[39mimport\u001b[39;00m KO_NAMES, LANGUAGE_SUPPORTED_COUNT, TOO_SMALL_SEQUENCE, ZH_NAMES\n\u001b[0;32m----> 9\u001b[0m \u001b[39mfrom\u001b[39;00m \u001b[39m.\u001b[39;00m\u001b[39mmd\u001b[39;00m \u001b[39mimport\u001b[39;00m is_suspiciously_successive_range\n\u001b[1;32m     10\u001b[0m \u001b[39mfrom\u001b[39;00m \u001b[39m.\u001b[39;00m\u001b[39mmodels\u001b[39;00m \u001b[39mimport\u001b[39;00m CoherenceMatches\n\u001b[1;32m     11\u001b[0m \u001b[39mfrom\u001b[39;00m \u001b[39m.\u001b[39;00m\u001b[39mutils\u001b[39;00m \u001b[39mimport\u001b[39;00m (\n\u001b[1;32m     12\u001b[0m     is_accentuated,\n\u001b[1;32m     13\u001b[0m     is_latin,\n\u001b[0;32m   (...)\u001b[0m\n\u001b[1;32m     16\u001b[0m     unicode_range,\n\u001b[1;32m     17\u001b[0m )\n",
            "\u001b[0;31mImportError\u001b[0m: dlopen(/Library/Frameworks/Python.framework/Versions/3.11/lib/python3.11/site-packages/charset_normalizer/md.cpython-311-darwin.so, 2): no suitable image found.  Did find:\n\t/Library/Frameworks/Python.framework/Versions/3.11/lib/python3.11/site-packages/charset_normalizer/md.cpython-311-darwin.so: mach-o, but wrong architecture\n\t/Library/Frameworks/Python.framework/Versions/3.11/lib/python3.11/site-packages/charset_normalizer/md.cpython-311-darwin.so: mach-o, but wrong architecture"
          ]
        }
      ],
      "source": [
        "import openai\n",
        "import os\n",
        "import pandas as pd\n",
        "import time\n",
        "from tqdm import tqdm\n",
        "\n",
        "#from dotenv import load_dotenv, find_dotenv\n",
        "#_ = load_dotenv(find_dotenv()) # read local .env file\n",
        "\n",
        "openai.api_key = \"API-KEY\" # provide your own api here"
      ]
    },
    {
      "cell_type": "code",
      "execution_count": null,
      "metadata": {
        "id": "ELQqH3mqEZmB"
      },
      "outputs": [],
      "source": [
        "from tenacity import (\n",
        "    retry,\n",
        "    stop_after_attempt,\n",
        "    wait_random_exponential,\n",
        ")  # for exponential backoff\n",
        "\n",
        "\n",
        "@retry(wait=wait_random_exponential(min=100, max=1000), stop=stop_after_attempt(6))\n",
        "def completion_with_backoff(prompt):\n",
        "    #time.sleep(1)\n",
        "    return get_completion(prompt, model=\"gpt-3.5-turbo\")\n"
      ]
    },
    {
      "cell_type": "code",
      "execution_count": null,
      "metadata": {
        "id": "7g7CcK3cDqeK"
      },
      "outputs": [],
      "source": [
        "def get_completion(prompt, model=\"gpt-3.5-turbo\"):\n",
        "    messages = [{\"role\": \"user\", \"content\": prompt}]\n",
        "    response = openai.ChatCompletion.create(\n",
        "        model=model,\n",
        "        messages=messages,\n",
        "        temperature=0, # this is the degree of randomness of the model's output\n",
        "    )\n",
        "    #print(response.choices[0].message[\"content\"])\n",
        "    return response.choices[0].message[\"content\"]\n",
        "\n",
        "def formatted_to_dataframe(string):\n",
        "  lines = string.split(\"\\n\")\n",
        "  data = []\n",
        "\n",
        "  for line in lines:\n",
        "    #print(line)\n",
        "    #if len(line) >= 10:\n",
        "    if len(line) >= 18:\n",
        "      parts = line.split(\"/\")\n",
        "      print(len(line))\n",
        "      print(line)\n",
        "      aspect = parts[0].strip()\n",
        "      polarity = parts[1].strip()\n",
        "      summary = parts[2].strip()\n",
        "      data.append([aspect, polarity, summary])\n",
        "\n",
        "  df = pd.DataFrame(data, columns=[\"Aspect\", \"Polarity\", \"Summary\"])\n",
        "  return df\n"
      ]
    },
    {
      "cell_type": "code",
      "execution_count": null,
      "metadata": {
        "colab": {
          "base_uri": "https://localhost:8080/"
        },
        "id": "uy6m_VBycarf",
        "outputId": "a3c38888-41bb-489c-e636-1a1df11400b7"
      },
      "outputs": [
        {
          "name": "stdout",
          "output_type": "stream",
          "text": [
            "Accessibility and Accessibility/Positive/Close to the Papa Murphys Pizza store, Would be accessible at any time day or night, Well lit parking lot, This is one of the better charging stations\n",
            "Amenities and location/Positive/There’s a Target right there, walking distance, so you can shop n charge if you want, This is in a residential apt complex with a toddler day care in the middle of it all\n",
            "Reliability and maintenance/Positive/They’re all pretty crowded\n",
            "Compatibility and Connectivity/Positive/There are also other chargers with different plug-ins\n",
            "Customer service/Positive/Had trouble connecting initially. I called customer service. They rebooted the machine and it worked just fine after that\n",
            "Price and cost/Positive/Seems to be cheaper sometimes n less crowded, maybe?\n",
            "Queue and waiting time/Positive/They’re all pretty crowded\n"
          ]
        }
      ],
      "source": [
        "review = \"\"\" Had trouble connecting initially. I called customer service.\n",
        "They rebooted the machine and it worked just fine after that. It is a paid service.\n",
        "Close to the Papa Murphys Pizza store. Uncovered. Would be accessible at any time day or night.\n",
        "Well lit parking lot. This is one of the better charging stations.\n",
        "Seems to be cheaper sometimes n less crowded, maybe? They’re all pretty crowded.\n",
        "But there’s a Target right there, walking distance, so you can shop n charge if you want.\n",
        "This is in a residential apt complex with a toddler day care in the middle of it all, just FYI.\n",
        "There are also other chargers with different plug-ins, I’m not sure what kind, I haven’t checked it out. \"\"\"\n",
        "def get_response(review):\n",
        "  prompt = f\"\"\"\n",
        "  Classify the review and recognize all aspects terms with their corresponding opinion terms and sentiment polarity in [aspect/polarity/summary] format.\n",
        "  Use the aspects provided: [Accessibility and Accessibility, Amenities and location, Compatibility and Connectivity, Charging speed and efficiency, reliability and maintenance, price and cost, queue and waiting time, customer service, ease of use, payment option, Safety, user interface, mobile app].\n",
        "  Now I will give you the following examples so that you will be able to better classify the reviews\n",
        "\n",
        "Review 1: [16 Tesla superchargers and 4 other ev chargers located in the same parking lot as target, ronin, scissors & scotch, yoga six, blue sky, Logan house coffee, crisp & green, mod pizza, I scream gelato, Torchys and chase bank!]\n",
        " Amenities and Location/Positive/target, ronin, scissors & scotch, yoga six, blue sky, Logan house coffee, crisp & green, mod pizza, I scream gelato, Torchys and chase bank!]\n",
        "\n",
        "Review 2:  [16 Tesla superchargers and 4 other ev chargers located in the same parking lot as target, ronin, scissors & scotch, yoga six, blue sky, Logan house coffee, crisp & green, mod pizza, I scream gelato, Torchys and chase bank!]\n",
        " Availability and Accessibility/positive/16 Tesla superchargers and 4 other ev chargers\n",
        "\n",
        "Review 3: [The Tesla Supercharger was fast, convenient, and easy to use! Charging my car was a breeze, and the location was great. Highly recommend for Tesla owners.\n",
        " ease of use/positive/convenient, and easy to use\n",
        "\n",
        "Review 4: [\"The Tesla Supercharger was fast, convenient, and easy to use! Charging my car was a breeze, and the location was great. Highly recommend for Tesla owners.]\n",
        " charging speed and efficiency/Positive/fast and convenient\n",
        "\n",
        "Review 5: [This is the worst EA charger. It constantly has one or two chargers (out of 3) not working and there are long lines of cars waiting to charge.]\n",
        " reliability and maintenance/Negative/It constantly has one or two chargers (out of 3) not working\n",
        "\n",
        "Review 6: [This charging station is fairly conveniently located. It's within a parking area for Bank of America, but it's not limited to customer parking. This might be a spot where if you wanted to charge and grab a quick bite nearby, you could, but I generally haven't done that myself. This charging station is generally reliable, although I have had issues a few times where I've had to contact customer support to get going — although to be fair, that's not necessarily an issue isolated to this charging station.]\n",
        " customer service/Positive/although I have had issues a few times where I've had to contact customer support to get going\n",
        "\n",
        "Review 7: [My very first public charging experience - don't think it could have been any better. I hooked up, it identified my car, knew I had a credit through Ford and away it went. Added about 36%, 100 miles, 27kwh in 25 minutes. Will definitely be back.]\n",
        " Compatibility and Connectivity/Negative/I hooked up, it identified my car\n",
        "\n",
        "Review 8: [Debit and credit cards accepted]\n",
        " payment option/Positive/Debit and credit cards accepted\n",
        "\n",
        "Review 9: [$0.34 per kwhr as of 9/22/2022, which is one of cheapest rates on the I-95 corridor currently. Only downside is that Cracker Barrel is only food in walking distance, if only want a snack. But plenty empty chargers so should not have idle chargers if want a full meal]\n",
        " price and cost/Positive/one of the cheapest\n",
        "\n",
        "Review 10: [Problem is that there are lots of chargers but only one is the Chademo that I need. The Nissan Leaf also takes this connection so I had to wait for 20 minutes for it to be free. Meanwhile there were 20 or so unused chargers available.  Maybe better to have a more equal number?  Or even 2 it 3 Chademo?]\n",
        " queue and waiting time/Negative/I had to wait for 20 minutes for it to be free\n",
        "\n",
        "Review 11: [Secure with a guard and security gate]\n",
        " safety/Positive/Secure with a guard and security gate\n",
        "\n",
        "Review 12: [eventually I was able to charge with the touchscreen instead of the app]\n",
        " user-interface of charger and mobile app/Positive/able to charge with the touchscreen\n",
        "  Review text: '''{review}'''\n",
        "  \"\"\"\n",
        "  response = get_completion(prompt)\n",
        "  return response\n",
        "response = get_response(review)\n",
        "print(response)"
      ]
    },
    {
      "cell_type": "code",
      "execution_count": null,
      "metadata": {
        "id": "J1MUO8mJG14D"
      },
      "outputs": [],
      "source": [
        "from google.colab import files\n",
        "#upload_file = files.upload()\n",
        "\n",
        "data = pd.read_csv('/content/labeled_text.csv') #upload the file Colab"
      ]
    },
    {
      "cell_type": "code",
      "execution_count": null,
      "metadata": {
        "id": "hY-MWWWZMisk"
      },
      "outputs": [],
      "source": [
        "reviews = data['text'].dropna()"
      ]
    },
    {
      "cell_type": "code",
      "execution_count": null,
      "metadata": {
        "colab": {
          "base_uri": "https://localhost:8080/"
        },
        "id": "bar5j987plY-",
        "outputId": "64627249-014a-4a0b-d65d-82aa58be0dc5"
      },
      "outputs": [
        {
          "name": "stdout",
          "output_type": "stream",
          "text": [
            "Drive already mounted at /content/drive; to attempt to forcibly remount, call drive.mount(\"/content/drive\", force_remount=True).\n"
          ]
        }
      ],
      "source": [
        "from google.colab import drive\n",
        "drive.mount('/content/drive')"
      ]
    },
    {
      "cell_type": "markdown",
      "metadata": {
        "id": "zyNoza2W3F4P"
      },
      "source": [
        "# New Section"
      ]
    },
    {
      "cell_type": "code",
      "execution_count": null,
      "metadata": {
        "colab": {
          "base_uri": "https://localhost:8080/"
        },
        "id": "vZvWrbsaHYK3",
        "outputId": "e60d6ce1-8a58-487a-b7f7-45b9fe12f4b8"
      },
      "outputs": [
        {
          "data": {
            "text/plain": [
              "0       Very busy, but the only Supercharger in town. ...\n",
              "1       Ok, 3a wasn't working well for me. It stopped ...\n",
              "2       One charger was out when I went but the rest w...\n",
              "3       Great location! It's just off the freeway behi...\n",
              "4       Supercharger is in the Oxford Suites hotel par...\n",
              "                              ...                        \n",
              "1474    I would rate 0 stars if I could. I prefer gas ...\n",
              "1475    5 stars for the 4 fast DC charging spots to ch...\n",
              "1476    A nice ChargePointDCFC station with both CCS &...\n",
              "1477    What can I say a quick free electric charge fr...\n",
              "1478                   Thank you, great charging station!\n",
              "Name: text, Length: 1479, dtype: object"
            ]
          },
          "execution_count": 21,
          "metadata": {},
          "output_type": "execute_result"
        }
      ],
      "source": [
        "reviews = reviews.reset_index(drop=True)\n",
        "reviews"
      ]
    },
    {
      "cell_type": "code",
      "execution_count": null,
      "metadata": {
        "id": "05-YqcZZLHu6"
      },
      "outputs": [],
      "source": [
        "#pd.options.display.max_colwidth = 300"
      ]
    },
    {
      "cell_type": "code",
      "execution_count": null,
      "metadata": {
        "id": "63MkNqwbIGAd"
      },
      "outputs": [],
      "source": [
        "# reviews2 = reviews[5:10]\n",
        "# rewiews3  = '. '.join(reviews2)\n",
        "# rewiews3 = f\"\\'''{rewiews3}\\'''\""
      ]
    },
    {
      "cell_type": "code",
      "execution_count": null,
      "metadata": {
        "colab": {
          "base_uri": "https://localhost:8080/",
          "height": 1000
        },
        "id": "RwSuQp8wIYCn",
        "outputId": "04b90714-0920-4598-8b35-7fa6952dd9e5"
      },
      "outputs": [
        {
          "name": "stderr",
          "output_type": "stream",
          "text": [
            "  0%|          | 1/1479 [00:04<1:54:28,  4.65s/it]"
          ]
        },
        {
          "name": "stdout",
          "output_type": "stream",
          "text": [
            "83\n",
            "Accessibility and Availability/Neutral/Very busy, but the only Supercharger in town\n",
            "84\n",
            "Amenities and Location/Neutral/10 minutes to Starbucks so easy walk while you charge\n",
            "141\n",
            "Reliability and Maintenance/Neutral/The app reported it was closed, but there are only a couple being serviced by Tesla while we are charging\n",
            "40\n",
            "Queue and Waiting Time/Neutral/Very busy\n",
            "130\n",
            "Customer Service/Neutral/The app reported it was closed, but there are only a couple being serviced by Tesla while we are charging\n",
            "73\n",
            "Ease of Use/Neutral/10 minutes to Starbucks so easy walk while you charge\n",
            "124\n",
            "Mobile App/Neutral/The app reported it was closed, but there are only a couple being serviced by Tesla while we are charging\n"
          ]
        },
        {
          "name": "stderr",
          "output_type": "stream",
          "text": [
            "\r  0%|          | 2/1479 [00:07<1:22:36,  3.36s/it]"
          ]
        },
        {
          "name": "stdout",
          "output_type": "stream",
          "text": [
            "104\n",
            "Charging speed and efficiency/Negative/3a wasn't working well for me. It stopped charging several times.\n",
            "102\n",
            "Reliability and maintenance/Negative/3a wasn't working well for me. It stopped charging several times.\n",
            "43\n",
            "Queue and waiting time/Neutral/Pretty busy.\n",
            "64\n",
            "Amenities and location/Neutral/Bathroom is in basement of hotel.\n"
          ]
        },
        {
          "name": "stderr",
          "output_type": "stream",
          "text": [
            "\r  0%|          | 3/1479 [00:08<1:01:20,  2.49s/it]"
          ]
        },
        {
          "name": "stdout",
          "output_type": "stream",
          "text": [
            "155\n",
            "Accessibility and Location/Negative/One charger was out when I went, close to the freeway, though exciting was awkward. Panda Express is a short walk away.\n"
          ]
        },
        {
          "name": "stderr",
          "output_type": "stream",
          "text": [
            "\r  0%|          | 4/1479 [00:09<50:04,  2.04s/it]  "
          ]
        },
        {
          "name": "stdout",
          "output_type": "stream",
          "text": [
            "145\n",
            "Amenities and Location/Positive/Great location, couple restaurants, small patch of grass, restroom downstairs in the hotel or walk over to Lowe's\n"
          ]
        },
        {
          "name": "stderr",
          "output_type": "stream",
          "text": [
            "\r  0%|          | 5/1479 [00:11<43:59,  1.79s/it]"
          ]
        },
        {
          "name": "stdout",
          "output_type": "stream",
          "text": [
            "142\n",
            "Accessibility and Location/Neutral/Oxford Suites hotel parking lot, side door, front door, front desk, stairs, basement, elevator, first floor\n"
          ]
        },
        {
          "name": "stderr",
          "output_type": "stream",
          "text": [
            "\r  0%|          | 6/1479 [00:13<47:45,  1.95s/it]"
          ]
        },
        {
          "name": "stdout",
          "output_type": "stream",
          "text": [
            "186\n",
            "Accessibility and Location/Negative/inside the lot of the hotel, very busy since it's the closest location to DIA, filthy here, parking spots always have trash and spilled food or drinks\n",
            "80\n",
            "Charging speed and efficiency/Negative/charging is very slow no matter the stall\n"
          ]
        },
        {
          "name": "stderr",
          "output_type": "stream",
          "text": [
            "\r  0%|          | 7/1479 [00:18<1:10:20,  2.87s/it]"
          ]
        },
        {
          "name": "stdout",
          "output_type": "stream",
          "text": [
            "698\n",
            "Accessibility and Amenities and Location/Positive/Based on other reviews, I was a little worried about slow charging speeds but I got ~140kw the entire time, even with 3-4 other cars there. We had a hitch mounted carrier and were able to back in and still reach the charging cable. There were two chargers that you could use even if you had a trailer attached. Also, the hotel attendant didn't even question us when we went inside looking for restrooms. So I think overall a good spot. As always, more amenities like food/snacks would be better, but I think from a family perspective this one is pretty great. I could imagine even letting kids run around inside the hotel lobby on bad weather days.\n"
          ]
        },
        {
          "name": "stderr",
          "output_type": "stream",
          "text": [
            "\r  1%|          | 8/1479 [00:19<55:55,  2.28s/it]  "
          ]
        },
        {
          "name": "stdout",
          "output_type": "stream",
          "text": [
            "81\n",
            "Charging speed and efficiency/Negative/charging speed is hardly 40kW at 110 mi/hr\n"
          ]
        },
        {
          "name": "stderr",
          "output_type": "stream",
          "text": [
            "\r  1%|          | 9/1479 [00:20<51:25,  2.10s/it]"
          ]
        },
        {
          "name": "stdout",
          "output_type": "stream",
          "text": [
            "92\n",
            "Accessibility and Accessibility/Positive/Six chargers in total, easy to find using Tesla GPS\n",
            "124\n",
            "Reliability and Maintenance/Positive/Tesla employee was here fixing a supercharger while I charged. They maintain them well.\n"
          ]
        },
        {
          "name": "stderr",
          "output_type": "stream",
          "text": [
            "\r  1%|          | 10/1479 [00:22<49:12,  2.01s/it]"
          ]
        },
        {
          "name": "stdout",
          "output_type": "stream",
          "text": [
            "94\n",
            "Charging speed and efficiency/Negative/Slow charging from 2A, charge slower than gen1 chargers\n"
          ]
        },
        {
          "name": "stderr",
          "output_type": "stream",
          "text": [
            "\r  1%|          | 11/1479 [00:25<51:44,  2.12s/it]"
          ]
        },
        {
          "name": "stdout",
          "output_type": "stream",
          "text": [
            "99\n",
            "Amenities and Location/Positive/Target, walking distance, residential apt complex, toddler day care\n",
            "41\n",
            "Price and Cost/Positive/cheaper sometimes\n",
            "46\n",
            "Queue and Waiting Time/Negative/pretty crowded\n",
            "57\n",
            "Compatibility and Connectivity/Neutral/different plug-ins\n",
            "62\n",
            "Accessibility and Accessibility/Neutral/haven't checked it out\n"
          ]
        },
        {
          "name": "stderr",
          "output_type": "stream",
          "text": [
            "\r  1%|          | 12/1479 [00:27<55:55,  2.29s/it]"
          ]
        },
        {
          "name": "stdout",
          "output_type": "stream",
          "text": [
            "272\n",
            "Accessibility and Amenities and Location/Positive/16 Tesla superchargers and 4 other ev chargers located in the same parking lot as target, ronin, scissors & scotch, yoga six, blue sky, Logan house coffee, crisp & green, mod pizza, I scream gelato, Torchys and chase bank!\n"
          ]
        },
        {
          "name": "stderr",
          "output_type": "stream",
          "text": [
            "\r  1%|          | 13/1479 [00:29<48:17,  1.98s/it]"
          ]
        },
        {
          "name": "stdout",
          "output_type": "stream",
          "text": [
            "123\n",
            "Charging speed and efficiency/Negative/250 kw per hour as indicated in google maps no, it's good if there is 109kw per hour\n"
          ]
        },
        {
          "name": "stderr",
          "output_type": "stream",
          "text": [
            "\r  1%|          | 14/1479 [00:29<39:26,  1.62s/it]"
          ]
        },
        {
          "name": "stdout",
          "output_type": "stream",
          "text": [
            "66\n",
            "Charging speed and efficiency/Negative/never charged at over 120KW\n"
          ]
        },
        {
          "name": "stderr",
          "output_type": "stream",
          "text": [
            "\r  1%|          | 15/1479 [00:31<36:48,  1.51s/it]"
          ]
        },
        {
          "name": "stdout",
          "output_type": "stream",
          "text": [
            "56\n",
            "Amenities and Location/Positive/target and places to eat\n",
            "72\n",
            "Accessibility/Positive/Easy to get into and out from different locations\n"
          ]
        },
        {
          "name": "stderr",
          "output_type": "stream",
          "text": [
            "\r  1%|          | 16/1479 [00:33<41:52,  1.72s/it]"
          ]
        },
        {
          "name": "stdout",
          "output_type": "stream",
          "text": [
            "43\n",
            "Charging speed and efficiency/Negative/SLOW\n",
            "67\n",
            "Queue and waiting time/Negative/Lots just parked and left for hours\n",
            "85\n",
            "Availability and Accessibility/Negative/100% capacity the whole time we were charging\n",
            "44\n",
            "Price and cost/Neutral/maybe got 80-90 miles\n"
          ]
        },
        {
          "name": "stderr",
          "output_type": "stream",
          "text": [
            "\r  1%|          | 17/1479 [00:34<38:08,  1.57s/it]"
          ]
        },
        {
          "name": "stdout",
          "output_type": "stream",
          "text": [
            "86\n",
            "Amenities and location/Positive/whole foods, publix, ford's garage, cheesecake factory\n"
          ]
        },
        {
          "name": "stderr",
          "output_type": "stream",
          "text": [
            "\r  1%|          | 18/1479 [00:36<38:57,  1.60s/it]"
          ]
        },
        {
          "name": "stdout",
          "output_type": "stream",
          "text": [
            "63\n",
            "Amenities and Location/Positive/Starbucks, Chili's, Whole foods\n",
            "82\n",
            "Accessibility and Accessibility/Positive/Located just behind Starbucks and Chili's\n",
            "88\n",
            "Availability and Accessibility/Positive/First night open and 1st charge for the location\n"
          ]
        },
        {
          "name": "stderr",
          "output_type": "stream",
          "text": [
            "\r  1%|▏         | 19/1479 [00:37<36:42,  1.51s/it]"
          ]
        },
        {
          "name": "stdout",
          "output_type": "stream",
          "text": [
            "127\n",
            "Accessibility and Amenities and location/Negative/two of the stalls were out of order, nice shopping center next to whole foods\n"
          ]
        },
        {
          "name": "stderr",
          "output_type": "stream",
          "text": [
            "\r  1%|▏         | 20/1479 [00:39<38:08,  1.57s/it]"
          ]
        },
        {
          "name": "stdout",
          "output_type": "stream",
          "text": [
            "157\n",
            "Accessibility and Accessibility/Negative/the electric bank the chargers are connected to being 20-50ft away across the street and a row of parking in between\n",
            "64\n",
            "Amenities and location/Positive/Whole Foods and REI being nearby\n"
          ]
        },
        {
          "name": "stderr",
          "output_type": "stream",
          "text": [
            "\r  1%|▏         | 21/1479 [00:40<34:38,  1.43s/it]"
          ]
        },
        {
          "name": "stdout",
          "output_type": "stream",
          "text": [
            "40\n",
            "Location/Positive/next to the interstate\n"
          ]
        },
        {
          "name": "stderr",
          "output_type": "stream",
          "text": [
            "\r  1%|▏         | 22/1479 [00:41<35:11,  1.45s/it]"
          ]
        },
        {
          "name": "stdout",
          "output_type": "stream",
          "text": [
            "81\n",
            "Charging speed and efficiency/Positive/One of the fastest chargers I have been to\n",
            "71\n",
            "Amenities and location/Positive/Taco Bell and a food store are close by\n"
          ]
        },
        {
          "name": "stderr",
          "output_type": "stream",
          "text": [
            "\r  2%|▏         | 23/1479 [00:42<29:56,  1.23s/it]"
          ]
        },
        {
          "name": "stdout",
          "output_type": "stream",
          "text": [
            "67\n",
            "Accessibility and Amenities and Location/Negative/bathroom closures\n"
          ]
        },
        {
          "name": "stderr",
          "output_type": "stream",
          "text": [
            "\r  2%|▏         | 24/1479 [00:43<29:30,  1.22s/it]"
          ]
        },
        {
          "name": "stdout",
          "output_type": "stream",
          "text": [
            "122\n",
            "Amenities and Location/Positive/no bathrooms, wide open, grocery/pharmacy called Hitchcocks, public bathrooms, grab snacks\n"
          ]
        },
        {
          "name": "stderr",
          "output_type": "stream",
          "text": [
            "\r  2%|▏         | 25/1479 [00:45<36:30,  1.51s/it]"
          ]
        },
        {
          "name": "stdout",
          "output_type": "stream",
          "text": [
            "57\n",
            "Charging speed and efficiency/Positive/Crazy fast charger\n",
            "68\n",
            "Amenities and location/Positive/Taco Bell and shopping center nearby\n",
            "50\n",
            "Queue and waiting time/Neutral/Almost no one there\n",
            "48\n",
            "Ease of use/Neutral/Don't have much time to shop\n"
          ]
        },
        {
          "name": "stderr",
          "output_type": "stream",
          "text": [
            "\r  2%|▏         | 26/1479 [00:46<31:12,  1.29s/it]"
          ]
        },
        {
          "name": "stdout",
          "output_type": "stream",
          "text": [
            "86\n",
            "This review does not mention any specific aspects or provide any opinion or sentiment.\n",
            "Error occurred: list index out of range\n"
          ]
        },
        {
          "name": "stderr",
          "output_type": "stream",
          "text": [
            "\r  2%|▏         | 27/1479 [00:47<27:03,  1.12s/it]"
          ]
        },
        {
          "name": "stdout",
          "output_type": "stream",
          "text": [
            "87\n",
            "Accessibility and Location/Positive/shopping mall parking lot, easy access to fast food\n"
          ]
        },
        {
          "name": "stderr",
          "output_type": "stream",
          "text": [
            "\r  2%|▏         | 28/1479 [00:48<27:37,  1.14s/it]"
          ]
        },
        {
          "name": "stdout",
          "output_type": "stream",
          "text": [
            "94\n",
            "Accessibility and Amenities and location/Positive/All chargers working, Convenient to shopping\n"
          ]
        },
        {
          "name": "stderr",
          "output_type": "stream",
          "text": [
            "\r  2%|▏         | 29/1479 [00:49<25:25,  1.05s/it]"
          ]
        },
        {
          "name": "stdout",
          "output_type": "stream",
          "text": [
            "83\n",
            "Cleanliness and noise level/Positive/one of the cleanest and quietest superchargers\n"
          ]
        },
        {
          "name": "stderr",
          "output_type": "stream",
          "text": [
            "\r  2%|▏         | 30/1479 [00:50<26:51,  1.11s/it]"
          ]
        },
        {
          "name": "stdout",
          "output_type": "stream",
          "text": [
            "132\n",
            "Accessibility and Amenities and Location/Positive/8 supercharger stalls, lots of shops/food options and a bathroom that is open late\n"
          ]
        },
        {
          "name": "stderr",
          "output_type": "stream",
          "text": [
            "\r  2%|▏         | 31/1479 [00:51<23:35,  1.02it/s]"
          ]
        },
        {
          "name": "stdout",
          "output_type": "stream",
          "text": [
            "45\n",
            "Location/Neutral/weird spot, the mall is dead\n"
          ]
        },
        {
          "name": "stderr",
          "output_type": "stream",
          "text": [
            "\r  2%|▏         | 32/1479 [00:54<36:08,  1.50s/it]"
          ]
        },
        {
          "name": "stdout",
          "output_type": "stream",
          "text": [
            "65\n",
            "Accessibility and Location/Positive/Supercharger at this location\n",
            "80\n",
            "Charging speed and efficiency/Positive/Almost done with full charging in few min\n",
            "41\n",
            "Queue and waiting time/Neutral/No mention\n",
            "35\n",
            "Customer service/Neutral/No mention\n",
            "46\n",
            "Ease of use/Positive/Back on road to Charlotte\n",
            "33\n",
            "Payment option/Neutral/No mention\n",
            "25\n",
            "Safety/Neutral/No mention\n",
            "33\n",
            "User interface/Neutral/No mention\n"
          ]
        },
        {
          "name": "stderr",
          "output_type": "stream",
          "text": [
            "\r  2%|▏         | 33/1479 [00:54<31:04,  1.29s/it]"
          ]
        },
        {
          "name": "stdout",
          "output_type": "stream",
          "text": [
            "69\n",
            "Accessibility and Amenities and Location/Positive/available at Sheetz\n"
          ]
        },
        {
          "name": "stderr",
          "output_type": "stream",
          "text": [
            "\r  2%|▏         | 34/1479 [00:55<28:15,  1.17s/it]"
          ]
        },
        {
          "name": "stdout",
          "output_type": "stream",
          "text": [
            "67\n",
            "Accessibility and Availability/Negative/Closed as of 2/12/2023 noon\n"
          ]
        },
        {
          "name": "stderr",
          "output_type": "stream",
          "text": [
            "\r  2%|▏         | 35/1479 [00:56<27:01,  1.12s/it]"
          ]
        },
        {
          "name": "stdout",
          "output_type": "stream",
          "text": [
            "69\n",
            "Queue and waiting time/Positive/never had to wait for a charging spot\n",
            "60\n",
            "Accessibility and Accessibility/Positive/nice and convenient\n"
          ]
        },
        {
          "name": "stderr",
          "output_type": "stream",
          "text": [
            "\r  2%|▏         | 36/1479 [00:58<27:33,  1.15s/it]"
          ]
        },
        {
          "name": "stdout",
          "output_type": "stream",
          "text": [
            "122\n",
            "Accessibility and Accessibility/Negative/Chargers are inaccessible, fenced off, not even sure there's power to them anyway\n"
          ]
        },
        {
          "name": "stderr",
          "output_type": "stream",
          "text": [
            "\r  3%|▎         | 37/1479 [01:00<35:27,  1.48s/it]"
          ]
        },
        {
          "name": "stdout",
          "output_type": "stream",
          "text": [
            "183\n",
            "Accessibility and Availability/Negative/two stalls that were full on my way to the Raleigh service center, Super busy in the middle of lunch rush, The sheetz bathrooms were disgusting\n",
            "68\n",
            "Amenities and location/Negative/The sheetz bathrooms were disgusting\n",
            "70\n",
            "Queue and waiting time/Negative/Super busy in the middle of lunch rush\n"
          ]
        },
        {
          "name": "stderr",
          "output_type": "stream",
          "text": [
            "\r  3%|▎         | 38/1479 [01:01<31:38,  1.32s/it]"
          ]
        },
        {
          "name": "stdout",
          "output_type": "stream",
          "text": [
            "55\n",
            "Amenities and Location/Positive/Chick-Fil-A & Starbucks\n",
            "57\n",
            "Accessibility and Accessibility/Positive/walking distance\n"
          ]
        },
        {
          "name": "stderr",
          "output_type": "stream",
          "text": [
            "\r  3%|▎         | 39/1479 [01:02<29:32,  1.23s/it]"
          ]
        },
        {
          "name": "stdout",
          "output_type": "stream",
          "text": [
            "57\n",
            "Amenities and Location/Positive/StarBucks and Chick-Fil-A\n"
          ]
        },
        {
          "name": "stderr",
          "output_type": "stream",
          "text": [
            "\r  3%|▎         | 40/1479 [01:02<25:30,  1.06s/it]"
          ]
        },
        {
          "name": "stdout",
          "output_type": "stream",
          "text": [
            "49\n",
            "reliability and maintenance/Negative/Out of order\n"
          ]
        },
        {
          "name": "stderr",
          "output_type": "stream",
          "text": [
            "\r  3%|▎         | 41/1479 [01:05<33:18,  1.39s/it]"
          ]
        },
        {
          "name": "stdout",
          "output_type": "stream",
          "text": [
            "295\n",
            "Safety/Negative/This is not a safe area. I would never let my wife charge her Tesla/EV at night here. During the day it might be okay. This part of Oakland is the straight up hood. Please Tesla —- find a new location closer to the 580 freeway. Anything along the 880 freeway is not a safe place.\n"
          ]
        },
        {
          "name": "stderr",
          "output_type": "stream",
          "text": [
            "\r  3%|▎         | 42/1479 [01:10<1:01:31,  2.57s/it]"
          ]
        },
        {
          "name": "stdout",
          "output_type": "stream",
          "text": [
            "85\n",
            "Accessibility and Amenities and Location/Negative/ppl saying the parking lot is dirty\n",
            "84\n",
            "Customer service/Negative/witnessed a few Tesla driver throwing trash out their cars\n",
            "69\n",
            "Safety/Negative/Keep your trash in the car until u find a garbage can\n",
            "373\n",
            "Review text: I noticed a lot of ppl saying the parking lot is dirty🤷🏿‍♀️ I've witnessed a few Tesla driver throwing trash out their cars 🤷🏿‍♀️ I charge here all the time, by myself. It's like every other neighborhood throughout the Bay Area. Definitely better than charging in SF🥴 Keep your trash in the car until u find a garbage can! Best charging station so far for me👍🏿\n",
            "Error occurred: list index out of range\n"
          ]
        },
        {
          "name": "stderr",
          "output_type": "stream",
          "text": [
            "\r  3%|▎         | 43/1479 [01:11<49:43,  2.08s/it]  "
          ]
        },
        {
          "name": "stdout",
          "output_type": "stream",
          "text": [
            "95\n",
            "Accessibility and Amenities and location/Positive/Nice Lobby, attentive staff, Good environment\n"
          ]
        },
        {
          "name": "stderr",
          "output_type": "stream",
          "text": [
            "\r  3%|▎         | 44/1479 [01:14<56:45,  2.37s/it]"
          ]
        },
        {
          "name": "stdout",
          "output_type": "stream",
          "text": [
            "434\n",
            "Accessibility and Location/Negative/area is extremely dirty and seems unsafe, broken glass everywhere in the parking lot, trash everywhere, and lots of broken and battered cars driving around the lot ready to scratch/sideswipe you, access roads from freeway are horribly filled with potholes everywhere and begging to give you a flat, only fast food options nearby, recommend the taco truck in the back of the same lot if you do come.\n"
          ]
        },
        {
          "name": "stderr",
          "output_type": "stream",
          "text": [
            "\r  3%|▎         | 45/1479 [01:17<1:02:58,  2.64s/it]"
          ]
        },
        {
          "name": "stdout",
          "output_type": "stream",
          "text": [
            "162\n",
            "Charging speed and efficiency/Negative/Not getting close to the max charging, Started at 85kW, then down to 65kW after just a few minutes, Getting average of 50kW\n",
            "86\n",
            "Location and Safety/Negative/Location is not nice and very sketchy activities going on\n"
          ]
        },
        {
          "name": "stderr",
          "output_type": "stream",
          "text": [
            "\r  3%|▎         | 46/1479 [01:19<54:24,  2.28s/it]  "
          ]
        },
        {
          "name": "stdout",
          "output_type": "stream",
          "text": [
            "110\n",
            "Accessibility and Location/Positive/adjacent to the beach, Near Walgreens, Safeway, This is a shopping centre.\n",
            "43\n",
            "Price and Cost/Positive/Price per unit 0.24\n"
          ]
        },
        {
          "name": "stderr",
          "output_type": "stream",
          "text": [
            "\r  3%|▎         | 47/1479 [01:21<55:22,  2.32s/it]"
          ]
        },
        {
          "name": "stdout",
          "output_type": "stream",
          "text": [
            "76\n",
            "Accessibility and Location/Positive/Excellent location in a shopping complex\n",
            "72\n",
            "Safety/Negative/my MS was keyed here on the hood the second day I got it\n",
            "44\n",
            "Queue and waiting time/Neutral/Usage is high\n",
            "120\n",
            "Amenities and location/Neutral/Note that the Safeway shopping carts lock well before you get to the car so shop lightly.\n"
          ]
        },
        {
          "name": "stderr",
          "output_type": "stream",
          "text": [
            "\r  3%|▎         | 48/1479 [01:24<57:28,  2.41s/it]"
          ]
        },
        {
          "name": "stdout",
          "output_type": "stream",
          "text": [
            "74\n",
            "Accessibility and Location/Positive/near the beach, shops, and restaurants\n",
            "89\n",
            "Charging speed and efficiency/Negative/Barely reached 60kW due to all chargers being used\n",
            "53\n",
            "Price and cost/Negative/Very pricey during peak hours\n",
            "68\n",
            "Queue and waiting time/Negative/Best to use before 10am or after 7pm\n"
          ]
        },
        {
          "name": "stderr",
          "output_type": "stream",
          "text": [
            "\r  3%|▎         | 49/1479 [01:24<45:26,  1.91s/it]"
          ]
        },
        {
          "name": "stdout",
          "output_type": "stream",
          "text": [
            "57\n",
            "Amenities and Location/Positive/Jumba Juice and Starbucks\n"
          ]
        },
        {
          "name": "stderr",
          "output_type": "stream",
          "text": [
            "\r  3%|▎         | 50/1479 [01:25<36:03,  1.51s/it]"
          ]
        },
        {
          "name": "stdout",
          "output_type": "stream",
          "text": [
            "73\n",
            "Accessibility and Location/Positive/Very convenient and close to my house\n"
          ]
        },
        {
          "name": "stderr",
          "output_type": "stream",
          "text": [
            "\r  3%|▎         | 51/1479 [01:28<47:31,  2.00s/it]"
          ]
        },
        {
          "name": "stdout",
          "output_type": "stream",
          "text": [
            "114\n",
            "Accessibility and Accessibility/Negative/Very close to my location, but I don't want to pay for $2 as an extra fee\n",
            "85\n",
            "Charging speed and efficiency/Neutral/I would consider if this was upgraded to 250kWh\n",
            "42\n",
            "Location/Neutral/Very close to my location\n",
            "66\n",
            "Price and cost/Negative/I don't want to pay for $2 as an extra fee\n",
            "95\n",
            "Compatibility and Connectivity/Neutral/I go to 5795 Christie Ave for 7 minutes of extra driving\n"
          ]
        },
        {
          "name": "stderr",
          "output_type": "stream",
          "text": [
            "\r  4%|▎         | 52/1479 [01:29<43:08,  1.81s/it]"
          ]
        },
        {
          "name": "stdout",
          "output_type": "stream",
          "text": [
            "57\n",
            "Charging speed and efficiency/Negative/too slow only 72kw\n",
            "48\n",
            "Location and amenities/Negative/sketchy location\n",
            "61\n",
            "Price and cost/Negative/$2 fee for accessing the parking area\n"
          ]
        },
        {
          "name": "stderr",
          "output_type": "stream",
          "text": [
            "\r  4%|▎         | 53/1479 [01:30<36:08,  1.52s/it]"
          ]
        },
        {
          "name": "stdout",
          "output_type": "stream",
          "text": [
            "54\n",
            "Payment option/Negative/You have to pay $2 parking fee\n"
          ]
        },
        {
          "name": "stderr",
          "output_type": "stream",
          "text": [
            "\r  4%|▎         | 54/1479 [01:39<1:25:35,  3.60s/it]"
          ]
        },
        {
          "name": "stdout",
          "output_type": "stream",
          "text": [
            "298\n",
            "Accessibility and Accessibility/Negative/Parking garage is not open 24 hours and does not seem to even follow its own listed hours. I've arrived as early as 4 pm to find the gate already down. What a waste of time. Elon should definitely open one somewhere else in Oakland cause this is ridiculous.\n",
            "502\n",
            "Reliability and Maintenance/Negative/had to walk up the on-ramp just to get back inside the garage to return to my car because the doors are locked and the ticket readers at the doors don't work. Also, the pay station on the ground floor doesn't work so you have to walk up the on-ramp to the 3rd-floor pay stations to pay. End result being I was charged for an extra hour because of the time I spent trying to get to my car (the \"push for assistance button\" also didn't work and the office was empty).\n",
            "156\n",
            "Price and Cost/Negative/$4 for parking just to charge my Tesla on a slow charger and still pay the charging fees as well. Why can't you rate as zero stars??\n",
            "56\n",
            "Charging Speed and Efficiency/Negative/on a slow charger\n",
            "100\n",
            "Customer Service/Negative/the \"push for assistance button\" also didn't work and the office was empty\n"
          ]
        },
        {
          "name": "stderr",
          "output_type": "stream",
          "text": [
            "\r  4%|▎         | 55/1479 [01:42<1:25:32,  3.60s/it]"
          ]
        },
        {
          "name": "stdout",
          "output_type": "stream",
          "text": [
            "484\n",
            "Accessibility and Location/Positive/located right off the 880 freeway, Easy access on your way to/from SFO or heading up to Sacramento, ample shops nearby, located right next to the Marshalls and Trader Joe’s, you can shop while you wait or walk over to Bay Street which is about a 7 minute walk, Weekends during the day are pretty busy but come during the week, evening or during the day and you’re bound to find a place to charge, This station has 18 charging points available 24/7.\n"
          ]
        },
        {
          "name": "stderr",
          "output_type": "stream",
          "text": [
            "\r  4%|▍         | 56/1479 [01:44<1:14:12,  3.13s/it]"
          ]
        },
        {
          "name": "stdout",
          "output_type": "stream",
          "text": [
            "268\n",
            "Accessibility and Amenities and Location/Positive/conveniently located next to several shopping marts, which includes, Ross, Marshalls, Traders Joe's and Banana Republic. It's also about a 7 minute walk from Emeryville Bay Street which also has places for you to shop.\n"
          ]
        },
        {
          "name": "stderr",
          "output_type": "stream",
          "text": [
            "\r  4%|▍         | 57/1479 [01:45<59:58,  2.53s/it]  "
          ]
        },
        {
          "name": "stdout",
          "output_type": "stream",
          "text": [
            "86\n",
            "Price and cost/Negative/$.23 kWh but has been $.45 - $.48 kWh for at least a month now\n"
          ]
        },
        {
          "name": "stderr",
          "output_type": "stream",
          "text": [
            "\r  4%|▍         | 58/1479 [01:47<51:05,  2.16s/it]"
          ]
        },
        {
          "name": "stdout",
          "output_type": "stream",
          "text": [
            "129\n",
            "Accessibility and Location/Neutral/Marshalls, well lit place, plenty of shops around, homeless people, police patrolling the area\n"
          ]
        },
        {
          "name": "stderr",
          "output_type": "stream",
          "text": [
            "\r  4%|▍         | 59/1479 [01:48<46:55,  1.98s/it]"
          ]
        },
        {
          "name": "stdout",
          "output_type": "stream",
          "text": [
            "90\n",
            "Charging speed and efficiency/Negative/only 35kW, 8 times slower than the advertised 250kW\n"
          ]
        },
        {
          "name": "stderr",
          "output_type": "stream",
          "text": [
            "\r  4%|▍         | 60/1479 [01:50<42:29,  1.80s/it]"
          ]
        },
        {
          "name": "stdout",
          "output_type": "stream",
          "text": [
            "73\n",
            "Amenities and location/Positive/Great location, Plenty of stores to visit\n",
            "76\n",
            "Accessibility and Accessibility/Neutral/Please consider adding more chargers\n"
          ]
        },
        {
          "name": "stderr",
          "output_type": "stream",
          "text": [
            "\r  4%|▍         | 61/1479 [01:52<42:25,  1.80s/it]"
          ]
        },
        {
          "name": "stdout",
          "output_type": "stream",
          "text": [
            "49\n",
            "Price and cost/Negative/Bit expensive charge rate\n",
            "65\n",
            "Accessibility and Accessibility/Negative/not many available spots\n",
            "84\n",
            "Accessibility and Accessibility/Negative/The Last spot on the end is extremely tight\n",
            "60\n",
            "Amenities and location/Negative/all the other spaces as well\n"
          ]
        },
        {
          "name": "stderr",
          "output_type": "stream",
          "text": [
            "\r  4%|▍         | 62/1479 [01:53<40:21,  1.71s/it]"
          ]
        },
        {
          "name": "stdout",
          "output_type": "stream",
          "text": [
            "71\n",
            "Location and Amenities/Positive/Great spot off the highway, whole foods\n",
            "53\n",
            "Charging speed and efficiency/Positive/Speed was good\n",
            "62\n",
            "Availability and Accessibility/Positive/all 6 stalls were free\n"
          ]
        },
        {
          "name": "stderr",
          "output_type": "stream",
          "text": [
            "\r  4%|▍         | 63/1479 [01:54<37:39,  1.60s/it]"
          ]
        },
        {
          "name": "stdout",
          "output_type": "stream",
          "text": [
            "137\n",
            "Accessibility and Accessibility/Positive/Usually busy Tesla charging station, Alternate charging station is available at crossgates Mall.\n",
            "51\n",
            "Charging speed and efficiency/Positive/charges fast\n"
          ]
        },
        {
          "name": "stderr",
          "output_type": "stream",
          "text": [
            "\r  4%|▍         | 64/1479 [01:55<32:01,  1.36s/it]"
          ]
        },
        {
          "name": "stdout",
          "output_type": "stream",
          "text": [
            "78\n",
            "Cleanliness and maintenance/Negative/area doesn't seem to be cleaned regularly\n"
          ]
        },
        {
          "name": "stderr",
          "output_type": "stream",
          "text": [
            "\r  4%|▍         | 65/1479 [01:56<31:03,  1.32s/it]"
          ]
        },
        {
          "name": "stdout",
          "output_type": "stream",
          "text": [
            "102\n",
            "Accessibility and Amenities and Location/Positive/huge one level mall, huge charging bank, 30 chargers\n"
          ]
        },
        {
          "name": "stderr",
          "output_type": "stream",
          "text": [
            "\r  4%|▍         | 66/1479 [01:57<28:18,  1.20s/it]"
          ]
        },
        {
          "name": "stdout",
          "output_type": "stream",
          "text": [
            "98\n",
            "Accessibility and Availability/Positive/14-16 Chargers, lots of availability and the mall is huge.\n"
          ]
        },
        {
          "name": "stderr",
          "output_type": "stream",
          "text": [
            "\r  5%|▍         | 67/1479 [01:58<25:58,  1.10s/it]"
          ]
        },
        {
          "name": "stdout",
          "output_type": "stream",
          "text": [
            "96\n",
            "Amenities and location/Positive/big mall, restaurants - food court and restrooms on second floor\n"
          ]
        },
        {
          "name": "stderr",
          "output_type": "stream",
          "text": [
            "\r  5%|▍         | 68/1479 [01:59<23:09,  1.02it/s]"
          ]
        },
        {
          "name": "stdout",
          "output_type": "stream",
          "text": [
            "56\n",
            "Charging speed and efficiency/Positive/charging was fast\n"
          ]
        },
        {
          "name": "stderr",
          "output_type": "stream",
          "text": [
            "\r  5%|▍         | 69/1479 [02:00<21:37,  1.09it/s]"
          ]
        },
        {
          "name": "stdout",
          "output_type": "stream",
          "text": [
            "89\n",
            "Accessibility and Amenities and Location/Positive/one of the biggest superchargers around\n"
          ]
        },
        {
          "name": "stderr",
          "output_type": "stream",
          "text": [
            "  5%|▍         | 71/1479 [02:02<28:09,  1.20s/it]"
          ]
        },
        {
          "name": "stdout",
          "output_type": "stream",
          "text": [
            "50\n",
            "Charging speed and efficiency/Positive/really fast\n",
            "32\n",
            "Safety/Positive/highly recommend\n",
            "103\n",
            "Compatibility and Connectivity/Positive/always navigate to the charging station while it's cold outside\n",
            "108\n",
            "Reliability and maintenance/Positive/It'll preserve the battery life while giving the best overall charging.\n"
          ]
        },
        {
          "name": "stderr",
          "output_type": "stream",
          "text": [
            "\r  5%|▍         | 72/1479 [02:07<51:10,  2.18s/it]"
          ]
        },
        {
          "name": "stdout",
          "output_type": "stream",
          "text": [
            "72\n",
            "Accessibility and Location/Negative/Hard to find for first time visitors\n",
            "70\n",
            "Availability and Accessibility/Negative/Not all charging stations work\n",
            "112\n",
            "queue and waiting time/Negative/You’ll have to stop and then restart or risk being there for hours to get to 180\n",
            "81\n",
            "reliability and maintenance/Negative/it has been the FILTHIEST LOT I’ve ever seen\n",
            "87\n",
            "customer service/Negative/Non-Tesla drivers tossing their trash into the charging spots\n",
            "122\n",
            "queue and waiting time/Negative/Non-Tesla’s will park in the spots for us to charge the car and be there for HOURS on end.\n"
          ]
        },
        {
          "name": "stderr",
          "output_type": "stream",
          "text": [
            "\r  5%|▍         | 73/1479 [02:09<48:59,  2.09s/it]"
          ]
        },
        {
          "name": "stdout",
          "output_type": "stream",
          "text": [
            "123\n",
            "Accessibility and Location/Positive/conveniently located in the parking garage one floor just below the eagle grocery store\n",
            "60\n",
            "Charging speed and efficiency/Positive/everyone charges fast\n",
            "55\n",
            "Queue and waiting time/Positive/not blocking the stalls\n"
          ]
        },
        {
          "name": "stderr",
          "output_type": "stream",
          "text": [
            "\r  5%|▌         | 74/1479 [02:10<43:21,  1.85s/it]"
          ]
        },
        {
          "name": "stdout",
          "output_type": "stream",
          "text": [
            "85\n",
            "Accessibility and Location/Positive/in underground parking garage for the supermarket\n",
            "99\n",
            "Charging speed and efficiency/Positive/all chargers worked at fastest speed of any chargers in area\n"
          ]
        },
        {
          "name": "stderr",
          "output_type": "stream",
          "text": [
            "\r  5%|▌         | 75/1479 [02:12<41:47,  1.79s/it]"
          ]
        },
        {
          "name": "stdout",
          "output_type": "stream",
          "text": [
            "66\n",
            "Accessibility and Location/Negative/creepy parking garage basement\n",
            "43\n",
            "Amenities and Location/Positive/whole foods\n",
            "54\n",
            "Reliability and Maintenance/Negative/wasn't very clean\n",
            "52\n",
            "Customer Service/Positive/shop while you're charging\n"
          ]
        },
        {
          "name": "stderr",
          "output_type": "stream",
          "text": [
            "\r  5%|▌         | 76/1479 [02:12<34:46,  1.49s/it]"
          ]
        },
        {
          "name": "stdout",
          "output_type": "stream",
          "text": [
            "69\n",
            "Accessibility and Amenities and location/Positive/Giant Eagle grocery\n"
          ]
        },
        {
          "name": "stderr",
          "output_type": "stream",
          "text": [
            "\r  5%|▌         | 77/1479 [02:13<31:19,  1.34s/it]"
          ]
        },
        {
          "name": "stdout",
          "output_type": "stream",
          "text": [
            "123\n",
            "Accessibility and Accessibility/Positive/open spots and they just work, Several eateries nearby and in a Meijer parking lot\n"
          ]
        },
        {
          "name": "stderr",
          "output_type": "stream",
          "text": [
            "\r  5%|▌         | 78/1479 [02:15<35:14,  1.51s/it]"
          ]
        },
        {
          "name": "stdout",
          "output_type": "stream",
          "text": [
            "92\n",
            "Accessibility and Location/Positive/Meijer's parking lot, Applebee's, Starbucks, gas station\n"
          ]
        },
        {
          "name": "stderr",
          "output_type": "stream",
          "text": [
            "\r  5%|▌         | 79/1479 [02:16<31:04,  1.33s/it]"
          ]
        },
        {
          "name": "stdout",
          "output_type": "stream",
          "text": [
            "84\n",
            "Accessibility and Location/Positive/Closer to freeway, chargers are always available\n"
          ]
        },
        {
          "name": "stderr",
          "output_type": "stream",
          "text": [
            "\r  5%|▌         | 80/1479 [02:17<30:02,  1.29s/it]"
          ]
        },
        {
          "name": "stdout",
          "output_type": "stream",
          "text": [
            "103\n",
            "Amenities and location/Positive/Starbucks, Sweet Monster Ice Cream, Mike's Car Wash, Meijer parking lot\n"
          ]
        },
        {
          "name": "stderr",
          "output_type": "stream",
          "text": [
            "\r  5%|▌         | 81/1479 [02:19<31:07,  1.34s/it]"
          ]
        },
        {
          "name": "stdout",
          "output_type": "stream",
          "text": [
            "74\n",
            "Charging speed and efficiency/Positive/300 mile per hour charge rate on 2B\n",
            "27\n",
            "Overall sentiment: Positive\n",
            "Error occurred: list index out of range\n"
          ]
        },
        {
          "name": "stderr",
          "output_type": "stream",
          "text": [
            "\r  6%|▌         | 82/1479 [02:21<36:40,  1.58s/it]"
          ]
        },
        {
          "name": "stdout",
          "output_type": "stream",
          "text": [
            "73\n",
            "Charging speed and efficiency/Negative/not getting near 250kW as promised\n",
            "118\n",
            "Amenities and location/Positive/Several restaurants on the way in to grab if you want to eat in your car and not walk.\n"
          ]
        },
        {
          "name": "stderr",
          "output_type": "stream",
          "text": [
            "\r  6%|▌         | 83/1479 [02:22<32:17,  1.39s/it]"
          ]
        },
        {
          "name": "stdout",
          "output_type": "stream",
          "text": [
            "95\n",
            "Accessibility and Location/Positive/Meijer Grocery parking lot, Biggby Coffee and Steak n Shake\n"
          ]
        },
        {
          "name": "stderr",
          "output_type": "stream",
          "text": [
            "\r  6%|▌         | 84/1479 [02:23<28:16,  1.22s/it]"
          ]
        },
        {
          "name": "stdout",
          "output_type": "stream",
          "text": [
            "52\n",
            "Charging speed and efficiency/Positive/Fast Charging\n",
            "46\n",
            "Amenities and Location/Positive/Great Location\n"
          ]
        },
        {
          "name": "stderr",
          "output_type": "stream",
          "text": [
            "\r  6%|▌         | 85/1479 [02:23<24:16,  1.04s/it]"
          ]
        },
        {
          "name": "stdout",
          "output_type": "stream",
          "text": [
            "31\n",
            "Accessibility/Neutral/12 stalls\n"
          ]
        },
        {
          "name": "stderr",
          "output_type": "stream",
          "text": [
            "\r  6%|▌         | 86/1479 [02:24<22:11,  1.05it/s]"
          ]
        },
        {
          "name": "stdout",
          "output_type": "stream",
          "text": [
            "83\n",
            "Accessibility and Amenities and Location/Positive/So happy they have these, amazing\n"
          ]
        },
        {
          "name": "stderr",
          "output_type": "stream",
          "text": [
            "\r  6%|▌         | 87/1479 [02:25<20:32,  1.13it/s]"
          ]
        },
        {
          "name": "stdout",
          "output_type": "stream",
          "text": [
            "93\n",
            "Charging speed and efficiency/Positive/Charging was seamless and everything worked perfectly.\n"
          ]
        },
        {
          "name": "stderr",
          "output_type": "stream",
          "text": [
            "\r  6%|▌         | 88/1479 [02:26<19:58,  1.16it/s]"
          ]
        },
        {
          "name": "stdout",
          "output_type": "stream",
          "text": [
            "86\n",
            "Accessibility and Accessibility/Positive/3 basic level 2 chargers and 4 super chargers\n"
          ]
        },
        {
          "name": "stderr",
          "output_type": "stream",
          "text": [
            "\r  6%|▌         | 89/1479 [02:26<19:43,  1.17it/s]"
          ]
        },
        {
          "name": "stdout",
          "output_type": "stream",
          "text": [
            "105\n",
            "Accessibility and Location/Positive/charges my Gremlin fully and satisfactorily, all the way up in Alaska\n"
          ]
        },
        {
          "name": "stderr",
          "output_type": "stream",
          "text": [
            "\r  6%|▌         | 90/1479 [02:27<16:56,  1.37it/s]"
          ]
        },
        {
          "name": "stdout",
          "output_type": "stream",
          "text": [
            "44\n",
            "Compatibility and Connectivity/Neutral/tesla\n"
          ]
        },
        {
          "name": "stderr",
          "output_type": "stream",
          "text": [
            "\r  6%|▌         | 91/1479 [02:28<16:52,  1.37it/s]"
          ]
        },
        {
          "name": "stdout",
          "output_type": "stream",
          "text": [
            "52\n",
            "Amenities and Location/Positive/Food and ev charging\n"
          ]
        },
        {
          "name": "stderr",
          "output_type": "stream",
          "text": [
            "\r  6%|▌         | 92/1479 [02:29<20:02,  1.15it/s]"
          ]
        },
        {
          "name": "stdout",
          "output_type": "stream",
          "text": [
            "165\n",
            "Not enough information is provided in the review text to classify the review and identify aspect terms and opinion terms with their corresponding sentiment polarity.\n",
            "Error occurred: list index out of range\n"
          ]
        },
        {
          "name": "stderr",
          "output_type": "stream",
          "text": [
            "\r  6%|▋         | 93/1479 [02:32<34:18,  1.49s/it]"
          ]
        },
        {
          "name": "stdout",
          "output_type": "stream",
          "text": [
            "119\n",
            "Accessibility and Location/Negative/too far from Route 50 and you have to go through city traffic to get to and from it\n",
            "137\n",
            "Amenities and Location/Negative/in a parking garage across the street from a Target and people go there, plug in and LEAVE to go shopping\n",
            "128\n",
            "Amenities and Location/Negative/To use a bathroom you have to go down 2 levels from the garage and up two levels into the Target\n"
          ]
        },
        {
          "name": "stderr",
          "output_type": "stream",
          "text": [
            "\r  6%|▋         | 94/1479 [02:33<36:11,  1.57s/it]"
          ]
        },
        {
          "name": "stdout",
          "output_type": "stream",
          "text": [
            "167\n",
            "Accessibility and Amenities and Location/Positive/Fast charger, Target was just steps away, Used restrooms in target and got a Starbucks while charging at this station\n"
          ]
        },
        {
          "name": "stderr",
          "output_type": "stream",
          "text": [
            "\r  6%|▋         | 95/1479 [02:35<34:23,  1.49s/it]"
          ]
        },
        {
          "name": "stdout",
          "output_type": "stream",
          "text": [
            "77\n",
            "reliability and maintenance/Negative/1 charger not working and people waiting\n",
            "74\n",
            "queue and waiting time/Negative/people waiting, busy/crowded shopping mall\n"
          ]
        },
        {
          "name": "stderr",
          "output_type": "stream",
          "text": [
            "\r  6%|▋         | 96/1479 [02:38<48:41,  2.11s/it]"
          ]
        },
        {
          "name": "stdout",
          "output_type": "stream",
          "text": [
            "36\n",
            "None of These work !!!!!! ☹️😩😡😡😡😭😢😢😢\n",
            "Error occurred: list index out of range\n"
          ]
        },
        {
          "name": "stderr",
          "output_type": "stream",
          "text": [
            "\r  7%|▋         | 97/1479 [02:39<40:15,  1.75s/it]"
          ]
        },
        {
          "name": "stdout",
          "output_type": "stream",
          "text": [
            "106\n",
            "Accessibility and Location/Positive/chargers are on the second floor across from the target parking garage\n"
          ]
        },
        {
          "name": "stderr",
          "output_type": "stream",
          "text": [
            "\r  7%|▋         | 98/1479 [02:41<41:42,  1.81s/it]"
          ]
        },
        {
          "name": "stdout",
          "output_type": "stream",
          "text": [
            "40\n",
            "Accessibility and Location/Positive/Wawa\n",
            "143\n",
            "Accessibility and Location/Negative/Not a great layout, sharing space with the tire inflator and there's not clear indicator which side to park\n",
            "74\n",
            "Amenities and Location/Negative/the usual spots being taken up by ICE cars\n"
          ]
        },
        {
          "name": "stderr",
          "output_type": "stream",
          "text": [
            "\r  7%|▋         | 99/1479 [02:43<40:03,  1.74s/it]"
          ]
        },
        {
          "name": "stdout",
          "output_type": "stream",
          "text": [
            "64\n",
            "Accessibility and Location/Positive/Hy-Vee, Starbucks drive thru\n",
            "55\n",
            "Availability and Accessibility/Positive/8 superchargers\n",
            "57\n",
            "Queue and Waiting Time/Positive/probably won't be waiting\n"
          ]
        },
        {
          "name": "stderr",
          "output_type": "stream",
          "text": [
            "\r  7%|▋         | 100/1479 [02:44<37:44,  1.64s/it]"
          ]
        },
        {
          "name": "stdout",
          "output_type": "stream",
          "text": [
            "57\n",
            "price and cost/Neutral/only find the price in a Tesla car\n"
          ]
        },
        {
          "name": "stderr",
          "output_type": "stream",
          "text": [
            "\r  7%|▋         | 101/1479 [02:46<41:57,  1.83s/it]"
          ]
        },
        {
          "name": "stdout",
          "output_type": "stream",
          "text": [
            "221\n",
            "Accessibility and Amenities and Location/Positive/second supercharger in the Minneapolis area, 8 spots, window cleaning station and trash can, convenient because you can go in and grab a couple snacks while you're waiting\n",
            "80\n",
            "Charging speed and efficiency/Positive/147kW on my model 3, great charging speed\n"
          ]
        },
        {
          "name": "stderr",
          "output_type": "stream",
          "text": [
            "\r  7%|▋         | 102/1479 [02:49<45:15,  1.97s/it]"
          ]
        },
        {
          "name": "stdout",
          "output_type": "stream",
          "text": [
            "52\n",
            "Charging speed and efficiency/Positive/Fast charging\n",
            "55\n",
            "Accessibility and Location/Positive/convenient location\n",
            "133\n",
            "Amenities and location/Positive/Hy-Vee across the parking lot has a lot of options for drinks, snacks, meals or some grocery shopping\n",
            "104\n",
            "Safety/Positive/on the outskirts of the parking lot to discourage ICE vehicles from parking in the spots\n"
          ]
        },
        {
          "name": "stderr",
          "output_type": "stream",
          "text": [
            "\r  7%|▋         | 103/1479 [02:50<37:34,  1.64s/it]"
          ]
        },
        {
          "name": "stdout",
          "output_type": "stream",
          "text": [
            "78\n",
            "Amenities and Location/Positive/Hy-Vee and Starbucks, Parks across the street.\n"
          ]
        },
        {
          "name": "stderr",
          "output_type": "stream",
          "text": [
            "\r  7%|▋         | 104/1479 [02:51<38:53,  1.70s/it]"
          ]
        },
        {
          "name": "stdout",
          "output_type": "stream",
          "text": [
            "49\n",
            "Charging speed and efficiency/Positive/ultra fast\n",
            "52\n",
            "Amenities and location/Positive/nice lit parking lot\n",
            "66\n",
            "Availability and Accessibility/Positive/always clean and available\n",
            "38\n",
            "Location/Positive/best one in Colorado\n"
          ]
        },
        {
          "name": "stderr",
          "output_type": "stream",
          "text": [
            "\r  7%|▋         | 105/1479 [02:54<46:55,  2.05s/it]"
          ]
        },
        {
          "name": "stdout",
          "output_type": "stream",
          "text": [
            "59\n",
            "Accessibility and Location/Positive/very convenient off i25\n",
            "84\n",
            "Amenities and Location/Neutral/nothing near the chargers as far as food or restrooms\n",
            "86\n",
            "Charging speed and efficiency/Positive/never seen it crowded and I typically get 250kw\n",
            "90\n",
            "Price and cost/Neutral/fixed higher rate to charge, not a surprise because of its location\n"
          ]
        },
        {
          "name": "stderr",
          "output_type": "stream",
          "text": [
            "\r  7%|▋         | 106/1479 [02:55<39:14,  1.71s/it]"
          ]
        },
        {
          "name": "stdout",
          "output_type": "stream",
          "text": [
            "74\n",
            "Accessibility and Location/Positive/Easy to get to and plenty of stations.\n"
          ]
        },
        {
          "name": "stderr",
          "output_type": "stream",
          "text": [
            "\r  7%|▋         | 107/1479 [02:59<55:03,  2.41s/it]"
          ]
        },
        {
          "name": "stdout",
          "output_type": "stream",
          "text": [
            "127\n",
            "Charging speed and efficiency/Positive/Takes about 40 minutes to be fully charged for a long range model Y @ 530 miles/hr rate.\n",
            "62\n",
            "Availability and Accessibility/Positive/12 stations available.\n",
            "57\n",
            "Compatibility and Connectivity/Positive/Low traffic area.\n",
            "112\n",
            "price and cost/Positive/Takes about 40 minutes to be fully charged for a long range model Y @ 530 miles/hr rate.\n"
          ]
        },
        {
          "name": "stderr",
          "output_type": "stream",
          "text": [
            "\r  7%|▋         | 108/1479 [03:00<44:50,  1.96s/it]"
          ]
        },
        {
          "name": "stdout",
          "output_type": "stream",
          "text": [
            "54\n",
            "Charging speed and efficiency/Positive/Still got 220kw\n"
          ]
        },
        {
          "name": "stderr",
          "output_type": "stream",
          "text": [
            "\r  7%|▋         | 109/1479 [03:03<53:30,  2.34s/it]"
          ]
        },
        {
          "name": "stdout",
          "output_type": "stream",
          "text": [
            "99\n",
            "Accessibility and Accessibility/Positive/Second visit in a week, but this experience went so smooth\n",
            "114\n",
            "Charging speed and efficiency/Positive/was done in 45min ( 20 of those were spent on charging it from 80% to 100%)\n",
            "127\n",
            "price and cost/Positive/hope they will get a supercharger station put in in Aurora ( there are a lot of people with Tesla here)\n"
          ]
        },
        {
          "name": "stderr",
          "output_type": "stream",
          "text": [
            "\r  7%|▋         | 110/1479 [03:05<50:37,  2.22s/it]"
          ]
        },
        {
          "name": "stdout",
          "output_type": "stream",
          "text": [
            "72\n",
            "Accessibility and Location/Positive/Nice location and is a little hidden\n",
            "78\n",
            "Safety/Positive/you won't need to worry about anyone hurting ur precious Tesla\n"
          ]
        },
        {
          "name": "stderr",
          "output_type": "stream",
          "text": [
            "\r  8%|▊         | 111/1479 [03:06<40:57,  1.80s/it]"
          ]
        },
        {
          "name": "stdout",
          "output_type": "stream",
          "text": [
            "94\n",
            "This review does not mention any specific aspects or opinions related to the aspects provided.\n",
            "Error occurred: list index out of range\n"
          ]
        },
        {
          "name": "stderr",
          "output_type": "stream",
          "text": [
            "\r  8%|▊         | 112/1479 [03:07<33:16,  1.46s/it]"
          ]
        },
        {
          "name": "stdout",
          "output_type": "stream",
          "text": [
            "49\n",
            "Location and Amenities/Positive/park meadows mall\n"
          ]
        },
        {
          "name": "stderr",
          "output_type": "stream",
          "text": [
            "\r  8%|▊         | 113/1479 [03:08<31:07,  1.37s/it]"
          ]
        },
        {
          "name": "stdout",
          "output_type": "stream",
          "text": [
            "61\n",
            "Charging speed and efficiency/Positive/Higher charging speeds\n"
          ]
        },
        {
          "name": "stderr",
          "output_type": "stream",
          "text": [
            "\r  8%|▊         | 114/1479 [03:09<26:31,  1.17s/it]"
          ]
        },
        {
          "name": "stdout",
          "output_type": "stream",
          "text": [
            "53\n",
            "price and cost/Negative/have to pay $6 for the garage\n"
          ]
        },
        {
          "name": "stderr",
          "output_type": "stream",
          "text": [
            "\r  8%|▊         | 115/1479 [03:11<32:57,  1.45s/it]"
          ]
        },
        {
          "name": "stdout",
          "output_type": "stream",
          "text": [
            "115\n",
            "Accessibility and Accessibility/Positive/ROOF TOP is Tesla chargers. Other brand on ground floor. Lots of chargers.\n",
            "127\n",
            "Amenities and location/Positive/Lots of chargers. $6-8 unless you validate, one located after cashiers at front of Whole Foods.\n"
          ]
        },
        {
          "name": "stderr",
          "output_type": "stream",
          "text": [
            "\r  8%|▊         | 116/1479 [03:12<32:29,  1.43s/it]"
          ]
        },
        {
          "name": "stdout",
          "output_type": "stream",
          "text": [
            "173\n",
            "Accessibility and Amenities and Location/Positive/weekday morning, almost all the slots were open, Whole Foods has a validation device at their entrance/exit, up to 2hr free\n"
          ]
        },
        {
          "name": "stderr",
          "output_type": "stream",
          "text": [
            "\r  8%|▊         | 117/1479 [03:14<32:45,  1.44s/it]"
          ]
        },
        {
          "name": "stdout",
          "output_type": "stream",
          "text": [
            "175\n",
            "Accessibility and Amenities and Location/Positive/2 hour free parking with validation, 15 superchargers, many places to shop and eat in the area, Whole Foods validates parking\n"
          ]
        },
        {
          "name": "stderr",
          "output_type": "stream",
          "text": [
            "\r  8%|▊         | 118/1479 [03:14<27:26,  1.21s/it]"
          ]
        },
        {
          "name": "stdout",
          "output_type": "stream",
          "text": [
            "63\n",
            "price and cost/Negative/hate paying to charge in a parking deck\n"
          ]
        },
        {
          "name": "stderr",
          "output_type": "stream",
          "text": [
            "\r  8%|▊         | 119/1479 [03:15<23:44,  1.05s/it]"
          ]
        },
        {
          "name": "stdout",
          "output_type": "stream",
          "text": [
            "92\n",
            "This review does not mention any aspects or provide any opinion terms or sentiment polarity.\n",
            "Error occurred: list index out of range\n"
          ]
        },
        {
          "name": "stderr",
          "output_type": "stream",
          "text": [
            "\r  8%|▊         | 120/1479 [03:16<21:13,  1.07it/s]"
          ]
        },
        {
          "name": "stdout",
          "output_type": "stream",
          "text": [
            "94\n",
            "queue and waiting time/Negative/drivers to wait for available one deliberately and dangerously\n"
          ]
        },
        {
          "name": "stderr",
          "output_type": "stream",
          "text": [
            "\r  8%|▊         | 121/1479 [03:18<30:40,  1.36s/it]"
          ]
        },
        {
          "name": "stdout",
          "output_type": "stream",
          "text": [
            "292\n",
            "Accessibility and Availability/Positive/Always been open and available (and able to charge to my desired 90%) whenever I go. 8 stations inside the parking garage, no ticket/fee to enter garage. Plus, service in the garage to watch Netflix or whatever while you wait if you're a quick shopper!\n"
          ]
        },
        {
          "name": "stderr",
          "output_type": "stream",
          "text": [
            "\r  8%|▊         | 122/1479 [03:19<28:10,  1.25s/it]"
          ]
        },
        {
          "name": "stdout",
          "output_type": "stream",
          "text": [
            "108\n",
            "Accessibility and Location/Neutral/8 spots in garage, next to Safeway. None in use at 6 am. Drain the swamp!\n"
          ]
        },
        {
          "name": "stderr",
          "output_type": "stream",
          "text": [
            "\r  8%|▊         | 123/1479 [03:19<22:37,  1.00s/it]"
          ]
        },
        {
          "name": "stdout",
          "output_type": "stream",
          "text": [
            "33\n",
            "price and cost/Negative/Expensive\n"
          ]
        },
        {
          "name": "stderr",
          "output_type": "stream",
          "text": [
            "\r  8%|▊         | 124/1479 [03:21<28:56,  1.28s/it]"
          ]
        },
        {
          "name": "stdout",
          "output_type": "stream",
          "text": [
            "78\n",
            "Accessibility and Availability/Negative/very congested Telsa Supercharger port\n",
            "73\n",
            "queue and waiting time/Negative/won't get a full charge here on most days\n",
            "48\n",
            "price and cost/Neutral/because of its popularity\n",
            "96\n",
            "Compatibility and Connectivity/Neutral/unless you have to you may want to go to another location\n"
          ]
        },
        {
          "name": "stderr",
          "output_type": "stream",
          "text": [
            "\r  8%|▊         | 125/1479 [03:22<27:27,  1.22s/it]"
          ]
        },
        {
          "name": "stdout",
          "output_type": "stream",
          "text": [
            "76\n",
            "Charging speed and efficiency/Positive/much faster charging than the old one\n",
            "60\n",
            "Availability and Accessibility/Positive/more slots available\n"
          ]
        },
        {
          "name": "stderr",
          "output_type": "stream",
          "text": [
            "\r  9%|▊         | 126/1479 [03:25<37:05,  1.64s/it]"
          ]
        },
        {
          "name": "stdout",
          "output_type": "stream",
          "text": [
            "325\n",
            "Charging speed and efficiency/Negative/Doesn't charge your Tesla at rated peak speed of 250kW, not even close to half of rated speeds, this is after preconditioning 20-30 miles before arriving at station. At best 75kW. This is the normal rate I have experienced at this station over the course of 2 months. Model 3 Dual Motor\n"
          ]
        },
        {
          "name": "stderr",
          "output_type": "stream",
          "text": [
            "\r  9%|▊         | 127/1479 [03:26<32:32,  1.44s/it]"
          ]
        },
        {
          "name": "stdout",
          "output_type": "stream",
          "text": [
            "54\n",
            "Charging speed and efficiency/Negative/only got 25k/hr\n"
          ]
        },
        {
          "name": "stderr",
          "output_type": "stream",
          "text": [
            "\r  9%|▊         | 128/1479 [03:28<34:35,  1.54s/it]"
          ]
        },
        {
          "name": "stdout",
          "output_type": "stream",
          "text": [
            "205\n",
            "Accessibility and Location/Negative/older V2 150kW Tesla Supercharger, Hard to find in the back of the hotel, This location needs updated to the V3 250kW (there is no sharing and it makes a big difference)\n"
          ]
        },
        {
          "name": "stderr",
          "output_type": "stream",
          "text": [
            "\r  9%|▊         | 129/1479 [03:28<28:21,  1.26s/it]"
          ]
        },
        {
          "name": "stdout",
          "output_type": "stream",
          "text": [
            "123\n",
            "Accessibility and Amenities and location/Positive/mall was closer, Starbucks and a sports grill are within walking distance\n"
          ]
        },
        {
          "name": "stderr",
          "output_type": "stream",
          "text": [
            "\r  9%|▉         | 130/1479 [03:29<23:33,  1.05s/it]"
          ]
        },
        {
          "name": "stdout",
          "output_type": "stream",
          "text": [
            "44\n",
            "Safety/Negative/not enjoy this stop at night\n"
          ]
        },
        {
          "name": "stderr",
          "output_type": "stream",
          "text": [
            "\r  9%|▉         | 131/1479 [03:30<22:20,  1.01it/s]"
          ]
        },
        {
          "name": "stdout",
          "output_type": "stream",
          "text": [
            "109\n",
            "Accessibility and Location/Positive/No problems or wait, Starbucks and Quaker steak are walkable food options\n"
          ]
        },
        {
          "name": "stderr",
          "output_type": "stream",
          "text": [
            "\r  9%|▉         | 132/1479 [03:31<22:27,  1.00s/it]"
          ]
        },
        {
          "name": "stdout",
          "output_type": "stream",
          "text": [
            "102\n",
            "Accessibility and Location/Neutral/behind the hotel, Starbucks, a Sports Bar, The Turn Club, Avor Thai\n"
          ]
        },
        {
          "name": "stderr",
          "output_type": "stream",
          "text": [
            "\r  9%|▉         | 133/1479 [03:35<43:27,  1.94s/it]"
          ]
        },
        {
          "name": "stdout",
          "output_type": "stream",
          "text": [
            "314\n",
            "Accessibility and Location/Positive/Easy location to get to, at one of the local Sheetz locations. There are usually at least three available stations when I have visited. Easy in and easy out. Having an impeccably clean Sheetz right across the parking lot is a definite plus. Great options for food and beverages.\n",
            "152\n",
            "Amenities and Location/Positive/Having an impeccably clean Sheetz right across the parking lot is a definite plus. Great options for food and beverages.\n",
            "62\n",
            "Charging speed and efficiency/Positive/Charges at 90+ usually.\n"
          ]
        },
        {
          "name": "stderr",
          "output_type": "stream",
          "text": [
            "\r  9%|▉         | 134/1479 [03:36<38:04,  1.70s/it]"
          ]
        },
        {
          "name": "stdout",
          "output_type": "stream",
          "text": [
            "162\n",
            "Accessibility and Amenities and location/Positive/Convenient, stalls readily available well lit and the police did several drive through during my 25 minute visit\n"
          ]
        },
        {
          "name": "stderr",
          "output_type": "stream",
          "text": [
            "\r  9%|▉         | 135/1479 [03:37<33:00,  1.47s/it]"
          ]
        },
        {
          "name": "stdout",
          "output_type": "stream",
          "text": [
            "110\n",
            "Amenities and location/Positive/Sheetz parking lot, Sheetz provides restroom facilities, food, and other items\n"
          ]
        },
        {
          "name": "stderr",
          "output_type": "stream",
          "text": [
            "\r  9%|▉         | 136/1479 [03:38<30:27,  1.36s/it]"
          ]
        },
        {
          "name": "stdout",
          "output_type": "stream",
          "text": [
            "109\n",
            "Location and Amenities/Positive/Sheetz convenience store with washrooms and great Hampton Inn across the road\n"
          ]
        },
        {
          "name": "stderr",
          "output_type": "stream",
          "text": [
            "\r  9%|▉         | 137/1479 [03:41<41:17,  1.85s/it]"
          ]
        },
        {
          "name": "stdout",
          "output_type": "stream",
          "text": [
            "147\n",
            "Queue and waiting time/Neutral/Not usually busy. Typically 1-2 here at a time. Today was the first time I had to share a pair of charging stations.\n",
            "118\n",
            "Amenities and location/Positive/This Sheetz is great and most of the time no one is blocking (\"ice'ing\") the chargers.\n"
          ]
        },
        {
          "name": "stderr",
          "output_type": "stream",
          "text": [
            "\r  9%|▉         | 138/1479 [03:43<40:56,  1.83s/it]"
          ]
        },
        {
          "name": "stdout",
          "output_type": "stream",
          "text": [
            "62\n",
            "Charging speed and efficiency/Positive/charged the car quickly\n",
            "96\n",
            "Queue and waiting time/Negative/constantly cars pulling in and out, watch out for idling charges\n",
            "64\n",
            "Location and amenities/Positive/Great location next to the shops\n"
          ]
        },
        {
          "name": "stderr",
          "output_type": "stream",
          "text": [
            "\r  9%|▉         | 139/1479 [03:44<34:53,  1.56s/it]"
          ]
        },
        {
          "name": "stdout",
          "output_type": "stream",
          "text": [
            "58\n",
            "Accessibility and Accessibility/Positive/Easily accessible\n",
            "75\n",
            "Amenities and location/Neutral/didn't bother exploring the nearby amenities\n"
          ]
        },
        {
          "name": "stderr",
          "output_type": "stream",
          "text": [
            "\r  9%|▉         | 140/1479 [03:45<31:52,  1.43s/it]"
          ]
        },
        {
          "name": "stdout",
          "output_type": "stream",
          "text": [
            "116\n",
            "Accessibility and Amenities and location/Negative/only eight Chargers and two to three of them are completely broken\n"
          ]
        },
        {
          "name": "stderr",
          "output_type": "stream",
          "text": [
            "\r 10%|▉         | 141/1479 [03:46<28:07,  1.26s/it]"
          ]
        },
        {
          "name": "stdout",
          "output_type": "stream",
          "text": [
            "80\n",
            "reliability and maintenance/Negative/broken, no signs indicating not to use them\n"
          ]
        },
        {
          "name": "stderr",
          "output_type": "stream",
          "text": [
            "\r 10%|▉         | 142/1479 [03:46<23:02,  1.03s/it]"
          ]
        },
        {
          "name": "stdout",
          "output_type": "stream",
          "text": [
            "39\n",
            "Amenities and location/Positive/Borgata\n"
          ]
        },
        {
          "name": "stderr",
          "output_type": "stream",
          "text": [
            "\r 10%|▉         | 143/1479 [03:47<21:17,  1.05it/s]"
          ]
        },
        {
          "name": "stdout",
          "output_type": "stream",
          "text": [
            "82\n",
            "Accessibility and Accessibility/Negative/charging is for restaurant customers only\n"
          ]
        },
        {
          "name": "stderr",
          "output_type": "stream",
          "text": [
            "\r 10%|▉         | 144/1479 [03:48<20:11,  1.10it/s]"
          ]
        },
        {
          "name": "stdout",
          "output_type": "stream",
          "text": [
            "108\n",
            "Accessibility and Amenities and Location/Negative/Parking lot now outdoor seating for restaurant. No access.\n"
          ]
        },
        {
          "name": "stderr",
          "output_type": "stream",
          "text": [
            "\r 10%|▉         | 145/1479 [03:50<25:49,  1.16s/it]"
          ]
        },
        {
          "name": "stdout",
          "output_type": "stream",
          "text": [
            "170\n",
            "Accessibility and Accessibility/Negative/Blocked by ICE vehicles, Powered down, Valets say they are broken but really they are just slow, 200v 15a, Not worth the trouble.\n"
          ]
        },
        {
          "name": "stderr",
          "output_type": "stream",
          "text": [
            "\r 10%|▉         | 146/1479 [03:53<42:33,  1.92s/it]"
          ]
        },
        {
          "name": "stdout",
          "output_type": "stream",
          "text": [
            "130\n",
            "This review does not provide enough information to classify it or identify any aspect terms, opinion terms, or sentiment polarity.\n",
            "Error occurred: list index out of range\n"
          ]
        },
        {
          "name": "stderr",
          "output_type": "stream",
          "text": [
            "\r 10%|▉         | 147/1479 [04:00<1:15:33,  3.40s/it]"
          ]
        },
        {
          "name": "stdout",
          "output_type": "stream",
          "text": [
            "822\n",
            "Accessibility and Accessibility/Negative/The chargers are accessible via the hotels Valet parking. $10 until 6am. I had to pay 20 to charge from 6pm to 730am. It saved me as the rental car company gave me a car that was not fully charged, but after 12 hours on the charger it only had a range of 41 miles so must be a slower charger. That was up from almost dead. Update: although I never saw the charger station my guess it was a Tesla only charger, after going both to a tesla and Charge Point super charger in Egg Harbor I found out Hertz did not provide a Tesla adapter and only had 220 and 110 adapters. The ChargePoint station charged to 100% in two hours for $20 and plugged directly into the Chevy Bolt. That station is a single charger behind hidden sands brewery. You do need their app to pay and start and stop.\n"
          ]
        },
        {
          "name": "stderr",
          "output_type": "stream",
          "text": [
            "\r 10%|█         | 148/1479 [04:01<56:37,  2.55s/it]  "
          ]
        },
        {
          "name": "stdout",
          "output_type": "stream",
          "text": [
            "71\n",
            "Accessibility and Accessibility/Negative/do Not have a charging station\n"
          ]
        },
        {
          "name": "stderr",
          "output_type": "stream",
          "text": [
            "\r 10%|█         | 149/1479 [04:03<52:28,  2.37s/it]"
          ]
        },
        {
          "name": "stdout",
          "output_type": "stream",
          "text": [
            "84\n",
            "Accessibility and Amenities and location/Negative/Super crowded, lines painted wrong\n",
            "72\n",
            "Charging speed and efficiency/Negative/slow charge rate (24kw or 98mi/h)\n"
          ]
        },
        {
          "name": "stderr",
          "output_type": "stream",
          "text": [
            "\r 10%|█         | 150/1479 [04:03<40:23,  1.82s/it]"
          ]
        },
        {
          "name": "stdout",
          "output_type": "stream",
          "text": [
            "35\n",
            "Safety/Positive/safe to walk my pup\n"
          ]
        },
        {
          "name": "stderr",
          "output_type": "stream",
          "text": [
            "\r 10%|█         | 151/1479 [04:04<32:41,  1.48s/it]"
          ]
        },
        {
          "name": "stdout",
          "output_type": "stream",
          "text": [
            "88\n",
            "Accessibility and Accessibility/Negative/Parking line is not aligned with charger stalls\n"
          ]
        },
        {
          "name": "stderr",
          "output_type": "stream",
          "text": [
            "\r 10%|█         | 152/1479 [04:05<29:51,  1.35s/it]"
          ]
        },
        {
          "name": "stdout",
          "output_type": "stream",
          "text": [
            "153\n",
            "Accessibility and Location/Negative/located just off the Garden State Parkway, becomes extremely dangerous as there isn't a whole lot of room to navigate\n"
          ]
        },
        {
          "name": "stderr",
          "output_type": "stream",
          "text": [
            "\r 10%|█         | 153/1479 [04:06<27:03,  1.22s/it]"
          ]
        },
        {
          "name": "stdout",
          "output_type": "stream",
          "text": [
            "93\n",
            "Accessibility and Availability/Negative/ICE cars do park in supercharger spaces while in Wawa\n"
          ]
        },
        {
          "name": "stderr",
          "output_type": "stream",
          "text": [
            "\r 10%|█         | 154/1479 [04:08<32:45,  1.48s/it]"
          ]
        },
        {
          "name": "stdout",
          "output_type": "stream",
          "text": [
            "88\n",
            "Accessibility and Location/Positive/Spots are in a good location off to the side of Acme\n",
            "78\n",
            "Queue and Waiting Time/Positive/Been lucky to not have to wait for a spot here\n",
            "105\n",
            "Price and Cost/Positive/Pricing is a little on the higher side but better than peak rates in northern NJ.\n"
          ]
        },
        {
          "name": "stderr",
          "output_type": "stream",
          "text": [
            "\r 10%|█         | 155/1479 [04:09<30:39,  1.39s/it]"
          ]
        },
        {
          "name": "stdout",
          "output_type": "stream",
          "text": [
            "149\n",
            "Accessibility and Location/Positive/convenient and well lit, easy access from Garden State Parkway, Grocery shopping available across the parking lot\n"
          ]
        },
        {
          "name": "stderr",
          "output_type": "stream",
          "text": [
            "\r 11%|█         | 156/1479 [04:11<30:41,  1.39s/it]"
          ]
        },
        {
          "name": "stdout",
          "output_type": "stream",
          "text": [
            "84\n",
            "Accessibility and Location/Positive/Easy to find at the edge of the ACME parking lot\n",
            "52\n",
            "Charging speed and efficiency/Positive/Decent speeds\n"
          ]
        },
        {
          "name": "stderr",
          "output_type": "stream",
          "text": [
            "\r 11%|█         | 157/1479 [04:12<29:20,  1.33s/it]"
          ]
        },
        {
          "name": "stdout",
          "output_type": "stream",
          "text": [
            "154\n",
            "Accessibility and Amenities and location/Positive/off of the Garden State Expressway, Acme has food options, bathrooms, and about 15 minutes from Cape May\n"
          ]
        },
        {
          "name": "stderr",
          "output_type": "stream",
          "text": [
            "\r 11%|█         | 158/1479 [04:13<25:12,  1.14s/it]"
          ]
        },
        {
          "name": "stdout",
          "output_type": "stream",
          "text": [
            "139\n",
            "Safety/Negative/Battery powered cars have poisonous batteries that are not bio degradable and a disaster for the landscape and environment.\n"
          ]
        },
        {
          "name": "stderr",
          "output_type": "stream",
          "text": [
            "\r 11%|█         | 159/1479 [04:13<22:04,  1.00s/it]"
          ]
        },
        {
          "name": "stdout",
          "output_type": "stream",
          "text": [
            "53\n",
            "Accessibility and Accessibility/Positive/Level 2 free\n"
          ]
        },
        {
          "name": "stderr",
          "output_type": "stream",
          "text": [
            "\r 11%|█         | 160/1479 [04:14<21:34,  1.02it/s]"
          ]
        },
        {
          "name": "stdout",
          "output_type": "stream",
          "text": [
            "84\n",
            "Amenities and Location/Positive/Good amenities around, Chick-Fil-A around the corner\n"
          ]
        },
        {
          "name": "stderr",
          "output_type": "stream",
          "text": [
            "\r 11%|█         | 161/1479 [04:15<22:56,  1.04s/it]"
          ]
        },
        {
          "name": "stdout",
          "output_type": "stream",
          "text": [
            "49\n",
            "Charging speed and efficiency/Positive/super fast\n"
          ]
        },
        {
          "name": "stderr",
          "output_type": "stream",
          "text": [
            "\r 11%|█         | 162/1479 [04:16<21:53,  1.00it/s]"
          ]
        },
        {
          "name": "stdout",
          "output_type": "stream",
          "text": [
            "52\n",
            "Charging speed and efficiency/Positive/fast charging\n",
            "56\n",
            "Availability and Accessibility/Positive/Lots of chargers\n"
          ]
        },
        {
          "name": "stderr",
          "output_type": "stream",
          "text": [
            "\r 11%|█         | 163/1479 [04:17<21:53,  1.00it/s]"
          ]
        },
        {
          "name": "stdout",
          "output_type": "stream",
          "text": [
            "109\n",
            "Accessibility and Location/Positive/Harris Teeter's side parking lot, Easy walk to bathrooms in Harris Teeter\n"
          ]
        },
        {
          "name": "stderr",
          "output_type": "stream",
          "text": [
            "\r 11%|█         | 164/1479 [04:18<22:24,  1.02s/it]"
          ]
        },
        {
          "name": "stdout",
          "output_type": "stream",
          "text": [
            "68\n",
            "Accessibility and Accessibility/Negative/many park on the wrong side\n",
            "52\n",
            "Charging speed and efficiency/Positive/fast charging\n"
          ]
        },
        {
          "name": "stderr",
          "output_type": "stream",
          "text": [
            "\r 11%|█         | 165/1479 [04:20<23:47,  1.09s/it]"
          ]
        },
        {
          "name": "stdout",
          "output_type": "stream",
          "text": [
            "81\n",
            "Accessibility and Accessibility/Neutral/Located on the second floor of the garage\n",
            "60\n",
            "Amenities and location/Neutral/Located next to Harris Teeter\n"
          ]
        },
        {
          "name": "stderr",
          "output_type": "stream",
          "text": [
            "\r 11%|█         | 166/1479 [04:21<26:22,  1.21s/it]"
          ]
        },
        {
          "name": "stdout",
          "output_type": "stream",
          "text": [
            "187\n",
            "Accessibility and Amenities and Location/Positive/charger in Baltimore, Harris Teeter parking garage, Starbucks, restroom, small salad and pasta bar, good part of town, no safety concerns\n"
          ]
        },
        {
          "name": "stderr",
          "output_type": "stream",
          "text": [
            "\r 11%|█▏        | 167/1479 [04:23<34:32,  1.58s/it]"
          ]
        },
        {
          "name": "stdout",
          "output_type": "stream",
          "text": [
            "167\n",
            "Charging speed and efficiency/Negative/don’t get the normal 120kW at a regular SuperCharger, charge peaked out around 70kW, added roughly 20 min to overall charge time\n",
            "106\n",
            "Accessibility and Location/Negative/missed them the first drive by, don’t really stand out from the street\n"
          ]
        },
        {
          "name": "stderr",
          "output_type": "stream",
          "text": [
            "\r 11%|█▏        | 168/1479 [04:26<39:50,  1.82s/it]"
          ]
        },
        {
          "name": "stdout",
          "output_type": "stream",
          "text": [
            "67\n",
            "Accessibility and Location/Neutral/A bit of a maze to find at first\n",
            "72\n",
            "Charging speed and efficiency/Neutral/Doesn't hit 120KW but 72KW is fine\n",
            "78\n",
            "Reliability and maintenance/Positive/The key is having a reliable supercharger\n",
            "47\n",
            "Amenities and location/Positive/Parking is free\n"
          ]
        },
        {
          "name": "stderr",
          "output_type": "stream",
          "text": [
            "\r 11%|█▏        | 169/1479 [04:27<34:33,  1.58s/it]"
          ]
        },
        {
          "name": "stdout",
          "output_type": "stream",
          "text": [
            "82\n",
            "Accessibility and Location/Negative/inside the parking garage on the 3rd I believe\n"
          ]
        },
        {
          "name": "stderr",
          "output_type": "stream",
          "text": [
            "\r 11%|█▏        | 170/1479 [04:28<30:59,  1.42s/it]"
          ]
        },
        {
          "name": "stdout",
          "output_type": "stream",
          "text": [
            "164\n",
            "Accessibility and Amenities and Location/Positive/charging, availability of bathrooms and food, new, v3 charging, Bathrooms are near by in stop and shop supermarket\n"
          ]
        },
        {
          "name": "stderr",
          "output_type": "stream",
          "text": [
            "\r 12%|█▏        | 171/1479 [04:29<30:24,  1.39s/it]"
          ]
        },
        {
          "name": "stdout",
          "output_type": "stream",
          "text": [
            "54\n",
            "Charging speed and efficiency/Positive/Super fast 250k\n",
            "56\n",
            "Queue and waiting time/Negative/already paying idle fees\n",
            "43\n",
            "Amenities and location/Positive/Stop & Shop\n"
          ]
        },
        {
          "name": "stderr",
          "output_type": "stream",
          "text": [
            "\r 12%|█▏        | 172/1479 [04:30<26:18,  1.21s/it]"
          ]
        },
        {
          "name": "stdout",
          "output_type": "stream",
          "text": [
            "116\n",
            "Accessibility and Amenities and Location/Positive/supermarket parking lot, picnic tables, shopping and eating nearby\n"
          ]
        },
        {
          "name": "stderr",
          "output_type": "stream",
          "text": [
            "\r 12%|█▏        | 173/1479 [04:31<25:54,  1.19s/it]"
          ]
        },
        {
          "name": "stdout",
          "output_type": "stream",
          "text": [
            "86\n",
            "Accessibility and Accessibility/Positive/Straight forward get in plug in, wait and out\n",
            "61\n",
            "Price and cost/Positive/price are similar to non supercharger\n"
          ]
        },
        {
          "name": "stderr",
          "output_type": "stream",
          "text": [
            "\r 12%|█▏        | 174/1479 [04:32<24:49,  1.14s/it]"
          ]
        },
        {
          "name": "stdout",
          "output_type": "stream",
          "text": [
            "52\n",
            "Charging speed and efficiency/Positive/Fast charging\n",
            "52\n",
            "Queue and waiting time/Positive/no one else charging\n"
          ]
        },
        {
          "name": "stderr",
          "output_type": "stream",
          "text": [
            "\r 12%|█▏        | 175/1479 [04:33<22:03,  1.02s/it]"
          ]
        },
        {
          "name": "stdout",
          "output_type": "stream",
          "text": [
            "82\n",
            "Accessibility and Location/Neutral/Tesla charging lot, Mashpee, MA CVS parking lot\n"
          ]
        },
        {
          "name": "stderr",
          "output_type": "stream",
          "text": [
            "\r 12%|█▏        | 176/1479 [04:33<18:08,  1.20it/s]"
          ]
        },
        {
          "name": "stdout",
          "output_type": "stream",
          "text": [
            "47\n",
            "Accessibility and Location/Positive/Mashpee CVS\n"
          ]
        },
        {
          "name": "stderr",
          "output_type": "stream",
          "text": [
            "\r 12%|█▏        | 177/1479 [04:34<18:49,  1.15it/s]"
          ]
        },
        {
          "name": "stdout",
          "output_type": "stream",
          "text": [
            "77\n",
            "Availability and Accessibility/Positive/Plenty of working Tesla superchargers\n"
          ]
        },
        {
          "name": "stderr",
          "output_type": "stream",
          "text": [
            "\r 12%|█▏        | 178/1479 [04:35<16:41,  1.30it/s]"
          ]
        },
        {
          "name": "stdout",
          "output_type": "stream",
          "text": [
            "50\n",
            "Amenities and Location/Positive/Nice shopping area\n"
          ]
        },
        {
          "name": "stderr",
          "output_type": "stream",
          "text": [
            "\r 12%|█▏        | 179/1479 [04:35<14:58,  1.45it/s]"
          ]
        },
        {
          "name": "stdout",
          "output_type": "stream",
          "text": [
            "58\n",
            "Accessibility and Location/Negative/Address is not correct\n"
          ]
        },
        {
          "name": "stderr",
          "output_type": "stream",
          "text": [
            "\r 12%|█▏        | 180/1479 [04:36<18:04,  1.20it/s]"
          ]
        },
        {
          "name": "stdout",
          "output_type": "stream",
          "text": [
            "44\n",
            "Amenities and Location/Neutral/Dunkin Donuts\n",
            "72\n",
            "Accessibility and Accessibility/Negative/separated with concert barriers\n",
            "71\n",
            "Safety/Negative/Definitely an area you would not want to take a trailer\n"
          ]
        },
        {
          "name": "stderr",
          "output_type": "stream",
          "text": [
            "\r 12%|█▏        | 181/1479 [04:39<29:03,  1.34s/it]"
          ]
        },
        {
          "name": "stdout",
          "output_type": "stream",
          "text": [
            "57\n",
            "Safety/Negative/It’s really dark and freaky her at night.\n",
            "125\n",
            "Accessibility and Location/Negative/This place is kind of hidden and many times it’s does not come up on the map as a choice.\n",
            "125\n",
            "Amenities and Location/Positive/About 5 miles away there is a really great smoothie and açaí bowl place called Blended Berry.\n"
          ]
        },
        {
          "name": "stderr",
          "output_type": "stream",
          "text": [
            "\r 12%|█▏        | 182/1479 [04:40<25:48,  1.19s/it]"
          ]
        },
        {
          "name": "stdout",
          "output_type": "stream",
          "text": [
            "90\n",
            "Amenities and location/Positive/bathroom and snacks near by, located next to dunkin donuts\n"
          ]
        },
        {
          "name": "stderr",
          "output_type": "stream",
          "text": [
            "\r 12%|█▏        | 183/1479 [04:41<22:09,  1.03s/it]"
          ]
        },
        {
          "name": "stdout",
          "output_type": "stream",
          "text": [
            "62\n",
            "Safety/Negative/hidden away and set in the absolute pitch dark\n"
          ]
        },
        {
          "name": "stderr",
          "output_type": "stream",
          "text": [
            "\r 12%|█▏        | 184/1479 [04:41<20:28,  1.05it/s]"
          ]
        },
        {
          "name": "stdout",
          "output_type": "stream",
          "text": [
            "67\n",
            "Location and Amenities/Positive/Great location near Sagamore bridge\n"
          ]
        },
        {
          "name": "stderr",
          "output_type": "stream",
          "text": [
            "\r 13%|█▎        | 185/1479 [04:42<20:17,  1.06it/s]"
          ]
        },
        {
          "name": "stdout",
          "output_type": "stream",
          "text": [
            "134\n",
            "This review does not provide enough information to classify it or identify any specific aspects, opinion terms, or sentiment polarity.\n",
            "Error occurred: list index out of range\n"
          ]
        },
        {
          "name": "stderr",
          "output_type": "stream",
          "text": [
            "\r 13%|█▎        | 186/1479 [04:43<20:07,  1.07it/s]"
          ]
        },
        {
          "name": "stdout",
          "output_type": "stream",
          "text": [
            "110\n",
            "Accessibility and Amenities and Location/Positive/8 new stalls, convenience store located next to the chargers\n"
          ]
        },
        {
          "name": "stderr",
          "output_type": "stream",
          "text": [
            "\r 13%|█▎        | 187/1479 [04:44<19:51,  1.08it/s]"
          ]
        },
        {
          "name": "stdout",
          "output_type": "stream",
          "text": [
            "30\n",
            "Safety/Positive/Very safe area\n",
            "70\n",
            "Location/Positive/Located in the parking lot of Bizzy Bees gas station\n"
          ]
        },
        {
          "name": "stderr",
          "output_type": "stream",
          "text": [
            "\r 13%|█▎        | 188/1479 [04:46<27:36,  1.28s/it]"
          ]
        },
        {
          "name": "stdout",
          "output_type": "stream",
          "text": [
            "87\n",
            "Charging speed and efficiency/Positive/V3 Supercharger pulled 245KW in thirteen minutes\n",
            "47\n",
            "Price and cost/Positive/Cost was about 10 bucks\n",
            "97\n",
            "Availability and Accessibility/Positive/Thanks Busy Bee to let Tesla putting V3 Supercharger here\n",
            "76\n",
            "Location/Positive/Please put another Supercharger location at Destin FL area\n"
          ]
        },
        {
          "name": "stderr",
          "output_type": "stream",
          "text": [
            "\r 13%|█▎        | 189/1479 [04:47<24:13,  1.13s/it]"
          ]
        },
        {
          "name": "stdout",
          "output_type": "stream",
          "text": [
            "112\n",
            "Accessibility and Location/Positive/very convenient for vacation travel in and around Panama City resort beaches\n"
          ]
        },
        {
          "name": "stderr",
          "output_type": "stream",
          "text": [
            "\r 13%|█▎        | 190/1479 [04:47<20:18,  1.06it/s]"
          ]
        },
        {
          "name": "stdout",
          "output_type": "stream",
          "text": [
            "85\n",
            "Accessibility and Amenities and location/Positive/convient location, Busy Bee station\n"
          ]
        },
        {
          "name": "stderr",
          "output_type": "stream",
          "text": [
            "\r 13%|█▎        | 191/1479 [04:49<21:53,  1.02s/it]"
          ]
        },
        {
          "name": "stdout",
          "output_type": "stream",
          "text": [
            "130\n",
            "Accessibility and Accessibility/Positive/Restricted location, You have to be a guest with a parking permit to access this location\n"
          ]
        },
        {
          "name": "stderr",
          "output_type": "stream",
          "text": [
            "\r 13%|█▎        | 192/1479 [04:50<23:26,  1.09s/it]"
          ]
        },
        {
          "name": "stdout",
          "output_type": "stream",
          "text": [
            "129\n",
            "Accessibility and Accessibility/Negative/This is a private place and if you are not staying there you can not charge your vehicle\n",
            "49\n",
            "Safety/Positive/It has a security gate with guard\n"
          ]
        },
        {
          "name": "stderr",
          "output_type": "stream",
          "text": [
            "\r 13%|█▎        | 193/1479 [04:51<23:19,  1.09s/it]"
          ]
        },
        {
          "name": "stdout",
          "output_type": "stream",
          "text": [
            "99\n",
            "reliability and maintenance/Negative/One had the charging cable zip tied which, I guess, means inop\n"
          ]
        },
        {
          "name": "stderr",
          "output_type": "stream",
          "text": [
            "\r 13%|█▎        | 194/1479 [04:52<21:57,  1.03s/it]"
          ]
        },
        {
          "name": "stdout",
          "output_type": "stream",
          "text": [
            "82\n",
            "Accessibility and Accessibility/Positive/Two tesla chargers and two j-1772 charger\n"
          ]
        },
        {
          "name": "stderr",
          "output_type": "stream",
          "text": [
            "\r 13%|█▎        | 195/1479 [04:52<18:37,  1.15it/s]"
          ]
        },
        {
          "name": "stdout",
          "output_type": "stream",
          "text": [
            "59\n",
            "Accessibility and Accessibility/Negative/Not open to public\n"
          ]
        },
        {
          "name": "stderr",
          "output_type": "stream",
          "text": [
            "\r 13%|█▎        | 196/1479 [04:53<18:17,  1.17it/s]"
          ]
        },
        {
          "name": "stdout",
          "output_type": "stream",
          "text": [
            "106\n",
            "Accessibility and Accessibility/Negative/They don't allow anyone else to come in and even pay for the time\n"
          ]
        },
        {
          "name": "stderr",
          "output_type": "stream",
          "text": [
            "\r 13%|█▎        | 197/1479 [04:55<22:47,  1.07s/it]"
          ]
        },
        {
          "name": "stdout",
          "output_type": "stream",
          "text": [
            "116\n",
            "Amenities and Location/Positive/gas stations, motel 6, barbecue joint, and other restaurants within walking distance\n"
          ]
        },
        {
          "name": "stderr",
          "output_type": "stream",
          "text": [
            "\r 13%|█▎        | 198/1479 [04:57<29:35,  1.39s/it]"
          ]
        },
        {
          "name": "stdout",
          "output_type": "stream",
          "text": [
            "143\n",
            "Accessibility and Location/Positive/conveniently located just off of the I-10 exit, conveniently located behind a BBQ joint, near a Dairy Queen\n",
            "68\n",
            "Amenities and Location/Positive/good food and drink, clean restrooms\n",
            "76\n",
            "Charging speed and efficiency/Positive/250KW chargers, charge fairly quickly\n"
          ]
        },
        {
          "name": "stderr",
          "output_type": "stream",
          "text": [
            "\r 13%|█▎        | 199/1479 [04:58<30:35,  1.43s/it]"
          ]
        },
        {
          "name": "stdout",
          "output_type": "stream",
          "text": [
            "107\n",
            "Amenities and Location/Neutral/located near another business but doesn't have its own bathrooms or anything\n",
            "93\n",
            "Queue and Waiting Time/Neutral/can't wait until we get EV rest centers with proper facilities\n"
          ]
        },
        {
          "name": "stderr",
          "output_type": "stream",
          "text": [
            "\r 14%|█▎        | 200/1479 [05:00<29:57,  1.41s/it]"
          ]
        },
        {
          "name": "stdout",
          "output_type": "stream",
          "text": [
            "70\n",
            "Amenities and location/Positive/BBQ place, McDonald's, and Dairy Queen\n",
            "61\n",
            "Queue and waiting time/Positive/rarely had to wait for a spot\n"
          ]
        },
        {
          "name": "stderr",
          "output_type": "stream",
          "text": [
            "\r 14%|█▎        | 201/1479 [05:02<34:54,  1.64s/it]"
          ]
        },
        {
          "name": "stdout",
          "output_type": "stream",
          "text": [
            "164\n",
            "Accessibility and Location/Positive/Located conveniently off of I10. Able to drive direct from Birmingham AL in MS refresh long range. Plenty of food places nearby.\n"
          ]
        },
        {
          "name": "stderr",
          "output_type": "stream",
          "text": [
            "\r 14%|█▎        | 202/1479 [05:04<36:50,  1.73s/it]"
          ]
        },
        {
          "name": "stdout",
          "output_type": "stream",
          "text": [
            "257\n",
            "Accessibility and Amenities and Location/Negative/Not much here but the main thing is it charged us up to continue our journey! No bathroom or stores nearby. Parking is kinda weird. You have to pull in more than I like so be aware not to mess up your bumper\n"
          ]
        },
        {
          "name": "stderr",
          "output_type": "stream",
          "text": [
            "\r 14%|█▎        | 203/1479 [05:05<32:28,  1.53s/it]"
          ]
        },
        {
          "name": "stdout",
          "output_type": "stream",
          "text": [
            "111\n",
            "Amenities and Location/Positive/little downtown area with places to shop, walk and rest, Perla Baking Co., lake\n"
          ]
        },
        {
          "name": "stderr",
          "output_type": "stream",
          "text": [
            "\r 14%|█▍        | 204/1479 [05:07<36:06,  1.70s/it]"
          ]
        },
        {
          "name": "stdout",
          "output_type": "stream",
          "text": [
            "76\n",
            "Accessibility and Location/Negative/Farther off I-10 than most superchargers\n",
            "56\n",
            "Safety/Negative/Has this eerily quiet and creepy feeling\n",
            "148\n",
            "Customer service/Negative/Random cars kept pulling into the gym parking lot even though the gym was closed and the people never got out of their car\n"
          ]
        },
        {
          "name": "stderr",
          "output_type": "stream",
          "text": [
            "\r 14%|█▍        | 205/1479 [05:08<34:07,  1.61s/it]"
          ]
        },
        {
          "name": "stdout",
          "output_type": "stream",
          "text": [
            "50\n",
            "Amenities and Location/Neutral/some stuff close by\n",
            "96\n",
            "Compatibility and Connectivity/Neutral/wished EVs would get a proper rest area and service plaza\n"
          ]
        },
        {
          "name": "stderr",
          "output_type": "stream",
          "text": [
            "\r 14%|█▍        | 206/1479 [05:09<30:32,  1.44s/it]"
          ]
        },
        {
          "name": "stdout",
          "output_type": "stream",
          "text": [
            "129\n",
            "Amenities and location/Negative/No restroom or dining options in the immediate vicinity except a portable potty across the street\n"
          ]
        },
        {
          "name": "stderr",
          "output_type": "stream",
          "text": [
            "\r 14%|█▍        | 207/1479 [05:11<31:49,  1.50s/it]"
          ]
        },
        {
          "name": "stdout",
          "output_type": "stream",
          "text": [
            "235\n",
            "Amenities and location/Positive/fast food restaurants nearby, grocery store across the parking lot, hospital across the street, walkable location, Trash cans on sight, routine stop for me when I'm in South Alabama, much-needed charger.\n"
          ]
        },
        {
          "name": "stderr",
          "output_type": "stream",
          "text": [
            "\r 14%|█▍        | 208/1479 [05:14<37:35,  1.77s/it]"
          ]
        },
        {
          "name": "stdout",
          "output_type": "stream",
          "text": [
            "103\n",
            "Amenities and Location/Positive/Winn Dixie, restrooms, trashcans, Checkers, Burger King, Hungry Howie's\n"
          ]
        },
        {
          "name": "stderr",
          "output_type": "stream",
          "text": [
            "\r 14%|█▍        | 209/1479 [05:14<30:32,  1.44s/it]"
          ]
        },
        {
          "name": "stdout",
          "output_type": "stream",
          "text": [
            "67\n",
            "Compatibility and Connectivity/Positive/wish my cybertruck was here\n"
          ]
        },
        {
          "name": "stderr",
          "output_type": "stream",
          "text": [
            "\r 14%|█▍        | 210/1479 [05:15<26:38,  1.26s/it]"
          ]
        },
        {
          "name": "stdout",
          "output_type": "stream",
          "text": [
            "56\n",
            "Accessibility and Location/Positive/Great spot to charge\n"
          ]
        },
        {
          "name": "stderr",
          "output_type": "stream",
          "text": [
            "\r 14%|█▍        | 211/1479 [05:16<22:44,  1.08s/it]"
          ]
        },
        {
          "name": "stdout",
          "output_type": "stream",
          "text": [
            "82\n",
            "Accessibility and Amenities and Location/Positive/supercharger location, groceries\n"
          ]
        },
        {
          "name": "stderr",
          "output_type": "stream",
          "text": [
            "\r 14%|█▍        | 212/1479 [05:19<34:41,  1.64s/it]"
          ]
        },
        {
          "name": "stdout",
          "output_type": "stream",
          "text": [
            "124\n",
            "Accessibility and Accessibility/Negative/the charger is breaking apart, the prongs are all messed up almost bent my car port\n",
            "100\n",
            "Charging speed and efficiency/Negative/the charge is slow, would've taken 5 hours to gain 60% charge\n",
            "79\n",
            "Amenities and location/Positive/the charger is in the very back of the building\n",
            "50\n",
            "Queue and waiting time/Positive/Only one available\n",
            "57\n",
            "Customer service/Positive/got free coffee while I shopped\n"
          ]
        },
        {
          "name": "stderr",
          "output_type": "stream",
          "text": [
            "\r 14%|█▍        | 213/1479 [05:19<27:03,  1.28s/it]"
          ]
        },
        {
          "name": "stdout",
          "output_type": "stream",
          "text": [
            "37\n",
            "Accessibility/Negative/not accessible\n"
          ]
        },
        {
          "name": "stderr",
          "output_type": "stream",
          "text": [
            "\r 14%|█▍        | 214/1479 [05:20<22:10,  1.05s/it]"
          ]
        },
        {
          "name": "stdout",
          "output_type": "stream",
          "text": [
            "64\n",
            "Accessibility and Location/Neutral/where is the charging station\n"
          ]
        },
        {
          "name": "stderr",
          "output_type": "stream",
          "text": [
            "\r 15%|█▍        | 215/1479 [05:21<21:51,  1.04s/it]"
          ]
        },
        {
          "name": "stdout",
          "output_type": "stream",
          "text": [
            "87\n",
            "reliability and maintenance/Negative/Charger is inoperable and left to rot in the back.\n"
          ]
        },
        {
          "name": "stderr",
          "output_type": "stream",
          "text": [
            "\r 15%|█▍        | 216/1479 [05:21<18:05,  1.16it/s]"
          ]
        },
        {
          "name": "stdout",
          "output_type": "stream",
          "text": [
            "47\n",
            "Compatibility and Connectivity/Neutral/No cable\n"
          ]
        },
        {
          "name": "stderr",
          "output_type": "stream",
          "text": [
            "\r 15%|█▍        | 217/1479 [05:23<25:26,  1.21s/it]"
          ]
        },
        {
          "name": "stdout",
          "output_type": "stream",
          "text": [
            "262\n",
            "Accessibility and Amenities and Location/Positive/Insane amount of superchargers, 40+. More than enough for everyone to plug-in and go! Buc-ee’s is massive and intense so be prepared. It is actually really nice to have the superchargers away from normal parking.\n"
          ]
        },
        {
          "name": "stderr",
          "output_type": "stream",
          "text": [
            "\r 15%|█▍        | 218/1479 [05:25<27:17,  1.30s/it]"
          ]
        },
        {
          "name": "stdout",
          "output_type": "stream",
          "text": [
            "202\n",
            "Accessibility and Amenities and location/Positive/Largest available of charging stations seen in Texas, 50 stations… great stop between Dallas and Austin… right at entrance to Buc-ee’s on the north side\n"
          ]
        },
        {
          "name": "stderr",
          "output_type": "stream",
          "text": [
            "\r 15%|█▍        | 219/1479 [05:25<24:45,  1.18s/it]"
          ]
        },
        {
          "name": "stdout",
          "output_type": "stream",
          "text": [
            "86\n",
            "Amenities and Location/Positive/big and conveniently located right next to the freeway\n"
          ]
        },
        {
          "name": "stderr",
          "output_type": "stream",
          "text": [
            "\r 15%|█▍        | 220/1479 [05:27<24:58,  1.19s/it]"
          ]
        },
        {
          "name": "stdout",
          "output_type": "stream",
          "text": [
            "119\n",
            "Accessibility and Amenities and Location/Positive/48 stalls at 250kw is awesome and at a Bucees to make it even better.\n"
          ]
        },
        {
          "name": "stderr",
          "output_type": "stream",
          "text": [
            "\r 15%|█▍        | 221/1479 [05:28<22:42,  1.08s/it]"
          ]
        },
        {
          "name": "stdout",
          "output_type": "stream",
          "text": [
            "101\n",
            "Accessibility and Amenities and location/Positive/Superchargers with everything Buc-ee’s has to offer\n"
          ]
        },
        {
          "name": "stderr",
          "output_type": "stream",
          "text": [
            "\r 15%|█▌        | 222/1479 [05:31<35:56,  1.72s/it]"
          ]
        },
        {
          "name": "stdout",
          "output_type": "stream",
          "text": [
            "131\n",
            "Accessibility and Location/Positive/Round Rock area, McDonald's, Cold Stone Creamery, Freddy's Custard, plenty of shops in the area\n",
            "71\n",
            "Charging speed and efficiency/Positive/fast, consistent charging speeds\n",
            "105\n",
            "Amenities and Location/Positive/McDonald's, Cold Stone Creamery, Freddy's Custard, several small eateries\n",
            "63\n",
            "Queue and waiting time/Neutral/usually no more than 50-75% full\n",
            "65\n",
            "User interface/Neutral/McDonald's interior dining area was closed\n"
          ]
        },
        {
          "name": "stderr",
          "output_type": "stream",
          "text": [
            "\r 15%|█▌        | 223/1479 [05:31<28:42,  1.37s/it]"
          ]
        },
        {
          "name": "stdout",
          "output_type": "stream",
          "text": [
            "60\n",
            "Location and Accessibility/Neutral/conveniently right off 35\n"
          ]
        },
        {
          "name": "stderr",
          "output_type": "stream",
          "text": [
            "\r 15%|█▌        | 224/1479 [05:33<29:04,  1.39s/it]"
          ]
        },
        {
          "name": "stdout",
          "output_type": "stream",
          "text": [
            "87\n",
            "Amenities and Location/Positive/conveniently located near several fast food restaurants\n",
            "88\n",
            "Ease of Use/Positive/ease to grab a quick bite to eat and to use the bathroom super easy\n"
          ]
        },
        {
          "name": "stderr",
          "output_type": "stream",
          "text": [
            "\r 15%|█▌        | 225/1479 [05:34<26:47,  1.28s/it]"
          ]
        },
        {
          "name": "stdout",
          "output_type": "stream",
          "text": [
            "158\n",
            "Accessibility and Amenities and location/Neutral/construction around the parking lot and entrance, lots of food, drinks, and bathrooms within walking distance\n"
          ]
        },
        {
          "name": "stderr",
          "output_type": "stream",
          "text": [
            "\r 15%|█▌        | 226/1479 [05:35<24:38,  1.18s/it]"
          ]
        },
        {
          "name": "stdout",
          "output_type": "stream",
          "text": [
            "96\n",
            "Accessibility and Amenities and Location/Positive/Great place to charge, visitors while charging\n"
          ]
        },
        {
          "name": "stderr",
          "output_type": "stream",
          "text": [
            "\r 15%|█▌        | 227/1479 [05:35<20:17,  1.03it/s]"
          ]
        },
        {
          "name": "stdout",
          "output_type": "stream",
          "text": [
            "64\n",
            "Compatibility and Connectivity/Negative/allow non-tesla charging\n"
          ]
        },
        {
          "name": "stderr",
          "output_type": "stream",
          "text": [
            "\r 15%|█▌        | 228/1479 [05:38<29:34,  1.42s/it]"
          ]
        },
        {
          "name": "stdout",
          "output_type": "stream",
          "text": [
            "106\n",
            "Accessibility and Amenities and location/Positive/Easy to find food drink shopping within walking distance\n",
            "47\n",
            "Charging speed and efficiency/Positive/500mi/hr\n",
            "55\n",
            "Compatibility and Connectivity/Positive/6 cars charging\n"
          ]
        },
        {
          "name": "stderr",
          "output_type": "stream",
          "text": [
            "\r 15%|█▌        | 229/1479 [05:39<29:22,  1.41s/it]"
          ]
        },
        {
          "name": "stdout",
          "output_type": "stream",
          "text": [
            "72\n",
            "Charging speed and efficiency/Positive/Charged pretty quick, 25 and done\n",
            "87\n",
            "Queue and waiting time/Negative/Didn't have to wait for a spot, we just rolled right in\n"
          ]
        },
        {
          "name": "stderr",
          "output_type": "stream",
          "text": [
            "\r 16%|█▌        | 230/1479 [05:41<34:29,  1.66s/it]"
          ]
        },
        {
          "name": "stdout",
          "output_type": "stream",
          "text": [
            "107\n",
            "Charging speed and efficiency/Negative/only 150kw charging that drops to 75kw if adjacent stall is changing\n",
            "61\n",
            "Amenities and location/Positive/Good amenities at Fred Meyers\n",
            "133\n",
            "Compatibility and Connectivity/Neutral/Slower charging is perfect if you have shopping to do, but not if you're just passing through.\n"
          ]
        },
        {
          "name": "stderr",
          "output_type": "stream",
          "text": [
            "\r 16%|█▌        | 231/1479 [05:43<36:18,  1.75s/it]"
          ]
        },
        {
          "name": "stdout",
          "output_type": "stream",
          "text": [
            "271\n",
            "Accessibility and Amenities and Location/Positive/Great place to charge your tesla. While also going to the store and getting your groceries. The only downfall is they need to put more in. Because It tends to get filled up fast over the weekend with longer waiting times.\n"
          ]
        },
        {
          "name": "stderr",
          "output_type": "stream",
          "text": [
            "\r 16%|█▌        | 232/1479 [05:45<38:25,  1.85s/it]"
          ]
        },
        {
          "name": "stdout",
          "output_type": "stream",
          "text": [
            "169\n",
            "Queue and waiting time/Negative/This place often has lines now its so busy. And there's 1 parking spot in the line up that doesn't actually have a charger assigned to it\n"
          ]
        },
        {
          "name": "stderr",
          "output_type": "stream",
          "text": [
            "\r 16%|█▌        | 233/1479 [05:46<34:20,  1.65s/it]"
          ]
        },
        {
          "name": "stdout",
          "output_type": "stream",
          "text": [
            "160\n",
            "Accessibility and Amenities and Location/Negative/Fred Myers doesn't excite, but it's a place with bathrooms and food. The pull straight in charger did not work\n"
          ]
        },
        {
          "name": "stderr",
          "output_type": "stream",
          "text": [
            "\r 16%|█▌        | 234/1479 [05:47<28:24,  1.37s/it]"
          ]
        },
        {
          "name": "stdout",
          "output_type": "stream",
          "text": [
            "101\n",
            "This review does not mention any specific aspects or provide any opinion terms or sentiment polarity.\n",
            "Error occurred: list index out of range\n"
          ]
        },
        {
          "name": "stderr",
          "output_type": "stream",
          "text": [
            "\r 16%|█▌        | 235/1479 [05:49<28:46,  1.39s/it]"
          ]
        },
        {
          "name": "stdout",
          "output_type": "stream",
          "text": [
            "82\n",
            "Accessibility and Location/Neutral/conveniently located and has plenty of chargers\n",
            "76\n",
            "Charging speed and efficiency/Negative/avg charging speed never passes 65kWh\n"
          ]
        },
        {
          "name": "stderr",
          "output_type": "stream",
          "text": [
            "\r 16%|█▌        | 236/1479 [05:49<23:40,  1.14s/it]"
          ]
        },
        {
          "name": "stdout",
          "output_type": "stream",
          "text": [
            "41\n",
            "Queue and waiting time/Negative/very busy\n"
          ]
        },
        {
          "name": "stderr",
          "output_type": "stream",
          "text": [
            "\r 16%|█▌        | 237/1479 [05:50<21:16,  1.03s/it]"
          ]
        },
        {
          "name": "stdout",
          "output_type": "stream",
          "text": [
            "78\n",
            "Charging speed and efficiency/Negative/Very slow compared to what it should be\n"
          ]
        },
        {
          "name": "stderr",
          "output_type": "stream",
          "text": [
            "\r 16%|█▌        | 238/1479 [05:51<21:21,  1.03s/it]"
          ]
        },
        {
          "name": "stdout",
          "output_type": "stream",
          "text": [
            "123\n",
            "Accessibility and Amenities and Location/Positive/Nice parking lot, Easy to run into Wawa and grab a drink while you charge\n"
          ]
        },
        {
          "name": "stderr",
          "output_type": "stream",
          "text": [
            "\r 16%|█▌        | 239/1479 [05:52<22:43,  1.10s/it]"
          ]
        },
        {
          "name": "stdout",
          "output_type": "stream",
          "text": [
            "55\n",
            "Accessibility and Accessibility/Positive/Easy to access\n",
            "102\n",
            "Queue and waiting time/Neutral/Somewhat busy at noon on a Monday but I had no trouble getting a space.\n"
          ]
        },
        {
          "name": "stderr",
          "output_type": "stream",
          "text": [
            "\r 16%|█▌        | 240/1479 [05:53<21:45,  1.05s/it]"
          ]
        },
        {
          "name": "stdout",
          "output_type": "stream",
          "text": [
            "93\n",
            "Queue and waiting time/Negative/Always all stations are full there’s 4-5 cars waiting in line\n"
          ]
        },
        {
          "name": "stderr",
          "output_type": "stream",
          "text": [
            "\r 16%|█▋        | 241/1479 [05:55<28:40,  1.39s/it]"
          ]
        },
        {
          "name": "stdout",
          "output_type": "stream",
          "text": [
            "90\n",
            "Queue and waiting time/Negative/be ready to wait a little bit due to the amount of traffic\n",
            "71\n",
            "Charging speed and efficiency/Positive/250 kilowatt chargers were great\n",
            "67\n",
            "Availability and Accessibility/Negative/wish there were more stalls\n",
            "40\n",
            "Overall rating/Positive/4 out of 5 stars\n"
          ]
        },
        {
          "name": "stderr",
          "output_type": "stream",
          "text": [
            "\r 16%|█▋        | 242/1479 [05:57<29:19,  1.42s/it]"
          ]
        },
        {
          "name": "stdout",
          "output_type": "stream",
          "text": [
            "140\n",
            "Accessibility and Accessibility/Positive/All chargers were full upon arrival but only had to wait a minute or so. Good location too at Wawa.\n"
          ]
        },
        {
          "name": "stderr",
          "output_type": "stream",
          "text": [
            "\r 16%|█▋        | 243/1479 [05:59<31:00,  1.51s/it]"
          ]
        },
        {
          "name": "stdout",
          "output_type": "stream",
          "text": [
            "204\n",
            "Accessibility and Location/Positive/Excellent spot, very close walkway through building tunnel to stores, Staples and pizza joint right there, both have pee and pop, closed at night, about 10-second walk.\n"
          ]
        },
        {
          "name": "stderr",
          "output_type": "stream",
          "text": [
            "\r 16%|█▋        | 244/1479 [05:59<26:32,  1.29s/it]"
          ]
        },
        {
          "name": "stdout",
          "output_type": "stream",
          "text": [
            "94\n",
            "Accessibility and Accessibility/Negative/Trying to actually get to the chargers is a challenge\n"
          ]
        },
        {
          "name": "stderr",
          "output_type": "stream",
          "text": [
            "\r 17%|█▋        | 245/1479 [06:02<32:48,  1.60s/it]"
          ]
        },
        {
          "name": "stdout",
          "output_type": "stream",
          "text": [
            "100\n",
            "Charging speed and efficiency/Negative/Charging is supposed to be quick but so am only get 150mile/h\n",
            "61\n",
            "Accessibility and Location/Positive/Very close to AD entrance\n",
            "89\n",
            "Queue and waiting time/Neutral/Even though I am the only car charging there, not sure why\n"
          ]
        },
        {
          "name": "stderr",
          "output_type": "stream",
          "text": [
            "\r 17%|█▋        | 246/1479 [06:04<40:22,  1.96s/it]"
          ]
        },
        {
          "name": "stdout",
          "output_type": "stream",
          "text": [
            "186\n",
            "Accessibility and Accessibility/Negative/Google map is wrong, follow tesla nav. Enter garage at closest entryway from turnpike, make a u turn to LEFT in garage. Under Saks. Ground floor.\n",
            "115\n",
            "Amenities and location/Negative/Took one star off for headache of going into garage and dealing with ticket system.\n",
            "81\n",
            "Customer service/Negative/Unclear where bathrooms are or where to buy a coca cola\n"
          ]
        },
        {
          "name": "stderr",
          "output_type": "stream",
          "text": [
            "\r 17%|█▋        | 247/1479 [06:05<34:22,  1.67s/it]"
          ]
        },
        {
          "name": "stdout",
          "output_type": "stream",
          "text": [
            "73\n",
            "Accessibility and Amenities and Location/Negative/mall parking lot, $5.00\n"
          ]
        },
        {
          "name": "stderr",
          "output_type": "stream",
          "text": [
            "\r 17%|█▋        | 248/1479 [06:07<31:51,  1.55s/it]"
          ]
        },
        {
          "name": "stdout",
          "output_type": "stream",
          "text": [
            "150\n",
            "Accessibility and Amenities and Location/Negative/no bathrooms or food, had to enter parking garage in order to use the charger, which is a paid thing\n"
          ]
        },
        {
          "name": "stderr",
          "output_type": "stream",
          "text": [
            "\r 17%|█▋        | 249/1479 [06:09<37:49,  1.84s/it]"
          ]
        },
        {
          "name": "stdout",
          "output_type": "stream",
          "text": [
            "178\n",
            "Accessibility and Location/Negative/V2 supercharger, no lights at this location, nothing nearby, no restrooms when Tesla store closed, very far spread out, need more in this area\n"
          ]
        },
        {
          "name": "stderr",
          "output_type": "stream",
          "text": [
            "\r 17%|█▋        | 250/1479 [06:12<45:16,  2.21s/it]"
          ]
        },
        {
          "name": "stdout",
          "output_type": "stream",
          "text": [
            "282\n",
            "Accessibility and Amenities and Location/Negative/Not walkable to anything, except an adjacent Tesla gallery, which only has the insta coffee (no snacks or anything). The staff there are also not attentive to problems, such as cars parked in Supercharger spots that aren't charging!\n",
            "97\n",
            "Charging speed and efficiency/Negative/low & slow charge rate (started at 18 kWh, got to ~55 max)\n"
          ]
        },
        {
          "name": "stderr",
          "output_type": "stream",
          "text": [
            "\r 17%|█▋        | 251/1479 [06:14<39:48,  1.94s/it]"
          ]
        },
        {
          "name": "stdout",
          "output_type": "stream",
          "text": [
            "70\n",
            "queue and waiting time/Negative/unattended cars in the charging stalls\n",
            "88\n",
            "customer service/Negative/Employees unconcerned when this was brought to their attention\n"
          ]
        },
        {
          "name": "stderr",
          "output_type": "stream",
          "text": [
            "\r 17%|█▋        | 252/1479 [06:16<41:39,  2.04s/it]"
          ]
        },
        {
          "name": "stdout",
          "output_type": "stream",
          "text": [
            "161\n",
            "queue and waiting time/Negative/Waited 40 minutes while 5 spots were taken up by the dealer that where there before I arrived and where still there after I left.\n",
            "91\n",
            "reliability and maintenance/Negative/Dealer leaves unattended cars in the charging station.\n"
          ]
        },
        {
          "name": "stderr",
          "output_type": "stream",
          "text": [
            "\r 17%|█▋        | 253/1479 [06:17<36:08,  1.77s/it]"
          ]
        },
        {
          "name": "stdout",
          "output_type": "stream",
          "text": [
            "87\n",
            "Accessibility and Location/Positive/Super convenient off the 17 at the Tesla dealership\n"
          ]
        },
        {
          "name": "stderr",
          "output_type": "stream",
          "text": [
            "\r 17%|█▋        | 254/1479 [06:19<35:19,  1.73s/it]"
          ]
        },
        {
          "name": "stdout",
          "output_type": "stream",
          "text": [
            "136\n",
            "Not enough information is provided in the review text to classify it or identify any aspect terms, opinion terms, or sentiment polarity.\n",
            "Error occurred: list index out of range\n"
          ]
        },
        {
          "name": "stderr",
          "output_type": "stream",
          "text": [
            "\r 17%|█▋        | 255/1479 [06:20<31:47,  1.56s/it]"
          ]
        },
        {
          "name": "stdout",
          "output_type": "stream",
          "text": [
            "100\n",
            "Amenities and location/Positive/Clean bathrooms and typical Wawa amenities, Plenty of open chargers.\n"
          ]
        },
        {
          "name": "stderr",
          "output_type": "stream",
          "text": [
            "\r 17%|█▋        | 256/1479 [06:22<33:57,  1.67s/it]"
          ]
        },
        {
          "name": "stdout",
          "output_type": "stream",
          "text": [
            "113\n",
            "Charging speed and efficiency/Negative/It took me 40 minutes to charge from 55 to 90% at this Tesla super charger\n",
            "38\n",
            "Price and cost/Negative/Cost me $11.00\n",
            "66\n",
            "Availability and Accessibility/Positive/First time at this charger\n",
            "61\n",
            "Amenities and Location/Positive/Located at a Wawa super store\n"
          ]
        },
        {
          "name": "stderr",
          "output_type": "stream",
          "text": [
            "\r 17%|█▋        | 257/1479 [06:23<28:32,  1.40s/it]"
          ]
        },
        {
          "name": "stdout",
          "output_type": "stream",
          "text": [
            "45\n",
            "Amenities and Location/Positive/WaWa pretzels\n"
          ]
        },
        {
          "name": "stderr",
          "output_type": "stream",
          "text": [
            "\r 17%|█▋        | 258/1479 [06:24<27:53,  1.37s/it]"
          ]
        },
        {
          "name": "stdout",
          "output_type": "stream",
          "text": [
            "71\n",
            "Amenities and Location/Positive/sheetz to food and drinks are available\n",
            "88\n",
            "Availability and Accessibility/Positive/haven't had issues with chargers being available\n"
          ]
        },
        {
          "name": "stderr",
          "output_type": "stream",
          "text": [
            "\r 18%|█▊        | 259/1479 [06:26<30:44,  1.51s/it]"
          ]
        },
        {
          "name": "stdout",
          "output_type": "stream",
          "text": [
            "91\n",
            "Charging speed and efficiency/Positive/Quick charge. 8 minutes gets 90 mile from 85 to 170.\n",
            "99\n",
            "Amenities and location/Positive/Quick off the highway with clean bathroom and a place to buy snack.\n"
          ]
        },
        {
          "name": "stderr",
          "output_type": "stream",
          "text": [
            "\r 18%|█▊        | 260/1479 [06:26<26:09,  1.29s/it]"
          ]
        },
        {
          "name": "stdout",
          "output_type": "stream",
          "text": [
            "91\n",
            "This review does not mention any specific aspects or opinions related to the given aspects.\n",
            "Error occurred: list index out of range\n"
          ]
        },
        {
          "name": "stderr",
          "output_type": "stream",
          "text": [
            "\r 18%|█▊        | 261/1479 [06:27<21:57,  1.08s/it]"
          ]
        },
        {
          "name": "stdout",
          "output_type": "stream",
          "text": [
            "76\n",
            "Compatibility and Connectivity/Positive/A tesla charging station that worked\n"
          ]
        },
        {
          "name": "stderr",
          "output_type": "stream",
          "text": [
            "\r 18%|█▊        | 262/1479 [06:28<20:23,  1.01s/it]"
          ]
        },
        {
          "name": "stdout",
          "output_type": "stream",
          "text": [
            "82\n",
            "Accessibility and Location/Positive/Chargers are on the right side of the building\n"
          ]
        },
        {
          "name": "stderr",
          "output_type": "stream",
          "text": [
            "\r 18%|█▊        | 263/1479 [06:28<17:46,  1.14it/s]"
          ]
        },
        {
          "name": "stdout",
          "output_type": "stream",
          "text": [
            "56\n",
            "Amenities and Location/Positive/good food options nearby\n"
          ]
        },
        {
          "name": "stderr",
          "output_type": "stream",
          "text": [
            "\r 18%|█▊        | 264/1479 [06:29<17:04,  1.19it/s]"
          ]
        },
        {
          "name": "stdout",
          "output_type": "stream",
          "text": [
            "67\n",
            "Compatibility and Connectivity/Positive/Awesome network of charging\n"
          ]
        },
        {
          "name": "stderr",
          "output_type": "stream",
          "text": [
            "\r 18%|█▊        | 265/1479 [06:33<33:07,  1.64s/it]"
          ]
        },
        {
          "name": "stdout",
          "output_type": "stream",
          "text": [
            "65\n",
            "Amenities and Location/Neutral/Applebee's and Holiday Inn Express\n",
            "51\n",
            "Charging speed and efficiency/Neutral/slightly slow\n",
            "63\n",
            "Reliability and maintenance/Positive/All stalls were functional\n",
            "102\n",
            "Safety/Neutral/There's a large gravel area in front of the chargers where kids and dogs can run around\n",
            "36\n",
            "Price and cost/Neutral/Not mentioned\n",
            "44\n",
            "Queue and waiting time/Neutral/Not mentioned\n",
            "38\n",
            "Customer service/Neutral/Not mentioned\n",
            "33\n",
            "Ease of use/Neutral/Not mentioned\n",
            "36\n",
            "Payment option/Neutral/Not mentioned\n",
            "52\n",
            "Compatibility and Connectivity/Neutral/Not mentioned\n",
            "53\n",
            "Accessibility and Accessibility/Neutral/Not mentioned\n",
            "36\n",
            "User interface/Neutral/Not mentioned\n",
            "32\n",
            "Mobile app/Neutral/Not mentioned\n"
          ]
        },
        {
          "name": "stderr",
          "output_type": "stream",
          "text": [
            "\r 18%|█▊        | 266/1479 [06:37<46:18,  2.29s/it]"
          ]
        },
        {
          "name": "stdout",
          "output_type": "stream",
          "text": [
            "61\n",
            "Charging speed and efficiency/Negative/a bit on the slow side\n",
            "402\n",
            "Accessibility and Location/Neutral/It can be kind of busy at times since it only has 6 chargers, it's also the only Supercharger on I-40 between Santa Rosa and Gallup, it also serves the I-25 corridor. It's in the parking lot of an Applebee's restaurant, so if the restaurant is open, food and a bathroom are available, otherwise, it's pretty bleak. There is a multistory Holiday Inn Express next door.\n"
          ]
        },
        {
          "name": "stderr",
          "output_type": "stream",
          "text": [
            "\r 18%|█▊        | 267/1479 [06:40<50:28,  2.50s/it]"
          ]
        },
        {
          "name": "stdout",
          "output_type": "stream",
          "text": [
            "394\n",
            "Accessibility and Amenities and Location/Negative/2 of the chargers flat out don’t work, look like they were driven over by irresponsible Tesla drivers, the third one i tried attempted to worn and the people beside me we’re getting intermittent power. My guess is something must be amiss w power source. 2.5 miles away is another bunch of chargers in a much better location and they worked fine\n"
          ]
        },
        {
          "name": "stderr",
          "output_type": "stream",
          "text": [
            "\r 18%|█▊        | 268/1479 [06:41<44:25,  2.20s/it]"
          ]
        },
        {
          "name": "stdout",
          "output_type": "stream",
          "text": [
            "79\n",
            "Accessibility and Accessibility/Positive/Easy, clean, exactly what you'd expect\n",
            "57\n",
            "Charging speed and efficiency/Positive/30 min charge time\n",
            "40\n",
            "Price and cost/Positive/~$20/full charge\n"
          ]
        },
        {
          "name": "stderr",
          "output_type": "stream",
          "text": [
            "\r 18%|█▊        | 269/1479 [06:43<44:02,  2.18s/it]"
          ]
        },
        {
          "name": "stdout",
          "output_type": "stream",
          "text": [
            "61\n",
            "reliability and maintenance/Negative/3 of 6 chargers are down\n",
            "122\n",
            "Accessibility and Accessibility/Negative/This location is important for east west and south travel. Needs to be fixed ASAP\n",
            "94\n",
            "Compatibility and Connectivity/Negative/it needs more chargers either here or somewhere nearby\n"
          ]
        },
        {
          "name": "stderr",
          "output_type": "stream",
          "text": [
            "\r 18%|█▊        | 270/1479 [06:44<35:12,  1.75s/it]"
          ]
        },
        {
          "name": "stdout",
          "output_type": "stream",
          "text": [
            "109\n",
            "Amenities and location/Neutral/convenience store or restrooms, open format mall, clothing stores, restaurants\n"
          ]
        },
        {
          "name": "stderr",
          "output_type": "stream",
          "text": [
            "\r 18%|█▊        | 271/1479 [06:46<36:15,  1.80s/it]"
          ]
        },
        {
          "name": "stdout",
          "output_type": "stream",
          "text": [
            "89\n",
            "Accessibility and Location/Positive/close to ABQ Uptown shopping center and fast charging\n",
            "69\n",
            "Amenities and Location/Positive/lots of chargers, clean, appears safe\n",
            "52\n",
            "Charging speed and efficiency/Positive/Worked great!\n"
          ]
        },
        {
          "name": "stderr",
          "output_type": "stream",
          "text": [
            "\r 18%|█▊        | 272/1479 [06:47<32:05,  1.60s/it]"
          ]
        },
        {
          "name": "stdout",
          "output_type": "stream",
          "text": [
            "122\n",
            "Accessibility and Location/Positive/Easy to get to. Plenty of chargers available. Plenty of stores and restaurants nearby.\n"
          ]
        },
        {
          "name": "stderr",
          "output_type": "stream",
          "text": [
            "\r 18%|█▊        | 273/1479 [06:48<28:52,  1.44s/it]"
          ]
        },
        {
          "name": "stdout",
          "output_type": "stream",
          "text": [
            "117\n",
            "Amenities and Location/Positive/Grocery store nearby (Trader Joe's), Upscale shopping and food in the shopping center\n",
            "54\n",
            "Accessibility and Accessibility/Positive/Good charging\n"
          ]
        },
        {
          "name": "stderr",
          "output_type": "stream",
          "text": [
            "\r 19%|█▊        | 274/1479 [06:49<28:12,  1.40s/it]"
          ]
        },
        {
          "name": "stdout",
          "output_type": "stream",
          "text": [
            "70\n",
            "Location and Amenities/Positive/great location in an outdoor mall area\n",
            "75\n",
            "Charging speed and efficiency/Negative/kW started very well but dropped off\n"
          ]
        },
        {
          "name": "stderr",
          "output_type": "stream",
          "text": [
            "\r 19%|█▊        | 275/1479 [06:50<25:10,  1.25s/it]"
          ]
        },
        {
          "name": "stdout",
          "output_type": "stream",
          "text": [
            "50\n",
            "Amenities and location/Positive/Nice and open area\n",
            "125\n",
            "Accessibility and Accessibility/Negative/Only issue so far is if a person with 3 mirrors and 3 cameras needs more than 1 spot\n"
          ]
        },
        {
          "name": "stderr",
          "output_type": "stream",
          "text": [
            "\r 19%|█▊        | 276/1479 [06:52<26:29,  1.32s/it]"
          ]
        },
        {
          "name": "stdout",
          "output_type": "stream",
          "text": [
            "142\n",
            "Accessibility and Amenities and location/Negative/Amentities around are excellent, however chargers are almost always in use during peak hours\n",
            "52\n",
            "Charging speed and efficiency/Negative/slow charging\n"
          ]
        },
        {
          "name": "stderr",
          "output_type": "stream",
          "text": [
            "\r 19%|█▊        | 277/1479 [06:53<23:58,  1.20s/it]"
          ]
        },
        {
          "name": "stdout",
          "output_type": "stream",
          "text": [
            "112\n",
            "Accessibility and Amenities and Location/Positive/plenty of stalls and all kinds of retail businesses very close\n"
          ]
        },
        {
          "name": "stderr",
          "output_type": "stream",
          "text": [
            "\r 19%|█▉        | 278/1479 [06:53<21:35,  1.08s/it]"
          ]
        },
        {
          "name": "stdout",
          "output_type": "stream",
          "text": [
            "71\n",
            "reliability and maintenance/Negative/weird and put cables on the ground\n"
          ]
        },
        {
          "name": "stderr",
          "output_type": "stream",
          "text": [
            "\r 19%|█▉        | 279/1479 [06:54<20:18,  1.02s/it]"
          ]
        },
        {
          "name": "stdout",
          "output_type": "stream",
          "text": [
            "93\n",
            "Accessibility and Amenities and Location/Negative/pretty busy, normally a wait during the day\n"
          ]
        },
        {
          "name": "stderr",
          "output_type": "stream",
          "text": [
            "\r 19%|█▉        | 280/1479 [06:55<21:12,  1.06s/it]"
          ]
        },
        {
          "name": "stdout",
          "output_type": "stream",
          "text": [
            "125\n",
            "Accessibility and Accessibility/Negative/charger for my Volt was not working, circuit went cold after about 2 hrs of charging\n"
          ]
        },
        {
          "name": "stderr",
          "output_type": "stream",
          "text": [
            "\r 19%|█▉        | 281/1479 [06:57<21:17,  1.07s/it]"
          ]
        },
        {
          "name": "stdout",
          "output_type": "stream",
          "text": [
            "47\n",
            "price and cost/Positive/Cost $8 to park all day\n",
            "71\n",
            "Accessibility and Accessibility/Positive/Two 110 volt charging stations\n"
          ]
        },
        {
          "name": "stderr",
          "output_type": "stream",
          "text": [
            "\r 19%|█▉        | 282/1479 [06:57<20:19,  1.02s/it]"
          ]
        },
        {
          "name": "stdout",
          "output_type": "stream",
          "text": [
            "70\n",
            "reliability and maintenance/Negative/Both are broken as of Sep 2, 2022\n"
          ]
        },
        {
          "name": "stderr",
          "output_type": "stream",
          "text": [
            "\r 19%|█▉        | 283/1479 [06:58<18:05,  1.10it/s]"
          ]
        },
        {
          "name": "stdout",
          "output_type": "stream",
          "text": [
            "60\n",
            "reliability and maintenance/Negative/Busted and out of order\n"
          ]
        },
        {
          "name": "stderr",
          "output_type": "stream",
          "text": [
            "\r 19%|█▉        | 284/1479 [06:59<17:56,  1.11it/s]"
          ]
        },
        {
          "name": "stdout",
          "output_type": "stream",
          "text": [
            "96\n",
            "This review does not mention any specific aspects or provide any opinions or sentiment polarity.\n",
            "Error occurred: list index out of range\n"
          ]
        },
        {
          "name": "stderr",
          "output_type": "stream",
          "text": [
            "\r 19%|█▉        | 285/1479 [07:02<27:37,  1.39s/it]"
          ]
        },
        {
          "name": "stdout",
          "output_type": "stream",
          "text": [
            "255\n",
            "Accessibility and Location/Positive/Nice location. Easy access from highway. Use google map first time. Tesla navigation will guide you go right at the end but you should go in parking lot between battery plus and Panera bread. Lots of good places to eat.\n",
            "85\n",
            "Charging speed and efficiency/Positive/Charging was fast and lots of available slots.\n"
          ]
        },
        {
          "name": "stderr",
          "output_type": "stream",
          "text": [
            "\r 19%|█▉        | 286/1479 [07:03<26:57,  1.36s/it]"
          ]
        },
        {
          "name": "stdout",
          "output_type": "stream",
          "text": [
            "140\n",
            "Location/Negative/Directions say to make a right when it's a left going down Northside Drive, Few assumingly homeless walking back and forth\n"
          ]
        },
        {
          "name": "stderr",
          "output_type": "stream",
          "text": [
            "\r 19%|█▉        | 287/1479 [07:04<23:40,  1.19s/it]"
          ]
        },
        {
          "name": "stdout",
          "output_type": "stream",
          "text": [
            "70\n",
            "Amenities and Location/Positive/food available within walking distance\n"
          ]
        },
        {
          "name": "stderr",
          "output_type": "stream",
          "text": [
            "\r 19%|█▉        | 288/1479 [07:04<20:37,  1.04s/it]"
          ]
        },
        {
          "name": "stdout",
          "output_type": "stream",
          "text": [
            "87\n",
            "Accessibility and Accessibility/Negative/panhandlers find drivers in Tesla's easy marks\n"
          ]
        },
        {
          "name": "stderr",
          "output_type": "stream",
          "text": [
            "\r 20%|█▉        | 289/1479 [07:05<16:38,  1.19it/s]"
          ]
        },
        {
          "name": "stdout",
          "output_type": "stream",
          "text": [
            "30\n",
            "No specific aspects mentioned.\n",
            "Error occurred: list index out of range\n"
          ]
        },
        {
          "name": "stderr",
          "output_type": "stream",
          "text": [
            "\r 20%|█▉        | 290/1479 [07:06<18:51,  1.05it/s]"
          ]
        },
        {
          "name": "stdout",
          "output_type": "stream",
          "text": [
            "155\n",
            "Amenities and Location/Positive/food and shopping, Chopped brisket, Fresh fruit, Unbelievable number of gas pumps, Hugh bathrooms, Amazing fresh beef jerky\n"
          ]
        },
        {
          "name": "stderr",
          "output_type": "stream",
          "text": [
            "\r 20%|█▉        | 291/1479 [07:07<19:30,  1.01it/s]"
          ]
        },
        {
          "name": "stdout",
          "output_type": "stream",
          "text": [
            "107\n",
            "Amenities and location/Positive/numerous gas pumps, mini home goods store, restaurant and convenience store\n"
          ]
        },
        {
          "name": "stderr",
          "output_type": "stream",
          "text": [
            "\r 20%|█▉        | 292/1479 [07:09<25:05,  1.27s/it]"
          ]
        },
        {
          "name": "stdout",
          "output_type": "stream",
          "text": [
            "197\n",
            "Amenities and Location/Positive/hot food, chopped barbecue beef brisket sandwich, fudge bar and sweets counter, great memorabilia, souvenirs, hot coffee, 120 fuel pumps, 53,000 ft, very large store\n"
          ]
        },
        {
          "name": "stderr",
          "output_type": "stream",
          "text": [
            "\r 20%|█▉        | 293/1479 [07:10<22:12,  1.12s/it]"
          ]
        },
        {
          "name": "stdout",
          "output_type": "stream",
          "text": [
            "94\n",
            "This review does not mention any specific aspects or opinions related to the aspects provided.\n",
            "Error occurred: list index out of range\n"
          ]
        },
        {
          "name": "stderr",
          "output_type": "stream",
          "text": [
            "\r 20%|█▉        | 294/1479 [07:11<24:12,  1.23s/it]"
          ]
        },
        {
          "name": "stdout",
          "output_type": "stream",
          "text": [
            "168\n",
            "Amenities and location/Positive/Nice, clean and super friendly. This is a very amazing establishment. Gas, food, gifts, pretty much anything you can think of, and more.\n"
          ]
        },
        {
          "name": "stderr",
          "output_type": "stream",
          "text": [
            "\r 20%|█▉        | 295/1479 [07:12<20:52,  1.06s/it]"
          ]
        },
        {
          "name": "stdout",
          "output_type": "stream",
          "text": [
            "71\n",
            "Compatibility and Connectivity/Positive/2 J1772 plugs and 2 Tesla plugs\n"
          ]
        },
        {
          "name": "stderr",
          "output_type": "stream",
          "text": [
            "\r 20%|██        | 296/1479 [07:13<20:49,  1.06s/it]"
          ]
        },
        {
          "name": "stdout",
          "output_type": "stream",
          "text": [
            "129\n",
            "Accessibility and Accessibility/Negative/Frequently blocked by ice vehicles and is locked. Must be a hotel guest to get unlocked.\n"
          ]
        },
        {
          "name": "stderr",
          "output_type": "stream",
          "text": [
            "\r 20%|██        | 297/1479 [07:13<18:20,  1.07it/s]"
          ]
        },
        {
          "name": "stdout",
          "output_type": "stream",
          "text": [
            "66\n",
            "None of the provided aspects match the content of the review text.\n",
            "Error occurred: list index out of range\n"
          ]
        },
        {
          "name": "stderr",
          "output_type": "stream",
          "text": [
            "\r 20%|██        | 298/1479 [07:16<30:29,  1.55s/it]"
          ]
        },
        {
          "name": "stdout",
          "output_type": "stream",
          "text": [
            "175\n",
            "Accessibility and Accessibility/Negative/Locked with padlock. Have to pay at hotel front desk for access and then wait for them to go unlock the breaker to turn on power to it\n",
            "106\n",
            "Review 13: [The mobile app is very user-friendly and makes it easy to find and use the charging stations.]\n",
            "Error occurred: list index out of range\n"
          ]
        },
        {
          "name": "stderr",
          "output_type": "stream",
          "text": [
            "\r 20%|██        | 299/1479 [17:17<59:21:40, 181.10s/it]"
          ]
        },
        {
          "name": "stdout",
          "output_type": "stream",
          "text": [
            "Error occurred: Bad gateway. {\"error\":{\"code\":502,\"message\":\"Bad gateway.\",\"param\":null,\"type\":\"cf_bad_gateway\"}} 502 {'error': {'code': 502, 'message': 'Bad gateway.', 'param': None, 'type': 'cf_bad_gateway'}} {'Date': 'Wed, 09 Aug 2023 15:11:22 GMT', 'Content-Type': 'application/json', 'Content-Length': '84', 'Connection': 'keep-alive', 'X-Frame-Options': 'SAMEORIGIN', 'Referrer-Policy': 'same-origin', 'Cache-Control': 'private, max-age=0, no-store, no-cache, must-revalidate, post-check=0, pre-check=0', 'Expires': 'Thu, 01 Jan 1970 00:00:01 GMT', 'Server': 'cloudflare', 'CF-RAY': '7f40dfc23d1cb129-ATL', 'alt-svc': 'h3=\":443\"; ma=86400'}\n"
          ]
        },
        {
          "name": "stderr",
          "output_type": "stream",
          "text": [
            "\r 20%|██        | 300/1479 [17:18<41:38:51, 127.17s/it]"
          ]
        },
        {
          "name": "stdout",
          "output_type": "stream",
          "text": [
            "58\n",
            "Charging speed and efficiency/Positive/high charging speed\n"
          ]
        },
        {
          "name": "stderr",
          "output_type": "stream",
          "text": [
            "\r 20%|██        | 301/1479 [17:21<29:23:35, 89.83s/it] "
          ]
        },
        {
          "name": "stdout",
          "output_type": "stream",
          "text": [
            "82\n",
            "Accessibility and Location/Positive/HyVee parking lot not too far from the highway\n",
            "78\n",
            "Charging speed and efficiency/Positive/V3 Supercharger (250 kW) charging speed\n",
            "91\n",
            "Compatibility and Connectivity/Positive/Be sure to start preconditioning your battery early\n",
            "87\n",
            "reliability and maintenance/Positive/Thanks HyVee for being such a big supporter of EVs\n"
          ]
        },
        {
          "name": "stderr",
          "output_type": "stream",
          "text": [
            "\r 20%|██        | 302/1479 [17:22<20:41:43, 63.30s/it]"
          ]
        },
        {
          "name": "stdout",
          "output_type": "stream",
          "text": [
            "96\n",
            "Charging speed and efficiency/Negative/only 150 kW (not 250 kW), maximum rate received was 60 kW\n"
          ]
        },
        {
          "name": "stderr",
          "output_type": "stream",
          "text": [
            "\r 20%|██        | 303/1479 [17:26<14:50:19, 45.42s/it]"
          ]
        },
        {
          "name": "stdout",
          "output_type": "stream",
          "text": [
            "27\n",
            "Overall sentiment: Positive\n",
            "Error occurred: list index out of range\n"
          ]
        },
        {
          "name": "stderr",
          "output_type": "stream",
          "text": [
            "\r 21%|██        | 304/1479 [17:26<10:27:26, 32.04s/it]"
          ]
        },
        {
          "name": "stdout",
          "output_type": "stream",
          "text": [
            "103\n",
            "Accessibility and Amenities and Location/Positive/great location, clean, needful travel items are handy\n"
          ]
        },
        {
          "name": "stderr",
          "output_type": "stream",
          "text": [
            "\r 21%|██        | 305/1479 [17:28<7:25:22, 22.76s/it] "
          ]
        },
        {
          "name": "stdout",
          "output_type": "stream",
          "text": [
            "134\n",
            "Compatibility and Connectivity/Positive/Tesla is the gold standard for charging your EV that has met the test of time and reliability.\n"
          ]
        },
        {
          "name": "stderr",
          "output_type": "stream",
          "text": [
            "\r 21%|██        | 306/1479 [17:29<5:20:26, 16.39s/it]"
          ]
        },
        {
          "name": "stdout",
          "output_type": "stream",
          "text": [
            "93\n",
            "Charging speed and efficiency/Negative/Charger works a little slower even when no cars around\n",
            "78\n",
            "Amenities and location/Positive/gas station is clean and Arby's is right here!\n"
          ]
        },
        {
          "name": "stderr",
          "output_type": "stream",
          "text": [
            "\r 21%|██        | 307/1479 [17:31<3:52:49, 11.92s/it]"
          ]
        },
        {
          "name": "stdout",
          "output_type": "stream",
          "text": [
            "155\n",
            "Accessibility and Amenities and location/Positive/Eight fast 150 kW chargers, convenience store is very nice, clean, and full-featured, includes an Arby's.\n"
          ]
        },
        {
          "name": "stderr",
          "output_type": "stream",
          "text": [
            "\r 21%|██        | 308/1479 [17:32<2:49:03,  8.66s/it]"
          ]
        },
        {
          "name": "stdout",
          "output_type": "stream",
          "text": [
            "113\n",
            "Accessibility and Amenities and location/Negative/bathrooms are awful, sinks were not working, Arby's seemed okay\n"
          ]
        },
        {
          "name": "stderr",
          "output_type": "stream",
          "text": [
            "\r 21%|██        | 309/1479 [17:34<2:09:24,  6.64s/it]"
          ]
        },
        {
          "name": "stdout",
          "output_type": "stream",
          "text": [
            "81\n",
            "Accessibility and Amenities and Location/Negative/no trash, no restrooms, no food\n",
            "103\n",
            "Queue and Waiting Time/Positive/in the hour I was here I saw no other people, so at least it's not busy\n"
          ]
        },
        {
          "name": "stderr",
          "output_type": "stream",
          "text": [
            "\r 21%|██        | 310/1479 [17:36<1:44:17,  5.35s/it]"
          ]
        },
        {
          "name": "stdout",
          "output_type": "stream",
          "text": [
            "228\n",
            "Amenities and Location/Positive/Three restaurants (Buffalo Wild Wings, Ramen, and a local bar/Pizza restaurant), Bathrooms in restaurants, bike shop, and lobby of 901 Pier View Drive (open until 5:00PM), Next to the Snake River.\n"
          ]
        },
        {
          "name": "stderr",
          "output_type": "stream",
          "text": [
            "\r 21%|██        | 311/1479 [17:38<1:22:53,  4.26s/it]"
          ]
        },
        {
          "name": "stdout",
          "output_type": "stream",
          "text": [
            "82\n",
            "Charging speed and efficiency/Negative/So slow, could only get 21kw charging power\n",
            "119\n",
            "Amenities and location/Positive/There are some food places nearby and lots of area to walk around while you're waiting.\n"
          ]
        },
        {
          "name": "stderr",
          "output_type": "stream",
          "text": [
            "\r 21%|██        | 312/1479 [17:39<1:03:10,  3.25s/it]"
          ]
        },
        {
          "name": "stdout",
          "output_type": "stream",
          "text": [
            "66\n",
            "Location and Amenities/Neutral/Not a lot nearby, Seems safe enough\n"
          ]
        },
        {
          "name": "stderr",
          "output_type": "stream",
          "text": [
            "\r 21%|██        | 313/1479 [17:39<48:30,  2.50s/it]  "
          ]
        },
        {
          "name": "stdout",
          "output_type": "stream",
          "text": [
            "52\n",
            "Accessibility and Location/Neutral/difficult to find\n"
          ]
        },
        {
          "name": "stderr",
          "output_type": "stream",
          "text": [
            "\r 21%|██        | 314/1479 [17:41<41:28,  2.14s/it]"
          ]
        },
        {
          "name": "stdout",
          "output_type": "stream",
          "text": [
            "158\n",
            "Accessibility and Accessibility/Negative/non tesla vehicles parked in every bay but one, bent prong making it not fit into port, not a tesla friendly location\n"
          ]
        },
        {
          "name": "stderr",
          "output_type": "stream",
          "text": [
            "\r 21%|██▏       | 315/1479 [17:41<33:36,  1.73s/it]"
          ]
        },
        {
          "name": "stdout",
          "output_type": "stream",
          "text": [
            "76\n",
            "Amenities and Location/Positive/Grand Idaho hotel, restrooms, grocery stores\n"
          ]
        },
        {
          "name": "stderr",
          "output_type": "stream",
          "text": [
            "\r 21%|██▏       | 316/1479 [17:43<31:35,  1.63s/it]"
          ]
        },
        {
          "name": "stdout",
          "output_type": "stream",
          "text": [
            "167\n",
            "Accessibility and Amenities and Location/Negative/Grand Idaho Inn & Suites, hotel smells like a swimming pool, bathrooms are not in the best shape, out of order signs.\n"
          ]
        },
        {
          "name": "stderr",
          "output_type": "stream",
          "text": [
            "\r 21%|██▏       | 317/1479 [17:45<35:18,  1.82s/it]"
          ]
        },
        {
          "name": "stdout",
          "output_type": "stream",
          "text": [
            "326\n",
            "Accessibility and Location/Positive/Convenient location off of I-15 in the back of the Clarion Hotel parking lot. There are several restaurants within walking distance (in good weather). The nearest restaurant is the Whispers Bar & Grill inside the Clarion. A bit more distant, there is an Applebee’s & a Perkins Cake & Steak.\n"
          ]
        },
        {
          "name": "stderr",
          "output_type": "stream",
          "text": [
            "\r 22%|██▏       | 318/1479 [17:46<28:32,  1.48s/it]"
          ]
        },
        {
          "name": "stdout",
          "output_type": "stream",
          "text": [
            "80\n",
            "Accessibility and Location/Negative/Nothing super close and no obvious bathrooms\n"
          ]
        },
        {
          "name": "stderr",
          "output_type": "stream",
          "text": [
            "\r 22%|██▏       | 319/1479 [17:49<36:31,  1.89s/it]"
          ]
        },
        {
          "name": "stdout",
          "output_type": "stream",
          "text": [
            "335\n",
            "Accessibility and Amenities and Location/Positive/Good charge rate, can get a bit busy. Driving through but Jackson looks like a nice town to check out in the future. In the Whole Foods parking lot because, of course. EV friendly organic eco-conscious hippies. :) Pretty sure most people here are coming in or out of Teton/Yellowstone.\n"
          ]
        },
        {
          "name": "stderr",
          "output_type": "stream",
          "text": [
            "\r 22%|██▏       | 320/1479 [17:49<30:52,  1.60s/it]"
          ]
        },
        {
          "name": "stdout",
          "output_type": "stream",
          "text": [
            "96\n",
            "Accessibility and Amenities and location/Positive/Whole Foods is always clean and has good stuff\n",
            "55\n",
            "Safety/Negative/other cars will sometimes park in spots\n"
          ]
        },
        {
          "name": "stderr",
          "output_type": "stream",
          "text": [
            "\r 22%|██▏       | 321/1479 [17:52<36:30,  1.89s/it]"
          ]
        },
        {
          "name": "stdout",
          "output_type": "stream",
          "text": [
            "300\n",
            "Accessibility and Accessibility/Negative/Four of the eight stations had non-EVs occupying them when we got there. Tesla should consider finding a more reliable location in Jackson. It's a busy parking lot and forming a line is not a good option. If you need to use it, off hours are likely advisable.\n"
          ]
        },
        {
          "name": "stderr",
          "output_type": "stream",
          "text": [
            "\r 22%|██▏       | 322/1479 [17:53<29:59,  1.56s/it]"
          ]
        },
        {
          "name": "stdout",
          "output_type": "stream",
          "text": [
            "108\n",
            "Accessibility and Availability/Negative/there are more non electric cars parked here than those that need it\n"
          ]
        },
        {
          "name": "stderr",
          "output_type": "stream",
          "text": [
            "\r 22%|██▏       | 323/1479 [17:56<36:58,  1.92s/it]"
          ]
        },
        {
          "name": "stdout",
          "output_type": "stream",
          "text": [
            "69\n",
            "Amenities and Location/Neutral/Whole Foods parking lot, Cowboy Coffee\n",
            "85\n",
            "Queue and Waiting Time/Neutral/gas truck parked in a Tesla spot about 30% of the time\n",
            "69\n",
            "Accessibility and Accessibility/Positive/just outside the town square\n",
            "79\n",
            "Customer Service/Neutral/gas truck parked in a Tesla spot about 30% of the time\n"
          ]
        },
        {
          "name": "stderr",
          "output_type": "stream",
          "text": [
            "\r 22%|██▏       | 324/1479 [17:57<33:06,  1.72s/it]"
          ]
        },
        {
          "name": "stdout",
          "output_type": "stream",
          "text": [
            "148\n",
            "Availability and Accessibility/Negative/limited to 80%, only three out of the eight stations are busy, limited availability, need more superchargers\n"
          ]
        },
        {
          "name": "stderr",
          "output_type": "stream",
          "text": [
            "\r 22%|██▏       | 325/1479 [17:58<28:50,  1.50s/it]"
          ]
        },
        {
          "name": "stdout",
          "output_type": "stream",
          "text": [
            "96\n",
            "Charging speed and efficiency/Positive/charging at half speed until I moved to a different stall\n"
          ]
        },
        {
          "name": "stderr",
          "output_type": "stream",
          "text": [
            "\r 22%|██▏       | 326/1479 [17:59<28:29,  1.48s/it]"
          ]
        },
        {
          "name": "stdout",
          "output_type": "stream",
          "text": [
            "100\n",
            "Amenities and location/Neutral/slightly more convenient restaurant and rest room than the McDonald's\n",
            "73\n",
            "Reliability and maintenance/Positive/power delivery generally seems solid\n"
          ]
        },
        {
          "name": "stderr",
          "output_type": "stream",
          "text": [
            "\r 22%|██▏       | 327/1479 [18:02<35:16,  1.84s/it]"
          ]
        },
        {
          "name": "stdout",
          "output_type": "stream",
          "text": [
            "142\n",
            "Amenities and Location/Positive/Grizzly and Wolf discovery center, IMAX, Yellowstone visitor center, gift stores, restaurants, ice cream, town\n",
            "105\n",
            "Accessibility and Accessibility/Positive/charger is located next to the Grizzly and Wolf discovery center\n",
            "124\n",
            "Queue and Waiting Time/Neutral/Most likely you will have to move your car from the charger before you’re done exploring town\n",
            "63\n",
            "Charging Speed and Efficiency/Positive/Supercharger are so fast\n"
          ]
        },
        {
          "name": "stderr",
          "output_type": "stream",
          "text": [
            "\r 22%|██▏       | 328/1479 [18:04<38:54,  2.03s/it]"
          ]
        },
        {
          "name": "stdout",
          "output_type": "stream",
          "text": [
            "88\n",
            "Accessibility and Location/Positive/Convenient place to charge when visiting Yellowstone\n",
            "62\n",
            "Amenities and Location/Neutral/Not free and more busy at night\n",
            "144\n",
            "Charging speed and efficiency/Neutral/charge to 80% at the supercharger then use a wall charger at your hotel to get the remaining 15% overnight\n"
          ]
        },
        {
          "name": "stderr",
          "output_type": "stream",
          "text": [
            "\r 22%|██▏       | 329/1479 [18:05<33:04,  1.73s/it]"
          ]
        },
        {
          "name": "stdout",
          "output_type": "stream",
          "text": [
            "112\n",
            "Accessibility and Amenities and location/Positive/in the same lot as a large Hy-Vee grocery store and restaurant\n"
          ]
        },
        {
          "name": "stderr",
          "output_type": "stream",
          "text": [
            "\r 22%|██▏       | 330/1479 [18:07<29:44,  1.55s/it]"
          ]
        },
        {
          "name": "stdout",
          "output_type": "stream",
          "text": [
            "137\n",
            "Accessibility and Amenities and Location/Positive/Several chargers available, Hy-Vee parking lot, Nice clean grocery store with restrooms\n"
          ]
        },
        {
          "name": "stderr",
          "output_type": "stream",
          "text": [
            "\r 22%|██▏       | 331/1479 [18:08<26:24,  1.38s/it]"
          ]
        },
        {
          "name": "stdout",
          "output_type": "stream",
          "text": [
            "103\n",
            "Amenities and location/Positive/New chargers, very nice cafe, with full breakfast options inside Hy-Vee\n"
          ]
        },
        {
          "name": "stderr",
          "output_type": "stream",
          "text": [
            "\r 22%|██▏       | 332/1479 [18:08<23:00,  1.20s/it]"
          ]
        },
        {
          "name": "stdout",
          "output_type": "stream",
          "text": [
            "101\n",
            "This review does not mention any specific aspects or provide any opinion terms or sentiment polarity.\n",
            "Error occurred: list index out of range\n"
          ]
        },
        {
          "name": "stderr",
          "output_type": "stream",
          "text": [
            "\r 23%|██▎       | 333/1479 [18:12<39:15,  2.06s/it]"
          ]
        },
        {
          "name": "stdout",
          "output_type": "stream",
          "text": [
            "125\n",
            "Accessibility and Location/Negative/charging rate drop so fast comparing to other stations, in the parking lot of Holiday Inn\n",
            "65\n",
            "Amenities and Location/Positive/in the parking lot of Holiday Inn\n",
            "87\n",
            "Compatibility and Connectivity/Neutral/can't stay at this hotel as they don't take pets\n",
            "71\n",
            "Price and Cost/Neutral/can't stay at this hotel as they don't take pets\n",
            "52\n",
            "Safety/Neutral/Secure with a guard and security gate\n"
          ]
        },
        {
          "name": "stderr",
          "output_type": "stream",
          "text": [
            "\r 23%|██▎       | 334/1479 [18:14<35:21,  1.85s/it]"
          ]
        },
        {
          "name": "stdout",
          "output_type": "stream",
          "text": [
            "65\n",
            "Accessibility and Location/Neutral/Jimmy John's across the street\n",
            "91\n",
            "Charging speed and efficiency/Negative/a bit slower than the other Supercharger in Columbia\n"
          ]
        },
        {
          "name": "stderr",
          "output_type": "stream",
          "text": [
            "\r 23%|██▎       | 335/1479 [18:16<34:55,  1.83s/it]"
          ]
        },
        {
          "name": "stdout",
          "output_type": "stream",
          "text": [
            "188\n",
            "Accessibility and Location/Negative/completely full the last few times I've driven between Saint Louis and Kansas City, It would be nice to have another location between here and St Louis.\n"
          ]
        },
        {
          "name": "stderr",
          "output_type": "stream",
          "text": [
            "\r 23%|██▎       | 336/1479 [18:22<1:02:16,  3.27s/it]"
          ]
        },
        {
          "name": "stdout",
          "output_type": "stream",
          "text": [
            "60\n",
            "Amenities and Location/Positive/off the highway, Jimmy Johns\n",
            "145\n",
            "Review 13: [The charging station was very crowded and there was a long queue of cars waiting to charge. It took me almost an hour to get a spot.]\n",
            "Error occurred: list index out of range\n"
          ]
        },
        {
          "name": "stderr",
          "output_type": "stream",
          "text": [
            "\r 23%|██▎       | 337/1479 [18:23<49:19,  2.59s/it]  "
          ]
        },
        {
          "name": "stdout",
          "output_type": "stream",
          "text": [
            "59\n",
            "Amenities and Location/Neutral/no specific aspect mentioned\n",
            "59\n",
            "Queue and Waiting Time/Neutral/no specific aspect mentioned\n"
          ]
        },
        {
          "name": "stderr",
          "output_type": "stream",
          "text": [
            "\r 23%|██▎       | 338/1479 [18:25<43:05,  2.27s/it]"
          ]
        },
        {
          "name": "stdout",
          "output_type": "stream",
          "text": [
            "135\n",
            "Accessibility and Location/Positive/easy to use, 15-30 miles out of the way, 30 minutes to get a good charge, find somewhere to walk to\n"
          ]
        },
        {
          "name": "stderr",
          "output_type": "stream",
          "text": [
            "\r 23%|██▎       | 339/1479 [18:28<49:04,  2.58s/it]"
          ]
        },
        {
          "name": "stdout",
          "output_type": "stream",
          "text": [
            "435\n",
            "Amenities and Location/Positive/normal convenience store (Hy-Vee) across the street to the west (snacks, roller grill, caribou coffee and free air), Hy-Vee Grocery store to the east which has a great set down cafe or salad bar, and Grand buffet that includes Chinese, Italian, and American selections, Chill's Bar and Grill just northwest of the chargers, Plus a Starbucks in Hy-Vee and then a stand-alone store within walking distance\n"
          ]
        },
        {
          "name": "stderr",
          "output_type": "stream",
          "text": [
            "\r 23%|██▎       | 340/1479 [18:29<39:19,  2.07s/it]"
          ]
        },
        {
          "name": "stdout",
          "output_type": "stream",
          "text": [
            "100\n",
            "Accessibility and Amenities and location/Positive/grocery stores, Target restaurants, and strip mall\n"
          ]
        },
        {
          "name": "stderr",
          "output_type": "stream",
          "text": [
            "\r 23%|██▎       | 341/1479 [18:30<32:06,  1.69s/it]"
          ]
        },
        {
          "name": "stdout",
          "output_type": "stream",
          "text": [
            "63\n",
            "Compatibility and Connectivity/Positive/available to the public\n"
          ]
        },
        {
          "name": "stderr",
          "output_type": "stream",
          "text": [
            "\r 23%|██▎       | 342/1479 [18:31<27:14,  1.44s/it]"
          ]
        },
        {
          "name": "stdout",
          "output_type": "stream",
          "text": [
            "55\n",
            "Accessibility and Location/Positive/Next to hy-ve store\n"
          ]
        },
        {
          "name": "stderr",
          "output_type": "stream",
          "text": [
            "\r 23%|██▎       | 343/1479 [18:31<23:14,  1.23s/it]"
          ]
        },
        {
          "name": "stdout",
          "output_type": "stream",
          "text": [
            "87\n",
            "Accessibility and Location/Neutral/holiday inn parking lot, on the side near dairy with\n"
          ]
        },
        {
          "name": "stderr",
          "output_type": "stream",
          "text": [
            "\r 23%|██▎       | 344/1479 [18:32<20:19,  1.07s/it]"
          ]
        },
        {
          "name": "stdout",
          "output_type": "stream",
          "text": [
            "108\n",
            "Accessibility and Amenities and Location/Positive/Awesome place to charge and perfect stop on our road trip!\n"
          ]
        },
        {
          "name": "stderr",
          "output_type": "stream",
          "text": [
            "\r 23%|██▎       | 345/1479 [18:34<26:06,  1.38s/it]"
          ]
        },
        {
          "name": "stdout",
          "output_type": "stream",
          "text": [
            "98\n",
            "reliability and maintenance/Negative/one broke for a week now and the charge rate is getting worse\n",
            "60\n",
            "queue and waiting time/Negative/wait times are getting worse\n",
            "107\n",
            "Compatibility and Connectivity/Negative/Right an ICE SUV should Park in a reg. Spot an not a charging spot.\n"
          ]
        },
        {
          "name": "stderr",
          "output_type": "stream",
          "text": [
            "\r 23%|██▎       | 346/1479 [18:35<26:07,  1.38s/it]"
          ]
        },
        {
          "name": "stdout",
          "output_type": "stream",
          "text": [
            "54\n",
            "Accessibility and Availability/Positive/food and shops\n",
            "52\n",
            "Charging speed and efficiency/Negative/slow, ~60 kWh\n",
            "62\n",
            "Queue and waiting time/Negative/half the spots were being used\n"
          ]
        },
        {
          "name": "stderr",
          "output_type": "stream",
          "text": [
            "\r 23%|██▎       | 347/1479 [18:36<23:51,  1.27s/it]"
          ]
        },
        {
          "name": "stdout",
          "output_type": "stream",
          "text": [
            "117\n",
            "Accessibility and Amenities and location/Negative/fairly walkable location, charger seemed to be running underpowered\n"
          ]
        },
        {
          "name": "stderr",
          "output_type": "stream",
          "text": [
            "\r 24%|██▎       | 348/1479 [18:38<26:44,  1.42s/it]"
          ]
        },
        {
          "name": "stdout",
          "output_type": "stream",
          "text": [
            "168\n",
            "Accessibility and Location/Positive/Boulder because even though it's a longer drive, it's a lot better to wait an hour vs 4 hours with the charging station closes to us\n"
          ]
        },
        {
          "name": "stderr",
          "output_type": "stream",
          "text": [
            "\r 24%|██▎       | 349/1479 [18:40<31:27,  1.67s/it]"
          ]
        },
        {
          "name": "stdout",
          "output_type": "stream",
          "text": [
            "113\n",
            "Amenities and Location/Positive/little park area for kids to play on and tons of shops and restaurants all around\n",
            "61\n",
            "Accessibility and Accessibility/Positive/Awesome supercharger\n",
            "82\n",
            "Queue and Waiting Time/Neutral/40 min max, because the place gets a lot of traffic\n"
          ]
        },
        {
          "name": "stderr",
          "output_type": "stream",
          "text": [
            "\r 24%|██▎       | 350/1479 [18:42<29:31,  1.57s/it]"
          ]
        },
        {
          "name": "stdout",
          "output_type": "stream",
          "text": [
            "169\n",
            "Compatibility and Connectivity/Negative/If it gets down to 13kw, it become clear that we're far from a capacity to \"only\" double the amount of electric cars on the road.\n"
          ]
        },
        {
          "name": "stderr",
          "output_type": "stream",
          "text": [
            "\r 24%|██▎       | 351/1479 [18:44<30:20,  1.61s/it]"
          ]
        },
        {
          "name": "stdout",
          "output_type": "stream",
          "text": [
            "175\n",
            "Accessibility and Amenities and Location/Positive/Great supercharge! Super fast and convenient. Clean and easy to locate. You can even get BBQ if you’re hungry, while waiting.\n"
          ]
        },
        {
          "name": "stderr",
          "output_type": "stream",
          "text": [
            "\r 24%|██▍       | 352/1479 [18:45<29:57,  1.59s/it]"
          ]
        },
        {
          "name": "stdout",
          "output_type": "stream",
          "text": [
            "58\n",
            "Amenities and Location/Positive/Rudy’s BBQ, Academy sports\n",
            "111\n",
            "Queue and Waiting Time/Positive/I’ve never been here when it’s completely full and I always get a quick charge.\n"
          ]
        },
        {
          "name": "stderr",
          "output_type": "stream",
          "text": [
            "\r 24%|██▍       | 353/1479 [18:46<28:35,  1.52s/it]"
          ]
        },
        {
          "name": "stdout",
          "output_type": "stream",
          "text": [
            "64\n",
            "Queue and waiting time/Positive/never had to wait to charge here\n",
            "57\n",
            "Amenities and location/Positive/good food options near by\n"
          ]
        },
        {
          "name": "stderr",
          "output_type": "stream",
          "text": [
            "\r 24%|██▍       | 354/1479 [18:48<27:29,  1.47s/it]"
          ]
        },
        {
          "name": "stdout",
          "output_type": "stream",
          "text": [
            "60\n",
            "Charging speed and efficiency/Positive/Charges Tesla quickly\n",
            "71\n",
            "Availability and Accessibility/Positive/10+ stalls so always an opening\n"
          ]
        },
        {
          "name": "stderr",
          "output_type": "stream",
          "text": [
            "\r 24%|██▍       | 355/1479 [18:49<23:57,  1.28s/it]"
          ]
        },
        {
          "name": "stdout",
          "output_type": "stream",
          "text": [
            "50\n",
            "queue and waiting time/Negative/wait for a charger\n"
          ]
        },
        {
          "name": "stderr",
          "output_type": "stream",
          "text": [
            "\r 24%|██▍       | 356/1479 [18:50<26:46,  1.43s/it]"
          ]
        },
        {
          "name": "stdout",
          "output_type": "stream",
          "text": [
            "69\n",
            "Queue and waiting time/Negative/had to wait for 20 minutes for a spot\n",
            "68\n",
            "Accessibility and location/Negative/hard for people to find the line\n",
            "96\n",
            "Accessibility and location/Negative/charging area is really compact and busy (near the HEB exit)\n"
          ]
        },
        {
          "name": "stderr",
          "output_type": "stream",
          "text": [
            "\r 24%|██▍       | 357/1479 [18:51<22:08,  1.18s/it]"
          ]
        },
        {
          "name": "stdout",
          "output_type": "stream",
          "text": [
            "46\n",
            "queue and waiting time/Negative/expect to wait\n"
          ]
        },
        {
          "name": "stderr",
          "output_type": "stream",
          "text": [
            "\r 24%|██▍       | 358/1479 [18:52<19:13,  1.03s/it]"
          ]
        },
        {
          "name": "stdout",
          "output_type": "stream",
          "text": [
            "86\n",
            "Accessibility and Accessibility/Neutral/Proximity to HEB where you can shop and charge\n"
          ]
        },
        {
          "name": "stderr",
          "output_type": "stream",
          "text": [
            "\r 24%|██▍       | 359/1479 [18:54<26:19,  1.41s/it]"
          ]
        },
        {
          "name": "stdout",
          "output_type": "stream",
          "text": [
            "257\n",
            "Queue and waiting time/Positive/Only had 3 other cars 7 open stall when I arrived here at about 650am on a Thursday morning but within 10 minutes filled up and only had 1 spot open. It was fairly easy in and easy out. No damaged or non-functioning chargers.\n"
          ]
        },
        {
          "name": "stderr",
          "output_type": "stream",
          "text": [
            "\r 24%|██▍       | 360/1479 [18:55<23:23,  1.25s/it]"
          ]
        },
        {
          "name": "stdout",
          "output_type": "stream",
          "text": [
            "104\n",
            "Accessibility and Location/Positive/Easy to get to and finally college station has an open supercharger!\n"
          ]
        },
        {
          "name": "stderr",
          "output_type": "stream",
          "text": [
            "\r 24%|██▍       | 361/1479 [18:56<24:44,  1.33s/it]"
          ]
        },
        {
          "name": "stdout",
          "output_type": "stream",
          "text": [
            "87\n",
            "Accessibility and Location/Positive/H‑E‑B gas station, Tesla charger, H‑E‑B store, area\n",
            "72\n",
            "Reliability and Maintenance/Negative/one charger not maintained properly\n"
          ]
        },
        {
          "name": "stderr",
          "output_type": "stream",
          "text": [
            "\r 24%|██▍       | 362/1479 [18:57<19:44,  1.06s/it]"
          ]
        },
        {
          "name": "stdout",
          "output_type": "stream",
          "text": [
            "36\n",
            "Customer service/Positive/Life saver\n"
          ]
        },
        {
          "name": "stderr",
          "output_type": "stream",
          "text": [
            "\r 25%|██▍       | 363/1479 [18:58<20:36,  1.11s/it]"
          ]
        },
        {
          "name": "stdout",
          "output_type": "stream",
          "text": [
            "27\n",
            "Overall sentiment: Positive\n",
            "Error occurred: list index out of range\n"
          ]
        },
        {
          "name": "stderr",
          "output_type": "stream",
          "text": [
            "\r 25%|██▍       | 364/1479 [18:59<21:58,  1.18s/it]"
          ]
        },
        {
          "name": "stdout",
          "output_type": "stream",
          "text": [
            "119\n",
            "Amenities and Location/Positive/College station, nice area and an H-E-B only a few 100ft away to shop whilst you charge\n"
          ]
        },
        {
          "name": "stderr",
          "output_type": "stream",
          "text": [
            "\r 25%|██▍       | 365/1479 [19:00<19:48,  1.07s/it]"
          ]
        },
        {
          "name": "stdout",
          "output_type": "stream",
          "text": [
            "78\n",
            "Availability and Accessibility/Positive/The middle of 3 chargers was available\n"
          ]
        },
        {
          "name": "stderr",
          "output_type": "stream",
          "text": [
            "\r 25%|██▍       | 366/1479 [19:03<28:43,  1.55s/it]"
          ]
        },
        {
          "name": "stdout",
          "output_type": "stream",
          "text": [
            "94\n",
            "Charging speed and efficiency/Positive/3-4 hours of charging my Tesla today (38 miles an hour)\n",
            "91\n",
            "Compatibility and Connectivity/Positive/The second charger seems to be for other generic EV\n",
            "112\n",
            "Reliability and maintenance/Negative/The connector for the Tesla seems to be coming loose (some taping was done)\n",
            "93\n",
            "Accessibility and Accessibility/Positive/available is a pretty big plus for travelers already\n"
          ]
        },
        {
          "name": "stderr",
          "output_type": "stream",
          "text": [
            "\r 25%|██▍       | 367/1479 [19:05<30:36,  1.65s/it]"
          ]
        },
        {
          "name": "stdout",
          "output_type": "stream",
          "text": [
            "236\n",
            "Accessibility and Accessibility/Negative/no signage prohibiting non-electric vehicle parking at the destination charging spaces, gas vehicles parked there and the hotel employees just shrugged and told us there was nothing they could do\n"
          ]
        },
        {
          "name": "stderr",
          "output_type": "stream",
          "text": [
            "\r 25%|██▍       | 368/1479 [19:06<26:16,  1.42s/it]"
          ]
        },
        {
          "name": "stdout",
          "output_type": "stream",
          "text": [
            "106\n",
            "This review does not provide any specific feedback or mention any aspects related to the charging station.\n",
            "Error occurred: list index out of range\n"
          ]
        },
        {
          "name": "stderr",
          "output_type": "stream",
          "text": [
            "\r 25%|██▍       | 369/1479 [19:06<22:28,  1.21s/it]"
          ]
        },
        {
          "name": "stdout",
          "output_type": "stream",
          "text": [
            "73\n",
            "Compatibility and Connectivity/Negative/plug is chewed up, Not dependable\n"
          ]
        },
        {
          "name": "stderr",
          "output_type": "stream",
          "text": [
            "\r 25%|██▌       | 370/1479 [19:07<19:44,  1.07s/it]"
          ]
        },
        {
          "name": "stdout",
          "output_type": "stream",
          "text": [
            "48\n",
            "reliability and maintenance/Negative/It's broken\n"
          ]
        },
        {
          "name": "stderr",
          "output_type": "stream",
          "text": [
            "\r 25%|██▌       | 371/1479 [19:09<26:48,  1.45s/it]"
          ]
        },
        {
          "name": "stdout",
          "output_type": "stream",
          "text": [
            "69\n",
            "Charging speed and efficiency/Negative/Both Tesla chargers are broken\n",
            "76\n",
            "Availability and Accessibility/Positive/One other EV charger functional @6KW\n"
          ]
        },
        {
          "name": "stderr",
          "output_type": "stream",
          "text": [
            "\r 25%|██▌       | 372/1479 [19:10<22:13,  1.20s/it]"
          ]
        },
        {
          "name": "stdout",
          "output_type": "stream",
          "text": [
            "65\n",
            "reliability and maintenance/Negative/The Tesla charger was broken\n"
          ]
        },
        {
          "name": "stderr",
          "output_type": "stream",
          "text": [
            "\r 25%|██▌       | 373/1479 [19:11<21:13,  1.15s/it]"
          ]
        },
        {
          "name": "stdout",
          "output_type": "stream",
          "text": [
            "60\n",
            "reliability and maintenance/Negative/Tesla charger is broken\n",
            "53\n",
            "charging speed and efficiency/Negative/GE charge slow\n"
          ]
        },
        {
          "name": "stderr",
          "output_type": "stream",
          "text": [
            "\r 25%|██▌       | 374/1479 [19:12<19:14,  1.05s/it]"
          ]
        },
        {
          "name": "stdout",
          "output_type": "stream",
          "text": [
            "69\n",
            "Charging speed and efficiency/Negative/Showing 16 kw only getting 8kw\n"
          ]
        },
        {
          "name": "stderr",
          "output_type": "stream",
          "text": [
            "\r 25%|██▌       | 375/1479 [19:13<17:10,  1.07it/s]"
          ]
        },
        {
          "name": "stdout",
          "output_type": "stream",
          "text": [
            "59\n",
            "Amenities and Location/Positive/Hose and location are great\n"
          ]
        },
        {
          "name": "stderr",
          "output_type": "stream",
          "text": [
            "\r 25%|██▌       | 376/1479 [19:13<15:46,  1.17it/s]"
          ]
        },
        {
          "name": "stdout",
          "output_type": "stream",
          "text": [
            "79\n",
            "reliability and maintenance/Negative/The handle looks broken with exposed wires\n"
          ]
        },
        {
          "name": "stderr",
          "output_type": "stream",
          "text": [
            "\r 25%|██▌       | 377/1479 [19:14<15:34,  1.18it/s]"
          ]
        },
        {
          "name": "stdout",
          "output_type": "stream",
          "text": [
            "99\n",
            "Accessibility and Amenities and Location/Neutral/Free Tesla Destination Charger and Level 2 charger\n"
          ]
        },
        {
          "name": "stderr",
          "output_type": "stream",
          "text": [
            " 26%|██▌       | 379/1479 [19:15<13:43,  1.34it/s]"
          ]
        },
        {
          "name": "stdout",
          "output_type": "stream",
          "text": [
            "27\n",
            "This review does not exist.\n",
            "Error occurred: list index out of range\n"
          ]
        },
        {
          "name": "stderr",
          "output_type": "stream",
          "text": [
            "\r 26%|██▌       | 380/1479 [19:17<20:01,  1.09s/it]"
          ]
        },
        {
          "name": "stdout",
          "output_type": "stream",
          "text": [
            "65\n",
            "Amenities and Location/Positive/lots of food and shopping options\n",
            "110\n",
            "Charging speed and efficiency/Positive/First charger only produced 35kW, but switched to another and got 115kW\n",
            "27\n",
            "Overall sentiment: Positive\n",
            "Error occurred: list index out of range\n"
          ]
        },
        {
          "name": "stderr",
          "output_type": "stream",
          "text": [
            "\r 26%|██▌       | 381/1479 [19:20<26:41,  1.46s/it]"
          ]
        },
        {
          "name": "stdout",
          "output_type": "stream",
          "text": [
            "113\n",
            "Accessibility and Location/Positive/Great location for getting on/off interstate 95. Lots of food choices around.\n",
            "95\n",
            "Availability and Accessibility/Positive/Only issue is that they get filled up in the afternoon.\n",
            "103\n",
            "Reliability and Maintenance/Positive/The stations maintenance is on point. No issues with any chargers.\n"
          ]
        },
        {
          "name": "stderr",
          "output_type": "stream",
          "text": [
            "\r 26%|██▌       | 382/1479 [19:20<23:34,  1.29s/it]"
          ]
        },
        {
          "name": "stdout",
          "output_type": "stream",
          "text": [
            "67\n",
            "Accessibility and Location/Positive/five guys and many other stores\n",
            "39\n",
            "Safety/Positive/Great location and safe\n"
          ]
        },
        {
          "name": "stderr",
          "output_type": "stream",
          "text": [
            "\r 26%|██▌       | 383/1479 [19:22<25:02,  1.37s/it]"
          ]
        },
        {
          "name": "stdout",
          "output_type": "stream",
          "text": [
            "164\n",
            "Accessibility and Amenities and Location/Positive/8 super chargers with 4 parking spots on both sides of the chargers, Crafty Crab seafood boil restaurant, restroom\n"
          ]
        },
        {
          "name": "stderr",
          "output_type": "stream",
          "text": [
            "\r 26%|██▌       | 384/1479 [19:23<21:35,  1.18s/it]"
          ]
        },
        {
          "name": "stdout",
          "output_type": "stream",
          "text": [
            "71\n",
            "Amenities and location/Positive/Great location with lots of restaurants\n"
          ]
        },
        {
          "name": "stderr",
          "output_type": "stream",
          "text": [
            "\r 26%|██▌       | 385/1479 [19:25<29:37,  1.62s/it]"
          ]
        },
        {
          "name": "stdout",
          "output_type": "stream",
          "text": [
            "247\n",
            "Accessibility and Accessibility/Negative/rush hour between 6:45-8 is chaotic, Cramp parking due to large moving trucks blocking the charging spaces or lawn companies blocking the parking spaces, This is the most busy Wawa I have been to in awhile.\n",
            "79\n",
            "Charging speed and efficiency/Positive/fast supercharger in 15 min from 21%-40%\n"
          ]
        },
        {
          "name": "stderr",
          "output_type": "stream",
          "text": [
            "\r 26%|██▌       | 386/1479 [19:27<27:03,  1.49s/it]"
          ]
        },
        {
          "name": "stdout",
          "output_type": "stream",
          "text": [
            "66\n",
            "Amenities and location/Positive/trash bins, Cafe, lounge, restroom\n"
          ]
        },
        {
          "name": "stderr",
          "output_type": "stream",
          "text": [
            "\r 26%|██▌       | 387/1479 [19:28<24:38,  1.35s/it]"
          ]
        },
        {
          "name": "stdout",
          "output_type": "stream",
          "text": [
            "53\n",
            "Amenities and Location/Positive/WAWA, GREAT COFFEE ☕️\n"
          ]
        },
        {
          "name": "stderr",
          "output_type": "stream",
          "text": [
            "\r 26%|██▌       | 388/1479 [19:30<29:00,  1.59s/it]"
          ]
        },
        {
          "name": "stdout",
          "output_type": "stream",
          "text": [
            "95\n",
            "reliability and maintenance/Negative/Lots of broke glass and trash around the charging stations\n",
            "61\n",
            "amenities and location/Negative/Not desirable for dog walking\n",
            "51\n",
            "customer service/Negative/DQ bathroom was not clean\n",
            "76\n",
            "reliability and maintenance/Negative/The third charger we tried did not work\n"
          ]
        },
        {
          "name": "stderr",
          "output_type": "stream",
          "text": [
            "\r 26%|██▋       | 389/1479 [19:31<24:58,  1.37s/it]"
          ]
        },
        {
          "name": "stdout",
          "output_type": "stream",
          "text": [
            "59\n",
            "Accessibility and Location/Positive/Dairy Queen off highway\n"
          ]
        },
        {
          "name": "stderr",
          "output_type": "stream",
          "text": [
            "\r 26%|██▋       | 390/1479 [19:32<22:56,  1.26s/it]"
          ]
        },
        {
          "name": "stdout",
          "output_type": "stream",
          "text": [
            "49\n",
            "Charging speed and efficiency/Positive/super fast\n",
            "49\n",
            "Accessibility and Location/Positive/near the I-95\n"
          ]
        },
        {
          "name": "stderr",
          "output_type": "stream",
          "text": [
            "\r 26%|██▋       | 391/1479 [19:32<18:19,  1.01s/it]"
          ]
        },
        {
          "name": "stdout",
          "output_type": "stream",
          "text": [
            "38\n",
            "Location/Positive/close to the highway\n"
          ]
        },
        {
          "name": "stderr",
          "output_type": "stream",
          "text": [
            "\r 27%|██▋       | 392/1479 [19:34<23:12,  1.28s/it]"
          ]
        },
        {
          "name": "stdout",
          "output_type": "stream",
          "text": [
            "134\n",
            "Accessibility and Location/Positive/large bank of chargers in the middle of the city, at the edge of the shopping center's parking lot\n",
            "78\n",
            "Amenities and Location/Positive/charge your vehicle while you do your shopping\n"
          ]
        },
        {
          "name": "stderr",
          "output_type": "stream",
          "text": [
            "\r 27%|██▋       | 393/1479 [19:35<20:22,  1.13s/it]"
          ]
        },
        {
          "name": "stdout",
          "output_type": "stream",
          "text": [
            "116\n",
            "Accessibility and Amenities and Location/Negative/lawn sprinklers are on and spraying into all of the charging spots\n"
          ]
        },
        {
          "name": "stderr",
          "output_type": "stream",
          "text": [
            "\r 27%|██▋       | 394/1479 [19:35<17:41,  1.02it/s]"
          ]
        },
        {
          "name": "stdout",
          "output_type": "stream",
          "text": [
            "58\n",
            "Accessibility and Location/Positive/Win Dixie super Market\n"
          ]
        },
        {
          "name": "stderr",
          "output_type": "stream",
          "text": [
            "\r 27%|██▋       | 395/1479 [19:36<18:13,  1.01s/it]"
          ]
        },
        {
          "name": "stdout",
          "output_type": "stream",
          "text": [
            "79\n",
            "Amenities and location/Neutral/the shopping season, sports bar and a Winn Dixie\n",
            "42\n",
            "Queue and waiting time/Neutral/pretty busy\n"
          ]
        },
        {
          "name": "stderr",
          "output_type": "stream",
          "text": [
            "\r 27%|██▋       | 396/1479 [19:39<24:12,  1.34s/it]"
          ]
        },
        {
          "name": "stdout",
          "output_type": "stream",
          "text": [
            "243\n",
            "Amenities and Location/Positive/SC location supporting local and interstate traveller's with I-95 close by, Plenty of shade to enjoy while charging, Winn-Dixie Deli has a fresh selection of entrees, sandwiches, snacks and drinks to fuel up on.\n"
          ]
        },
        {
          "name": "stderr",
          "output_type": "stream",
          "text": [
            "\r 27%|██▋       | 397/1479 [19:41<28:04,  1.56s/it]"
          ]
        },
        {
          "name": "stdout",
          "output_type": "stream",
          "text": [
            "74\n",
            "Accessibility and Location/Positive/Wawa gas station, McDonald's next door\n",
            "70\n",
            "Amenities and Location/Positive/Wawa gas station, McDonald's next door\n",
            "22\n",
            "Safety/Positive/Secure\n",
            "38\n",
            "Queue and Waiting Time/Positive/No one\n",
            "29\n",
            "Ease of Use/Positive/Spacious\n"
          ]
        },
        {
          "name": "stderr",
          "output_type": "stream",
          "text": [
            "\r 27%|██▋       | 398/1479 [19:42<25:27,  1.41s/it]"
          ]
        },
        {
          "name": "stdout",
          "output_type": "stream",
          "text": [
            "125\n",
            "Accessibility and Amenities and Location/Positive/gas station, non Tesla charges, Convenience store, Coffee, Food, McDonald's\n"
          ]
        },
        {
          "name": "stderr",
          "output_type": "stream",
          "text": [
            "\r 27%|██▋       | 399/1479 [19:43<24:16,  1.35s/it]"
          ]
        },
        {
          "name": "stdout",
          "output_type": "stream",
          "text": [
            "135\n",
            "Queue and waiting time/Negative/all stalls full with one car waiting (and one stall out of commission), so I came back later that night\n"
          ]
        },
        {
          "name": "stderr",
          "output_type": "stream",
          "text": [
            "\r 27%|██▋       | 400/1479 [19:44<24:44,  1.38s/it]"
          ]
        },
        {
          "name": "stdout",
          "output_type": "stream",
          "text": [
            "225\n",
            "Accessibility and Location/Negative/block with vehicles towing trailers and delivery trucks, Very busy at times, Be prepared to wait if you arrive between sunrise and 8 am as this is usually when supply trucks arrive for Wawa\n"
          ]
        },
        {
          "name": "stderr",
          "output_type": "stream",
          "text": [
            "\r 27%|██▋       | 401/1479 [19:46<24:06,  1.34s/it]"
          ]
        },
        {
          "name": "stdout",
          "output_type": "stream",
          "text": [
            "214\n",
            "Accessibility and Amenities and Location/Positive/great McDonald's nearby, Wawa nearby, stalls were all empty in the morning, low traffic, friendly people, very fast charging, good amenities right there next to you\n"
          ]
        },
        {
          "name": "stderr",
          "output_type": "stream",
          "text": [
            "\r 27%|██▋       | 402/1479 [19:48<27:53,  1.55s/it]"
          ]
        },
        {
          "name": "stdout",
          "output_type": "stream",
          "text": [
            "90\n",
            "Accessibility and Amenities and Location/Positive/Lots of chargers, Lots of great shopping\n",
            "85\n",
            "Charging speed and efficiency/Positive/Speed was about 400mi/hr on a Saturday morning\n",
            "71\n",
            "Amenities and location/Negative/No public restrooms or quick stop shops\n"
          ]
        },
        {
          "name": "stderr",
          "output_type": "stream",
          "text": [
            "\r 27%|██▋       | 403/1479 [19:49<26:38,  1.49s/it]"
          ]
        },
        {
          "name": "stdout",
          "output_type": "stream",
          "text": [
            "57\n",
            "Charging speed and efficiency/Negative/Slow charge (56kw)\n",
            "44\n",
            "Price and cost/Negative/must pay for parking\n",
            "31\n",
            "Cleanliness/Negative/very dirty\n"
          ]
        },
        {
          "name": "stderr",
          "output_type": "stream",
          "text": [
            "\r 27%|██▋       | 404/1479 [19:50<25:19,  1.41s/it]"
          ]
        },
        {
          "name": "stdout",
          "output_type": "stream",
          "text": [
            "121\n",
            "Amenities and Location/Positive/tons of stores and dining from Cosi to Long horn steakhouse even a Red Robin for the kids\n"
          ]
        },
        {
          "name": "stderr",
          "output_type": "stream",
          "text": [
            "\r 27%|██▋       | 405/1479 [19:52<28:16,  1.58s/it]"
          ]
        },
        {
          "name": "stdout",
          "output_type": "stream",
          "text": [
            "146\n",
            "Accessibility and Accessibility/Positive/Tesla is the place to go to see the line of new cars they offer. The sales people are great and friendly.\n",
            "96\n",
            "Price and Cost/Positive/However, very pricey as they should be for the quality of car it offers.\n"
          ]
        },
        {
          "name": "stderr",
          "output_type": "stream",
          "text": [
            "\r 27%|██▋       | 406/1479 [19:58<52:28,  2.93s/it]"
          ]
        },
        {
          "name": "stdout",
          "output_type": "stream",
          "text": [
            "640\n",
            "Accessibility and Location/Positive/new (Jan 2020) with 12 superchargers, clean, bright shopping center just off 195 & 495, Stores: Lowe's, Target, TJ Maxx, Michael's, Staples, Petco, DSW Shoes, Homegoods, Old Navy, LL Bean, The Black Dog outlet, Torrid, Gamestop, GNC, Cape Kids, Bath & Body Works, USA Fitness for Women, Famous Footwear, LOFT, Dressbarn, The Paper Store, California Nails & Spa, Sally Beauty Supply, Yankee Candle, T-Mobile, Sprint, AT&T, & Verizon, Food: Qdoba, Cupcake Charlie's, Gourmet Garden, Casa Cancun, Cosi, Longhorn Steakhouse, & Red Robin, Directly across from the chargers is a South Coast Urgent Care Center.\n"
          ]
        },
        {
          "name": "stderr",
          "output_type": "stream",
          "text": [
            "\r 28%|██▊       | 407/1479 [20:00<47:59,  2.69s/it]"
          ]
        },
        {
          "name": "stdout",
          "output_type": "stream",
          "text": [
            "142\n",
            "Amenities and Location/Positive/3$ all day parking, protected space within a parking garage, next to a large mall, relaxing, close-by chipotle\n",
            "80\n",
            "Accessibility and Accessibility/Positive/protected space within a parking garage\n",
            "45\n",
            "Queue and Waiting Time/Positive/smooth charge\n"
          ]
        },
        {
          "name": "stderr",
          "output_type": "stream",
          "text": [
            "\r 28%|██▊       | 408/1479 [20:03<45:44,  2.56s/it]"
          ]
        },
        {
          "name": "stdout",
          "output_type": "stream",
          "text": [
            "106\n",
            "Accessibility and Accessibility/Negative/You have to pay for the parking before you can access the charger\n",
            "100\n",
            "Amenities and location/Positive/Location is inside a secured parking garage in a mall. Area is clean\n",
            "65\n",
            "Charging speed and efficiency/Positive/the charger is fairly fast\n"
          ]
        },
        {
          "name": "stderr",
          "output_type": "stream",
          "text": [
            "\r 28%|██▊       | 409/1479 [20:04<37:03,  2.08s/it]"
          ]
        },
        {
          "name": "stdout",
          "output_type": "stream",
          "text": [
            "101\n",
            "Payment option/Negative/You have to pay for parking to get to the chargers on top of the charging fee\n"
          ]
        },
        {
          "name": "stderr",
          "output_type": "stream",
          "text": [
            "\r 28%|██▊       | 410/1479 [20:06<37:01,  2.08s/it]"
          ]
        },
        {
          "name": "stdout",
          "output_type": "stream",
          "text": [
            "71\n",
            "Amenities and location/Positive/Nice location with only one small issue\n",
            "95\n",
            "Queue and waiting time/Negative/Only downside: You have to pay for parking to exit the lot ($3)\n",
            "27\n",
            "Overall sentiment: Positive\n",
            "Error occurred: list index out of range\n"
          ]
        },
        {
          "name": "stderr",
          "output_type": "stream",
          "text": [
            "\r 28%|██▊       | 411/1479 [20:06<29:40,  1.67s/it]"
          ]
        },
        {
          "name": "stdout",
          "output_type": "stream",
          "text": [
            "57\n",
            "Accessibility and Location/Negative/Hard to find at first\n"
          ]
        },
        {
          "name": "stderr",
          "output_type": "stream",
          "text": [
            "\r 28%|██▊       | 412/1479 [20:08<28:43,  1.62s/it]"
          ]
        },
        {
          "name": "stdout",
          "output_type": "stream",
          "text": [
            "128\n",
            "price and cost/Negative/ripping you off requesting $35 cash ON TOP OF the payment for the garage and on top of the fee to charge\n"
          ]
        },
        {
          "name": "stderr",
          "output_type": "stream",
          "text": [
            "\r 28%|██▊       | 413/1479 [20:10<30:13,  1.70s/it]"
          ]
        },
        {
          "name": "stdout",
          "output_type": "stream",
          "text": [
            "97\n",
            "Accessibility and Amenities and Location/Negative/They are very unprofessional and irresponsible!\n",
            "46\n",
            "Safety/Negative/My apple watch had been stolen\n",
            "76\n",
            "Customer service/Negative/I filed a complaint and no response till this day!\n"
          ]
        },
        {
          "name": "stderr",
          "output_type": "stream",
          "text": [
            "\r 28%|██▊       | 414/1479 [20:12<30:13,  1.70s/it]"
          ]
        },
        {
          "name": "stdout",
          "output_type": "stream",
          "text": [
            "87\n",
            "Accessibility and Accessibility/Negative/This location does not have a charging station\n",
            "93\n",
            "reliability and maintenance/Negative/it no work, hasn't worked for a while, permanent closure\n",
            "114\n",
            "queue and waiting time/Negative/Unnecessary waste of time driving to this location only to be told it doesn't work\n"
          ]
        },
        {
          "name": "stderr",
          "output_type": "stream",
          "text": [
            "\r 28%|██▊       | 415/1479 [20:12<26:08,  1.47s/it]"
          ]
        },
        {
          "name": "stdout",
          "output_type": "stream",
          "text": [
            "86\n",
            "Charging speed and efficiency/Positive/40 mins and you have 275 miles (85%) of charge.\n"
          ]
        },
        {
          "name": "stderr",
          "output_type": "stream",
          "text": [
            "\r 28%|██▊       | 416/1479 [20:14<24:55,  1.41s/it]"
          ]
        },
        {
          "name": "stdout",
          "output_type": "stream",
          "text": [
            "145\n",
            "Accessibility and Amenities and Location/Positive/diner, Nirchi’s pizza, awesome, a dozen different kinds of pizza, Charge took less than 20 mins\n"
          ]
        },
        {
          "name": "stderr",
          "output_type": "stream",
          "text": [
            "\r 28%|██▊       | 417/1479 [20:15<23:13,  1.31s/it]"
          ]
        },
        {
          "name": "stdout",
          "output_type": "stream",
          "text": [
            "91\n",
            "Charging speed and efficiency/Negative/Pretty slow charging compared to other superchargers\n",
            "54\n",
            "Availability and Accessibility/Positive/a lot of spots\n"
          ]
        },
        {
          "name": "stderr",
          "output_type": "stream",
          "text": [
            "\r 28%|██▊       | 418/1479 [20:18<35:49,  2.03s/it]"
          ]
        },
        {
          "name": "stdout",
          "output_type": "stream",
          "text": [
            "106\n",
            "Accessibility and Location/Negative/need to exit Interstate 81 and head down Binghamton's busy Main Street\n",
            "55\n",
            "Amenities and Location/Positive/Sonic across the street\n",
            "84\n",
            "Queue and Waiting Time/Negative/place was packed and full with a couple cars waiting\n",
            "79\n",
            "Compatibility and Connectivity/Negative/not the most convenient place to charge\n",
            "49\n",
            "Price and Cost/Neutral/ended up not charging here\n",
            "122\n",
            "Availability and Accessibility/Neutral/just enough charge to make it to the Destiny shopping mall Supercharger on Syracuse\n"
          ]
        },
        {
          "name": "stderr",
          "output_type": "stream",
          "text": [
            "\r 28%|██▊       | 419/1479 [20:20<31:00,  1.76s/it]"
          ]
        },
        {
          "name": "stdout",
          "output_type": "stream",
          "text": [
            "86\n",
            "Accessibility and Amenities and Location/Negative/The Spot restaurant, supercharger 1A\n"
          ]
        },
        {
          "name": "stderr",
          "output_type": "stream",
          "text": [
            "\r 28%|██▊       | 420/1479 [20:21<28:01,  1.59s/it]"
          ]
        },
        {
          "name": "stdout",
          "output_type": "stream",
          "text": [
            "82\n",
            "Accessibility and Location/Neutral/ground floor parking garage of DoubleTree hotel\n",
            "56\n",
            "Charging speed and efficiency/Negative/charges very slow\n"
          ]
        },
        {
          "name": "stderr",
          "output_type": "stream",
          "text": [
            "\r 28%|██▊       | 421/1479 [20:21<23:03,  1.31s/it]"
          ]
        },
        {
          "name": "stdout",
          "output_type": "stream",
          "text": [
            "94\n",
            "This review does not provide any specific information or opinions about the aspects mentioned.\n",
            "Error occurred: list index out of range\n"
          ]
        },
        {
          "name": "stderr",
          "output_type": "stream",
          "text": [
            "\r 29%|██▊       | 422/1479 [20:22<19:28,  1.11s/it]"
          ]
        },
        {
          "name": "stdout",
          "output_type": "stream",
          "text": [
            "63\n",
            "Availability and Accessibility/Neutral/standard Level 2 charger\n"
          ]
        },
        {
          "name": "stderr",
          "output_type": "stream",
          "text": [
            "\r 29%|██▊       | 423/1479 [20:23<20:54,  1.19s/it]"
          ]
        },
        {
          "name": "stdout",
          "output_type": "stream",
          "text": [
            "27\n",
            "Overall sentiment: Positive\n",
            "Error occurred: list index out of range\n"
          ]
        },
        {
          "name": "stderr",
          "output_type": "stream",
          "text": [
            "\r 29%|██▊       | 424/1479 [20:25<20:10,  1.15s/it]"
          ]
        },
        {
          "name": "stdout",
          "output_type": "stream",
          "text": [
            "26\n",
            "Overall sentiment: Neutral\n",
            "Error occurred: list index out of range\n"
          ]
        },
        {
          "name": "stderr",
          "output_type": "stream",
          "text": [
            "\r 29%|██▊       | 425/1479 [20:26<20:33,  1.17s/it]"
          ]
        },
        {
          "name": "stdout",
          "output_type": "stream",
          "text": [
            "150\n",
            "Accessibility and Amenities and location/Positive/Fast charger with multiple charging positions, It's usually full, but we don't have to wait in line.\n"
          ]
        },
        {
          "name": "stderr",
          "output_type": "stream",
          "text": [
            "\r 29%|██▉       | 426/1479 [20:29<29:23,  1.67s/it]"
          ]
        },
        {
          "name": "stdout",
          "output_type": "stream",
          "text": [
            "107\n",
            "Accessibility and Location/Neutral/Plenty of snacks at the Wawa, sketchy area - strip mall city off of I-95\n",
            "59\n",
            "Amenities and Location/Neutral/Plenty of snacks at the Wawa\n",
            "80\n",
            "Queue and Waiting Time/Negative/By 730 am on a Sunday all chargers were occupied\n",
            "58\n",
            "Safety/Negative/Sketchy area - strip mall city off of I-95\n"
          ]
        },
        {
          "name": "stderr",
          "output_type": "stream",
          "text": [
            "\r 29%|██▉       | 427/1479 [20:29<24:18,  1.39s/it]"
          ]
        },
        {
          "name": "stdout",
          "output_type": "stream",
          "text": [
            "49\n",
            "Location/Negative/Wawa area, store close at 11 pm\n"
          ]
        },
        {
          "name": "stderr",
          "output_type": "stream",
          "text": [
            "\r 29%|██▉       | 428/1479 [20:31<27:39,  1.58s/it]"
          ]
        },
        {
          "name": "stdout",
          "output_type": "stream",
          "text": [
            "119\n",
            "Accessibility and Amenities and Location/Negative/the restrooms at the Wawa Station are horrible, the store isn't clean\n",
            "55\n",
            "Charging speed and efficiency/Negative/charges only 80%\n",
            "69\n",
            "Queue and waiting time/Neutral/I was there around 2 pm on the weekend\n"
          ]
        },
        {
          "name": "stderr",
          "output_type": "stream",
          "text": [
            "\r 29%|██▉       | 429/1479 [20:33<30:32,  1.74s/it]"
          ]
        },
        {
          "name": "stdout",
          "output_type": "stream",
          "text": [
            "57\n",
            "reliability and maintenance/Positive/Chargers always work\n",
            "52\n",
            "amenities and location/Neutral/bathroom are accurate\n",
            "58\n",
            "ease of use/Neutral/Don't use unless an absolute emergency\n",
            "86\n",
            "amenities and location/Positive/Chipotle and other restaurants to eat while you charge\n"
          ]
        },
        {
          "name": "stderr",
          "output_type": "stream",
          "text": [
            "\r 29%|██▉       | 430/1479 [20:35<28:45,  1.64s/it]"
          ]
        },
        {
          "name": "stdout",
          "output_type": "stream",
          "text": [
            "92\n",
            "Queue and waiting time/Negative/There are insufficient stations available in Ft. Lauderdale.\n",
            "86\n",
            "Amenities and location/Negative/gas station WAMA won't let the public use the bathroom\n"
          ]
        },
        {
          "name": "stderr",
          "output_type": "stream",
          "text": [
            "\r 29%|██▉       | 431/1479 [20:36<25:38,  1.47s/it]"
          ]
        },
        {
          "name": "stdout",
          "output_type": "stream",
          "text": [
            "94\n",
            "Location and Accessibility/Positive/just off of I-95 on Powerline Rd. and W. Cypress Creek Rd.\n"
          ]
        },
        {
          "name": "stderr",
          "output_type": "stream",
          "text": [
            "\r 29%|██▉       | 432/1479 [20:37<21:40,  1.24s/it]"
          ]
        },
        {
          "name": "stdout",
          "output_type": "stream",
          "text": [
            "54\n",
            "Amenities and Location/Positive/Oakland Park, FL, WaWa\n",
            "59\n",
            "Accessibility and Accessibility/Positive/Tesla Supercharger\n"
          ]
        },
        {
          "name": "stderr",
          "output_type": "stream",
          "text": [
            "\r 29%|██▉       | 433/1479 [20:38<19:50,  1.14s/it]"
          ]
        },
        {
          "name": "stdout",
          "output_type": "stream",
          "text": [
            "86\n",
            "Accessibility and Amenities and Location/Positive/Plenty of space to charge your Tesla\n"
          ]
        },
        {
          "name": "stderr",
          "output_type": "stream",
          "text": [
            "\r 29%|██▉       | 434/1479 [20:38<18:00,  1.03s/it]"
          ]
        },
        {
          "name": "stdout",
          "output_type": "stream",
          "text": [
            "70\n",
            "Charging speed and efficiency/Positive/solid supercharge, really cheap\n"
          ]
        },
        {
          "name": "stderr",
          "output_type": "stream",
          "text": [
            "\r 29%|██▉       | 435/1479 [20:40<22:06,  1.27s/it]"
          ]
        },
        {
          "name": "stdout",
          "output_type": "stream",
          "text": [
            "201\n",
            "Accessibility and Accessibility/Negative/They need to mark clearly these spots as “Electric Vehicle Charging Only” ... if you’re not accustomed to looking for the charging stations they’re easy to miss\n",
            "60\n",
            "Amenities and location/Positive/great amenity for this hotel\n"
          ]
        },
        {
          "name": "stderr",
          "output_type": "stream",
          "text": [
            "\r 29%|██▉       | 436/1479 [20:43<28:50,  1.66s/it]"
          ]
        },
        {
          "name": "stdout",
          "output_type": "stream",
          "text": [
            "331\n",
            "Accessibility and Amenities and Location/Positive/Fast, clean, and efficient. No real amenities, but there's a grocery store nearby, that is pretty much everything you need. It's one of those off to the side kind of places, so you're going to need to wander around the grocery store for a few minutes before your car is topped off.\n"
          ]
        },
        {
          "name": "stderr",
          "output_type": "stream",
          "text": [
            "\r 30%|██▉       | 437/1479 [20:46<36:25,  2.10s/it]"
          ]
        },
        {
          "name": "stdout",
          "output_type": "stream",
          "text": [
            "168\n",
            "Charging speed and efficiency/Negative/Max charge if 70 miles per hour charge, gained only 50 miles of range in an hour, moved to 2A and it jumped to 250 miles of range\n",
            "102\n",
            "Location and Accessibility/Negative/charger is in the middle of nowhere, exits are tough to figure out\n",
            "79\n",
            "Overall rating/Positive/4-stars because it's better than running out of battery\n"
          ]
        },
        {
          "name": "stderr",
          "output_type": "stream",
          "text": [
            "\r 30%|██▉       | 438/1479 [20:47<29:36,  1.71s/it]"
          ]
        },
        {
          "name": "stdout",
          "output_type": "stream",
          "text": [
            "71\n",
            "Accessibility and Location/Positive/fine, fast, fairly new, rarely full\n"
          ]
        },
        {
          "name": "stderr",
          "output_type": "stream",
          "text": [
            "\r 30%|██▉       | 439/1479 [20:48<30:02,  1.73s/it]"
          ]
        },
        {
          "name": "stdout",
          "output_type": "stream",
          "text": [
            "48\n",
            "Accessibility and Location/Positive/Meijer store\n",
            "43\n",
            "Amenities and Location/Positive/Decent stop\n",
            "131\n",
            "Compatibility and Connectivity/Neutral/Depending on the direction you are coming from you may need to go through a few roundabouts.\n"
          ]
        },
        {
          "name": "stderr",
          "output_type": "stream",
          "text": [
            "\r 30%|██▉       | 440/1479 [20:49<25:02,  1.45s/it]"
          ]
        },
        {
          "name": "stdout",
          "output_type": "stream",
          "text": [
            "70\n",
            "Charging speed and efficiency/Negative/slowed way down to 40 something\n"
          ]
        },
        {
          "name": "stderr",
          "output_type": "stream",
          "text": [
            "\r 30%|██▉       | 441/1479 [20:52<29:28,  1.70s/it]"
          ]
        },
        {
          "name": "stdout",
          "output_type": "stream",
          "text": [
            "261\n",
            "Accessibility and Amenities and Location/Positive/behind the hotel, One charging spot, Not a Tesla-specific charger, would work with other cars, Need an adaptor for Tesla, Will stay at this hotel any time I'm in Green Bay now that I found a place with a charger\n"
          ]
        },
        {
          "name": "stderr",
          "output_type": "stream",
          "text": [
            "\r 30%|██▉       | 442/1479 [20:52<24:06,  1.40s/it]"
          ]
        },
        {
          "name": "stdout",
          "output_type": "stream",
          "text": [
            "86\n",
            "Compatibility and Connectivity/Negative/Gen 1 destination charger compatibility issues\n"
          ]
        },
        {
          "name": "stderr",
          "output_type": "stream",
          "text": [
            "\r 30%|██▉       | 443/1479 [20:55<29:42,  1.72s/it]"
          ]
        },
        {
          "name": "stdout",
          "output_type": "stream",
          "text": [
            "70\n",
            "Charging speed and efficiency/Positive/quickest available Supercharger\n",
            "71\n",
            "Reliability and maintenance/Positive/all chargers are fully operational\n",
            "87\n",
            "Amenities and location/Positive/shopping cart collection point, associated Meijer store\n",
            "54\n",
            "Accessibility and Accessibility/Positive/easy shopping\n",
            "66\n",
            "Safety/Positive/Trash & recycling receptacles are available nearby\n"
          ]
        },
        {
          "name": "stderr",
          "output_type": "stream",
          "text": [
            "\r 30%|███       | 444/1479 [20:56<28:35,  1.66s/it]"
          ]
        },
        {
          "name": "stdout",
          "output_type": "stream",
          "text": [
            "139\n",
            "Accessibility and Amenities and Location/Positive/Meijer parking lot, Garbage and recycling bins, Culver’s, gas station, Arby’s, and Meijer\n"
          ]
        },
        {
          "name": "stderr",
          "output_type": "stream",
          "text": [
            "\r 30%|███       | 445/1479 [20:57<23:31,  1.37s/it]"
          ]
        },
        {
          "name": "stdout",
          "output_type": "stream",
          "text": [
            "54\n",
            "Charging speed and efficiency/Positive/Got up to 195kW\n"
          ]
        },
        {
          "name": "stderr",
          "output_type": "stream",
          "text": [
            "\r 30%|███       | 446/1479 [20:58<21:35,  1.25s/it]"
          ]
        },
        {
          "name": "stdout",
          "output_type": "stream",
          "text": [
            "103\n",
            "Charging speed and efficiency/Positive/Fastest superchargers between Green Bay, Madison, and Milwaukee!\n"
          ]
        },
        {
          "name": "stderr",
          "output_type": "stream",
          "text": [
            "\r 30%|███       | 447/1479 [20:58<17:06,  1.01it/s]"
          ]
        },
        {
          "name": "stdout",
          "output_type": "stream",
          "text": [
            "32\n",
            "Location/Positive/Great location\n"
          ]
        },
        {
          "name": "stderr",
          "output_type": "stream",
          "text": [
            "\r 30%|███       | 448/1479 [20:59<16:57,  1.01it/s]"
          ]
        },
        {
          "name": "stdout",
          "output_type": "stream",
          "text": [
            "103\n",
            "Accessibility and Amenities and Location/Positive/easy and fast, Lots of stuff to do around the charger\n"
          ]
        },
        {
          "name": "stderr",
          "output_type": "stream",
          "text": [
            "\r 30%|███       | 449/1479 [21:00<17:37,  1.03s/it]"
          ]
        },
        {
          "name": "stdout",
          "output_type": "stream",
          "text": [
            "137\n",
            "Accessibility and Location/Positive/Convenient location while traveling on 41. Trash can onsite and in the parking lot of Festival Foods.\n"
          ]
        },
        {
          "name": "stderr",
          "output_type": "stream",
          "text": [
            "\r 30%|███       | 450/1479 [21:01<18:01,  1.05s/it]"
          ]
        },
        {
          "name": "stdout",
          "output_type": "stream",
          "text": [
            "62\n",
            "Accessibility and Accessibility/Positive/Festival for shopping\n",
            "63\n",
            "Charging speed and efficiency/Positive/charge my Tesla for free\n"
          ]
        },
        {
          "name": "stderr",
          "output_type": "stream",
          "text": [
            "\r 30%|███       | 451/1479 [21:02<15:08,  1.13it/s]"
          ]
        },
        {
          "name": "stdout",
          "output_type": "stream",
          "text": [
            "29\n",
            "Location/Neutral/Next to Wawa\n"
          ]
        },
        {
          "name": "stderr",
          "output_type": "stream",
          "text": [
            "\r 31%|███       | 452/1479 [21:04<21:17,  1.24s/it]"
          ]
        },
        {
          "name": "stdout",
          "output_type": "stream",
          "text": [
            "90\n",
            "Charging speed and efficiency/Negative/Says it’ll charge at 250kw, but look at the picture\n",
            "81\n",
            "Accessibility and Accessibility/Negative/people don’t care if the spots for Tesla\n",
            "112\n",
            "Availability and Accessibility/Negative/They’ll just park anywhere, even though there are several car spots open\n"
          ]
        },
        {
          "name": "stderr",
          "output_type": "stream",
          "text": [
            "\r 31%|███       | 453/1479 [21:07<30:14,  1.77s/it]"
          ]
        },
        {
          "name": "stdout",
          "output_type": "stream",
          "text": [
            "400\n",
            "Accessibility and Accessibility/Negative/People will park trucks and trailers in front of all 8 chargers and then harass you when you ask them nicely to move. This is a consistent issue, and people need to be understanding that this is the equivalent to a gas pump and not start a dispute over it. Wawa does not enforce law, which makes it illegal for ICE cars to park in the stalls. Signs are there.\n"
          ]
        },
        {
          "name": "stderr",
          "output_type": "stream",
          "text": [
            "\r 31%|███       | 454/1479 [21:08<24:27,  1.43s/it]"
          ]
        },
        {
          "name": "stdout",
          "output_type": "stream",
          "text": [
            "58\n",
            "reliability and maintenance/Negative/a few that don't work\n"
          ]
        },
        {
          "name": "stderr",
          "output_type": "stream",
          "text": [
            "\r 31%|███       | 455/1479 [21:09<24:24,  1.43s/it]"
          ]
        },
        {
          "name": "stdout",
          "output_type": "stream",
          "text": [
            "136\n",
            "Accessibility and Amenities and Location/Positive/Very close to my hotel. All wawa's should have at least 8 superchargers like this one.\n"
          ]
        },
        {
          "name": "stderr",
          "output_type": "stream",
          "text": [
            "\r 31%|███       | 456/1479 [21:10<22:55,  1.34s/it]"
          ]
        },
        {
          "name": "stdout",
          "output_type": "stream",
          "text": [
            "43\n",
            "price and cost/Positive/It didn't cost much\n",
            "52\n",
            "ease of use/Positive/ease of the process from A to Z\n"
          ]
        },
        {
          "name": "stderr",
          "output_type": "stream",
          "text": [
            "\r 31%|███       | 457/1479 [21:11<18:29,  1.09s/it]"
          ]
        },
        {
          "name": "stdout",
          "output_type": "stream",
          "text": [
            "52\n",
            "Accessibility and Location/Positive/unknown location\n"
          ]
        },
        {
          "name": "stderr",
          "output_type": "stream",
          "text": [
            "\r 31%|███       | 458/1479 [21:11<15:34,  1.09it/s]"
          ]
        },
        {
          "name": "stdout",
          "output_type": "stream",
          "text": [
            "40\n",
            "Accessibility and Location/Positive/wawa\n"
          ]
        },
        {
          "name": "stderr",
          "output_type": "stream",
          "text": [
            "\r 31%|███       | 459/1479 [21:13<19:37,  1.15s/it]"
          ]
        },
        {
          "name": "stdout",
          "output_type": "stream",
          "text": [
            "47\n",
            "Queue and waiting time/Negative/Normally a line\n",
            "78\n",
            "Amenities and location/Negative/Bathrooms inside of Royal Farms are a travesty\n",
            "35\n",
            "Safety/Negative/Go at your own risk\n"
          ]
        },
        {
          "name": "stderr",
          "output_type": "stream",
          "text": [
            "\r 31%|███       | 460/1479 [21:14<20:03,  1.18s/it]"
          ]
        },
        {
          "name": "stdout",
          "output_type": "stream",
          "text": [
            "47\n",
            "queue and waiting time/Negative/a bit of a line\n",
            "82\n",
            "amenities and location/Positive/Best chicken and all the Great snacks for the road\n"
          ]
        },
        {
          "name": "stderr",
          "output_type": "stream",
          "text": [
            "\r 31%|███       | 461/1479 [21:15<17:30,  1.03s/it]"
          ]
        },
        {
          "name": "stdout",
          "output_type": "stream",
          "text": [
            "65\n",
            "Queue and waiting time/Negative/all the charging station are full\n"
          ]
        },
        {
          "name": "stderr",
          "output_type": "stream",
          "text": [
            "\r 31%|███       | 462/1479 [21:15<14:55,  1.14it/s]"
          ]
        },
        {
          "name": "stdout",
          "output_type": "stream",
          "text": [
            "53\n",
            "queue and waiting time/Negative/full, Poor management\n"
          ]
        },
        {
          "name": "stderr",
          "output_type": "stream",
          "text": [
            "\r 31%|███▏      | 463/1479 [21:19<28:13,  1.67s/it]"
          ]
        },
        {
          "name": "stdout",
          "output_type": "stream",
          "text": [
            "27\n",
            "Overall sentiment: Positive\n",
            "Error occurred: list index out of range\n"
          ]
        },
        {
          "name": "stderr",
          "output_type": "stream",
          "text": [
            "\r 31%|███▏      | 464/1479 [21:21<29:02,  1.72s/it]"
          ]
        },
        {
          "name": "stdout",
          "output_type": "stream",
          "text": [
            "146\n",
            "Amenities and Location/Positive/Wawa, fries, quick zoom meeting, sang karaoke, chatted with an elderly couple, modded cars, nice stop, great vibes\n",
            "36\n",
            "Ease of Use/Positive/chargers worked\n",
            "96\n",
            "Safety/Negative/uncomfortable feeling given off by two parked gas trucks parked on charger spots\n"
          ]
        },
        {
          "name": "stderr",
          "output_type": "stream",
          "text": [
            "\r 31%|███▏      | 465/1479 [21:23<32:17,  1.91s/it]"
          ]
        },
        {
          "name": "stdout",
          "output_type": "stream",
          "text": [
            "53\n",
            "Accessibility and Location/Neutral/good but not great\n",
            "63\n",
            "Charging speed and efficiency/Positive/amazing speeds to charge\n",
            "117\n",
            "Amenities and Location/Positive/off a major highway and next to someplace you get food like WaWa and other fast foods\n",
            "60\n",
            "Availability and Accessibility/Positive/had enough available\n"
          ]
        },
        {
          "name": "stderr",
          "output_type": "stream",
          "text": [
            "\r 32%|███▏      | 466/1479 [21:25<33:32,  1.99s/it]"
          ]
        },
        {
          "name": "stdout",
          "output_type": "stream",
          "text": [
            "114\n",
            "Accessibility and Location/Negative/Location would be better behind the building as often there are stalls blocked\n",
            "73\n",
            "Amenities and Location/Positive/Bathroom and food makes this a great stop\n",
            "97\n",
            "Reliability and Maintenance/Neutral/V3 upgrade and relocation of chargers would make this 5 stars\n"
          ]
        },
        {
          "name": "stderr",
          "output_type": "stream",
          "text": [
            "\r 32%|███▏      | 467/1479 [21:26<27:37,  1.64s/it]"
          ]
        },
        {
          "name": "stdout",
          "output_type": "stream",
          "text": [
            "110\n",
            "reliability and maintenance/Negative/Black Corvette looked permanently parked in the far left charging station\n"
          ]
        },
        {
          "name": "stderr",
          "output_type": "stream",
          "text": [
            "\r 32%|███▏      | 468/1479 [21:28<30:44,  1.82s/it]"
          ]
        },
        {
          "name": "stdout",
          "output_type": "stream",
          "text": [
            "130\n",
            "Accessibility and Amenities and Location/Positive/Wawa, right off the turnpike exit, a bunch of chargers, well lit, a lot of space\n"
          ]
        },
        {
          "name": "stderr",
          "output_type": "stream",
          "text": [
            "\r 32%|███▏      | 469/1479 [21:29<24:52,  1.48s/it]"
          ]
        },
        {
          "name": "stdout",
          "output_type": "stream",
          "text": [
            "59\n",
            "Accessibility and Location/Positive/Whole Foods parking lot\n"
          ]
        },
        {
          "name": "stderr",
          "output_type": "stream",
          "text": [
            "\r 32%|███▏      | 470/1479 [21:30<22:54,  1.36s/it]"
          ]
        },
        {
          "name": "stdout",
          "output_type": "stream",
          "text": [
            "132\n",
            "Accessibility and Amenities and Location/Positive/favorite places to use, many stores and restaurants, the mall is across the street\n"
          ]
        },
        {
          "name": "stderr",
          "output_type": "stream",
          "text": [
            "\r 32%|███▏      | 471/1479 [21:32<24:33,  1.46s/it]"
          ]
        },
        {
          "name": "stdout",
          "output_type": "stream",
          "text": [
            "185\n",
            "Accessibility and Amenities and Location/Positive/lot of shops to visit while charging, incredibly quick - ours was charging at 1000 mi/hr with 3 other Tesla's charging at the same time\n"
          ]
        },
        {
          "name": "stderr",
          "output_type": "stream",
          "text": [
            "\r 32%|███▏      | 472/1479 [21:35<32:58,  1.96s/it]"
          ]
        },
        {
          "name": "stdout",
          "output_type": "stream",
          "text": [
            "99\n",
            "Accessibility and Amenities and Location/Negative/Walking distance to restaurants, DSW, Whole Foods\n",
            "72\n",
            "Safety/Negative/MY TESLA WAS VANDALIZED (deep paint knifing on 2 panels)\n",
            "285\n",
            "Summary: The charging area is nice and within walking distance to restaurants, DSW, and Whole Foods. However, the reviewer had a negative experience with safety as their Tesla was vandalized while parked in the area. They caution others about leaving their car unattended in Asheville.\n",
            "Error occurred: list index out of range\n"
          ]
        },
        {
          "name": "stderr",
          "output_type": "stream",
          "text": [
            "\r 32%|███▏      | 473/1479 [21:37<31:20,  1.87s/it]"
          ]
        },
        {
          "name": "stdout",
          "output_type": "stream",
          "text": [
            "112\n",
            "Accessibility and Location/Positive/Excellent location for a supercharger very strategic. Just outside of sheets\n",
            "93\n",
            "Charging speed and efficiency/Positive/charging speed is as expected for the advertised 150kW\n"
          ]
        },
        {
          "name": "stderr",
          "output_type": "stream",
          "text": [
            "\r 32%|███▏      | 474/1479 [21:37<25:47,  1.54s/it]"
          ]
        },
        {
          "name": "stdout",
          "output_type": "stream",
          "text": [
            "60\n",
            "Accessibility and Location/Positive/convenient to shops/food\n"
          ]
        },
        {
          "name": "stderr",
          "output_type": "stream",
          "text": [
            "\r 32%|███▏      | 475/1479 [21:38<23:41,  1.42s/it]"
          ]
        },
        {
          "name": "stdout",
          "output_type": "stream",
          "text": [
            "146\n",
            "Accessibility and Location/Positive/Cherokee casino, Clean area, Mall security patrols area, Trash can available, Waffle House is pretty good also\n"
          ]
        },
        {
          "name": "stderr",
          "output_type": "stream",
          "text": [
            "\r 32%|███▏      | 476/1479 [21:40<25:06,  1.50s/it]"
          ]
        },
        {
          "name": "stdout",
          "output_type": "stream",
          "text": [
            "228\n",
            "Accessibility and Amenities and location/Positive/Directly connected to the mall parking lot. Lots of options for food, bathrooms and it's very well lit. Noticeable security presence driving around at night. Great charging spot.\n"
          ]
        },
        {
          "name": "stderr",
          "output_type": "stream",
          "text": [
            "\r 32%|███▏      | 477/1479 [21:41<22:44,  1.36s/it]"
          ]
        },
        {
          "name": "stdout",
          "output_type": "stream",
          "text": [
            "91\n",
            "Amenities and Location/Positive/Next to mall and lots of restaurants here. Very convenient.\n"
          ]
        },
        {
          "name": "stderr",
          "output_type": "stream",
          "text": [
            "\r 32%|███▏      | 478/1479 [21:42<20:35,  1.23s/it]"
          ]
        },
        {
          "name": "stdout",
          "output_type": "stream",
          "text": [
            "116\n",
            "Amenities and Location/Positive/parking lot bursting with fall colors, outlet mall, Ingles grocery across the street\n"
          ]
        },
        {
          "name": "stderr",
          "output_type": "stream",
          "text": [
            "\r 32%|███▏      | 479/1479 [21:44<21:19,  1.28s/it]"
          ]
        },
        {
          "name": "stdout",
          "output_type": "stream",
          "text": [
            "145\n",
            "Accessibility and Location/Positive/Ingles opposite has a Starbucks and there’s a McDonald’s (should you like that sort of thing) & Waffle House.\n"
          ]
        },
        {
          "name": "stderr",
          "output_type": "stream",
          "text": [
            "\r 32%|███▏      | 480/1479 [21:45<22:39,  1.36s/it]"
          ]
        },
        {
          "name": "stdout",
          "output_type": "stream",
          "text": [
            "229\n",
            "Accessibility and Amenities and location/Positive/Plenty of open stalls, love the new layout which allows you to drive right up. Plenty of restaurant choices within walking distance. I stop here quite often and love this charger.\n"
          ]
        },
        {
          "name": "stderr",
          "output_type": "stream",
          "text": [
            "\r 33%|███▎      | 481/1479 [21:48<28:03,  1.69s/it]"
          ]
        },
        {
          "name": "stdout",
          "output_type": "stream",
          "text": [
            "121\n",
            "Accessibility and Location/Neutral/Tucked out of the way but still convenient to some food and shopping in the nearby T&D\n",
            "101\n",
            "Amenities and Location/Negative/Do NOT recommend for those towing. Very tight and narrow parking lot.\n",
            "64\n",
            "Charging speed and efficiency/Neutral/All are v3 250kW chargers.\n"
          ]
        },
        {
          "name": "stderr",
          "output_type": "stream",
          "text": [
            "\r 33%|███▎      | 482/1479 [21:49<24:39,  1.48s/it]"
          ]
        },
        {
          "name": "stdout",
          "output_type": "stream",
          "text": [
            "149\n",
            "This review does not provide enough information to classify and recognize aspect terms with their corresponding opinion terms and sentiment polarity.\n",
            "Error occurred: list index out of range\n"
          ]
        },
        {
          "name": "stderr",
          "output_type": "stream",
          "text": [
            "\r 33%|███▎      | 483/1479 [21:49<21:21,  1.29s/it]"
          ]
        },
        {
          "name": "stdout",
          "output_type": "stream",
          "text": [
            "118\n",
            "Accessibility and Amenities and Location/Positive/Lots of Tesla charging stations and close to hotels and restaurants.\n"
          ]
        },
        {
          "name": "stderr",
          "output_type": "stream",
          "text": [
            "\r 33%|███▎      | 484/1479 [21:50<19:59,  1.21s/it]"
          ]
        },
        {
          "name": "stdout",
          "output_type": "stream",
          "text": [
            "26\n",
            "Overall sentiment: Neutral\n",
            "Error occurred: list index out of range\n"
          ]
        },
        {
          "name": "stderr",
          "output_type": "stream",
          "text": [
            "\r 33%|███▎      | 485/1479 [21:51<17:48,  1.08s/it]"
          ]
        },
        {
          "name": "stdout",
          "output_type": "stream",
          "text": [
            "78\n",
            "Accessibility and Accessibility/Negative/Tesla chargers are permanently closed\n"
          ]
        },
        {
          "name": "stderr",
          "output_type": "stream",
          "text": [
            "\r 33%|███▎      | 486/1479 [21:53<21:31,  1.30s/it]"
          ]
        },
        {
          "name": "stdout",
          "output_type": "stream",
          "text": [
            "110\n",
            "Accessibility and Location/Positive/Best Tesla Supercharger in Bismarck, Lots of restaurants and stores nearby\n",
            "117\n",
            "Amenities and Location/Neutral/Not a great location late at night as restaurants and other businesses would be closed\n",
            "93\n",
            "Compatibility and Connectivity/Neutral/Nearest hotels are on the other side of the Interstate\n"
          ]
        },
        {
          "name": "stderr",
          "output_type": "stream",
          "text": [
            "\r 33%|███▎      | 487/1479 [21:54<19:07,  1.16s/it]"
          ]
        },
        {
          "name": "stdout",
          "output_type": "stream",
          "text": [
            "81\n",
            "Amenities and location/Positive/Nice location, plenty of food choices in the area\n"
          ]
        },
        {
          "name": "stderr",
          "output_type": "stream",
          "text": [
            "\r 33%|███▎      | 488/1479 [21:54<15:56,  1.04it/s]"
          ]
        },
        {
          "name": "stdout",
          "output_type": "stream",
          "text": [
            "31\n",
            "Location/Neutral/Clearwater, FL\n"
          ]
        },
        {
          "name": "stderr",
          "output_type": "stream",
          "text": [
            "\r 33%|███▎      | 489/1479 [21:58<27:59,  1.70s/it]"
          ]
        },
        {
          "name": "stdout",
          "output_type": "stream",
          "text": [
            "113\n",
            "Accessibility and Amenities and location/Negative/stand in line for the buffet, crowded layout in the casino area\n",
            "67\n",
            "Queue and waiting time/Negative/had to stand in line for the buffet\n",
            "57\n",
            "Price and cost/Negative/$25 buffet with limited selection\n",
            "83\n",
            "Customer service/Positive/nice enough to let me order kids grilled cheese and fries\n",
            "149\n",
            "Compatibility and Connectivity/Negative/glared in our eyes and made it hard to watch people coming and going while we waited for the concert to begin\n"
          ]
        },
        {
          "name": "stderr",
          "output_type": "stream",
          "text": [
            "\r 33%|███▎      | 490/1479 [22:00<31:11,  1.89s/it]"
          ]
        },
        {
          "name": "stdout",
          "output_type": "stream",
          "text": [
            "191\n",
            "Amenities and Location/Positive/3 restaurants right beside it, Cash Wise grocery store a simple walk across the parking lot, windshield wash station provided by the local Tesla owners on site\n",
            "75\n",
            "Accessibility and Accessibility/Positive/simple walk across the parking lot\n",
            "53\n",
            "Safety/Positive/Secure with a guard and security gate\n"
          ]
        },
        {
          "name": "stderr",
          "output_type": "stream",
          "text": [
            "\r 33%|███▎      | 491/1479 [22:01<25:36,  1.56s/it]"
          ]
        },
        {
          "name": "stdout",
          "output_type": "stream",
          "text": [
            "76\n",
            "Amenities and location/Positive/Windshield cleaning station is a great bonus\n"
          ]
        },
        {
          "name": "stderr",
          "output_type": "stream",
          "text": [
            "\r 33%|███▎      | 492/1479 [22:02<23:11,  1.41s/it]"
          ]
        },
        {
          "name": "stdout",
          "output_type": "stream",
          "text": [
            "83\n",
            "Accessibility and Accessibility/Positive/1B and 1C working great 9-17 and 9-18 2022\n"
          ]
        },
        {
          "name": "stderr",
          "output_type": "stream",
          "text": [
            "\r 33%|███▎      | 493/1479 [22:03<22:26,  1.37s/it]"
          ]
        },
        {
          "name": "stdout",
          "output_type": "stream",
          "text": [
            "118\n",
            "Accessibility and Amenities and location/Positive/green space for a puppy potty break, Walking distance to Burger King\n"
          ]
        },
        {
          "name": "stderr",
          "output_type": "stream",
          "text": [
            "\r 33%|███▎      | 494/1479 [22:04<19:30,  1.19s/it]"
          ]
        },
        {
          "name": "stdout",
          "output_type": "stream",
          "text": [
            "27\n",
            "Overall sentiment: Negative\n",
            "Error occurred: list index out of range\n"
          ]
        },
        {
          "name": "stderr",
          "output_type": "stream",
          "text": [
            "\r 33%|███▎      | 495/1479 [22:05<17:09,  1.05s/it]"
          ]
        },
        {
          "name": "stdout",
          "output_type": "stream",
          "text": [
            "75\n",
            "None of the provided aspects directly match the content of the review text.\n",
            "Error occurred: list index out of range\n"
          ]
        },
        {
          "name": "stderr",
          "output_type": "stream",
          "text": [
            "\r 34%|███▎      | 496/1479 [22:06<16:58,  1.04s/it]"
          ]
        },
        {
          "name": "stdout",
          "output_type": "stream",
          "text": [
            "151\n",
            "Not enough information is provided to classify the review and recognize the aspect terms with their corresponding opinion terms and sentiment polarity.\n",
            "Error occurred: list index out of range\n"
          ]
        },
        {
          "name": "stderr",
          "output_type": "stream",
          "text": [
            "\r 34%|███▎      | 497/1479 [22:07<19:04,  1.17s/it]"
          ]
        },
        {
          "name": "stdout",
          "output_type": "stream",
          "text": [
            "139\n",
            "Amenities and location/Positive/Target, Starbucks, KFC, Subway, AT&T, Chipotle, Bestbuy, and so many more stores nearby at walking distance\n"
          ]
        },
        {
          "name": "stderr",
          "output_type": "stream",
          "text": [
            "\r 34%|███▎      | 498/1479 [22:08<19:11,  1.17s/it]"
          ]
        },
        {
          "name": "stdout",
          "output_type": "stream",
          "text": [
            "151\n",
            "Accessibility and Amenities and Location/Negative/alignment issue with chargers to spaces, jack-n-the box employees parking in the shady charging spots\n"
          ]
        },
        {
          "name": "stderr",
          "output_type": "stream",
          "text": [
            "\r 34%|███▎      | 499/1479 [22:09<16:43,  1.02s/it]"
          ]
        },
        {
          "name": "stdout",
          "output_type": "stream",
          "text": [
            "72\n",
            "Accessibility and Location/Positive/Next to target and many other stores\n"
          ]
        },
        {
          "name": "stderr",
          "output_type": "stream",
          "text": [
            "\r 34%|███▍      | 500/1479 [22:10<18:39,  1.14s/it]"
          ]
        },
        {
          "name": "stdout",
          "output_type": "stream",
          "text": [
            "109\n",
            "Amenities and Location/Positive/Target, Del Taco, Jack in the Box, Chipotle, Panera, Taco Bell, Carls Jr, KFC\n",
            "44\n",
            "Charging speed and efficiency/Negative/150kW\n"
          ]
        },
        {
          "name": "stderr",
          "output_type": "stream",
          "text": [
            "\r 34%|███▍      | 501/1479 [22:11<16:30,  1.01s/it]"
          ]
        },
        {
          "name": "stdout",
          "output_type": "stream",
          "text": [
            "81\n",
            "Accessibility and Location/Positive/next to Target, quite a few charging stations\n"
          ]
        },
        {
          "name": "stderr",
          "output_type": "stream",
          "text": [
            "\r 34%|███▍      | 502/1479 [22:12<16:27,  1.01s/it]"
          ]
        },
        {
          "name": "stdout",
          "output_type": "stream",
          "text": [
            "56\n",
            "Charging speed and efficiency/Positive/limited to 30 amp\n",
            "53\n",
            "Amenities and location/Positive/Sierra Nevada Brewing\n"
          ]
        },
        {
          "name": "stderr",
          "output_type": "stream",
          "text": [
            "\r 34%|███▍      | 503/1479 [22:13<13:32,  1.20it/s]"
          ]
        },
        {
          "name": "stdout",
          "output_type": "stream",
          "text": [
            "43\n",
            "charging speed and efficiency/Negative/Slow\n"
          ]
        },
        {
          "name": "stderr",
          "output_type": "stream",
          "text": [
            "\r 34%|███▍      | 504/1479 [22:14<14:05,  1.15it/s]"
          ]
        },
        {
          "name": "stdout",
          "output_type": "stream",
          "text": [
            "114\n",
            "Amenities and Location/Positive/Harris Teeter, Walgreens, couple restaurants straight ahead across the parking lot\n"
          ]
        },
        {
          "name": "stderr",
          "output_type": "stream",
          "text": [
            "\r 34%|███▍      | 505/1479 [22:14<13:41,  1.19it/s]"
          ]
        },
        {
          "name": "stdout",
          "output_type": "stream",
          "text": [
            "67\n",
            "Amenities and Location/Positive/several places to grab a quick bite\n"
          ]
        },
        {
          "name": "stderr",
          "output_type": "stream",
          "text": [
            "\r 34%|███▍      | 506/1479 [22:15<14:45,  1.10it/s]"
          ]
        },
        {
          "name": "stdout",
          "output_type": "stream",
          "text": [
            "144\n",
            "Accessibility and Location/Positive/practical if you have errands to do in a pharmacy or supermarket, both are walkable while charging your car.\n"
          ]
        },
        {
          "name": "stderr",
          "output_type": "stream",
          "text": [
            "\r 34%|███▍      | 507/1479 [22:16<15:15,  1.06it/s]"
          ]
        },
        {
          "name": "stdout",
          "output_type": "stream",
          "text": [
            "58\n",
            "reliability and maintenance/Negative/they need maintenance\n",
            "54\n",
            "queue and waiting time/Negative/expect a wait at times\n"
          ]
        },
        {
          "name": "stderr",
          "output_type": "stream",
          "text": [
            "\r 34%|███▍      | 508/1479 [22:17<15:54,  1.02it/s]"
          ]
        },
        {
          "name": "stdout",
          "output_type": "stream",
          "text": [
            "65\n",
            "Safety/Negative/homeless guy come around and was asking for money\n",
            "66\n",
            "charging speed and efficiency/Positive/fast charge as they claimed\n"
          ]
        },
        {
          "name": "stderr",
          "output_type": "stream",
          "text": [
            "\r 34%|███▍      | 509/1479 [22:18<14:36,  1.11it/s]"
          ]
        },
        {
          "name": "stdout",
          "output_type": "stream",
          "text": [
            "67\n",
            "Accessibility and Location/Neutral/Close to retail, easy to get too\n"
          ]
        },
        {
          "name": "stderr",
          "output_type": "stream",
          "text": [
            "\r 34%|███▍      | 510/1479 [22:20<18:00,  1.11s/it]"
          ]
        },
        {
          "name": "stdout",
          "output_type": "stream",
          "text": [
            "191\n",
            "Accessibility and Amenities and Location/Negative/No restrooms or ANY other services if you're here after hours, sketchy \"backside\" of the shopping center and great view of all the dumpsters.\n"
          ]
        },
        {
          "name": "stderr",
          "output_type": "stream",
          "text": [
            "\r 35%|███▍      | 511/1479 [22:22<21:39,  1.34s/it]"
          ]
        },
        {
          "name": "stdout",
          "output_type": "stream",
          "text": [
            "267\n",
            "Accessibility and Location/Positive/Target this close to a super charger is the dream, but you do have to walk to it as the super chargers are really around the corner. Would recommend it for restrooms but late at night I could see the walk being a little off putting\n"
          ]
        },
        {
          "name": "stderr",
          "output_type": "stream",
          "text": [
            "\r 35%|███▍      | 512/1479 [22:22<18:46,  1.17s/it]"
          ]
        },
        {
          "name": "stdout",
          "output_type": "stream",
          "text": [
            "82\n",
            "Accessibility and Location/Positive/12 Tesla Superchargers behind the Dollar Store\n"
          ]
        },
        {
          "name": "stderr",
          "output_type": "stream",
          "text": [
            "\r 35%|███▍      | 513/1479 [22:24<18:25,  1.14s/it]"
          ]
        },
        {
          "name": "stdout",
          "output_type": "stream",
          "text": [
            "55\n",
            "Charging speed and efficiency/Positive/250kw no waiting\n",
            "40\n",
            "Amenities and location/Positive/Near REI\n"
          ]
        },
        {
          "name": "stderr",
          "output_type": "stream",
          "text": [
            "\r 35%|███▍      | 514/1479 [22:26<23:50,  1.48s/it]"
          ]
        },
        {
          "name": "stdout",
          "output_type": "stream",
          "text": [
            "197\n",
            "Accessibility and Amenities and Location/Negative/area is not that great, roads are rough, Sheetz was OK but restrooms were not the greatest, grass where I had to walk my dog was not all that clean\n"
          ]
        },
        {
          "name": "stderr",
          "output_type": "stream",
          "text": [
            "\r 35%|███▍      | 515/1479 [22:27<21:19,  1.33s/it]"
          ]
        },
        {
          "name": "stdout",
          "output_type": "stream",
          "text": [
            "101\n",
            "This review does not provide specific feedback or opinions about any aspects of the charging station.\n",
            "Error occurred: list index out of range\n"
          ]
        },
        {
          "name": "stderr",
          "output_type": "stream",
          "text": [
            "\r 35%|███▍      | 516/1479 [22:28<19:05,  1.19s/it]"
          ]
        },
        {
          "name": "stdout",
          "output_type": "stream",
          "text": [
            "79\n",
            "Accessibility and Location/Neutral/Sheetz 24 hour gas station, gas station food\n"
          ]
        },
        {
          "name": "stderr",
          "output_type": "stream",
          "text": [
            "\r 35%|███▍      | 517/1479 [22:28<17:05,  1.07s/it]"
          ]
        },
        {
          "name": "stdout",
          "output_type": "stream",
          "text": [
            "71\n",
            "Location and Amenities/Positive/Sheets, Food, drink and clean restrooms\n"
          ]
        },
        {
          "name": "stderr",
          "output_type": "stream",
          "text": [
            "\r 35%|███▌      | 518/1479 [22:30<18:23,  1.15s/it]"
          ]
        },
        {
          "name": "stdout",
          "output_type": "stream",
          "text": [
            "38\n",
            "Safety/Positive/seems like a safe area\n",
            "75\n",
            "Reliability and maintenance/Positive/No issues with the chargers themselves\n",
            "78\n",
            "Customer service/Positive/Thanks Tesla for the excellent supercharging network\n"
          ]
        },
        {
          "name": "stderr",
          "output_type": "stream",
          "text": [
            "\r 35%|███▌      | 519/1479 [22:36<40:32,  2.53s/it]"
          ]
        },
        {
          "name": "stdout",
          "output_type": "stream",
          "text": [
            "125\n",
            "Accessibility and Location/Positive/parking for a Marriot Courtyard with a Starbucks, Wendy's, and Captain D's within walking\n",
            "82\n",
            "Amenities and Location/Positive/Starbucks, Wendy's, and Captain D's within walking\n",
            "110\n",
            "Charging speed and efficiency/Neutral/Charging was slow, about 1/2 what we hoped the 150KW units would provide\n",
            "71\n",
            "Queue and waiting time/Neutral/5 of 8 chargers in use when we showed up\n",
            "94\n",
            "Charging speed and efficiency/Positive/Charged our M3 long range from 31% to 71% in 25 minutes\n",
            "69\n",
            "Queue and waiting time/Neutral/0 of 8 chargers in use when we arrived\n",
            "85\n",
            "Charging speed and efficiency/Positive/Charged our M3LR from 41% to 85% in 21 minutes\n"
          ]
        },
        {
          "name": "stderr",
          "output_type": "stream",
          "text": [
            "\r 35%|███▌      | 520/1479 [22:38<39:46,  2.49s/it]"
          ]
        },
        {
          "name": "stdout",
          "output_type": "stream",
          "text": [
            "185\n",
            "Amenities and Location/Positive/clean restroom and coffee found at the nearby Starbucks, Marriott is also a nice place to relax with its spacious lounge and nice views of the Elk river.\n",
            "88\n",
            "Reliability and Maintenance/Negative/stalls 1A and 1B seem to be charging at half power.\n"
          ]
        },
        {
          "name": "stderr",
          "output_type": "stream",
          "text": [
            "\r 35%|███▌      | 521/1479 [22:39<32:37,  2.04s/it]"
          ]
        },
        {
          "name": "stdout",
          "output_type": "stream",
          "text": [
            "129\n",
            "Amenities and location/Positive/Courtyard and best Western next door, Starbucks closest with other fast-food, Panera bread is .2m\n"
          ]
        },
        {
          "name": "stderr",
          "output_type": "stream",
          "text": [
            "\r 35%|███▌      | 522/1479 [22:40<25:42,  1.61s/it]"
          ]
        },
        {
          "name": "stdout",
          "output_type": "stream",
          "text": [
            "41\n",
            "Amenities and location/Positive/Starbucks\n"
          ]
        },
        {
          "name": "stderr",
          "output_type": "stream",
          "text": [
            "\r 35%|███▌      | 523/1479 [22:40<21:50,  1.37s/it]"
          ]
        },
        {
          "name": "stdout",
          "output_type": "stream",
          "text": [
            "89\n",
            "Accessibility and Location/Positive/highway, Courtyard Marriott, Starbucks, Fast charging\n"
          ]
        },
        {
          "name": "stderr",
          "output_type": "stream",
          "text": [
            "\r 35%|███▌      | 524/1479 [22:46<40:45,  2.56s/it]"
          ]
        },
        {
          "name": "stdout",
          "output_type": "stream",
          "text": [
            "57\n",
            "Charging speed and efficiency/Positive/250KWH charge rate\n",
            "112\n",
            "Amenities and location/Positive/right behind an Arby's and a dozen food choices within walking and driving range\n",
            "75\n",
            "Availability and Accessibility/Positive/Arrived with 0 of 8 chargers in use\n",
            "93\n",
            "Charging speed and efficiency/Positive/Filled our M3 long range from 35% to 74% in 13 minutes\n",
            "100\n",
            "Charging speed and efficiency/Positive/Initial charging was 220kwh and dropped as the battery filled\n",
            "85\n",
            "Charging speed and efficiency/Positive/Charged our M3LR from 41% to 85% in 20 minutes\n",
            "121\n",
            "Compatibility and Connectivity/Positive/A little bit different layout with 4 chargers on a side and arranged back to back\n"
          ]
        },
        {
          "name": "stderr",
          "output_type": "stream",
          "text": [
            "\r 35%|███▌      | 525/1479 [22:47<34:40,  2.18s/it]"
          ]
        },
        {
          "name": "stdout",
          "output_type": "stream",
          "text": [
            "153\n",
            "Accessibility and Amenities and Location/Negative/no grass area to walk dogs, Arby's is close with an easily accessible bathroom, No issues with chargers\n"
          ]
        },
        {
          "name": "stderr",
          "output_type": "stream",
          "text": [
            "\r 36%|███▌      | 526/1479 [22:48<29:50,  1.88s/it]"
          ]
        },
        {
          "name": "stdout",
          "output_type": "stream",
          "text": [
            "57\n",
            "Amenities and Location/Positive/good places to eat nearby\n"
          ]
        },
        {
          "name": "stderr",
          "output_type": "stream",
          "text": [
            "\r 36%|███▌      | 527/1479 [22:51<33:02,  2.08s/it]"
          ]
        },
        {
          "name": "stdout",
          "output_type": "stream",
          "text": [
            "130\n",
            "Accessibility and Amenities and Location/Positive/Excellent location, parking garage, hotel lobby, restrooms, eating places nearby\n",
            "85\n",
            "Charging speed and efficiency/Positive/charging my vehicle at a rate of 39 miles/hour\n",
            "90\n",
            "Reliability and maintenance/Negative/one of the Tesla destination chargers was not working\n",
            "55\n",
            "Price and cost/Positive/Tesla chargers are totally free\n"
          ]
        },
        {
          "name": "stderr",
          "output_type": "stream",
          "text": [
            "\r 36%|███▌      | 528/1479 [22:52<27:08,  1.71s/it]"
          ]
        },
        {
          "name": "stdout",
          "output_type": "stream",
          "text": [
            "77\n",
            "Accessibility and Amenities and Location/Positive/4 or 5 Tesla chargers, fast\n"
          ]
        },
        {
          "name": "stderr",
          "output_type": "stream",
          "text": [
            "\r 36%|███▌      | 529/1479 [22:55<35:31,  2.24s/it]"
          ]
        },
        {
          "name": "stdout",
          "output_type": "stream",
          "text": [
            "76\n",
            "Accessibility and Accessibility/Neutral/4 Tesla and one ChargePoint chargers\n",
            "84\n",
            "Amenities and location/Neutral/On the ground floor, back wall of this parking garage\n",
            "95\n",
            "Compatibility and Connectivity/Neutral/Didn't have any issues with non-EVs parking in the spots\n",
            "92\n",
            "Reliability and maintenance/Neutral/Didn't have any issues with non-EVs parking in the spots\n",
            "87\n",
            "Queue and waiting time/Neutral/Didn't have any issues with non-EVs parking in the spots\n"
          ]
        },
        {
          "name": "stderr",
          "output_type": "stream",
          "text": [
            "\r 36%|███▌      | 530/1479 [22:57<32:58,  2.08s/it]"
          ]
        },
        {
          "name": "stdout",
          "output_type": "stream",
          "text": [
            "238\n",
            "Accessibility and Location/Positive/Great charger, but these directions don't take you there. :) After talking with the hotel staff we found the location in the parking structure which is across the street from the Marriott main entrance.\n"
          ]
        },
        {
          "name": "stderr",
          "output_type": "stream",
          "text": [
            "\r 36%|███▌      | 531/1479 [22:58<29:46,  1.88s/it]"
          ]
        },
        {
          "name": "stdout",
          "output_type": "stream",
          "text": [
            "117\n",
            "Accessibility and Location/Negative/no charger here, closest in inside the parking garage and there is 1 Tesla outlet\n",
            "48\n",
            "Charging speed and efficiency/Negative/very slow\n"
          ]
        },
        {
          "name": "stderr",
          "output_type": "stream",
          "text": [
            "\r 36%|███▌      | 532/1479 [23:00<30:56,  1.96s/it]"
          ]
        },
        {
          "name": "stdout",
          "output_type": "stream",
          "text": [
            "218\n",
            "Charging speed and efficiency/Negative/Horribly slow every time. Says 150kw but I've never got above 80kw. Others say they are getting about the same. They do have some new chargers but I was only getting 63kw on them.\n"
          ]
        },
        {
          "name": "stderr",
          "output_type": "stream",
          "text": [
            "\r 36%|███▌      | 533/1479 [23:01<25:43,  1.63s/it]"
          ]
        },
        {
          "name": "stdout",
          "output_type": "stream",
          "text": [
            "178\n",
            "Accessibility and Amenities and location/Positive/lot location near fast food and convenience stores, Hotel lobby staff were kind and welcoming, and the lobby bathroom was clean.\n"
          ]
        },
        {
          "name": "stderr",
          "output_type": "stream",
          "text": [
            "\r 36%|███▌      | 534/1479 [23:02<22:04,  1.40s/it]"
          ]
        },
        {
          "name": "stdout",
          "output_type": "stream",
          "text": [
            "69\n",
            "Accessibility and Location/Negative/general purpose parking overnight\n",
            "47\n",
            "Charging speed and efficiency/Negative/slow mix\n"
          ]
        },
        {
          "name": "stderr",
          "output_type": "stream",
          "text": [
            "\r 36%|███▌      | 535/1479 [23:03<19:27,  1.24s/it]"
          ]
        },
        {
          "name": "stdout",
          "output_type": "stream",
          "text": [
            "99\n",
            "Accessibility and Amenities and location/Positive/Great hotel, quick food, access to clean bathroom\n"
          ]
        },
        {
          "name": "stderr",
          "output_type": "stream",
          "text": [
            "\r 36%|███▌      | 536/1479 [23:04<19:23,  1.23s/it]"
          ]
        },
        {
          "name": "stdout",
          "output_type": "stream",
          "text": [
            "143\n",
            "Accessibility and Amenities and location/Positive/Well lit, working chargers. Close proximity to fast food. Trash cans available next to hotel.\n"
          ]
        },
        {
          "name": "stderr",
          "output_type": "stream",
          "text": [
            "\r 36%|███▋      | 537/1479 [23:19<1:25:45,  5.46s/it]"
          ]
        },
        {
          "name": "stdout",
          "output_type": "stream",
          "text": [
            "257\n",
            "Accessibility and Location/Positive/The location was a little suspect at night if you were alone, with that said, we went there twice while staying in Shreveport for a business trip, other Tesla owner showed up each time which makes people more comfortable.\n",
            "83\n",
            "Amenities and Location/Positive/They did have a very sweet dog they let my wife pet\n",
            "116\n",
            "Reliability and Maintenance/Negative/Only real complaint was a fellow tesla owner dumping their trash out there door\n",
            "272\n",
            "Review 13: [The charging station was easy to find and had plenty of available chargers. The charging speed was impressive and my car was fully charged in no time. The customer service was also excellent, as the staff was friendly and helpful. Overall, a great experience.]\n",
            "Error occurred: list index out of range\n"
          ]
        },
        {
          "name": "stderr",
          "output_type": "stream",
          "text": [
            "\r 36%|███▋      | 538/1479 [23:20<1:04:12,  4.09s/it]"
          ]
        },
        {
          "name": "stdout",
          "output_type": "stream",
          "text": [
            "91\n",
            "Safety/Negative/Several people aimlessly wandering around in the area talking to themselves\n"
          ]
        },
        {
          "name": "stderr",
          "output_type": "stream",
          "text": [
            "\r 36%|███▋      | 539/1479 [23:22<53:20,  3.40s/it]  "
          ]
        },
        {
          "name": "stdout",
          "output_type": "stream",
          "text": [
            "83\n",
            "Amenities and location/Positive/small mall, restroom facility, little turtle lagoon\n",
            "58\n",
            "Charging speed and efficiency/Positive/Charged super quick\n",
            "63\n",
            "Accessibility and Accessibility/Positive/access to a small mall\n",
            "38\n",
            "Safety/Positive/limited dining options\n"
          ]
        },
        {
          "name": "stderr",
          "output_type": "stream",
          "text": [
            "\r 37%|███▋      | 540/1479 [23:23<41:28,  2.65s/it]"
          ]
        },
        {
          "name": "stdout",
          "output_type": "stream",
          "text": [
            "102\n",
            "Location and Safety/Negative/dirty and doesn't seem like the best location from a security perspective\n"
          ]
        },
        {
          "name": "stderr",
          "output_type": "stream",
          "text": [
            "\r 37%|███▋      | 541/1479 [23:25<36:38,  2.34s/it]"
          ]
        },
        {
          "name": "stdout",
          "output_type": "stream",
          "text": [
            "62\n",
            "reliability and maintenance/Negative/2A and 2B are not working\n",
            "76\n",
            "charging speed and efficiency/Negative/only charges to 80% due to high usage\n"
          ]
        },
        {
          "name": "stderr",
          "output_type": "stream",
          "text": [
            "\r 37%|███▋      | 542/1479 [23:26<31:15,  2.00s/it]"
          ]
        },
        {
          "name": "stdout",
          "output_type": "stream",
          "text": [
            "152\n",
            "Accessibility and Amenities and Location/Positive/Interstate, convenience store, good restrooms, fresh cooked food, mexican restaurant, fast food places\n"
          ]
        },
        {
          "name": "stderr",
          "output_type": "stream",
          "text": [
            "\r 37%|███▋      | 543/1479 [23:27<28:25,  1.82s/it]"
          ]
        },
        {
          "name": "stdout",
          "output_type": "stream",
          "text": [
            "179\n",
            "Accessibility and Amenities and Location/Positive/Chargers worked great, Located in a gas station parking lot, The gas station serves hot food, Burger King within walking distance\n"
          ]
        },
        {
          "name": "stderr",
          "output_type": "stream",
          "text": [
            "\r 37%|███▋      | 544/1479 [23:28<23:51,  1.53s/it]"
          ]
        },
        {
          "name": "stdout",
          "output_type": "stream",
          "text": [
            "107\n",
            "Accessibility and Location/Positive/Very convenient location to charge, Burger King is in walking distance.\n"
          ]
        },
        {
          "name": "stderr",
          "output_type": "stream",
          "text": [
            "\r 37%|███▋      | 545/1479 [23:30<24:13,  1.56s/it]"
          ]
        },
        {
          "name": "stdout",
          "output_type": "stream",
          "text": [
            "205\n",
            "Amenities and location/Positive/Good location, hotels within walking distance for bathroom needs after hours. I personally love olive garden but haven't gotten lucky enough to stop here while they are open\n"
          ]
        },
        {
          "name": "stderr",
          "output_type": "stream",
          "text": [
            "\r 37%|███▋      | 546/1479 [23:31<21:48,  1.40s/it]"
          ]
        },
        {
          "name": "stdout",
          "output_type": "stream",
          "text": [
            "139\n",
            "Accessibility and Accessibility/Negative/the space for pulling into the chargers was a little tight and the space was also used for parking\n"
          ]
        },
        {
          "name": "stderr",
          "output_type": "stream",
          "text": [
            "\r 37%|███▋      | 547/1479 [23:32<19:34,  1.26s/it]"
          ]
        },
        {
          "name": "stdout",
          "output_type": "stream",
          "text": [
            "90\n",
            "Accessibility and Amenities and Location/Positive/Olive Garden parking lot, restroom, mall\n"
          ]
        },
        {
          "name": "stderr",
          "output_type": "stream",
          "text": [
            "\r 37%|███▋      | 548/1479 [23:34<23:19,  1.50s/it]"
          ]
        },
        {
          "name": "stdout",
          "output_type": "stream",
          "text": [
            "50\n",
            "Charging speed and efficiency/Positive/pretty fast\n",
            "89\n",
            "Amenities and location/Neutral/Restaurants nearby but nothing open at 9:30 in the morning\n",
            "99\n",
            "Accessibility and Accessibility/Neutral/Luckily hotel a cross the large parking lot had a bathroom!\n"
          ]
        },
        {
          "name": "stderr",
          "output_type": "stream",
          "text": [
            "\r 37%|███▋      | 549/1479 [23:35<22:58,  1.48s/it]"
          ]
        },
        {
          "name": "stdout",
          "output_type": "stream",
          "text": [
            "129\n",
            "Amenities and Location/Positive/Olive Garden takeout, parking lot, small green space for dogs, many other options for food nearby\n",
            "43\n",
            "Charging speed and efficiency/Positive/fast\n"
          ]
        },
        {
          "name": "stderr",
          "output_type": "stream",
          "text": [
            "\r 37%|███▋      | 550/1479 [23:37<24:29,  1.58s/it]"
          ]
        },
        {
          "name": "stdout",
          "output_type": "stream",
          "text": [
            "214\n",
            "Accessibility and Amenities and location/Positive/16 chargers, Best stop between Dallas and Memphis, Good food, bathrooms, even has a Dennys, The gas station actually has a couple of food places to pick from to eat\n"
          ]
        },
        {
          "name": "stderr",
          "output_type": "stream",
          "text": [
            "\r 37%|███▋      | 551/1479 [23:38<22:27,  1.45s/it]"
          ]
        },
        {
          "name": "stdout",
          "output_type": "stream",
          "text": [
            "108\n",
            "Accessibility and Amenities and location/Positive/16 v3s right off highway, Nice travel center with a dennys\n"
          ]
        },
        {
          "name": "stderr",
          "output_type": "stream",
          "text": [
            "\r 37%|███▋      | 552/1479 [23:39<20:41,  1.34s/it]"
          ]
        },
        {
          "name": "stdout",
          "output_type": "stream",
          "text": [
            "122\n",
            "Amenities and Location/Positive/14 chargers, small town, Denny's connected to large gas station with huge, clean bathrooms\n"
          ]
        },
        {
          "name": "stderr",
          "output_type": "stream",
          "text": [
            "\r 37%|███▋      | 553/1479 [23:40<17:26,  1.13s/it]"
          ]
        },
        {
          "name": "stdout",
          "output_type": "stream",
          "text": [
            "61\n",
            "Amenities and location/Positive/convenience store and Denny's\n"
          ]
        },
        {
          "name": "stderr",
          "output_type": "stream",
          "text": [
            "\r 37%|███▋      | 554/1479 [23:42<21:42,  1.41s/it]"
          ]
        },
        {
          "name": "stdout",
          "output_type": "stream",
          "text": [
            "61\n",
            "Amenities and location/Positive/convenience store and Denny's\n",
            "70\n",
            "Availability and Accessibility/Positive/several empty spaces available\n",
            "57\n",
            "Customer service/Positive/hostess at Denny's was friendly\n",
            "65\n",
            "Reliability and maintenance/Negative/Station 4B didn't have power\n"
          ]
        },
        {
          "name": "stderr",
          "output_type": "stream",
          "text": [
            "\r 38%|███▊      | 555/1479 [23:43<18:36,  1.21s/it]"
          ]
        },
        {
          "name": "stdout",
          "output_type": "stream",
          "text": [
            "84\n",
            "Accessibility and Accessibility/Positive/location is great as it's right at a Dennys\n"
          ]
        },
        {
          "name": "stderr",
          "output_type": "stream",
          "text": [
            "\r 38%|███▊      | 556/1479 [23:43<15:58,  1.04s/it]"
          ]
        },
        {
          "name": "stdout",
          "output_type": "stream",
          "text": [
            "50\n",
            "Charging speed and efficiency/Positive/Fast Charge\n"
          ]
        },
        {
          "name": "stderr",
          "output_type": "stream",
          "text": [
            "\r 38%|███▊      | 557/1479 [23:44<14:10,  1.08it/s]"
          ]
        },
        {
          "name": "stdout",
          "output_type": "stream",
          "text": [
            "62\n",
            "Charging speed and efficiency/Negative/some chargers are lower\n"
          ]
        },
        {
          "name": "stderr",
          "output_type": "stream",
          "text": [
            "\r 38%|███▊      | 558/1479 [23:46<18:37,  1.21s/it]"
          ]
        },
        {
          "name": "stdout",
          "output_type": "stream",
          "text": [
            "56\n",
            "Safety/Negative/I don't feel super safe at this location\n",
            "100\n",
            "Amenities and Location/Positive/Right next to Townplace Suites, where you can use the clean restroom\n",
            "90\n",
            "Accessibility and Accessibility/Negative/Only restaurant in walking distance is Applebee's\n"
          ]
        },
        {
          "name": "stderr",
          "output_type": "stream",
          "text": [
            "\r 38%|███▊      | 559/1479 [23:48<24:34,  1.60s/it]"
          ]
        },
        {
          "name": "stdout",
          "output_type": "stream",
          "text": [
            "590\n",
            "Accessibility and Amenities and Location/Negative/Clean space, hotel has a clean bathroom, and shopping mall is well occupied with shops, but keep your wits about you here. Someone followed me from the highway to the empty supercharger station. I thought they were just going to the hotel, but then cornered me in a parking spot once I was plugged in and gave some sob story about needing cash. PD was there within 3 minutes of me calling though. Seems like a shady enough place that this behavior could catch on. Louisiana residents in surrounding towns generally avoid the city of Monroe.\n"
          ]
        },
        {
          "name": "stderr",
          "output_type": "stream",
          "text": [
            "\r 38%|███▊      | 560/1479 [23:49<19:08,  1.25s/it]"
          ]
        },
        {
          "name": "stdout",
          "output_type": "stream",
          "text": [
            "34\n",
            "Location/Positive/A great location\n"
          ]
        },
        {
          "name": "stderr",
          "output_type": "stream",
          "text": [
            "\r 38%|███▊      | 561/1479 [23:50<18:00,  1.18s/it]"
          ]
        },
        {
          "name": "stdout",
          "output_type": "stream",
          "text": [
            "92\n",
            "Accessibility and Accessibility/Positive/Charged here twice while staying at the host hotel.\n"
          ]
        },
        {
          "name": "stderr",
          "output_type": "stream",
          "text": [
            "\r 38%|███▊      | 562/1479 [23:51<16:31,  1.08s/it]"
          ]
        },
        {
          "name": "stdout",
          "output_type": "stream",
          "text": [
            "117\n",
            "Accessibility and Amenities and Location/Negative/3 of ten stalls were usable as the rest had ice cars double parking\n"
          ]
        },
        {
          "name": "stderr",
          "output_type": "stream",
          "text": [
            "\r 38%|███▊      | 563/1479 [23:52<17:35,  1.15s/it]"
          ]
        },
        {
          "name": "stdout",
          "output_type": "stream",
          "text": [
            "61\n",
            "Charging speed and efficiency/Negative/slowest charging rates\n",
            "95\n",
            "Amenities and location/Positive/Good lighting, shopping mall and a Sonic, BBQ and Target nearby\n"
          ]
        },
        {
          "name": "stderr",
          "output_type": "stream",
          "text": [
            "\r 38%|███▊      | 564/1479 [23:54<20:08,  1.32s/it]"
          ]
        },
        {
          "name": "stdout",
          "output_type": "stream",
          "text": [
            "61\n",
            "Charging speed and efficiency/Negative/Extremely slow charger\n",
            "55\n",
            "Queue and waiting time/Negative/Teslas stack up in wait\n",
            "99\n",
            "Amenities and location/Positive/Sonic and an O’Charlies right next to it, plenty of shopping nearby\n"
          ]
        },
        {
          "name": "stderr",
          "output_type": "stream",
          "text": [
            "\r 38%|███▊      | 565/1479 [23:55<19:25,  1.27s/it]"
          ]
        },
        {
          "name": "stdout",
          "output_type": "stream",
          "text": [
            "133\n",
            "Accessibility and Location/Positive/Quick charge and close to everything, Easy to get in and out from traffic, Close to a Sonic also.\n"
          ]
        },
        {
          "name": "stderr",
          "output_type": "stream",
          "text": [
            "\r 38%|███▊      | 566/1479 [23:56<18:02,  1.19s/it]"
          ]
        },
        {
          "name": "stdout",
          "output_type": "stream",
          "text": [
            "83\n",
            "Charging speed and efficiency/Neutral/Charged at 400+ miles for the first 100 miles\n"
          ]
        },
        {
          "name": "stderr",
          "output_type": "stream",
          "text": [
            "\r 38%|███▊      | 567/1479 [23:57<17:48,  1.17s/it]"
          ]
        },
        {
          "name": "stdout",
          "output_type": "stream",
          "text": [
            "98\n",
            "Amenities and Location/Positive/good places around to eat like BWW and Sonic, shopping mall around\n",
            "77\n",
            "Queue and Waiting Time/Positive/Stalls were not super busy (used it at night)\n"
          ]
        },
        {
          "name": "stderr",
          "output_type": "stream",
          "text": [
            "\r 38%|███▊      | 568/1479 [23:58<15:22,  1.01s/it]"
          ]
        },
        {
          "name": "stdout",
          "output_type": "stream",
          "text": [
            "67\n",
            "Compatibility and Connectivity/Positive/3x 16 kW installed recently\n"
          ]
        },
        {
          "name": "stderr",
          "output_type": "stream",
          "text": [
            "\r 38%|███▊      | 569/1479 [23:58<13:44,  1.10it/s]"
          ]
        },
        {
          "name": "stdout",
          "output_type": "stream",
          "text": [
            "67\n",
            "Accessibility and Availability/Negative/no charger at this location\n"
          ]
        },
        {
          "name": "stderr",
          "output_type": "stream",
          "text": [
            "\r 39%|███▊      | 570/1479 [23:59<12:20,  1.23it/s]"
          ]
        },
        {
          "name": "stdout",
          "output_type": "stream",
          "text": [
            "66\n",
            "Accessibility and Accessibility/Negative/No recharge stations here\n"
          ]
        },
        {
          "name": "stderr",
          "output_type": "stream",
          "text": [
            "\r 39%|███▊      | 571/1479 [24:02<21:33,  1.42s/it]"
          ]
        },
        {
          "name": "stdout",
          "output_type": "stream",
          "text": [
            "413\n",
            "Accessibility and Amenities and Location/Negative/One in use, the other ICE'd but receptionist found owner and he was willing to move for us......then we woke up to it not having charged the car. It went out overnight and never came back on. The whole reason I picked this hotel was for that charger. Now I have to go to the Supercharger and waste an hour I don't have. Will be late to appointment now. Not happy.\n"
          ]
        },
        {
          "name": "stderr",
          "output_type": "stream",
          "text": [
            "\r 39%|███▊      | 572/1479 [24:02<17:29,  1.16s/it]"
          ]
        },
        {
          "name": "stdout",
          "output_type": "stream",
          "text": [
            "59\n",
            "Accessibility and Availability/Negative/Charger unavailable\n"
          ]
        },
        {
          "name": "stderr",
          "output_type": "stream",
          "text": [
            "\r 39%|███▊      | 573/1479 [24:03<14:08,  1.07it/s]"
          ]
        },
        {
          "name": "stdout",
          "output_type": "stream",
          "text": [
            "26\n",
            "Safety/Negative/Fenced off\n"
          ]
        },
        {
          "name": "stderr",
          "output_type": "stream",
          "text": [
            "\r 39%|███▉      | 574/1479 [24:04<14:25,  1.05it/s]"
          ]
        },
        {
          "name": "stdout",
          "output_type": "stream",
          "text": [
            "124\n",
            "Accessibility and Amenities and Location/Positive/Not many restaurants but there is a McDonalds, subway and a dollar general\n"
          ]
        },
        {
          "name": "stderr",
          "output_type": "stream",
          "text": [
            "\r 39%|███▉      | 575/1479 [24:04<12:34,  1.20it/s]"
          ]
        },
        {
          "name": "stdout",
          "output_type": "stream",
          "text": [
            "48\n",
            "Charging speed and efficiency/Positive/Very fast\n"
          ]
        },
        {
          "name": "stderr",
          "output_type": "stream",
          "text": [
            "\r 39%|███▉      | 576/1479 [24:05<11:34,  1.30it/s]"
          ]
        },
        {
          "name": "stdout",
          "output_type": "stream",
          "text": [
            "62\n",
            "Accessibility and Accessibility/Negative/no super charger here\n"
          ]
        },
        {
          "name": "stderr",
          "output_type": "stream",
          "text": [
            "\r 39%|███▉      | 577/1479 [24:06<15:28,  1.03s/it]"
          ]
        },
        {
          "name": "stdout",
          "output_type": "stream",
          "text": [
            "112\n",
            "Accessibility and Amenities and Location/Positive/never too busy, close to a few restaurants of walking distance\n",
            "67\n",
            "Charging speed and efficiency/Positive/Charging was always a breeze\n"
          ]
        },
        {
          "name": "stderr",
          "output_type": "stream",
          "text": [
            "\r 39%|███▉      | 578/1479 [24:07<14:42,  1.02it/s]"
          ]
        },
        {
          "name": "stdout",
          "output_type": "stream",
          "text": [
            "85\n",
            "Accessibility and Amenities and Location/Positive/Excellent but let limited amenities\n"
          ]
        },
        {
          "name": "stderr",
          "output_type": "stream",
          "text": [
            "\r 39%|███▉      | 579/1479 [24:09<15:38,  1.04s/it]"
          ]
        },
        {
          "name": "stdout",
          "output_type": "stream",
          "text": [
            "83\n",
            "Amenities and location/Positive/multiple chargers, couple food options in the strip\n",
            "52\n",
            "Reliability and maintenance/Positive/well maintained\n"
          ]
        },
        {
          "name": "stderr",
          "output_type": "stream",
          "text": [
            "\r 39%|███▉      | 580/1479 [24:12<27:07,  1.81s/it]"
          ]
        },
        {
          "name": "stdout",
          "output_type": "stream",
          "text": [
            "44\n",
            "Amenities and Location/Positive/Great spot! \n",
            "62\n",
            "Charging speed and efficiency/Positive/We got over 150KW here \n",
            "31\n",
            "Safety/Positive/nice safe spot \n",
            "106\n",
            "Accessibility and Accessibility/Positive/Had lunch on way to Texas and then donuts on way back from Texas \n",
            "119\n",
            "Amenities and Location/Positive-Both eateries have coffee and restrooms unless you arrive during hours they are closed.\n",
            "Error occurred: list index out of range\n"
          ]
        },
        {
          "name": "stderr",
          "output_type": "stream",
          "text": [
            "\r 39%|███▉      | 581/1479 [24:13<22:34,  1.51s/it]"
          ]
        },
        {
          "name": "stdout",
          "output_type": "stream",
          "text": [
            "58\n",
            "Amenities and location/Neutral/No restrooms, no trash cans\n"
          ]
        },
        {
          "name": "stderr",
          "output_type": "stream",
          "text": [
            "\r 39%|███▉      | 582/1479 [24:14<18:40,  1.25s/it]"
          ]
        },
        {
          "name": "stdout",
          "output_type": "stream",
          "text": [
            "41\n",
            "Location/Positive/Great location, Bucee's\n"
          ]
        },
        {
          "name": "stderr",
          "output_type": "stream",
          "text": [
            "\r 39%|███▉      | 583/1479 [24:14<16:26,  1.10s/it]"
          ]
        },
        {
          "name": "stdout",
          "output_type": "stream",
          "text": [
            "52\n",
            "Amenities and Location/Positive/TAMALES (Marisela’s)\n"
          ]
        },
        {
          "name": "stderr",
          "output_type": "stream",
          "text": [
            "\r 39%|███▉      | 584/1479 [24:17<22:48,  1.53s/it]"
          ]
        },
        {
          "name": "stdout",
          "output_type": "stream",
          "text": [
            "192\n",
            "Accessibility and Amenities and Location/Positive/charger location with a Target nearby & plenty to spend your money on(Starbucks…), plenty of open chargers with 4 cars including mine charging\n",
            "168\n",
            "Reliability and Maintenance/Negative/charger looked like it needed a service visit to correct a few cosmetic issues that could be detrimental to its long term operation\n"
          ]
        },
        {
          "name": "stderr",
          "output_type": "stream",
          "text": [
            "\r 40%|███▉      | 585/1479 [24:18<19:59,  1.34s/it]"
          ]
        },
        {
          "name": "stdout",
          "output_type": "stream",
          "text": [
            "52\n",
            "Amenities and Location/Positive/Food and other store\n",
            "44\n",
            "Queue and Waiting Time/Positive/busy usually\n"
          ]
        },
        {
          "name": "stderr",
          "output_type": "stream",
          "text": [
            "\r 40%|███▉      | 586/1479 [24:19<17:30,  1.18s/it]"
          ]
        },
        {
          "name": "stdout",
          "output_type": "stream",
          "text": [
            "74\n",
            "Amenities and location/Neutral/no restrooms, no trash cans, Area is decent\n"
          ]
        },
        {
          "name": "stderr",
          "output_type": "stream",
          "text": [
            "\r 40%|███▉      | 587/1479 [24:19<15:41,  1.06s/it]"
          ]
        },
        {
          "name": "stdout",
          "output_type": "stream",
          "text": [
            "57\n",
            "Amenities and Location/Positive/Starbucks and Chick-Fil-A\n"
          ]
        },
        {
          "name": "stderr",
          "output_type": "stream",
          "text": [
            "\r 40%|███▉      | 588/1479 [24:21<18:00,  1.21s/it]"
          ]
        },
        {
          "name": "stdout",
          "output_type": "stream",
          "text": [
            "73\n",
            "queue and waiting time/Negative/always seems to be full, had to wait once\n",
            "77\n",
            "Accessibility and Accessibility/Negative/few chargers for how big the area is\n"
          ]
        },
        {
          "name": "stderr",
          "output_type": "stream",
          "text": [
            "\r 40%|███▉      | 589/1479 [24:23<20:10,  1.36s/it]"
          ]
        },
        {
          "name": "stdout",
          "output_type": "stream",
          "text": [
            "104\n",
            "Accessibility and Location/Neutral/Somerst turnpike service station, at the truck end of the car section\n",
            "110\n",
            "Compatibility and Connectivity/Neutral/Zero others used a charger during my charge at 4PM on weekday in summer\n"
          ]
        },
        {
          "name": "stderr",
          "output_type": "stream",
          "text": [
            "\r 40%|███▉      | 590/1479 [24:24<20:29,  1.38s/it]"
          ]
        },
        {
          "name": "stdout",
          "output_type": "stream",
          "text": [
            "167\n",
            "Compatibility and Connectivity/Negative/the car forced me to get on the Turnpike and navigated me to this one instead, even though avoid tolls was selected for my trip\n"
          ]
        },
        {
          "name": "stderr",
          "output_type": "stream",
          "text": [
            "\r 40%|███▉      | 591/1479 [24:25<19:51,  1.34s/it]"
          ]
        },
        {
          "name": "stdout",
          "output_type": "stream",
          "text": [
            "112\n",
            "Accessibility and Amenities and location/Positive/turnpike at service center, Lots of bathrooms and food options\n"
          ]
        },
        {
          "name": "stderr",
          "output_type": "stream",
          "text": [
            "\r 40%|████      | 592/1479 [24:27<19:16,  1.30s/it]"
          ]
        },
        {
          "name": "stdout",
          "output_type": "stream",
          "text": [
            "154\n",
            "Accessibility and Amenities and location/Positive/Lots of slots, easy access from the highway, Service plaza has toilets, fast-food and convenience store.\n"
          ]
        },
        {
          "name": "stderr",
          "output_type": "stream",
          "text": [
            "\r 40%|████      | 593/1479 [24:28<18:58,  1.28s/it]"
          ]
        },
        {
          "name": "stdout",
          "output_type": "stream",
          "text": [
            "126\n",
            "Accessibility and Amenities and Location/Positive/Sheetz, drive thru, Seating area, chargers area, convenient location to I-99\n"
          ]
        },
        {
          "name": "stderr",
          "output_type": "stream",
          "text": [
            "\r 40%|████      | 594/1479 [24:29<17:29,  1.19s/it]"
          ]
        },
        {
          "name": "stdout",
          "output_type": "stream",
          "text": [
            "111\n",
            "Accessibility and Amenities and location/Positive/good options for food, decent restrooms and plenty of parking\n"
          ]
        },
        {
          "name": "stderr",
          "output_type": "stream",
          "text": [
            "\r 40%|████      | 595/1479 [24:30<18:16,  1.24s/it]"
          ]
        },
        {
          "name": "stdout",
          "output_type": "stream",
          "text": [
            "95\n",
            "Amenities and Location/Neutral/very busy when we were there, enjoyed some outdoor Sheetz snacks\n"
          ]
        },
        {
          "name": "stderr",
          "output_type": "stream",
          "text": [
            "\r 40%|████      | 596/1479 [24:31<18:14,  1.24s/it]"
          ]
        },
        {
          "name": "stdout",
          "output_type": "stream",
          "text": [
            "72\n",
            "Amenities and Location/Positive/Sheetz, good bathrooms, food, and drinks\n"
          ]
        },
        {
          "name": "stderr",
          "output_type": "stream",
          "text": [
            "\r 40%|████      | 597/1479 [24:32<14:44,  1.00s/it]"
          ]
        },
        {
          "name": "stdout",
          "output_type": "stream",
          "text": [
            "35\n",
            "Safety/Positive/Felt perfectly safe\n"
          ]
        },
        {
          "name": "stderr",
          "output_type": "stream",
          "text": [
            "\r 40%|████      | 598/1479 [24:34<20:28,  1.39s/it]"
          ]
        },
        {
          "name": "stdout",
          "output_type": "stream",
          "text": [
            "222\n",
            "Accessibility and Location/Positive/Easy to see from the main road, Plenty of space around it, Signage to discourage non eve users for more than 15 minutes, All stations appeared operational, Right next to a typical Sheetz\n",
            "64\n",
            "Price and Cost/Positive/Pricing was better than it is back in MD\n"
          ]
        },
        {
          "name": "stderr",
          "output_type": "stream",
          "text": [
            "\r 41%|████      | 599/1479 [24:36<21:49,  1.49s/it]"
          ]
        },
        {
          "name": "stdout",
          "output_type": "stream",
          "text": [
            "229\n",
            "Accessibility and Amenities and location/Positive/convenient location and easy to get to, located at a Sheetz convenience store, separate area for charging, great selection of drinks and food, clean restrooms, open 24 hours a day\n"
          ]
        },
        {
          "name": "stderr",
          "output_type": "stream",
          "text": [
            "\r 41%|████      | 600/1479 [24:37<21:43,  1.48s/it]"
          ]
        },
        {
          "name": "stdout",
          "output_type": "stream",
          "text": [
            "173\n",
            "Accessibility and Amenities and Location/Positive/24hr gas station, Trashcans available, windshield sponges, Grassy area nearby, Clean facility overall, good enough restroom\n"
          ]
        },
        {
          "name": "stderr",
          "output_type": "stream",
          "text": [
            "\r 41%|████      | 601/1479 [24:39<20:41,  1.41s/it]"
          ]
        },
        {
          "name": "stdout",
          "output_type": "stream",
          "text": [
            "50\n",
            "Charging speed and efficiency/Neutral/only a 150kw\n",
            "76\n",
            "Amenities and location/Positive/not busy and sheetz is always a good pitstop\n"
          ]
        },
        {
          "name": "stderr",
          "output_type": "stream",
          "text": [
            "\r 41%|████      | 602/1479 [24:40<21:19,  1.46s/it]"
          ]
        },
        {
          "name": "stdout",
          "output_type": "stream",
          "text": [
            "203\n",
            "Accessibility and Amenities and Location/Positive/Just off of the Penna Turnpike, easy stop for charging and taking a break, Sheetz does a good job offering a fairly standard, clean and quick experience.\n"
          ]
        },
        {
          "name": "stderr",
          "output_type": "stream",
          "text": [
            "\r 41%|████      | 603/1479 [24:42<21:56,  1.50s/it]"
          ]
        },
        {
          "name": "stdout",
          "output_type": "stream",
          "text": [
            "157\n",
            "Amenities and location/Positive/Super convenient location in conjunction with a Pennsylvania rest stop. There’s food, restrooms, and a place to walk the dog.\n"
          ]
        },
        {
          "name": "stderr",
          "output_type": "stream",
          "text": [
            "\r 41%|████      | 604/1479 [24:42<18:49,  1.29s/it]"
          ]
        },
        {
          "name": "stdout",
          "output_type": "stream",
          "text": [
            "136\n",
            "Accessibility and Amenities and Location/Negative/Bathrooms just ok, food prices were jacked up for convenience and the food was sub par\n"
          ]
        },
        {
          "name": "stderr",
          "output_type": "stream",
          "text": [
            "\r 41%|████      | 605/1479 [24:44<19:51,  1.36s/it]"
          ]
        },
        {
          "name": "stdout",
          "output_type": "stream",
          "text": [
            "190\n",
            "Accessibility and Amenities and Location/Positive/8 stalls, all empty at the time of charging, service plaza has restrooms, Starbucks and Roy Rogers, where you can get a decent fish sandwich\n"
          ]
        },
        {
          "name": "stderr",
          "output_type": "stream",
          "text": [
            "\r 41%|████      | 606/1479 [24:45<17:11,  1.18s/it]"
          ]
        },
        {
          "name": "stdout",
          "output_type": "stream",
          "text": [
            "66\n",
            "Compatibility and Connectivity/Positive/Another great Supercharger\n"
          ]
        },
        {
          "name": "stderr",
          "output_type": "stream",
          "text": [
            "\r 41%|████      | 607/1479 [24:48<25:47,  1.77s/it]"
          ]
        },
        {
          "name": "stdout",
          "output_type": "stream",
          "text": [
            "425\n",
            "Accessibility and Amenities and Location/Negative/Plenty of fast food options close by but most require crossing very busy roads w/ no crosswalk, Wendy’s entrance is only 200’ away. In these Covid times forgot about any nearby open bathrooms. Your better off heading to the 150kW Superchargers at Breezewood (44 miles to the east) or North Huntingdon 37 miles to the west) if traveling along the Pennsylvania Turnpike (I-76).\n"
          ]
        },
        {
          "name": "stderr",
          "output_type": "stream",
          "text": [
            "\r 41%|████      | 608/1479 [24:50<27:51,  1.92s/it]"
          ]
        },
        {
          "name": "stdout",
          "output_type": "stream",
          "text": [
            "100\n",
            "Accessibility and Accessibility/Negative/Only 2 spaces are Tesla only parking so some have been ICED\n",
            "45\n",
            "Amenities and location/Negative/Wendy's sucks\n",
            "103\n",
            "Compatibility and Connectivity/Neutral/How does this happen anyway with all the sensors beeping at you?\n",
            "81\n",
            "Customer service/Neutral/Much better atmosphere and bathrooms are so much cleaner\n"
          ]
        },
        {
          "name": "stderr",
          "output_type": "stream",
          "text": [
            "\r 41%|████      | 609/1479 [24:52<26:57,  1.86s/it]"
          ]
        },
        {
          "name": "stdout",
          "output_type": "stream",
          "text": [
            "190\n",
            "Accessibility and Location/Positive/very close to the turnpike, located behind the Wendy's, the Wendy's is very clean and the bathrooms are newly renovated, parking lot had tons of pot holes\n"
          ]
        },
        {
          "name": "stderr",
          "output_type": "stream",
          "text": [
            "\r 41%|████      | 610/1479 [24:53<22:42,  1.57s/it]"
          ]
        },
        {
          "name": "stdout",
          "output_type": "stream",
          "text": [
            "90\n",
            "Accessibility and Amenities and Location/Negative/Wendy's is close and has great restrooms\n"
          ]
        },
        {
          "name": "stderr",
          "output_type": "stream",
          "text": [
            "\r 41%|████▏     | 611/1479 [24:56<29:34,  2.04s/it]"
          ]
        },
        {
          "name": "stdout",
          "output_type": "stream",
          "text": [
            "117\n",
            "Amenities and location/Positive/amenities and the stalls worked great, Hotels and other amenities in walking distance\n",
            "103\n",
            "Queue and waiting time/Neutral/the traffic in and out of the gas station was steady, not terribly busy.\n"
          ]
        },
        {
          "name": "stderr",
          "output_type": "stream",
          "text": [
            "\r 41%|████▏     | 612/1479 [24:58<30:19,  2.10s/it]"
          ]
        },
        {
          "name": "stdout",
          "output_type": "stream",
          "text": [
            "72\n",
            "Amenities and location/Positive/Sheetz lot, restrooms, convenience store\n",
            "60\n",
            "Accessibility and Accessibility/Positive/Convenient location\n",
            "125\n",
            "Queue and waiting time/Neutral/Intersections are large and you may want to drive there after charging (as opposed to walking)\n"
          ]
        },
        {
          "name": "stderr",
          "output_type": "stream",
          "text": [
            "\r 41%|████▏     | 613/1479 [25:03<43:26,  3.01s/it]"
          ]
        },
        {
          "name": "stdout",
          "output_type": "stream",
          "text": [
            "76\n",
            "Amenities and Location/Positive/Sheetz parking, restrooms, food, ALWAYS OPEN\n",
            "48\n",
            "Charging speed and efficiency/Neutral/only 150kW\n",
            "70\n",
            "Accessibility and Accessibility/Positive/being next to Sheetz is great\n",
            "50\n",
            "Availability and Accessibility/Neutral/ALWAYS OPEN\n",
            "34\n",
            "Safety/Neutral/no specific mention\n",
            "50\n",
            "Queue and waiting time/Neutral/no specific mention\n",
            "44\n",
            "Customer service/Neutral/no specific mention\n",
            "39\n",
            "Ease of use/Neutral/no specific mention\n",
            "42\n",
            "Payment option/Neutral/no specific mention\n",
            "58\n",
            "Compatibility and Connectivity/Neutral/no specific mention\n",
            "55\n",
            "Reliability and maintenance/Neutral/no specific mention\n",
            "42\n",
            "Price and cost/Neutral/no specific mention\n",
            "42\n",
            "User interface/Neutral/no specific mention\n",
            "38\n",
            "Mobile app/Neutral/no specific mention\n"
          ]
        },
        {
          "name": "stderr",
          "output_type": "stream",
          "text": [
            "\r 42%|████▏     | 614/1479 [25:06<41:03,  2.85s/it]"
          ]
        },
        {
          "name": "stdout",
          "output_type": "stream",
          "text": [
            "318\n",
            "Accessibility and Accessibility/Negative/the process of getting in and out is so painful, Expect to spend about 15 minutes on top of your plan to stop sitting in traffic, Expect there to be a line for the bathroom, Expect for the parking lot to be so crowded that multiple charging slots are used by non-Tesla vehicles\n"
          ]
        },
        {
          "name": "stderr",
          "output_type": "stream",
          "text": [
            "\r 42%|████▏     | 615/1479 [25:08<36:34,  2.54s/it]"
          ]
        },
        {
          "name": "stdout",
          "output_type": "stream",
          "text": [
            "168\n",
            "Amenities and location/Positive/Sheetz has public bathrooms and plenty of food along with WiFi and an eating area to hang out. There are some outdoor seating areas too.\n",
            "120\n",
            "Accessibility and Accessibility/Negative/the difficulty of getting out of Sheetz since the intersection has long lights.\n"
          ]
        },
        {
          "name": "stderr",
          "output_type": "stream",
          "text": [
            "\r 42%|████▏     | 616/1479 [25:08<28:14,  1.96s/it]"
          ]
        },
        {
          "name": "stdout",
          "output_type": "stream",
          "text": [
            "52\n",
            "Safety/Positive/Operational, clean and safe location\n"
          ]
        },
        {
          "name": "stderr",
          "output_type": "stream",
          "text": [
            "\r 42%|████▏     | 617/1479 [25:11<29:45,  2.07s/it]"
          ]
        },
        {
          "name": "stdout",
          "output_type": "stream",
          "text": [
            "36\n",
            "Amenities and Location/Positive/Wawa\n",
            "76\n",
            "Queue and Waiting Time/Positive/shorty and coffee at the Wawa while you wait\n",
            "46\n",
            "Safety/Positive/never at any point felt unsafe\n"
          ]
        },
        {
          "name": "stderr",
          "output_type": "stream",
          "text": [
            "\r 42%|████▏     | 618/1479 [25:12<26:44,  1.86s/it]"
          ]
        },
        {
          "name": "stdout",
          "output_type": "stream",
          "text": [
            "122\n",
            "Accessibility and Location/Positive/Great location, Quick shaded walk to Wawa, Wlak to few other shopping/eateries in area\n"
          ]
        },
        {
          "name": "stderr",
          "output_type": "stream",
          "text": [
            "\r 42%|████▏     | 619/1479 [25:12<21:09,  1.48s/it]"
          ]
        },
        {
          "name": "stdout",
          "output_type": "stream",
          "text": [
            "52\n",
            "Charging speed and efficiency/Positive/Easy and fast\n"
          ]
        },
        {
          "name": "stderr",
          "output_type": "stream",
          "text": [
            "\r 42%|████▏     | 620/1479 [25:15<24:51,  1.74s/it]"
          ]
        },
        {
          "name": "stdout",
          "output_type": "stream",
          "text": [
            "173\n",
            "Accessibility and Amenities and Location/Negative/The parking lot charges a fee, which can add up over time, especially for those who need to charge their Tesla frequently. \n",
            "145\n",
            "Charging speed and efficiency/Negative/the charging speeds at this station are slow, which can lead to longer charging times and waiting periods.\n"
          ]
        },
        {
          "name": "stderr",
          "output_type": "stream",
          "text": [
            "\r 42%|████▏     | 621/1479 [25:15<20:13,  1.41s/it]"
          ]
        },
        {
          "name": "stdout",
          "output_type": "stream",
          "text": [
            "95\n",
            "price and cost/Positive/competitive with the no-parking-fee Superchargers elsewhere in the city\n"
          ]
        },
        {
          "name": "stderr",
          "output_type": "stream",
          "text": [
            "\r 42%|████▏     | 622/1479 [25:16<17:15,  1.21s/it]"
          ]
        },
        {
          "name": "stdout",
          "output_type": "stream",
          "text": [
            "67\n",
            "Amenities and Location/Positive/Mom's Organic Market vegan for life\n"
          ]
        },
        {
          "name": "stderr",
          "output_type": "stream",
          "text": [
            "\r 42%|████▏     | 623/1479 [25:18<17:57,  1.26s/it]"
          ]
        },
        {
          "name": "stdout",
          "output_type": "stream",
          "text": [
            "169\n",
            "Accessibility and Amenities and Location/Positive/best option for supercharging in the city, MOMs Organic Market above the garage, 2 non Tesla’s parked in the Tesla spot\n"
          ]
        },
        {
          "name": "stderr",
          "output_type": "stream",
          "text": [
            "\r 42%|████▏     | 624/1479 [25:19<17:37,  1.24s/it]"
          ]
        },
        {
          "name": "stdout",
          "output_type": "stream",
          "text": [
            "139\n",
            "Accessibility and Location/Negative/paid parking lot, hard to find as the Tesla sign is very small to spot, Tesla could do better than this\n"
          ]
        },
        {
          "name": "stderr",
          "output_type": "stream",
          "text": [
            "\r 42%|████▏     | 625/1479 [25:19<15:19,  1.08s/it]"
          ]
        },
        {
          "name": "stdout",
          "output_type": "stream",
          "text": [
            "109\n",
            "This review does not provide enough information to classify it or identify any aspect terms or opinion terms.\n",
            "Error occurred: list index out of range\n"
          ]
        },
        {
          "name": "stderr",
          "output_type": "stream",
          "text": [
            "\r 42%|████▏     | 626/1479 [25:21<18:21,  1.29s/it]"
          ]
        },
        {
          "name": "stdout",
          "output_type": "stream",
          "text": [
            "193\n",
            "Accessibility and Amenities and Location/Positive/best one, quick charge, $5 garage fee, cheaper for less an hour, shop at Target or DGx, not overcrowded, never had to wait in line, nice people\n"
          ]
        },
        {
          "name": "stderr",
          "output_type": "stream",
          "text": [
            "\r 42%|████▏     | 627/1479 [25:23<19:14,  1.35s/it]"
          ]
        },
        {
          "name": "stdout",
          "output_type": "stream",
          "text": [
            "55\n",
            "Price and cost/Positive/$5 an hour, $3.48 for 150 miles\n",
            "49\n",
            "Queue and waiting time/Neutral/half an hour later\n",
            "50\n",
            "Customer service/Neutral/Can't smoke while waiting\n"
          ]
        },
        {
          "name": "stderr",
          "output_type": "stream",
          "text": [
            "\r 42%|████▏     | 628/1479 [25:25<21:19,  1.50s/it]"
          ]
        },
        {
          "name": "stdout",
          "output_type": "stream",
          "text": [
            "67\n",
            "Accessibility and Location/Positive/well located, parking of Target\n",
            "78\n",
            "Charging speed and efficiency/Positive/SR+ will fully charge in about one hour\n",
            "61\n",
            "Price and cost/Negative/Tesla will make you pay for idle time\n"
          ]
        },
        {
          "name": "stderr",
          "output_type": "stream",
          "text": [
            "\r 43%|████▎     | 629/1479 [25:26<22:39,  1.60s/it]"
          ]
        },
        {
          "name": "stdout",
          "output_type": "stream",
          "text": [
            "90\n",
            "Charging speed and efficiency/Negative/charges slowly even though I was the only one there\n",
            "46\n",
            "Price and cost/Negative/1 HOUR IN GARAGE IS 5$\n",
            "77\n",
            "Accessibility and location/Negative/charging station on a PAID parking garage\n"
          ]
        },
        {
          "name": "stderr",
          "output_type": "stream",
          "text": [
            "\r 43%|████▎     | 630/1479 [25:27<20:04,  1.42s/it]"
          ]
        },
        {
          "name": "stdout",
          "output_type": "stream",
          "text": [
            "104\n",
            "Accessibility and Amenities and location/Positive/location with 3 chargers @ 32mi/hr, Clean and well-lit\n"
          ]
        },
        {
          "name": "stderr",
          "output_type": "stream",
          "text": [
            "\r 43%|████▎     | 631/1479 [25:28<18:16,  1.29s/it]"
          ]
        },
        {
          "name": "stdout",
          "output_type": "stream",
          "text": [
            "109\n",
            "Accessibility and Amenities and Location/Positive/restrooms inside HEB, gas station, several fast food joints\n"
          ]
        },
        {
          "name": "stderr",
          "output_type": "stream",
          "text": [
            "\r 43%|████▎     | 632/1479 [25:30<21:08,  1.50s/it]"
          ]
        },
        {
          "name": "stdout",
          "output_type": "stream",
          "text": [
            "86\n",
            "reliability and maintenance/Negative/Chargers are often not working or charging slowly\n",
            "91\n",
            "Safety/Negative/In heavy rain you should avoid as you will be standing in 6 inches of water\n",
            "71\n",
            "charging speed and efficiency/Positive/Ideal when handling high voltage\n"
          ]
        },
        {
          "name": "stderr",
          "output_type": "stream",
          "text": [
            "\r 43%|████▎     | 633/1479 [25:32<21:04,  1.50s/it]"
          ]
        },
        {
          "name": "stdout",
          "output_type": "stream",
          "text": [
            "78\n",
            "Charging speed and efficiency/Positive/charged fast (120kw+), very slow (50kw)\n",
            "57\n",
            "Availability and Accessibility/Neutral/stall 2c, stall 2d\n"
          ]
        },
        {
          "name": "stderr",
          "output_type": "stream",
          "text": [
            "\r 43%|████▎     | 634/1479 [25:33<17:47,  1.26s/it]"
          ]
        },
        {
          "name": "stdout",
          "output_type": "stream",
          "text": [
            "113\n",
            "Accessibility and Amenities and location/Positive/The HEB has bathrooms and there is food around walking distance\n"
          ]
        },
        {
          "name": "stderr",
          "output_type": "stream",
          "text": [
            "\r 43%|████▎     | 635/1479 [25:34<16:09,  1.15s/it]"
          ]
        },
        {
          "name": "stdout",
          "output_type": "stream",
          "text": [
            "88\n",
            "Accessibility and Location/Positive/Great spot to charge on your way back from Starbase!\n"
          ]
        },
        {
          "name": "stderr",
          "output_type": "stream",
          "text": [
            "\r 43%|████▎     | 636/1479 [25:35<15:36,  1.11s/it]"
          ]
        },
        {
          "name": "stdout",
          "output_type": "stream",
          "text": [
            "124\n",
            "Amenities and location/Positive/lots of great options within walking distance while you charge, Dos Olivos across the street\n"
          ]
        },
        {
          "name": "stderr",
          "output_type": "stream",
          "text": [
            "\r 43%|████▎     | 637/1479 [25:36<16:53,  1.20s/it]"
          ]
        },
        {
          "name": "stdout",
          "output_type": "stream",
          "text": [
            "27\n",
            "Overall sentiment: Positive\n",
            "Error occurred: list index out of range\n"
          ]
        },
        {
          "name": "stderr",
          "output_type": "stream",
          "text": [
            "\r 43%|████▎     | 638/1479 [25:37<14:40,  1.05s/it]"
          ]
        },
        {
          "name": "stdout",
          "output_type": "stream",
          "text": [
            "49\n",
            "Amenities and Location/Positive/next to Wing Stop\n"
          ]
        },
        {
          "name": "stderr",
          "output_type": "stream",
          "text": [
            "\r 43%|████▎     | 639/1479 [25:38<16:22,  1.17s/it]"
          ]
        },
        {
          "name": "stdout",
          "output_type": "stream",
          "text": [
            "102\n",
            "Charging speed and efficiency/Positive/Liquid-cooled Version 3 superchargers. Initial charge 1,000Kph!\n",
            "58\n",
            "Amenities and Location/Positive/Good restaurants opposite.\n"
          ]
        },
        {
          "name": "stderr",
          "output_type": "stream",
          "text": [
            "\r 43%|████▎     | 640/1479 [25:41<21:55,  1.57s/it]"
          ]
        },
        {
          "name": "stdout",
          "output_type": "stream",
          "text": [
            "87\n",
            "Accessibility and Location/Positive/Holiday Inn Resort South Padre Island- On the beach\n",
            "73\n",
            "Charging speed and efficiency/Positive/3 operational superchargers stalls\n",
            "77\n",
            "Availability and Accessibility/Positive/all 3 were available when I pulled up\n",
            "93\n",
            "Amenities and Location/Positive/8 level 2 free Tesla chargers located in the same parking lot\n"
          ]
        },
        {
          "name": "stderr",
          "output_type": "stream",
          "text": [
            "\r 43%|████▎     | 641/1479 [25:42<22:42,  1.63s/it]"
          ]
        },
        {
          "name": "stdout",
          "output_type": "stream",
          "text": [
            "207\n",
            "Accessibility and Location/Positive/Beach Resort at South Padre Island, Taco Palenque fast food restaurant, bar and grill, access to the beach for free, 2 working superchargers, 4 level 2 free Tesla chargers\n"
          ]
        },
        {
          "name": "stderr",
          "output_type": "stream",
          "text": [
            "\r 43%|████▎     | 642/1479 [25:45<27:02,  1.94s/it]"
          ]
        },
        {
          "name": "stdout",
          "output_type": "stream",
          "text": [
            "242\n",
            "Accessibility and Amenities and Location/Positive/Great area to have dinner (Seaside) and charge your Tesla at the same time. The Level 2 Tesla chargers are free but expect 3 to 4 hours of wait time depending how much battery juice is needed.\n"
          ]
        },
        {
          "name": "stderr",
          "output_type": "stream",
          "text": [
            "\r 43%|████▎     | 643/1479 [25:46<22:32,  1.62s/it]"
          ]
        },
        {
          "name": "stdout",
          "output_type": "stream",
          "text": [
            "100\n",
            "Accessibility and Location/Positive/co-located outside a hotel, restrooms and a restaurant available\n"
          ]
        },
        {
          "name": "stderr",
          "output_type": "stream",
          "text": [
            "\r 44%|████▎     | 644/1479 [25:47<19:07,  1.37s/it]"
          ]
        },
        {
          "name": "stdout",
          "output_type": "stream",
          "text": [
            "93\n",
            "Accessibility and Accessibility/Negative/Supercharger space partially block by non-EV vehicle\n"
          ]
        },
        {
          "name": "stderr",
          "output_type": "stream",
          "text": [
            "\r 44%|████▎     | 645/1479 [25:48<18:56,  1.36s/it]"
          ]
        },
        {
          "name": "stdout",
          "output_type": "stream",
          "text": [
            "93\n",
            "Accessibility and Location/Neutral/4 super chargers weird parking, many chargers at the hotel\n",
            "57\n",
            "Charging speed and efficiency/Positive/best on the island\n"
          ]
        },
        {
          "name": "stderr",
          "output_type": "stream",
          "text": [
            "\r 44%|████▎     | 646/1479 [25:49<17:03,  1.23s/it]"
          ]
        },
        {
          "name": "stdout",
          "output_type": "stream",
          "text": [
            "162\n",
            "Accessibility and Amenities and Location/Positive/first floor of the parking garage, hotel and condo guests, Tesla connector, charges fast, 2 out of 4 cords work.\n"
          ]
        },
        {
          "name": "stderr",
          "output_type": "stream",
          "text": [
            "\r 44%|████▎     | 647/1479 [25:50<15:16,  1.10s/it]"
          ]
        },
        {
          "name": "stdout",
          "output_type": "stream",
          "text": [
            "101\n",
            "This review does not mention any specific aspects or provide any opinion terms or sentiment polarity.\n",
            "Error occurred: list index out of range\n"
          ]
        },
        {
          "name": "stderr",
          "output_type": "stream",
          "text": [
            "\r 44%|████▍     | 648/1479 [25:53<22:39,  1.64s/it]"
          ]
        },
        {
          "name": "stdout",
          "output_type": "stream",
          "text": [
            "49\n",
            "Accessibility and Location/Neutral/Embassy Suites\n",
            "125\n",
            "Compatibility and Connectivity/Negative/There is a charger configured as a pull through, but you can't actually pull through.\n",
            "184\n",
            "Reliability and Maintenance/Negative/Getting to the area right now is a nightmare. There is an unmanageable amount of poorly planned construction on the highways in the immediate area.\n",
            "97\n",
            "Charging Speed and Efficiency/Positive/The superchargers themselves are fine (though only 150kwh)\n"
          ]
        },
        {
          "name": "stderr",
          "output_type": "stream",
          "text": [
            "\r 44%|████▍     | 649/1479 [25:53<18:59,  1.37s/it]"
          ]
        },
        {
          "name": "stdout",
          "output_type": "stream",
          "text": [
            "106\n",
            "Availability and Accessibility/Positive/all chargers available and enough places to visit while you charge\n"
          ]
        },
        {
          "name": "stderr",
          "output_type": "stream",
          "text": [
            "\r 44%|████▍     | 650/1479 [25:54<17:30,  1.27s/it]"
          ]
        },
        {
          "name": "stdout",
          "output_type": "stream",
          "text": [
            "108\n",
            "Amenities and location/Positive/Nice area for a walk while charging, Hotel was clean and had good bathrooms.\n"
          ]
        },
        {
          "name": "stderr",
          "output_type": "stream",
          "text": [
            "\r 44%|████▍     | 651/1479 [25:55<16:03,  1.16s/it]"
          ]
        },
        {
          "name": "stdout",
          "output_type": "stream",
          "text": [
            "53\n",
            "Charging speed and efficiency/Positive/Fast and clean\n"
          ]
        },
        {
          "name": "stderr",
          "output_type": "stream",
          "text": [
            "\r 44%|████▍     | 652/1479 [25:57<17:02,  1.24s/it]"
          ]
        },
        {
          "name": "stdout",
          "output_type": "stream",
          "text": [
            "191\n",
            "Accessibility and Amenities and Location/Positive/Great chargers, prime hotel parking, hotel staff is very responsive to provide access, some staff will park there to keep some spots reserved\n"
          ]
        },
        {
          "name": "stderr",
          "output_type": "stream",
          "text": [
            "\r 44%|████▍     | 653/1479 [25:57<14:18,  1.04s/it]"
          ]
        },
        {
          "name": "stdout",
          "output_type": "stream",
          "text": [
            "55\n",
            "Compatibility and Connectivity/Neutral/10 kw power flow\n"
          ]
        },
        {
          "name": "stderr",
          "output_type": "stream",
          "text": [
            "\r 44%|████▍     | 654/1479 [26:02<28:42,  2.09s/it]"
          ]
        },
        {
          "name": "stdout",
          "output_type": "stream",
          "text": [
            "84\n",
            "Compatibility and Connectivity/Neutral/j1772 chargers, as of October 2022. Not Tesla\n",
            "52\n",
            "Price and Cost/Neutral/$3/hour is not the best price\n",
            "61\n",
            "Charging speed and efficiency/Positive/the charger seems fast\n",
            "64\n",
            "Ease of use/Positive/Required downloading a new app called AmpUp\n",
            "98\n",
            "Accessibility and Accessibility/Positive/the cord is long enough to reach me in the next spot over\n",
            "74\n",
            "Amenities and Location/Neutral/There is also a NEMA 14-50r four prong plug\n",
            "72\n",
            "Price and Cost/Positive/That one appears to be free(!?) for hotel guests\n"
          ]
        },
        {
          "name": "stderr",
          "output_type": "stream",
          "text": [
            "\r 44%|████▍     | 655/1479 [26:11<55:41,  4.06s/it]"
          ]
        },
        {
          "name": "stdout",
          "output_type": "stream",
          "text": [
            "986\n",
            "Accessibility and Accessibility/Negative/The Tesla destination chargers were replaced with JuiceBar chargers that use AmpUp to charge you. They have J1772 plugs and charge at 10kW. The current rate is $3/hour plus taxes, fees, and idle fees ($5/hour starting 30 minutes after charging finishes). Max allowed charging time is 4 hours. Then you have to go unplug and plug back in to start a new session. The NEMA 14-50 and NEMA 5-20 (120v) outlets are still there if you have your UMC on you. The two times I used the 14-50 outlets, I had to turn on the circuit breakers in the breaker panel not too far away. There are three charger plugs and three outlets of each that reach four parking spaces, although a couple of spots were usually ICE’d. I recommend bringing your J1772 adapter if you plan to use the charger, and also bringing your Mobile Connector with a 14-50 adapter if you don’t feel like going through the trouble of dealing with AmpUp and needing to reconnect after 4 hours.\n"
          ]
        },
        {
          "name": "stderr",
          "output_type": "stream",
          "text": [
            "\r 44%|████▍     | 656/1479 [26:12<43:19,  3.16s/it]"
          ]
        },
        {
          "name": "stdout",
          "output_type": "stream",
          "text": [
            "133\n",
            "Accessibility and Availability/Negative/only one charger works and it’s always a gamble for a spot due to ICE vehicles parking there.\n"
          ]
        },
        {
          "name": "stderr",
          "output_type": "stream",
          "text": [
            "\r 44%|████▍     | 657/1479 [26:12<33:44,  2.46s/it]"
          ]
        },
        {
          "name": "stdout",
          "output_type": "stream",
          "text": [
            "94\n",
            "Accessibility and Amenities and Location/Negative/eight Tesla Chargers, six or seven were iced\n"
          ]
        },
        {
          "name": "stderr",
          "output_type": "stream",
          "text": [
            "\r 44%|████▍     | 658/1479 [26:14<30:51,  2.25s/it]"
          ]
        },
        {
          "name": "stdout",
          "output_type": "stream",
          "text": [
            "62\n",
            "Compatibility and Connectivity/Positive/charge my M3D at 39mph\n"
          ]
        },
        {
          "name": "stderr",
          "output_type": "stream",
          "text": [
            "\r 45%|████▍     | 659/1479 [26:16<29:18,  2.14s/it]"
          ]
        },
        {
          "name": "stdout",
          "output_type": "stream",
          "text": [
            "80\n",
            "Charging speed and efficiency/Negative/on the slower side, really slowed us down\n",
            "49\n",
            "Queue and waiting time/Negative/a 30+ minute stop\n",
            "60\n",
            "Amenities and location/Positive/a variety of shopping around\n"
          ]
        },
        {
          "name": "stderr",
          "output_type": "stream",
          "text": [
            "\r 45%|████▍     | 660/1479 [26:18<27:51,  2.04s/it]"
          ]
        },
        {
          "name": "stdout",
          "output_type": "stream",
          "text": [
            "236\n",
            "Accessibility and Location/Negative/Terribly difficult to get to off the interstate. Many lights and in a busy Target / Meijer parking lot. Tucked in next to a large CCS charger. Cincinnati really needs additional supercharging options.\n"
          ]
        },
        {
          "name": "stderr",
          "output_type": "stream",
          "text": [
            "\r 45%|████▍     | 661/1479 [26:20<27:49,  2.04s/it]"
          ]
        },
        {
          "name": "stdout",
          "output_type": "stream",
          "text": [
            "259\n",
            "Accessibility and Amenities and Location/Negative/Meijer and Target both here for bathrooms and shopping. Not sure if it is the Tesla owners or the rest of the parking but it is normally filled with debris and other trash. Not too well lit if you go at night.\n"
          ]
        },
        {
          "name": "stderr",
          "output_type": "stream",
          "text": [
            "\r 45%|████▍     | 662/1479 [26:21<23:50,  1.75s/it]"
          ]
        },
        {
          "name": "stdout",
          "output_type": "stream",
          "text": [
            "95\n",
            "Amenities and location/Negative/very dirty, half the charges handles were just thrown on ground\n"
          ]
        },
        {
          "name": "stderr",
          "output_type": "stream",
          "text": [
            "\r 45%|████▍     | 663/1479 [26:22<18:52,  1.39s/it]"
          ]
        },
        {
          "name": "stdout",
          "output_type": "stream",
          "text": [
            "58\n",
            "Accessibility and Accessibility/Negative/Could not find it\n"
          ]
        },
        {
          "name": "stderr",
          "output_type": "stream",
          "text": [
            "\r 45%|████▍     | 664/1479 [26:23<17:29,  1.29s/it]"
          ]
        },
        {
          "name": "stdout",
          "output_type": "stream",
          "text": [
            "161\n",
            "Accessibility and Amenities and Location/Negative/Paid valet parking required to access the charger, Restaurants in the area are either closed or super expensive\n"
          ]
        },
        {
          "name": "stderr",
          "output_type": "stream",
          "text": [
            "\r 45%|████▍     | 665/1479 [26:24<16:43,  1.23s/it]"
          ]
        },
        {
          "name": "stdout",
          "output_type": "stream",
          "text": [
            "136\n",
            "Accessibility and Accessibility/Negative/valet parking area which is currently closed (June 29, 2021) so they’re completely inaccessible\n"
          ]
        },
        {
          "name": "stderr",
          "output_type": "stream",
          "text": [
            "\r 45%|████▌     | 666/1479 [26:25<17:06,  1.26s/it]"
          ]
        },
        {
          "name": "stdout",
          "output_type": "stream",
          "text": [
            "125\n",
            "Accessibility and Location/Positive/13 bays, easy to get in and out, easy entrance to both 75 NORTH and SOUTH on Houston Road\n"
          ]
        },
        {
          "name": "stderr",
          "output_type": "stream",
          "text": [
            "\r 45%|████▌     | 667/1479 [26:27<19:49,  1.47s/it]"
          ]
        },
        {
          "name": "stdout",
          "output_type": "stream",
          "text": [
            "247\n",
            "Accessibility and Location/Positive/Meijer grocery store parking lot, several food options, tons of shopping options nearby, walking distance, solid cell reception on att with full bars on 5g, plenty of grassy areas for pets to relieve themselves.\n"
          ]
        },
        {
          "name": "stderr",
          "output_type": "stream",
          "text": [
            "\r 45%|████▌     | 668/1479 [26:28<19:45,  1.46s/it]"
          ]
        },
        {
          "name": "stdout",
          "output_type": "stream",
          "text": [
            "155\n",
            "Charging speed and efficiency/Positive/250KW supercharger, currently all working and Meijer keeps the spots clean during snow. I got 1100mi/hr charge rate!\n"
          ]
        },
        {
          "name": "stderr",
          "output_type": "stream",
          "text": [
            "\r 45%|████▌     | 669/1479 [26:29<15:29,  1.15s/it]"
          ]
        },
        {
          "name": "stdout",
          "output_type": "stream",
          "text": [
            "56\n",
            "Accessibility and Location/Negative/slowest supercharger\n"
          ]
        },
        {
          "name": "stderr",
          "output_type": "stream",
          "text": [
            "\r 45%|████▌     | 670/1479 [26:30<13:42,  1.02s/it]"
          ]
        },
        {
          "name": "stdout",
          "output_type": "stream",
          "text": [
            "51\n",
            "Amenities and Location/Positive/Meijer, Dragon City\n"
          ]
        },
        {
          "name": "stderr",
          "output_type": "stream",
          "text": [
            "\r 45%|████▌     | 671/1479 [26:30<12:33,  1.07it/s]"
          ]
        },
        {
          "name": "stdout",
          "output_type": "stream",
          "text": [
            "87\n",
            "Accessibility and Accessibility/Positive/front desk staff was very friendly and helpful\n"
          ]
        },
        {
          "name": "stderr",
          "output_type": "stream",
          "text": [
            "\r 45%|████▌     | 672/1479 [26:31<11:21,  1.18it/s]"
          ]
        },
        {
          "name": "stdout",
          "output_type": "stream",
          "text": [
            "53\n",
            "Compatibility and Connectivity/Negative/Doesn't work.\n"
          ]
        },
        {
          "name": "stderr",
          "output_type": "stream",
          "text": [
            "\r 46%|████▌     | 673/1479 [26:33<16:13,  1.21s/it]"
          ]
        },
        {
          "name": "stdout",
          "output_type": "stream",
          "text": [
            "31\n",
            "Location/Positive/good location\n",
            "45\n",
            "Charging speed and efficiency/Positive/48 amp\n",
            "55\n",
            "Reliability and maintenance/Positive/Served its purpose\n",
            "114\n",
            "Queue and waiting time/Neutral/Did not plan on going out but had to so charge was going to be teens for miles left\n"
          ]
        },
        {
          "name": "stderr",
          "output_type": "stream",
          "text": [
            "\r 46%|████▌     | 674/1479 [26:34<14:14,  1.06s/it]"
          ]
        },
        {
          "name": "stdout",
          "output_type": "stream",
          "text": [
            "73\n",
            "Accessibility and Location/Positive/grocery store and several restaurants\n"
          ]
        },
        {
          "name": "stderr",
          "output_type": "stream",
          "text": [
            "\r 46%|████▌     | 675/1479 [26:35<13:23,  1.00it/s]"
          ]
        },
        {
          "name": "stdout",
          "output_type": "stream",
          "text": [
            "63\n",
            "Accessibility and Location/Positive/Next to the big supermarket\n"
          ]
        },
        {
          "name": "stderr",
          "output_type": "stream",
          "text": [
            "\r 46%|████▌     | 676/1479 [26:35<12:25,  1.08it/s]"
          ]
        },
        {
          "name": "stdout",
          "output_type": "stream",
          "text": [
            "61\n",
            "Accessibility and Amenities and Location/Positive/many things\n"
          ]
        },
        {
          "name": "stderr",
          "output_type": "stream",
          "text": [
            "\r 46%|████▌     | 677/1479 [26:36<12:09,  1.10it/s]"
          ]
        },
        {
          "name": "stdout",
          "output_type": "stream",
          "text": [
            "111\n",
            "Accessibility and Location/Positive/Convenient location right next to a grocery store and usually not very busy\n"
          ]
        },
        {
          "name": "stderr",
          "output_type": "stream",
          "text": [
            "\r 46%|████▌     | 678/1479 [26:37<11:55,  1.12it/s]"
          ]
        },
        {
          "name": "stdout",
          "output_type": "stream",
          "text": [
            "88\n",
            "Amenities and Location/Positive/Grocery store, restaurants, and shops in close proximity\n"
          ]
        },
        {
          "name": "stderr",
          "output_type": "stream",
          "text": [
            "\r 46%|████▌     | 679/1479 [26:38<12:07,  1.10it/s]"
          ]
        },
        {
          "name": "stdout",
          "output_type": "stream",
          "text": [
            "110\n",
            "Accessibility and Amenities and location/Negative/parking garage of Hard Rock Casino, full of trash all around\n"
          ]
        },
        {
          "name": "stderr",
          "output_type": "stream",
          "text": [
            "\r 46%|████▌     | 680/1479 [26:40<16:41,  1.25s/it]"
          ]
        },
        {
          "name": "stdout",
          "output_type": "stream",
          "text": [
            "52\n",
            "Accessibility and Accessibility/Negative/parking fee\n",
            "68\n",
            "Amenities and location/Neutral/It is hard for me to reach the ticket\n",
            "43\n",
            "Charging speed and efficiency/Neutral/150kw\n",
            "41\n",
            "Safety/Positive/Lighting is good at night\n",
            "50\n",
            "Availability and Accessibility/Neutral/14 chargers\n"
          ]
        },
        {
          "name": "stderr",
          "output_type": "stream",
          "text": [
            "\r 46%|████▌     | 681/1479 [26:44<29:32,  2.22s/it]"
          ]
        },
        {
          "name": "stdout",
          "output_type": "stream",
          "text": [
            "51\n",
            "Accessibility and Accessibility/Negative/no summary\n",
            "42\n",
            "Amenities and location/Negative/no summary\n",
            "305\n",
            "Queue and waiting time/Negative/line of 6 cars waiting for an open charger, cars kept coming in and sometimes ignored the line and snagged a charger after previous electric car backed out and was in front of the waiting line, the just arrived new car would take the charger, making the waiting time longer\n",
            "47\n",
            "Reliability and maintenance/Negative/no summary\n",
            "61\n",
            "Price and cost/Negative/access to charger doubled cost for me\n",
            "103\n",
            "Charging speed and efficiency/Negative/long wait caused the preconditioning to wear off and took longer\n",
            "36\n",
            "Customer service/Negative/no summary\n"
          ]
        },
        {
          "name": "stderr",
          "output_type": "stream",
          "text": [
            "\r 46%|████▌     | 682/1479 [26:46<28:25,  2.14s/it]"
          ]
        },
        {
          "name": "stdout",
          "output_type": "stream",
          "text": [
            "102\n",
            "Accessibility and Accessibility/Neutral/free parking for the first hour, starts costing $15 after that\n",
            "86\n",
            "Availability and Accessibility/Neutral/Confirm supercharger availability ahead of time\n",
            "66\n",
            "Queue and waiting time/Neutral/won't be there for more than 45 min\n"
          ]
        },
        {
          "name": "stderr",
          "output_type": "stream",
          "text": [
            "\r 46%|████▌     | 683/1479 [26:47<23:31,  1.77s/it]"
          ]
        },
        {
          "name": "stdout",
          "output_type": "stream",
          "text": [
            "88\n",
            "Accessibility and Amenities and location/Negative/often crowded and not always available\n"
          ]
        },
        {
          "name": "stderr",
          "output_type": "stream",
          "text": [
            "\r 46%|████▌     | 684/1479 [26:48<19:06,  1.44s/it]"
          ]
        },
        {
          "name": "stdout",
          "output_type": "stream",
          "text": [
            "55\n",
            "Accessibility and Accessibility/Positive/charge quickly\n",
            "100\n",
            "reliability and maintenance/Negative/car was unplugged and blocking anyone else from using the space\n"
          ]
        },
        {
          "name": "stderr",
          "output_type": "stream",
          "text": [
            "\r 46%|████▋     | 685/1479 [26:50<20:15,  1.53s/it]"
          ]
        },
        {
          "name": "stdout",
          "output_type": "stream",
          "text": [
            "228\n",
            "Accessibility and Amenities and Location/Negative/Cell service is really bad at this location, there's nothing around to occupy time, The casino is smokey and dirty, not the best neighborhood with a lot of transient foot traffic\n"
          ]
        },
        {
          "name": "stderr",
          "output_type": "stream",
          "text": [
            "\r 46%|████▋     | 686/1479 [26:51<17:30,  1.32s/it]"
          ]
        },
        {
          "name": "stdout",
          "output_type": "stream",
          "text": [
            "77\n",
            "Amenities and location/Neutral/casino, average restaurants nearby, cool Tesla\n"
          ]
        },
        {
          "name": "stderr",
          "output_type": "stream",
          "text": [
            "\r 46%|████▋     | 687/1479 [26:51<15:42,  1.19s/it]"
          ]
        },
        {
          "name": "stdout",
          "output_type": "stream",
          "text": [
            "61\n",
            "charging speed and efficiency/Negative/80% max charge setting\n"
          ]
        },
        {
          "name": "stderr",
          "output_type": "stream",
          "text": [
            "\r 47%|████▋     | 688/1479 [26:52<14:38,  1.11s/it]"
          ]
        },
        {
          "name": "stdout",
          "output_type": "stream",
          "text": [
            "70\n",
            "This review does not mention any aspects related to the provided list.\n",
            "Error occurred: list index out of range\n"
          ]
        },
        {
          "name": "stderr",
          "output_type": "stream",
          "text": [
            "\r 47%|████▋     | 689/1479 [26:57<26:37,  2.02s/it]"
          ]
        },
        {
          "name": "stdout",
          "output_type": "stream",
          "text": [
            "481\n",
            "Accessibility and Availability/Positive/Stopped here to charge my Model Y LR. Coming for the day from Pacifica, CA. Just a few spaces (6), but very clean and I plugged into 1A and hallelujah, it's charging at 138kw. I was down to 50 miles and I'll be on my way in less than 1 hour. Meantime went to Save Mart to get some food! Perfect way to end a beautiful trip to Tahoe! Soooo Glad I went with a Tesla as their Accessibility+Availability is second to None! No range anxiety here!\n"
          ]
        },
        {
          "name": "stderr",
          "output_type": "stream",
          "text": [
            "\r 47%|████▋     | 690/1479 [26:58<22:30,  1.71s/it]"
          ]
        },
        {
          "name": "stdout",
          "output_type": "stream",
          "text": [
            "104\n",
            "queue and waiting time/Positive/no waiting if people returned to their car when the charging is finished\n"
          ]
        },
        {
          "name": "stderr",
          "output_type": "stream",
          "text": [
            "\r 47%|████▋     | 691/1479 [27:00<24:16,  1.85s/it]"
          ]
        },
        {
          "name": "stdout",
          "output_type": "stream",
          "text": [
            "245\n",
            "Accessibility and Amenities and Location/Positive/Tahoe city is Tesla friendly and EV in general, alone with 6 stalls of superchargers there is one nifty Tesla charger that will charge you at the speed of 27mi/hr or 36A for free! Good job Tahoe!\n"
          ]
        },
        {
          "name": "stderr",
          "output_type": "stream",
          "text": [
            "\r 47%|████▋     | 692/1479 [27:01<21:46,  1.66s/it]"
          ]
        },
        {
          "name": "stdout",
          "output_type": "stream",
          "text": [
            "155\n",
            "Accessibility and Availability/Negative/Some of the chargers were under the snow. Could also benefit from adding more. Limited availability with wait time.\n"
          ]
        },
        {
          "name": "stderr",
          "output_type": "stream",
          "text": [
            "\r 47%|████▋     | 693/1479 [27:02<18:37,  1.42s/it]"
          ]
        },
        {
          "name": "stdout",
          "output_type": "stream",
          "text": [
            "42\n",
            "Amenities and location/Neutral/No restroom\n",
            "50\n",
            "Availability and Accessibility/Neutral/mostly full\n"
          ]
        },
        {
          "name": "stderr",
          "output_type": "stream",
          "text": [
            "\r 47%|████▋     | 694/1479 [27:03<15:47,  1.21s/it]"
          ]
        },
        {
          "name": "stdout",
          "output_type": "stream",
          "text": [
            "76\n",
            "Accessibility and Accessibility/Positive/Nice and convenient, 250kw charger.\n"
          ]
        },
        {
          "name": "stderr",
          "output_type": "stream",
          "text": [
            "\r 47%|████▋     | 695/1479 [27:04<15:27,  1.18s/it]"
          ]
        },
        {
          "name": "stdout",
          "output_type": "stream",
          "text": [
            "120\n",
            "Reliability and maintenance/Positive/Main chargers were down but they brought in two temporary super chargers that work!\n"
          ]
        },
        {
          "name": "stderr",
          "output_type": "stream",
          "text": [
            "\r 47%|████▋     | 696/1479 [27:05<14:48,  1.14s/it]"
          ]
        },
        {
          "name": "stdout",
          "output_type": "stream",
          "text": [
            "104\n",
            "reliability and maintenance/Negative/OUT OF ORDER and 6 of 8 stations are wrapped in yellow caution tape\n"
          ]
        },
        {
          "name": "stderr",
          "output_type": "stream",
          "text": [
            "\r 47%|████▋     | 697/1479 [27:05<13:30,  1.04s/it]"
          ]
        },
        {
          "name": "stdout",
          "output_type": "stream",
          "text": [
            "90\n",
            "Availability and Accessibility/Negative/charger as available, This one in Fargo ND is down\n"
          ]
        },
        {
          "name": "stderr",
          "output_type": "stream",
          "text": [
            "\r 47%|████▋     | 698/1479 [27:07<14:59,  1.15s/it]"
          ]
        },
        {
          "name": "stdout",
          "output_type": "stream",
          "text": [
            "94\n",
            "Amenities and location/Neutral/Wish there was a squeegee and garbage were next to the chargers\n",
            "67\n",
            "Accessibility and Accessibility/Neutral/Bathrooms in mall are clean\n"
          ]
        },
        {
          "name": "stderr",
          "output_type": "stream",
          "text": [
            "\r 47%|████▋     | 699/1479 [27:08<13:24,  1.03s/it]"
          ]
        },
        {
          "name": "stdout",
          "output_type": "stream",
          "text": [
            "57\n",
            "Accessibility and Accessibility/Positive/Very convenient.\n"
          ]
        },
        {
          "name": "stderr",
          "output_type": "stream",
          "text": [
            "\r 47%|████▋     | 700/1479 [27:09<12:48,  1.01it/s]"
          ]
        },
        {
          "name": "stdout",
          "output_type": "stream",
          "text": [
            "125\n",
            "Accessibility and Location/Negative/restaurant options are across multi lane highways with no pedestrian signals or sidewalks\n"
          ]
        },
        {
          "name": "stderr",
          "output_type": "stream",
          "text": [
            "\r 47%|████▋     | 701/1479 [27:09<12:36,  1.03it/s]"
          ]
        },
        {
          "name": "stdout",
          "output_type": "stream",
          "text": [
            "107\n",
            "Accessibility and Amenities and Location/Positive/sheets gas station/truck stop, nice store, clean bathroom\n"
          ]
        },
        {
          "name": "stderr",
          "output_type": "stream",
          "text": [
            "\r 47%|████▋     | 702/1479 [27:11<16:31,  1.28s/it]"
          ]
        },
        {
          "name": "stdout",
          "output_type": "stream",
          "text": [
            "103\n",
            "Accessibility and Location/Positive/Sheetz gas station, nice, safe location, Right off of interstate 40\n",
            "48\n",
            "Charging speed and efficiency/Neutral/only 150kW\n",
            "73\n",
            "Compatibility and Connectivity/Neutral/prefer to stop at the 250kW places\n"
          ]
        },
        {
          "name": "stderr",
          "output_type": "stream",
          "text": [
            "\r 48%|████▊     | 703/1479 [27:13<15:53,  1.23s/it]"
          ]
        },
        {
          "name": "stdout",
          "output_type": "stream",
          "text": [
            "113\n",
            "reliability and maintenance/Negative/2!! Chargers not working and a mini van that is taking up 2 places to charge\n"
          ]
        },
        {
          "name": "stderr",
          "output_type": "stream",
          "text": [
            "\r 48%|████▊     | 704/1479 [27:14<14:48,  1.15s/it]"
          ]
        },
        {
          "name": "stdout",
          "output_type": "stream",
          "text": [
            "101\n",
            "Accessibility and Amenities and location/Positive/chargers are working, hobby lobby etc very close by\n"
          ]
        },
        {
          "name": "stderr",
          "output_type": "stream",
          "text": [
            "\r 48%|████▊     | 705/1479 [27:14<13:08,  1.02s/it]"
          ]
        },
        {
          "name": "stdout",
          "output_type": "stream",
          "text": [
            "87\n",
            "Accessibility and Location/Positive/good location in Walmart parking lot Overland Boise\n"
          ]
        },
        {
          "name": "stderr",
          "output_type": "stream",
          "text": [
            "\r 48%|████▊     | 706/1479 [27:17<19:46,  1.54s/it]"
          ]
        },
        {
          "name": "stdout",
          "output_type": "stream",
          "text": [
            "315\n",
            "Accessibility and Amenities and location/Negative/The rates seem a little high and I often find at least one station out of order or has trouble connecting to my vehicle. I wish they had trash cans too. After saying all that, I wouldn't be able to get around without these, so I appreciate them very much. I'm criti\n"
          ]
        },
        {
          "name": "stderr",
          "output_type": "stream",
          "text": [
            "\r 48%|████▊     | 707/1479 [27:18<17:27,  1.36s/it]"
          ]
        },
        {
          "name": "stdout",
          "output_type": "stream",
          "text": [
            "99\n",
            "Compatibility and Connectivity/Negative/Tried 3 different chargers . Still couldn’t get it to work!\n"
          ]
        },
        {
          "name": "stderr",
          "output_type": "stream",
          "text": [
            "\r 48%|████▊     | 708/1479 [27:19<16:34,  1.29s/it]"
          ]
        },
        {
          "name": "stdout",
          "output_type": "stream",
          "text": [
            "126\n",
            "reliability and maintenance/Negative/always at least one charger not working, activation protocols could use some serious work\n"
          ]
        },
        {
          "name": "stderr",
          "output_type": "stream",
          "text": [
            "\r 48%|████▊     | 709/1479 [27:20<16:04,  1.25s/it]"
          ]
        },
        {
          "name": "stdout",
          "output_type": "stream",
          "text": [
            "101\n",
            "reliability and maintenance/Negative/Most of them require a 2nd or 3rd try to get the charger to work\n"
          ]
        },
        {
          "name": "stderr",
          "output_type": "stream",
          "text": [
            "\r 48%|████▊     | 710/1479 [27:21<14:45,  1.15s/it]"
          ]
        },
        {
          "name": "stdout",
          "output_type": "stream",
          "text": [
            "109\n",
            "Accessibility and Amenities and location/Positive/Great access and gives you plenty to look at while you wait\n"
          ]
        },
        {
          "name": "stderr",
          "output_type": "stream",
          "text": [
            "\r 48%|████▊     | 711/1479 [27:22<12:06,  1.06it/s]"
          ]
        },
        {
          "name": "stdout",
          "output_type": "stream",
          "text": [
            "55\n",
            "Charging speed and efficiency/Positive/Very fast charge\n"
          ]
        },
        {
          "name": "stderr",
          "output_type": "stream",
          "text": [
            "\r 48%|████▊     | 712/1479 [27:24<19:08,  1.50s/it]"
          ]
        },
        {
          "name": "stdout",
          "output_type": "stream",
          "text": [
            "109\n",
            "Accessibility and Accessibility/Positive/these two charging stations have had a positive impact in my travels\n",
            "67\n",
            "Ease of use/Positive/ready to serve up electrons without any hassle\n",
            "99\n",
            "Reliability and maintenance/Positive/worthy of top spot for being there ready to serve up electrons\n",
            "100\n",
            "Charging speed and efficiency/Positive/giving my battery what it needs to move the car going forward\n"
          ]
        },
        {
          "name": "stderr",
          "output_type": "stream",
          "text": [
            "\r 48%|████▊     | 713/1479 [27:26<19:27,  1.52s/it]"
          ]
        },
        {
          "name": "stdout",
          "output_type": "stream",
          "text": [
            "63\n",
            "Amenities and location/Positive/lobby area, nice clean restroom\n",
            "63\n",
            "Queue and waiting time/Positive/wait for your vehicle to charge\n",
            "43\n",
            "Price and cost/Positive/no cost to the user\n"
          ]
        },
        {
          "name": "stderr",
          "output_type": "stream",
          "text": [
            "\r 48%|████▊     | 714/1479 [27:27<15:54,  1.25s/it]"
          ]
        },
        {
          "name": "stdout",
          "output_type": "stream",
          "text": [
            "62\n",
            "Reliability and maintenance/Positive/no problems charging here\n"
          ]
        },
        {
          "name": "stderr",
          "output_type": "stream",
          "text": [
            "\r 48%|████▊     | 715/1479 [27:27<14:35,  1.15s/it]"
          ]
        },
        {
          "name": "stdout",
          "output_type": "stream",
          "text": [
            "135\n",
            "reliability and maintenance/Negative/Only one charger works here at the e470 toll authority. Also it suspends mid charge for no reason.\n"
          ]
        },
        {
          "name": "stderr",
          "output_type": "stream",
          "text": [
            "\r 48%|████▊     | 716/1479 [27:29<14:35,  1.15s/it]"
          ]
        },
        {
          "name": "stdout",
          "output_type": "stream",
          "text": [
            "72\n",
            "Accessibility and Location/Positive/Great charging station, easy to find\n",
            "45\n",
            "Amenities and Location/Positive/free charging\n"
          ]
        },
        {
          "name": "stderr",
          "output_type": "stream",
          "text": [
            "\r 48%|████▊     | 717/1479 [27:30<14:25,  1.14s/it]"
          ]
        },
        {
          "name": "stdout",
          "output_type": "stream",
          "text": [
            "116\n",
            "reliability and maintenance/Negative/Station KEIFER is broken and will not start a charging session with the vehicle\n"
          ]
        },
        {
          "name": "stderr",
          "output_type": "stream",
          "text": [
            "\r 49%|████▊     | 718/1479 [27:31<13:27,  1.06s/it]"
          ]
        },
        {
          "name": "stdout",
          "output_type": "stream",
          "text": [
            "98\n",
            "reliability and maintenance/Negative/Slowest and most frequently broken electrify America chargers\n"
          ]
        },
        {
          "name": "stderr",
          "output_type": "stream",
          "text": [
            "\r 49%|████▊     | 719/1479 [27:32<15:39,  1.24s/it]"
          ]
        },
        {
          "name": "stdout",
          "output_type": "stream",
          "text": [
            "208\n",
            "Safety/Negative/the Walmart has so many things on lockdown inside, and is so concerned about people ripping them off, that you get the feeling that you are in one of the most unsafe areas I have ever been in.\n"
          ]
        },
        {
          "name": "stderr",
          "output_type": "stream",
          "text": [
            "\r 49%|████▊     | 720/1479 [27:33<13:57,  1.10s/it]"
          ]
        },
        {
          "name": "stdout",
          "output_type": "stream",
          "text": [
            "101\n",
            "This review does not mention any specific aspects or provide any opinion terms or sentiment polarity.\n",
            "Error occurred: list index out of range\n"
          ]
        },
        {
          "name": "stderr",
          "output_type": "stream",
          "text": [
            "\r 49%|████▊     | 721/1479 [27:34<12:34,  1.00it/s]"
          ]
        },
        {
          "name": "stdout",
          "output_type": "stream",
          "text": [
            "61\n",
            "reliability and maintenance/Negative/all the others are broke\n"
          ]
        },
        {
          "name": "stderr",
          "output_type": "stream",
          "text": [
            "\r 49%|████▉     | 722/1479 [27:36<16:39,  1.32s/it]"
          ]
        },
        {
          "name": "stdout",
          "output_type": "stream",
          "text": [
            "78\n",
            "Accessibility and Location/Neutral/main parking lot, behind Corner Cafe/Bakery\n",
            "88\n",
            "Amenities and Location/Positive/Available and functional chargers, Cafe good for a snack\n",
            "80\n",
            "Queue and Waiting Time/Neutral/Grabbed sushi from Sprouts to take to the airport\n"
          ]
        },
        {
          "name": "stderr",
          "output_type": "stream",
          "text": [
            "\r 49%|████▉     | 723/1479 [27:37<14:21,  1.14s/it]"
          ]
        },
        {
          "name": "stdout",
          "output_type": "stream",
          "text": [
            "66\n",
            "Amenities and location/Positive/car vacuums and trash cans on site\n"
          ]
        },
        {
          "name": "stderr",
          "output_type": "stream",
          "text": [
            "\r 49%|████▉     | 724/1479 [27:37<12:50,  1.02s/it]"
          ]
        },
        {
          "name": "stdout",
          "output_type": "stream",
          "text": [
            "60\n",
            "Reliability and maintenance/Negative/one or two of them down\n"
          ]
        },
        {
          "name": "stderr",
          "output_type": "stream",
          "text": [
            "\r 49%|████▉     | 725/1479 [27:38<12:11,  1.03it/s]"
          ]
        },
        {
          "name": "stdout",
          "output_type": "stream",
          "text": [
            "77\n",
            "Accessibility and Accessibility/Negative/Credit card reader broken on machine\n"
          ]
        },
        {
          "name": "stderr",
          "output_type": "stream",
          "text": [
            "\r 49%|████▉     | 726/1479 [27:39<11:53,  1.06it/s]"
          ]
        },
        {
          "name": "stdout",
          "output_type": "stream",
          "text": [
            "79\n",
            "Accessibility and Location/Positive/Near DIA. Worked fine. No one there but me.\n"
          ]
        },
        {
          "name": "stderr",
          "output_type": "stream",
          "text": [
            "\r 49%|████▉     | 727/1479 [27:40<11:13,  1.12it/s]"
          ]
        },
        {
          "name": "stdout",
          "output_type": "stream",
          "text": [
            "71\n",
            "Payment option/Negative/Declined payment with three different payments.\n"
          ]
        },
        {
          "name": "stderr",
          "output_type": "stream",
          "text": [
            "\r 49%|████▉     | 728/1479 [27:41<13:21,  1.07s/it]"
          ]
        },
        {
          "name": "stdout",
          "output_type": "stream",
          "text": [
            "156\n",
            "Charging speed and efficiency/Negative/2/4 chargers charging very slowly. Good luck. Wish Electrify America actually addressed the issues with its chargers.\n"
          ]
        },
        {
          "name": "stderr",
          "output_type": "stream",
          "text": [
            "\r 49%|████▉     | 729/1479 [27:42<12:09,  1.03it/s]"
          ]
        },
        {
          "name": "stdout",
          "output_type": "stream",
          "text": [
            "88\n",
            "Compatibility and Connectivity/Negative/Phone scan and connectivity issues are horrible!\n"
          ]
        },
        {
          "name": "stderr",
          "output_type": "stream",
          "text": [
            "\r 49%|████▉     | 730/1479 [27:43<12:38,  1.01s/it]"
          ]
        },
        {
          "name": "stdout",
          "output_type": "stream",
          "text": [
            "129\n",
            "Accessibility and Amenities and Location/Positive/go shopping and charge your car, should have built it at least 2 times the size\n"
          ]
        },
        {
          "name": "stderr",
          "output_type": "stream",
          "text": [
            "\r 49%|████▉     | 731/1479 [27:44<11:48,  1.06it/s]"
          ]
        },
        {
          "name": "stdout",
          "output_type": "stream",
          "text": [
            "76\n",
            "This review does not mention any specific aspects related to the given list.\n",
            "Error occurred: list index out of range\n"
          ]
        },
        {
          "name": "stderr",
          "output_type": "stream",
          "text": [
            "\r 49%|████▉     | 732/1479 [27:45<11:45,  1.06it/s]"
          ]
        },
        {
          "name": "stdout",
          "output_type": "stream",
          "text": [
            "86\n",
            "Charging speed and efficiency/Negative/Chademo station is in an error state, unusable.\n"
          ]
        },
        {
          "name": "stderr",
          "output_type": "stream",
          "text": [
            "\r 50%|████▉     | 733/1479 [27:48<17:51,  1.44s/it]"
          ]
        },
        {
          "name": "stdout",
          "output_type": "stream",
          "text": [
            "108\n",
            "Compatibility and Connectivity/Positive/app opens new areas and can filter easier by your specific connector\n",
            "58\n",
            "Charging speed and efficiency/Positive/takes about an hour\n",
            "56\n",
            "Amenities and Location/Positive/numerous around the city\n",
            "47\n",
            "Ease of use/Positive/convenient and easy to use\n",
            "54\n",
            "Price and cost/Positive/cut my gas bill more than half\n"
          ]
        },
        {
          "name": "stderr",
          "output_type": "stream",
          "text": [
            "\r 50%|████▉     | 734/1479 [27:48<15:49,  1.27s/it]"
          ]
        },
        {
          "name": "stdout",
          "output_type": "stream",
          "text": [
            "71\n",
            "reliability and maintenance/Negative/stuck for 6 hrs to Duane's chademo\n"
          ]
        },
        {
          "name": "stderr",
          "output_type": "stream",
          "text": [
            "\r 50%|████▉     | 735/1479 [27:50<17:40,  1.43s/it]"
          ]
        },
        {
          "name": "stdout",
          "output_type": "stream",
          "text": [
            "47\n",
            "Charging speed and efficiency/Negative/Terrible\n",
            "63\n",
            "Payment option/Negative/$3.30 charged from my account each time\n",
            "60\n",
            "Reliability and maintenance/Negative/I didn't get any charge\n"
          ]
        },
        {
          "name": "stderr",
          "output_type": "stream",
          "text": [
            "\r 50%|████▉     | 736/1479 [27:51<17:07,  1.38s/it]"
          ]
        },
        {
          "name": "stdout",
          "output_type": "stream",
          "text": [
            "127\n",
            "reliability and maintenance/Negative/There's only one available. Is been months. I get the feeling nobody cares. Please fix it.\n"
          ]
        },
        {
          "name": "stderr",
          "output_type": "stream",
          "text": [
            "\r 50%|████▉     | 737/1479 [27:53<19:11,  1.55s/it]"
          ]
        },
        {
          "name": "stdout",
          "output_type": "stream",
          "text": [
            "88\n",
            "Charging speed and efficiency/Positive/charged around 100-120 kw, multiple stations open\n"
          ]
        },
        {
          "name": "stderr",
          "output_type": "stream",
          "text": [
            "\r 50%|████▉     | 738/1479 [27:54<15:50,  1.28s/it]"
          ]
        },
        {
          "name": "stdout",
          "output_type": "stream",
          "text": [
            "80\n",
            "Compatibility and Connectivity/Negative/Need specific adapter to charge a Tesla.\n"
          ]
        },
        {
          "name": "stderr",
          "output_type": "stream",
          "text": [
            "\r 50%|████▉     | 739/1479 [27:55<13:33,  1.10s/it]"
          ]
        },
        {
          "name": "stdout",
          "output_type": "stream",
          "text": [
            "74\n",
            "Compatibility and Connectivity/Negative/special adapters to charge a TESLA\n"
          ]
        },
        {
          "name": "stderr",
          "output_type": "stream",
          "text": [
            "\r 50%|█████     | 740/1479 [27:56<13:00,  1.06s/it]"
          ]
        },
        {
          "name": "stdout",
          "output_type": "stream",
          "text": [
            "123\n",
            "This review does not provide enough information to classify and analyze the aspects, opinion terms, and sentiment polarity.\n",
            "Error occurred: list index out of range\n"
          ]
        },
        {
          "name": "stderr",
          "output_type": "stream",
          "text": [
            "\r 50%|█████     | 741/1479 [27:59<21:24,  1.74s/it]"
          ]
        },
        {
          "name": "stdout",
          "output_type": "stream",
          "text": [
            "110\n",
            "Accessibility and Accessibility/Negative/There’s a bunch of EV stations around that are both EVGo and not-EVGo\n",
            "69\n",
            "customer service/Negative/waited on hold for CS to reboot the machine\n",
            "52\n",
            "ease of use/Negative/I couldn’t even get it charging\n",
            "88\n",
            "customer service/Negative/waiting for CS to manually end the session and refund my money\n",
            "56\n",
            "reliability and maintenance/Negative/machine overcharged\n"
          ]
        },
        {
          "name": "stderr",
          "output_type": "stream",
          "text": [
            "\r 50%|█████     | 742/1479 [28:00<16:45,  1.36s/it]"
          ]
        },
        {
          "name": "stdout",
          "output_type": "stream",
          "text": [
            "38\n",
            "price and cost/Negative/VERY expensive\n"
          ]
        },
        {
          "name": "stderr",
          "output_type": "stream",
          "text": [
            "\r 50%|█████     | 743/1479 [28:00<14:36,  1.19s/it]"
          ]
        },
        {
          "name": "stdout",
          "output_type": "stream",
          "text": [
            "84\n",
            "Charging speed and efficiency/Neutral/At least one charge cable is on the short side\n"
          ]
        },
        {
          "name": "stderr",
          "output_type": "stream",
          "text": [
            "\r 50%|█████     | 744/1479 [28:01<13:41,  1.12s/it]"
          ]
        },
        {
          "name": "stdout",
          "output_type": "stream",
          "text": [
            "52\n",
            "Charging speed and efficiency/Negative/Fast chargers\n",
            "38\n",
            "Price and cost/Negative/.30 per minute\n"
          ]
        },
        {
          "name": "stderr",
          "output_type": "stream",
          "text": [
            "\r 50%|█████     | 745/1479 [28:02<12:20,  1.01s/it]"
          ]
        },
        {
          "name": "stdout",
          "output_type": "stream",
          "text": [
            "65\n",
            "reliability and maintenance/Negative/80% of the Chargers ARE DOWN\n"
          ]
        },
        {
          "name": "stderr",
          "output_type": "stream",
          "text": [
            "\r 50%|█████     | 746/1479 [28:03<12:32,  1.03s/it]"
          ]
        },
        {
          "name": "stdout",
          "output_type": "stream",
          "text": [
            "130\n",
            "Compatibility and Connectivity/Positive/sign up for the app, charging rate was actually better than the Electrify America stations\n"
          ]
        },
        {
          "name": "stderr",
          "output_type": "stream",
          "text": [
            "\r 51%|█████     | 747/1479 [28:06<18:00,  1.48s/it]"
          ]
        },
        {
          "name": "stdout",
          "output_type": "stream",
          "text": [
            "98\n",
            "Accessibility and Accessibility/Positive/accessible at any time day or night, well lit parking lot\n",
            "86\n",
            "Customer service/Positive/They rebooted the machine and it worked just fine after that\n",
            "69\n",
            "Amenities and location/Positive/Close to the Papa Murphys Pizza store\n",
            "64\n",
            "Safety/Positive/Uncovered, Secure with a guard and security gate\n"
          ]
        },
        {
          "name": "stderr",
          "output_type": "stream",
          "text": [
            "\r 51%|█████     | 748/1479 [28:06<14:59,  1.23s/it]"
          ]
        },
        {
          "name": "stdout",
          "output_type": "stream",
          "text": [
            "58\n",
            "reliability and maintenance/Negative/CHAdeMO wouldn't work\n"
          ]
        },
        {
          "name": "stderr",
          "output_type": "stream",
          "text": [
            "\r 51%|█████     | 749/1479 [28:07<14:17,  1.17s/it]"
          ]
        },
        {
          "name": "stdout",
          "output_type": "stream",
          "text": [
            "69\n",
            "reliability and maintenance/Negative/broken equipment, failed charges\n",
            "62\n",
            "customer service/Negative/Called Customer support, not helpful\n"
          ]
        },
        {
          "name": "stderr",
          "output_type": "stream",
          "text": [
            "\r 51%|█████     | 750/1479 [28:08<12:49,  1.06s/it]"
          ]
        },
        {
          "name": "stdout",
          "output_type": "stream",
          "text": [
            "70\n",
            "Amenities and location/Positive/Amenities close by; excellent location\n"
          ]
        },
        {
          "name": "stderr",
          "output_type": "stream",
          "text": [
            "\r 51%|█████     | 751/1479 [28:09<11:17,  1.07it/s]"
          ]
        },
        {
          "name": "stdout",
          "output_type": "stream",
          "text": [
            "60\n",
            "Compatibility and Connectivity/Positive/it identified my car\n"
          ]
        },
        {
          "name": "stderr",
          "output_type": "stream",
          "text": [
            "\r 51%|█████     | 752/1479 [28:10<13:47,  1.14s/it]"
          ]
        },
        {
          "name": "stdout",
          "output_type": "stream",
          "text": [
            "78\n",
            "Reliability and maintenance/Negative/Two of the four chargers were not working\n",
            "132\n",
            "Queue and waiting time/Negative/We were waiting behind 3 other vehicles waiting to charge and it added nearly two hours to our trip.\n"
          ]
        },
        {
          "name": "stderr",
          "output_type": "stream",
          "text": [
            "\r 51%|█████     | 753/1479 [28:14<24:38,  2.04s/it]"
          ]
        },
        {
          "name": "stdout",
          "output_type": "stream",
          "text": [
            "542\n",
            "Accessibility and Availability/Negative/Unfortunately, Electrify America is the only game in town as far as fast chargers go, so we don't really have a choice. Hopefully, as the Accessibility+Availability gets better, the service will get better. As for now, this is all we have. When using any Electrify Americas, you should check ahead of time to make sure the units are going to be up and running on your route or you're wind up getting stuck. Electrify America is not the most reliable charging company in the world, but it's all we have.\n"
          ]
        },
        {
          "name": "stderr",
          "output_type": "stream",
          "text": [
            "\r 51%|█████     | 754/1479 [28:15<19:38,  1.63s/it]"
          ]
        },
        {
          "name": "stdout",
          "output_type": "stream",
          "text": [
            "41\n",
            "Ease of use/Positive/Nice and easy to use\n"
          ]
        },
        {
          "name": "stderr",
          "output_type": "stream",
          "text": [
            "\r 51%|█████     | 755/1479 [28:16<16:24,  1.36s/it]"
          ]
        },
        {
          "name": "stdout",
          "output_type": "stream",
          "text": [
            "66\n",
            "reliability and maintenance/Negative/1st charging station was inop\n"
          ]
        },
        {
          "name": "stderr",
          "output_type": "stream",
          "text": [
            "\r 51%|█████     | 756/1479 [28:16<13:06,  1.09s/it]"
          ]
        },
        {
          "name": "stdout",
          "output_type": "stream",
          "text": [
            "35\n",
            "Price and cost/Negative/pay station\n"
          ]
        },
        {
          "name": "stderr",
          "output_type": "stream",
          "text": [
            "\r 51%|█████     | 757/1479 [28:17<11:41,  1.03it/s]"
          ]
        },
        {
          "name": "stdout",
          "output_type": "stream",
          "text": [
            "68\n",
            "Accessibility and Accessibility/Positive/Easy to use, Easy to access\n"
          ]
        },
        {
          "name": "stderr",
          "output_type": "stream",
          "text": [
            "\r 51%|█████▏    | 758/1479 [28:18<13:00,  1.08s/it]"
          ]
        },
        {
          "name": "stdout",
          "output_type": "stream",
          "text": [
            "162\n",
            "Accessibility and Amenities and Location/Positive/1st floor of the garage next to Phillips Center and Harn Museum, ChargePoint chargers, convenient, Free charging\n"
          ]
        },
        {
          "name": "stderr",
          "output_type": "stream",
          "text": [
            "\r 51%|█████▏    | 759/1479 [28:19<12:25,  1.04s/it]"
          ]
        },
        {
          "name": "stdout",
          "output_type": "stream",
          "text": [
            "39\n",
            "Aspect: Accessibility and Accessibility\n",
            "Error occurred: list index out of range\n"
          ]
        },
        {
          "name": "stderr",
          "output_type": "stream",
          "text": [
            "\r 51%|█████▏    | 760/1479 [28:20<10:59,  1.09it/s]"
          ]
        },
        {
          "name": "stdout",
          "output_type": "stream",
          "text": [
            "56\n",
            "Accessibility and Accessibility/Positive/Free juice 24/7\n"
          ]
        },
        {
          "name": "stderr",
          "output_type": "stream",
          "text": [
            "\r 51%|█████▏    | 761/1479 [28:22<15:31,  1.30s/it]"
          ]
        },
        {
          "name": "stdout",
          "output_type": "stream",
          "text": [
            "69\n",
            "Accessibility and Location/Positive/next to UF Health/Shands hospital\n",
            "52\n",
            "Amenities and Location/Positive/ChargePoint chargers\n",
            "76\n",
            "Ease of Use/Positive/Convenient, need the chargepoint App or fob to activate\n",
            "57\n",
            "Queue and Waiting Time/Neutral/4-hour charge limit posted\n"
          ]
        },
        {
          "name": "stderr",
          "output_type": "stream",
          "text": [
            "\r 52%|█████▏    | 762/1479 [28:24<18:04,  1.51s/it]"
          ]
        },
        {
          "name": "stdout",
          "output_type": "stream",
          "text": [
            "244\n",
            "Accessibility and Amenities and Location/Positive/Convenient Free charging 1st floor of Transportation garage. These are ChargePoint chargers so you will need the chargepoint App or fob to activate. Please observe the 4hour charge limit posted.\n"
          ]
        },
        {
          "name": "stderr",
          "output_type": "stream",
          "text": [
            "\r 52%|█████▏    | 763/1479 [28:26<20:11,  1.69s/it]"
          ]
        },
        {
          "name": "stdout",
          "output_type": "stream",
          "text": [
            "66\n",
            "Accessibility and Location/Positive/next to UF Veterinary hospital\n",
            "52\n",
            "Amenities and Location/Positive/ChargePoint chargers\n",
            "76\n",
            "Ease of Use/Positive/Convenient, need the chargepoint App or fob to activate\n",
            "57\n",
            "Queue and Waiting Time/Neutral/4-hour charge limit posted\n"
          ]
        },
        {
          "name": "stderr",
          "output_type": "stream",
          "text": [
            "\r 52%|█████▏    | 764/1479 [28:27<17:13,  1.45s/it]"
          ]
        },
        {
          "name": "stdout",
          "output_type": "stream",
          "text": [
            "90\n",
            "Safety/Positive/oasis miracle for someone who has run out of charge and gas simultaneously\n"
          ]
        },
        {
          "name": "stderr",
          "output_type": "stream",
          "text": [
            "\r 52%|█████▏    | 765/1479 [28:28<15:26,  1.30s/it]"
          ]
        },
        {
          "name": "stdout",
          "output_type": "stream",
          "text": [
            "104\n",
            "Accessibility and Amenities and Location/Positive/Convenient and easy to use, Including ChaDEMO charging\n"
          ]
        },
        {
          "name": "stderr",
          "output_type": "stream",
          "text": [
            "\r 52%|█████▏    | 766/1479 [28:29<14:00,  1.18s/it]"
          ]
        },
        {
          "name": "stdout",
          "output_type": "stream",
          "text": [
            "74\n",
            "Charging speed and efficiency/Positive/charge quickly and price is not bad\n"
          ]
        },
        {
          "name": "stderr",
          "output_type": "stream",
          "text": [
            "\r 52%|█████▏    | 767/1479 [28:29<11:38,  1.02it/s]"
          ]
        },
        {
          "name": "stdout",
          "output_type": "stream",
          "text": [
            "64\n",
            "Availability and Accessibility/Negative/station says unavailable\n"
          ]
        },
        {
          "name": "stderr",
          "output_type": "stream",
          "text": [
            "\r 52%|█████▏    | 768/1479 [28:30<10:26,  1.13it/s]"
          ]
        },
        {
          "name": "stdout",
          "output_type": "stream",
          "text": [
            "65\n",
            "Compatibility and Connectivity/Negative/didn't work with fordpass\n"
          ]
        },
        {
          "name": "stderr",
          "output_type": "stream",
          "text": [
            "\r 52%|█████▏    | 769/1479 [28:31<10:37,  1.11it/s]"
          ]
        },
        {
          "name": "stdout",
          "output_type": "stream",
          "text": [
            "73\n",
            "Charging speed and efficiency/Positive/max output of 160KW while charging\n"
          ]
        },
        {
          "name": "stderr",
          "output_type": "stream",
          "text": [
            "\r 52%|█████▏    | 770/1479 [28:33<15:27,  1.31s/it]"
          ]
        },
        {
          "name": "stdout",
          "output_type": "stream",
          "text": [
            "287\n",
            "Accessibility and Amenities and location/Positive/Great spot with plenty of chargers. At 11am on a Sunday 4/8 chargers were occupied. There were no squatters as EA will charge you for going over 10min of sitting. Overall great charging just wish Walmart had more restaurant-food options.\n"
          ]
        },
        {
          "name": "stderr",
          "output_type": "stream",
          "text": [
            "\r 52%|█████▏    | 771/1479 [28:34<14:06,  1.20s/it]"
          ]
        },
        {
          "name": "stdout",
          "output_type": "stream",
          "text": [
            "95\n",
            "Amenities and location/Positive/very convenient location, lots of options for food and shopping\n"
          ]
        },
        {
          "name": "stderr",
          "output_type": "stream",
          "text": [
            "\r 52%|█████▏    | 772/1479 [28:37<19:21,  1.64s/it]"
          ]
        },
        {
          "name": "stdout",
          "output_type": "stream",
          "text": [
            "109\n",
            "Compatibility and Connectivity/Positive/most reliable charging networks outside of the Tesla charging Network\n",
            "99\n",
            "Availability and Accessibility/Positive/more DC fast charging stations at more Targets and Walmarts\n",
            "106\n",
            "reliability and maintenance/Positive/most reliable charging networks outside of the Tesla charging Network\n",
            "67\n",
            "price and cost/Positive/making adoption of electric cars accelerate\n"
          ]
        },
        {
          "name": "stderr",
          "output_type": "stream",
          "text": [
            "\r 52%|█████▏    | 773/1479 [28:39<19:37,  1.67s/it]"
          ]
        },
        {
          "name": "stdout",
          "output_type": "stream",
          "text": [
            "50\n",
            "Accessibility and Location/Positive/Easy to locate\n",
            "72\n",
            "Charging speed and efficiency/Positive/Works at the speed on the charger\n",
            "67\n",
            "Availability and Accessibility/Positive/150 kWh charger were in use\n"
          ]
        },
        {
          "name": "stderr",
          "output_type": "stream",
          "text": [
            "\r 52%|█████▏    | 774/1479 [28:42<23:49,  2.03s/it]"
          ]
        },
        {
          "name": "stdout",
          "output_type": "stream",
          "text": [
            "53\n",
            "reliability and maintenance/Negative/2 of them broken\n",
            "93\n",
            "charging speed and efficiency/Positive/350 charges at 67kw rate and 150 charged at 160kw rate\n",
            "52\n",
            "location and amenities/Negative/The Sheetz is sketch\n",
            "84\n",
            "queue and waiting time/Negative/would recommend not adding this charge to your route\n",
            "75\n",
            "location and amenities/Positive/Go to Henderson Walmart are charger instead\n"
          ]
        },
        {
          "name": "stderr",
          "output_type": "stream",
          "text": [
            "\r 52%|█████▏    | 775/1479 [28:45<28:22,  2.42s/it]"
          ]
        },
        {
          "name": "stdout",
          "output_type": "stream",
          "text": [
            "126\n",
            "Charging speed and efficiency/Negative/The charging starts and abruptly stops for no reason. The 350KW are slower than 150 KW.\n",
            "101\n",
            "Accessibility and Accessibility/Neutral/Good spot... Two spots with 350 kw and two spots with 150 KW.\n",
            "114\n",
            "Compatibility and Connectivity/Neutral/Would be great if there could be a crosswalk with the nearby shopping mall.\n",
            "125\n",
            "customer service/Negative/The stations weren't working. Had to call the customer service to get the charging station working.\n"
          ]
        },
        {
          "name": "stderr",
          "output_type": "stream",
          "text": [
            "\r 52%|█████▏    | 776/1479 [28:46<23:09,  1.98s/it]"
          ]
        },
        {
          "name": "stdout",
          "output_type": "stream",
          "text": [
            "96\n",
            "Accessibility and Availability/Negative/the 350 kW charger will not charge any faster than 75 kW\n"
          ]
        },
        {
          "name": "stderr",
          "output_type": "stream",
          "text": [
            "\r 53%|█████▎    | 777/1479 [28:47<18:46,  1.60s/it]"
          ]
        },
        {
          "name": "stdout",
          "output_type": "stream",
          "text": [
            "89\n",
            "Accessibility and Location/Positive/working order and located at places where I felt safe\n"
          ]
        },
        {
          "name": "stderr",
          "output_type": "stream",
          "text": [
            "\r 53%|█████▎    | 778/1479 [28:47<15:32,  1.33s/it]"
          ]
        },
        {
          "name": "stdout",
          "output_type": "stream",
          "text": [
            "66\n",
            "reliability and maintenance/Negative/chargers were not functioning\n"
          ]
        },
        {
          "name": "stderr",
          "output_type": "stream",
          "text": [
            "\r 53%|█████▎    | 779/1479 [28:48<14:56,  1.28s/it]"
          ]
        },
        {
          "name": "stdout",
          "output_type": "stream",
          "text": [
            "148\n",
            "Accessibility and Amenities and Location/Negative/Mindy doesn't work, poorly designed spot, cable doesn't reach unless you park and block both zones\n"
          ]
        },
        {
          "name": "stderr",
          "output_type": "stream",
          "text": [
            "\r 53%|█████▎    | 780/1479 [28:50<14:37,  1.26s/it]"
          ]
        },
        {
          "name": "stdout",
          "output_type": "stream",
          "text": [
            "102\n",
            "Amenities and location/Positive/Lowe's food has a deli, beer on tap, and a place to sit and eat lunch.\n"
          ]
        },
        {
          "name": "stderr",
          "output_type": "stream",
          "text": [
            "\r 53%|█████▎    | 781/1479 [28:50<13:12,  1.14s/it]"
          ]
        },
        {
          "name": "stdout",
          "output_type": "stream",
          "text": [
            "99\n",
            "Connectivity/Negative/Offline. Shows available on maps but offline on the app to start the charger.\n"
          ]
        },
        {
          "name": "stderr",
          "output_type": "stream",
          "text": [
            "\r 53%|█████▎    | 782/1479 [28:51<11:27,  1.01it/s]"
          ]
        },
        {
          "name": "stdout",
          "output_type": "stream",
          "text": [
            "65\n",
            "reliability and maintenance/Negative/A few stalls weren't working\n"
          ]
        },
        {
          "name": "stderr",
          "output_type": "stream",
          "text": [
            "\r 53%|█████▎    | 783/1479 [28:52<11:10,  1.04it/s]"
          ]
        },
        {
          "name": "stdout",
          "output_type": "stream",
          "text": [
            "80\n",
            "reliability and maintenance/Negative/never been able to get the chargers to work\n"
          ]
        },
        {
          "name": "stderr",
          "output_type": "stream",
          "text": [
            "\r 53%|█████▎    | 784/1479 [28:53<09:30,  1.22it/s]"
          ]
        },
        {
          "name": "stdout",
          "output_type": "stream",
          "text": [
            "35\n",
            "Safety/Negative/Needs more security\n"
          ]
        },
        {
          "name": "stderr",
          "output_type": "stream",
          "text": [
            "\r 53%|█████▎    | 785/1479 [28:54<11:21,  1.02it/s]"
          ]
        },
        {
          "name": "stdout",
          "output_type": "stream",
          "text": [
            "74\n",
            "Accessibility and Accessibility/Positive/All the stations were operational\n",
            "51\n",
            "Payment option/Positive/They took my payment method\n",
            "69\n",
            "Reliability and maintenance/Positive/clean quiet functional very nice\n"
          ]
        },
        {
          "name": "stderr",
          "output_type": "stream",
          "text": [
            "\r 53%|█████▎    | 786/1479 [28:54<09:30,  1.21it/s]"
          ]
        },
        {
          "name": "stdout",
          "output_type": "stream",
          "text": [
            "36\n",
            "payment option/Negative/card readers\n"
          ]
        },
        {
          "name": "stderr",
          "output_type": "stream",
          "text": [
            "\r 53%|█████▎    | 787/1479 [28:55<09:56,  1.16it/s]"
          ]
        },
        {
          "name": "stdout",
          "output_type": "stream",
          "text": [
            "147\n",
            "This review does not provide enough information to classify and extract aspect terms and opinion terms with their corresponding sentiment polarity.\n",
            "Error occurred: list index out of range\n"
          ]
        },
        {
          "name": "stderr",
          "output_type": "stream",
          "text": [
            "\r 53%|█████▎    | 788/1479 [28:56<10:57,  1.05it/s]"
          ]
        },
        {
          "name": "stdout",
          "output_type": "stream",
          "text": [
            "78\n",
            "Queue and waiting time/Negative/I had to wait for 20 minutes for it to be free\n"
          ]
        },
        {
          "name": "stderr",
          "output_type": "stream",
          "text": [
            "\r 53%|█████▎    | 789/1479 [28:57<10:24,  1.10it/s]"
          ]
        },
        {
          "name": "stdout",
          "output_type": "stream",
          "text": [
            "92\n",
            "customer service/Negative/Security guard has a personal project to tell everyone how to park\n"
          ]
        },
        {
          "name": "stderr",
          "output_type": "stream",
          "text": [
            "\r 53%|█████▎    | 790/1479 [28:59<12:02,  1.05s/it]"
          ]
        },
        {
          "name": "stdout",
          "output_type": "stream",
          "text": [
            "42\n",
            "ease of use/Negative/Very difficult to use\n"
          ]
        },
        {
          "name": "stderr",
          "output_type": "stream",
          "text": [
            "\r 53%|█████▎    | 791/1479 [28:59<10:33,  1.09it/s]"
          ]
        },
        {
          "name": "stdout",
          "output_type": "stream",
          "text": [
            "50\n",
            "queue and waiting time/Negative/Need about 10 more\n"
          ]
        },
        {
          "name": "stderr",
          "output_type": "stream",
          "text": [
            "\r 54%|█████▎    | 792/1479 [29:00<09:27,  1.21it/s]"
          ]
        },
        {
          "name": "stdout",
          "output_type": "stream",
          "text": [
            "65\n",
            "Compatibility and Connectivity/Neutral/Empty, only DC fast charge\n"
          ]
        },
        {
          "name": "stderr",
          "output_type": "stream",
          "text": [
            "\r 54%|█████▎    | 793/1479 [29:01<11:39,  1.02s/it]"
          ]
        },
        {
          "name": "stdout",
          "output_type": "stream",
          "text": [
            "60\n",
            "price and cost/Negative/expensive, Pricing isn't quite clear\n",
            "81\n",
            "queue and waiting time/Negative/Had to wait for my cc to clear $12 for 30-45 mins\n"
          ]
        },
        {
          "name": "stderr",
          "output_type": "stream",
          "text": [
            "\r 54%|█████▎    | 794/1479 [29:02<11:10,  1.02it/s]"
          ]
        },
        {
          "name": "stdout",
          "output_type": "stream",
          "text": [
            "101\n",
            "Accessibility and Accessibility/Negative/could not fit my Model3, did not appear to be a free charger\n"
          ]
        },
        {
          "name": "stderr",
          "output_type": "stream",
          "text": [
            "\r 54%|█████▍    | 795/1479 [29:04<12:31,  1.10s/it]"
          ]
        },
        {
          "name": "stdout",
          "output_type": "stream",
          "text": [
            "152\n",
            "Charging speed and efficiency/Positive/Fast charging station has both a CHAdeMO and CHAdeMO Combo charging connector for you to choose the type you need\n"
          ]
        },
        {
          "name": "stderr",
          "output_type": "stream",
          "text": [
            "\r 54%|█████▍    | 796/1479 [29:04<10:41,  1.07it/s]"
          ]
        },
        {
          "name": "stdout",
          "output_type": "stream",
          "text": [
            "58\n",
            "Accessibility and Accessibility/Neutral/local and close by\n"
          ]
        },
        {
          "name": "stderr",
          "output_type": "stream",
          "text": [
            "\r 54%|█████▍    | 797/1479 [29:05<09:40,  1.17it/s]"
          ]
        },
        {
          "name": "stdout",
          "output_type": "stream",
          "text": [
            "41\n",
            "Safety/Negative/hassled by the encampment\n"
          ]
        },
        {
          "name": "stderr",
          "output_type": "stream",
          "text": [
            "\r 54%|█████▍    | 798/1479 [29:06<11:22,  1.00s/it]"
          ]
        },
        {
          "name": "stdout",
          "output_type": "stream",
          "text": [
            "106\n",
            "Accessibility and Location/Positive/fairly conveniently located, within a parking area for Bank of America\n",
            "83\n",
            "Compatibility and Connectivity/Positive/able to charge and grab a quick bite nearby\n",
            "55\n",
            "Reliability and Maintenance/Positive/generally reliable\n",
            "75\n",
            "Customer Service/Positive/have had to contact customer support to get going\n"
          ]
        },
        {
          "name": "stderr",
          "output_type": "stream",
          "text": [
            "\r 54%|█████▍    | 799/1479 [29:08<14:09,  1.25s/it]"
          ]
        },
        {
          "name": "stdout",
          "output_type": "stream",
          "text": [
            "94\n",
            "reliability and maintenance/Negative/constantly has one or two chargers (out of 3) not working\n",
            "68\n",
            "queue and waiting time/Negative/long lines of cars waiting to charge\n"
          ]
        },
        {
          "name": "stderr",
          "output_type": "stream",
          "text": [
            "\r 54%|█████▍    | 800/1479 [29:11<19:34,  1.73s/it]"
          ]
        },
        {
          "name": "stdout",
          "output_type": "stream",
          "text": [
            "152\n",
            "reliability and maintenance/Negative/The one closest to the bank did not work at all, The charger farthest from the bank delivered at a lousy 27kwh rate\n",
            "105\n",
            "charging speed and efficiency/Negative/The charger farthest from the bank delivered at a lousy 27kwh rate\n",
            "68\n",
            "ease of use/Negative/The one closest to the bank did not work at all\n"
          ]
        },
        {
          "name": "stderr",
          "output_type": "stream",
          "text": [
            "\r 54%|█████▍    | 801/1479 [29:11<15:37,  1.38s/it]"
          ]
        },
        {
          "name": "stdout",
          "output_type": "stream",
          "text": [
            "48\n",
            "reliability and maintenance/Negative/Never works\n"
          ]
        },
        {
          "name": "stderr",
          "output_type": "stream",
          "text": [
            "\r 54%|█████▍    | 802/1479 [29:13<15:08,  1.34s/it]"
          ]
        },
        {
          "name": "stdout",
          "output_type": "stream",
          "text": [
            "47\n",
            "customer service/Positive/support has been good\n",
            "64\n",
            "reliability and maintenance/Negative/chargers are sometimes down\n",
            "53\n",
            "Accessibility and Location/Positive/convenient for me\n"
          ]
        },
        {
          "name": "stderr",
          "output_type": "stream",
          "text": [
            "\r 54%|█████▍    | 803/1479 [29:14<14:46,  1.31s/it]"
          ]
        },
        {
          "name": "stdout",
          "output_type": "stream",
          "text": [
            "137\n",
            "Accessibility and Amenities and Location/Positive/Easy and well maintained fast charger, WF is right there if you want a coffee or snack.\n"
          ]
        },
        {
          "name": "stderr",
          "output_type": "stream",
          "text": [
            "\r 54%|█████▍    | 804/1479 [29:15<15:12,  1.35s/it]"
          ]
        },
        {
          "name": "stdout",
          "output_type": "stream",
          "text": [
            "77\n",
            "Reliability and maintenance/Negative/It's a miracle if the charger isn't down\n",
            "98\n",
            "Availability and Accessibility/Positive/EA stations in Emeryville are busy but they actually work.\n"
          ]
        },
        {
          "name": "stderr",
          "output_type": "stream",
          "text": [
            "\r 54%|█████▍    | 805/1479 [29:16<12:45,  1.14s/it]"
          ]
        },
        {
          "name": "stdout",
          "output_type": "stream",
          "text": [
            "65\n",
            "Accessibility and Accessibility/Positive/4 more charging stations\n"
          ]
        },
        {
          "name": "stderr",
          "output_type": "stream",
          "text": [
            "\r 54%|█████▍    | 806/1479 [29:17<11:21,  1.01s/it]"
          ]
        },
        {
          "name": "stdout",
          "output_type": "stream",
          "text": [
            "69\n",
            "Compatibility and Connectivity/Positive/It actually worked first try!\n",
            "65\n",
            "Amenities and Location/Positive/There's a grassy park area nearby\n"
          ]
        },
        {
          "name": "stderr",
          "output_type": "stream",
          "text": [
            "\r 55%|█████▍    | 807/1479 [29:19<14:12,  1.27s/it]"
          ]
        },
        {
          "name": "stdout",
          "output_type": "stream",
          "text": [
            "98\n",
            "reliability and maintenance/Negative/always in use or have malfunctions, fatal flaw in the charger\n",
            "60\n",
            "charging speed and efficiency/Negative/charged for 7 minutes\n",
            "76\n",
            "customer service/Negative/never had a smooth experience charging my car here\n"
          ]
        },
        {
          "name": "stderr",
          "output_type": "stream",
          "text": [
            "\r 55%|█████▍    | 808/1479 [29:20<14:34,  1.30s/it]"
          ]
        },
        {
          "name": "stdout",
          "output_type": "stream",
          "text": [
            "64\n",
            "Accessibility and Accessibility/Negative/Often closed/fenced off\n",
            "66\n",
            "Amenities and location/Neutral/Only visit during Whole Foods hours\n",
            "36\n",
            "Safety/Neutral/100% Renewable Energy\n"
          ]
        },
        {
          "name": "stderr",
          "output_type": "stream",
          "text": [
            "\r 55%|█████▍    | 809/1479 [29:21<13:37,  1.22s/it]"
          ]
        },
        {
          "name": "stdout",
          "output_type": "stream",
          "text": [
            "89\n",
            "Compatibility and Connectivity/Negative/Lyft drivers in Chevy Bolts in the charging spots\n"
          ]
        },
        {
          "name": "stderr",
          "output_type": "stream",
          "text": [
            "\r 55%|█████▍    | 810/1479 [29:22<13:04,  1.17s/it]"
          ]
        },
        {
          "name": "stdout",
          "output_type": "stream",
          "text": [
            "61\n",
            "queue and waiting time/Positive/don't have to wait for a spot\n",
            "51\n",
            "customer service/Positive/customer support is great\n"
          ]
        },
        {
          "name": "stderr",
          "output_type": "stream",
          "text": [
            "\r 55%|█████▍    | 811/1479 [29:23<12:49,  1.15s/it]"
          ]
        },
        {
          "name": "stdout",
          "output_type": "stream",
          "text": [
            "96\n",
            "Accessibility and Accessibility/Negative/Easy to access in public lot but often a wait to charge\n"
          ]
        },
        {
          "name": "stderr",
          "output_type": "stream",
          "text": [
            "\r 55%|█████▍    | 812/1479 [29:29<27:43,  2.49s/it]"
          ]
        },
        {
          "name": "stdout",
          "output_type": "stream",
          "text": [
            "78\n",
            "Accessibility and Accessibility/Positive/Whole Foods Parking lot, lower level.\n",
            "41\n",
            "(2) 100kW stalls, 4 cords. CCS & ChaDeMo.\n",
            "Error occurred: list index out of range\n"
          ]
        },
        {
          "name": "stderr",
          "output_type": "stream",
          "text": [
            "\r 55%|█████▍    | 813/1479 [29:30<21:59,  1.98s/it]"
          ]
        },
        {
          "name": "stdout",
          "output_type": "stream",
          "text": [
            "60\n",
            "reliability and maintenance/Negative/Both chargers are down.\n"
          ]
        },
        {
          "name": "stderr",
          "output_type": "stream",
          "text": [
            "\r 55%|█████▌    | 814/1479 [29:30<18:12,  1.64s/it]"
          ]
        },
        {
          "name": "stdout",
          "output_type": "stream",
          "text": [
            "79\n",
            "Safety/Negative/Just be prepared to confront those feelings, whatever they are.\n"
          ]
        },
        {
          "name": "stderr",
          "output_type": "stream",
          "text": [
            "\r 55%|█████▌    | 815/1479 [29:31<14:21,  1.30s/it]"
          ]
        },
        {
          "name": "stdout",
          "output_type": "stream",
          "text": [
            "69\n",
            "Accessibility and Accessibility/Positive/Open 24 hours, great access.\n"
          ]
        },
        {
          "name": "stderr",
          "output_type": "stream",
          "text": [
            "\r 55%|█████▌    | 816/1479 [29:31<11:52,  1.07s/it]"
          ]
        },
        {
          "name": "stdout",
          "output_type": "stream",
          "text": [
            "47\n",
            "Safety/Negative/A lot of homeless people around\n"
          ]
        },
        {
          "name": "stderr",
          "output_type": "stream",
          "text": [
            "\r 55%|█████▌    | 817/1479 [29:32<10:10,  1.08it/s]"
          ]
        },
        {
          "name": "stdout",
          "output_type": "stream",
          "text": [
            "49\n",
            "reliability and maintenance/Negative/out of order\n"
          ]
        },
        {
          "name": "stderr",
          "output_type": "stream",
          "text": [
            "\r 55%|█████▌    | 818/1479 [29:33<11:09,  1.01s/it]"
          ]
        },
        {
          "name": "stdout",
          "output_type": "stream",
          "text": [
            "76\n",
            "Accessibility and Accessibility/Negative/Level 2 and CCS COMBO Fast Chargers\n",
            "70\n",
            "Safety/Negative/owner of the jalopy car parked in the EV Charging spot\n"
          ]
        },
        {
          "name": "stderr",
          "output_type": "stream",
          "text": [
            "\r 55%|█████▌    | 819/1479 [29:36<18:30,  1.68s/it]"
          ]
        },
        {
          "name": "stdout",
          "output_type": "stream",
          "text": [
            "83\n",
            "Accessibility and Location/Negative/poorly located in a poorly designed parking lot\n",
            "123\n",
            "Accessibility and Location/Negative/way near the front, so you have to crawl slowly through the BUSIEST Walmart parking lot\n",
            "156\n",
            "Reliability and Maintenance/Negative/they aren't even near each other so if one is not working for you you have to crawl across the lot to get to the others\n",
            "67\n",
            "Queue and Waiting Time/Negative/I will avoid this one in the future\n"
          ]
        },
        {
          "name": "stderr",
          "output_type": "stream",
          "text": [
            "\r 55%|█████▌    | 820/1479 [29:38<16:55,  1.54s/it]"
          ]
        },
        {
          "name": "stdout",
          "output_type": "stream",
          "text": [
            "154\n",
            "Accessibility and Amenities and location/Positive/Stations work reliably and have been free a number of times in the past month. Shopping and food nearby.\n"
          ]
        },
        {
          "name": "stderr",
          "output_type": "stream",
          "text": [
            "\r 56%|█████▌    | 821/1479 [29:38<13:39,  1.25s/it]"
          ]
        },
        {
          "name": "stdout",
          "output_type": "stream",
          "text": [
            "57\n",
            "Accessibility and Accessibility/Positive/Several chargers\n"
          ]
        },
        {
          "name": "stderr",
          "output_type": "stream",
          "text": [
            "\r 56%|█████▌    | 822/1479 [29:39<11:23,  1.04s/it]"
          ]
        },
        {
          "name": "stdout",
          "output_type": "stream",
          "text": [
            "46\n",
            "price and cost/Positive/Good price of gasoline\n"
          ]
        },
        {
          "name": "stderr",
          "output_type": "stream",
          "text": [
            "\r 56%|█████▌    | 823/1479 [29:40<10:47,  1.01it/s]"
          ]
        },
        {
          "name": "stdout",
          "output_type": "stream",
          "text": [
            "90\n",
            "Accessibility and Amenities and location/Neutral/very busy location even at off-peak times\n"
          ]
        },
        {
          "name": "stderr",
          "output_type": "stream",
          "text": [
            "\r 56%|█████▌    | 824/1479 [29:44<22:53,  2.10s/it]"
          ]
        },
        {
          "name": "stdout",
          "output_type": "stream",
          "text": [
            "90\n",
            "Accessibility and Availability/Negative/All 350kw chargers were broken or not in operation\n",
            "152\n",
            "Compatibility and Connectivity/Negative[Volkswagen putting the Accessibility+Availability together rather then just paying for dieselgate was a mistake]\n",
            "Error occurred: list index out of range\n"
          ]
        },
        {
          "name": "stderr",
          "output_type": "stream",
          "text": [
            "\r 56%|█████▌    | 825/1479 [29:45<18:15,  1.67s/it]"
          ]
        },
        {
          "name": "stdout",
          "output_type": "stream",
          "text": [
            "58\n",
            "reliability and maintenance/Negative/zero chargers working\n"
          ]
        },
        {
          "name": "stderr",
          "output_type": "stream",
          "text": [
            "\r 56%|█████▌    | 826/1479 [29:49<25:39,  2.36s/it]"
          ]
        },
        {
          "name": "stdout",
          "output_type": "stream",
          "text": [
            "55\n",
            "Accessibility and Location/Positive/convenient location\n",
            "59\n",
            "Reliability and Maintenance/Negative/3/6 chargers were down\n",
            "62\n",
            "Amenities and Location/Positive/Walmart and Panera right there\n",
            "70\n",
            "Reliability and Maintenance/Negative/chargers back online the next day\n",
            "84\n",
            "Compatibility and Connectivity/Positive/MachE connected as soon as it was plugged in\n",
            "73\n",
            "Queue and Waiting Time/Positive/4-5 chargers in use while we were stopped\n",
            "104\n",
            "Accessibility and Location/Positive/Convenient to 90 and able to run into the Walmart for bathroom, etc.\n"
          ]
        },
        {
          "name": "stderr",
          "output_type": "stream",
          "text": [
            "\r 56%|█████▌    | 827/1479 [29:50<21:40,  1.99s/it]"
          ]
        },
        {
          "name": "stdout",
          "output_type": "stream",
          "text": [
            "113\n",
            "Accessibility and Location/Positive/Walmart parking lot, easy to find, many other stores and restaurants close by\n"
          ]
        },
        {
          "name": "stderr",
          "output_type": "stream",
          "text": [
            "\r 56%|█████▌    | 828/1479 [29:52<21:42,  2.00s/it]"
          ]
        },
        {
          "name": "stdout",
          "output_type": "stream",
          "text": [
            "220\n",
            "Accessibility and Location/Positive/University at Albany, visitor parking lot, Collins Circle, Washington Ave entrance, vaccine area, 2 spaces, Leaf occupying 1 space, \"4hr parking, must move car when charging complete.\"\n"
          ]
        },
        {
          "name": "stderr",
          "output_type": "stream",
          "text": [
            "\r 56%|█████▌    | 829/1479 [29:53<19:04,  1.76s/it]"
          ]
        },
        {
          "name": "stdout",
          "output_type": "stream",
          "text": [
            "130\n",
            "Accessibility and Amenities and Location/Positive/pretty empty on a Saturday morning, easy to find, 3 out of 4 stalls were working\n"
          ]
        },
        {
          "name": "stderr",
          "output_type": "stream",
          "text": [
            "\r 56%|█████▌    | 830/1479 [29:54<16:06,  1.49s/it]"
          ]
        },
        {
          "name": "stdout",
          "output_type": "stream",
          "text": [
            "122\n",
            "reliability and maintenance/Negative/2 out of 6 Stations not working and most of the stations screens not showing anything\n",
            "64\n",
            "ease of use/Negative/make sure to not come in busy or rainy days\n"
          ]
        },
        {
          "name": "stderr",
          "output_type": "stream",
          "text": [
            "\r 56%|█████▌    | 831/1479 [29:55<14:33,  1.35s/it]"
          ]
        },
        {
          "name": "stdout",
          "output_type": "stream",
          "text": [
            "44\n",
            "Amenities and Location/Positive/Trader Joe's\n",
            "69\n",
            "Compatibility and Connectivity/Positive/Multiple dual outlet chargers\n"
          ]
        },
        {
          "name": "stderr",
          "output_type": "stream",
          "text": [
            "\r 56%|█████▋    | 832/1479 [29:56<12:50,  1.19s/it]"
          ]
        },
        {
          "name": "stdout",
          "output_type": "stream",
          "text": [
            "95\n",
            "Accessibility and Accessibility/Positive/4 newly installed chargers here next to the AT&T store\n"
          ]
        },
        {
          "name": "stderr",
          "output_type": "stream",
          "text": [
            "\r 56%|█████▋    | 833/1479 [29:57<10:32,  1.02it/s]"
          ]
        },
        {
          "name": "stdout",
          "output_type": "stream",
          "text": [
            "52\n",
            "Accessibility and Accessibility/Negative/private lot\n"
          ]
        },
        {
          "name": "stderr",
          "output_type": "stream",
          "text": [
            "\r 56%|█████▋    | 834/1479 [29:57<09:17,  1.16it/s]"
          ]
        },
        {
          "name": "stdout",
          "output_type": "stream",
          "text": [
            "62\n",
            "Compatibility and Connectivity/Negative/Not a charging station\n"
          ]
        },
        {
          "name": "stderr",
          "output_type": "stream",
          "text": [
            "\r 56%|█████▋    | 835/1479 [29:58<10:06,  1.06it/s]"
          ]
        },
        {
          "name": "stdout",
          "output_type": "stream",
          "text": [
            "146\n",
            "Accessibility and Amenities and Location/Positive/shopping center, restaurants, high school track, grocery store, pharmacy, car dealership, church\n"
          ]
        },
        {
          "name": "stderr",
          "output_type": "stream",
          "text": [
            "\r 57%|█████▋    | 836/1479 [30:00<11:09,  1.04s/it]"
          ]
        },
        {
          "name": "stdout",
          "output_type": "stream",
          "text": [
            "160\n",
            "Accessibility and Location/Positive/Nice big parking space, and it is located right at the front of the parking garage. Very easy to find and convenient access!\n"
          ]
        },
        {
          "name": "stderr",
          "output_type": "stream",
          "text": [
            "\r 57%|█████▋    | 837/1479 [30:01<12:40,  1.18s/it]"
          ]
        },
        {
          "name": "stdout",
          "output_type": "stream",
          "text": [
            "60\n",
            "Accessibility and Accessibility/Positive/2Volta 8kw stations\n",
            "58\n",
            "Amenities and location/Positive/Free to use while shopping\n",
            "45\n",
            "Compatibility and Connectivity/Positive/J1772\n"
          ]
        },
        {
          "name": "stderr",
          "output_type": "stream",
          "text": [
            "\r 57%|█████▋    | 838/1479 [30:02<11:26,  1.07s/it]"
          ]
        },
        {
          "name": "stdout",
          "output_type": "stream",
          "text": [
            "67\n",
            "This review does not mention any specific aspects or opinion terms.\n",
            "Error occurred: list index out of range\n"
          ]
        },
        {
          "name": "stderr",
          "output_type": "stream",
          "text": [
            "\r 57%|█████▋    | 839/1479 [30:04<13:15,  1.24s/it]"
          ]
        },
        {
          "name": "stdout",
          "output_type": "stream",
          "text": [
            "140\n",
            "Accessibility and Accessibility/Positive/EVGo DC fast chargers (50kW) x2 near P1 pillar 9. ChargePoint Level 2 chargers x4 near P1 pillar 6.\n"
          ]
        },
        {
          "name": "stderr",
          "output_type": "stream",
          "text": [
            "\r 57%|█████▋    | 840/1479 [30:04<11:50,  1.11s/it]"
          ]
        },
        {
          "name": "stdout",
          "output_type": "stream",
          "text": [
            "72\n",
            "payment option/Negative/You have to pay for parking to use the chargers?\n"
          ]
        },
        {
          "name": "stderr",
          "output_type": "stream",
          "text": [
            "\r 57%|█████▋    | 841/1479 [30:06<12:44,  1.20s/it]"
          ]
        },
        {
          "name": "stdout",
          "output_type": "stream",
          "text": [
            "128\n",
            "Accessibility and Accessibility/Neutral/Level 1. Column 9 Row G. Near champs. Level 3. There are also some Level 2s by Nordstrom\n"
          ]
        },
        {
          "name": "stderr",
          "output_type": "stream",
          "text": [
            "\r 57%|█████▋    | 842/1479 [30:07<13:40,  1.29s/it]"
          ]
        },
        {
          "name": "stdout",
          "output_type": "stream",
          "text": [
            "69\n",
            "Compatibility and Connectivity/Positive/Prius compatible, fast charge\n",
            "90\n",
            "Amenities and Location/Positive/1 hr free parking is for EV as well, the bays are separate\n"
          ]
        },
        {
          "name": "stderr",
          "output_type": "stream",
          "text": [
            "\r 57%|█████▋    | 843/1479 [30:08<12:52,  1.21s/it]"
          ]
        },
        {
          "name": "stdout",
          "output_type": "stream",
          "text": [
            "49\n",
            "Accessibility and Accessibility/Positive/EVgo app\n",
            "45\n",
            "Amenities and location/Positive/B2, SW corner\n"
          ]
        },
        {
          "name": "stderr",
          "output_type": "stream",
          "text": [
            "\r 57%|█████▋    | 844/1479 [30:09<11:13,  1.06s/it]"
          ]
        },
        {
          "name": "stdout",
          "output_type": "stream",
          "text": [
            "75\n",
            "Accessibility and Accessibility/Positive/level B2, the bottom of the garage\n"
          ]
        },
        {
          "name": "stderr",
          "output_type": "stream",
          "text": [
            "\r 57%|█████▋    | 845/1479 [30:10<09:43,  1.09it/s]"
          ]
        },
        {
          "name": "stdout",
          "output_type": "stream",
          "text": [
            "66\n",
            "Accessibility and Accessibility/Negative/No charging station here.\n"
          ]
        },
        {
          "name": "stderr",
          "output_type": "stream",
          "text": [
            "\r 57%|█████▋    | 846/1479 [30:10<09:17,  1.13it/s]"
          ]
        },
        {
          "name": "stdout",
          "output_type": "stream",
          "text": [
            "64\n",
            "Connectivity/Negative/No network service working at this station\n"
          ]
        },
        {
          "name": "stderr",
          "output_type": "stream",
          "text": [
            "\r 57%|█████▋    | 847/1479 [30:11<09:58,  1.06it/s]"
          ]
        },
        {
          "name": "stdout",
          "output_type": "stream",
          "text": [
            "126\n",
            "Location and Accessibility/Positive/Great location and easy to find. Right by the Starbucks. All were open midday on a Sunday.\n"
          ]
        },
        {
          "name": "stderr",
          "output_type": "stream",
          "text": [
            "\r 57%|█████▋    | 848/1479 [30:12<08:56,  1.18it/s]"
          ]
        },
        {
          "name": "stdout",
          "output_type": "stream",
          "text": [
            "62\n",
            "Accessibility and Location/Positive/This location works great!\n"
          ]
        },
        {
          "name": "stderr",
          "output_type": "stream",
          "text": [
            "\r 57%|█████▋    | 849/1479 [30:13<08:19,  1.26it/s]"
          ]
        },
        {
          "name": "stdout",
          "output_type": "stream",
          "text": [
            "67\n",
            "Accessibility and Location/Positive/Great place to recharge my car.\n"
          ]
        },
        {
          "name": "stderr",
          "output_type": "stream",
          "text": [
            "\r 57%|█████▋    | 850/1479 [30:16<15:41,  1.50s/it]"
          ]
        },
        {
          "name": "stdout",
          "output_type": "stream",
          "text": [
            "93\n",
            "reliability and maintenance/Negative/The 350 kWh fast charger wasn't working when I was there\n",
            "77\n",
            "charging speed and efficiency/Positive/The 100 kWh one next to it worked fine\n",
            "115\n",
            "Accessibility and Location/Negative/Google take you to a place next to the charger, but there is a fence in the way\n",
            "116\n",
            "Accessibility and Location/Positive/You have to enter the target parking garage and turn left to get to the chargers\n"
          ]
        },
        {
          "name": "stderr",
          "output_type": "stream",
          "text": [
            "\r 58%|█████▊    | 851/1479 [30:19<19:26,  1.86s/it]"
          ]
        },
        {
          "name": "stdout",
          "output_type": "stream",
          "text": [
            "64\n",
            "Compatibility and Connectivity/Positive/Worked fine with IONIQ 5\n",
            "106\n",
            "Charging speed and efficiency/Positive/2 x 350kW chargers (the taller units) and 2 x 100kW (shorter units)\n",
            "96\n",
            "Price and cost/Negative+Worked fine with IONIQ 5, though can get pricey if you're not on a plan.\n",
            "Error occurred: list index out of range\n"
          ]
        },
        {
          "name": "stderr",
          "output_type": "stream",
          "text": [
            "\r 58%|█████▊    | 852/1479 [30:20<16:43,  1.60s/it]"
          ]
        },
        {
          "name": "stdout",
          "output_type": "stream",
          "text": [
            "135\n",
            "Compatibility and Connectivity/Negative/it almost never communicates with my car, and i noticed other people were having the same issue\n"
          ]
        },
        {
          "name": "stderr",
          "output_type": "stream",
          "text": [
            "\r 58%|█████▊    | 853/1479 [30:21<15:59,  1.53s/it]"
          ]
        },
        {
          "name": "stdout",
          "output_type": "stream",
          "text": [
            "125\n",
            "Charging speed and efficiency/Negative/only got 1 to work *finally* for me, definitely NOT fast! Only 60 miles in 30 minutes!\n"
          ]
        },
        {
          "name": "stderr",
          "output_type": "stream",
          "text": [
            "\r 58%|█████▊    | 854/1479 [30:22<13:21,  1.28s/it]"
          ]
        },
        {
          "name": "stdout",
          "output_type": "stream",
          "text": [
            "63\n",
            "Compatibility and Connectivity/Negative/Doesn't work for Teslas\n"
          ]
        },
        {
          "name": "stderr",
          "output_type": "stream",
          "text": [
            "\r 58%|█████▊    | 855/1479 [30:22<11:46,  1.13s/it]"
          ]
        },
        {
          "name": "stdout",
          "output_type": "stream",
          "text": [
            "64\n",
            "reliability and maintenance/Negative/One charger was not working\n"
          ]
        },
        {
          "name": "stderr",
          "output_type": "stream",
          "text": [
            "\r 58%|█████▊    | 856/1479 [30:25<15:26,  1.49s/it]"
          ]
        },
        {
          "name": "stdout",
          "output_type": "stream",
          "text": [
            "41\n",
            "Accessibility and Location/Positive/shops\n",
            "52\n",
            "Compatibility and Connectivity/Positive/Always works\n",
            "33\n",
            "Price and Cost/Negative/Expensive\n",
            "93\n",
            "Charging speed and efficiency/Negative/Charges by the minute (a poor way to sell electricity)\n",
            "36\n",
            "Price and Cost/Positive/.50¢ per kWh\n"
          ]
        },
        {
          "name": "stderr",
          "output_type": "stream",
          "text": [
            "\r 58%|█████▊    | 857/1479 [30:26<16:12,  1.56s/it]"
          ]
        },
        {
          "name": "stdout",
          "output_type": "stream",
          "text": [
            "78\n",
            "Charging speed and efficiency/Positive/functional every time I have been there\n",
            "42\n",
            "Price and cost/Negative/A little expensive\n",
            "37\n",
            "Ease of use/Positive/Super convenient\n",
            "41\n",
            "Payment option/Positive/20¢/min to charge\n"
          ]
        },
        {
          "name": "stderr",
          "output_type": "stream",
          "text": [
            "\r 58%|█████▊    | 858/1479 [30:28<14:57,  1.45s/it]"
          ]
        },
        {
          "name": "stdout",
          "output_type": "stream",
          "text": [
            "121\n",
            "reliability and maintenance/Negative/Charger was not working and no employees even cared to help or try to help. Terrible\n"
          ]
        },
        {
          "name": "stderr",
          "output_type": "stream",
          "text": [
            "\r 58%|█████▊    | 859/1479 [30:28<12:33,  1.22s/it]"
          ]
        },
        {
          "name": "stdout",
          "output_type": "stream",
          "text": [
            "67\n",
            "reliability and maintenance/Negative/Charger display is not working\n"
          ]
        },
        {
          "name": "stderr",
          "output_type": "stream",
          "text": [
            "\r 58%|█████▊    | 860/1479 [30:29<11:29,  1.11s/it]"
          ]
        },
        {
          "name": "stdout",
          "output_type": "stream",
          "text": [
            "63\n",
            "reliability and maintenance/Negative/The charger wasn't working\n"
          ]
        },
        {
          "name": "stderr",
          "output_type": "stream",
          "text": [
            "\r 58%|█████▊    | 861/1479 [30:30<09:45,  1.05it/s]"
          ]
        },
        {
          "name": "stdout",
          "output_type": "stream",
          "text": [
            "67\n",
            "Accessibility and Accessibility/Negative/Private not open to public\n"
          ]
        },
        {
          "name": "stderr",
          "output_type": "stream",
          "text": [
            "\r 58%|█████▊    | 862/1479 [30:31<09:48,  1.05it/s]"
          ]
        },
        {
          "name": "stdout",
          "output_type": "stream",
          "text": [
            "100\n",
            "Charging speed and efficiency/Negative/no fast charging here, and the slow chargers don't even work.\n"
          ]
        },
        {
          "name": "stderr",
          "output_type": "stream",
          "text": [
            "\r 58%|█████▊    | 863/1479 [30:31<08:37,  1.19it/s]"
          ]
        },
        {
          "name": "stdout",
          "output_type": "stream",
          "text": [
            "54\n",
            "Compatibility and Connectivity/Negative/Only for Audis\n"
          ]
        },
        {
          "name": "stderr",
          "output_type": "stream",
          "text": [
            "\r 58%|█████▊    | 864/1479 [30:32<07:55,  1.29it/s]"
          ]
        },
        {
          "name": "stdout",
          "output_type": "stream",
          "text": [
            "72\n",
            "Accessibility and Amenities and Location/Positive/Great Charging station\n"
          ]
        },
        {
          "name": "stderr",
          "output_type": "stream",
          "text": [
            "\r 58%|█████▊    | 865/1479 [30:32<06:45,  1.51it/s]"
          ]
        },
        {
          "name": "stdout",
          "output_type": "stream",
          "text": [
            "50\n",
            "Compatibility and Connectivity/Positive/Works well\n"
          ]
        },
        {
          "name": "stderr",
          "output_type": "stream",
          "text": [
            "\r 59%|█████▊    | 866/1479 [30:33<07:19,  1.39it/s]"
          ]
        },
        {
          "name": "stdout",
          "output_type": "stream",
          "text": [
            "72\n",
            "Accessibility and Accessibility/Positive/Easy access and friendly people\n"
          ]
        },
        {
          "name": "stderr",
          "output_type": "stream",
          "text": [
            "\r 59%|█████▊    | 867/1479 [30:34<07:58,  1.28it/s]"
          ]
        },
        {
          "name": "stdout",
          "output_type": "stream",
          "text": [
            "54\n",
            "Location and Amenities/Positive/Nice well lit location\n",
            "56\n",
            "Accessibility and Availability/Positive/free electricity\n"
          ]
        },
        {
          "name": "stderr",
          "output_type": "stream",
          "text": [
            "\r 59%|█████▊    | 868/1479 [30:35<07:58,  1.28it/s]"
          ]
        },
        {
          "name": "stdout",
          "output_type": "stream",
          "text": [
            "101\n",
            "This review does not mention any specific aspects or provide any opinion terms or sentiment polarity.\n",
            "Error occurred: list index out of range\n"
          ]
        },
        {
          "name": "stderr",
          "output_type": "stream",
          "text": [
            "\r 59%|█████▉    | 869/1479 [30:36<09:42,  1.05it/s]"
          ]
        },
        {
          "name": "stdout",
          "output_type": "stream",
          "text": [
            "133\n",
            "Accessibility and Amenities and location/Positive/wish they were in a shopping mall, only store in walking distance is the Sam's club\n"
          ]
        },
        {
          "name": "stderr",
          "output_type": "stream",
          "text": [
            "\r 59%|█████▉    | 870/1479 [30:37<08:52,  1.14it/s]"
          ]
        },
        {
          "name": "stdout",
          "output_type": "stream",
          "text": [
            "68\n",
            "Compatibility and Connectivity/Positive/Plug n play, work flawlessly\n"
          ]
        },
        {
          "name": "stderr",
          "output_type": "stream",
          "text": [
            "\r 59%|█████▉    | 871/1479 [30:37<07:46,  1.30it/s]"
          ]
        },
        {
          "name": "stdout",
          "output_type": "stream",
          "text": [
            "59\n",
            "Accessibility and Accessibility/Positive/open to the public\n"
          ]
        },
        {
          "name": "stderr",
          "output_type": "stream",
          "text": [
            "\r 59%|█████▉    | 872/1479 [30:38<07:26,  1.36it/s]"
          ]
        },
        {
          "name": "stdout",
          "output_type": "stream",
          "text": [
            "63\n",
            "Accessibility and Accessibility/Negative/NOT OPEN TO THE PUBLIC\n"
          ]
        },
        {
          "name": "stderr",
          "output_type": "stream",
          "text": [
            "\r 59%|█████▉    | 873/1479 [30:39<06:56,  1.46it/s]"
          ]
        },
        {
          "name": "stdout",
          "output_type": "stream",
          "text": [
            "52\n",
            "Compatibility and Connectivity/Negative/Did not work\n"
          ]
        },
        {
          "name": "stderr",
          "output_type": "stream",
          "text": [
            "\r 59%|█████▉    | 874/1479 [30:40<08:17,  1.22it/s]"
          ]
        },
        {
          "name": "stdout",
          "output_type": "stream",
          "text": [
            "39\n",
            "Aspect: Accessibility and Accessibility\n",
            "Error occurred: list index out of range\n"
          ]
        },
        {
          "name": "stderr",
          "output_type": "stream",
          "text": [
            "\r 59%|█████▉    | 875/1479 [30:42<10:56,  1.09s/it]"
          ]
        },
        {
          "name": "stdout",
          "output_type": "stream",
          "text": [
            "27\n",
            "Overall sentiment: Positive\n",
            "Error occurred: list index out of range\n"
          ]
        },
        {
          "name": "stderr",
          "output_type": "stream",
          "text": [
            "\r 59%|█████▉    | 876/1479 [30:44<14:22,  1.43s/it]"
          ]
        },
        {
          "name": "stdout",
          "output_type": "stream",
          "text": [
            "91\n",
            "Charging speed and efficiency/Negative/massive drop on a 150 kW charger to 40 kW at 34% SoC\n",
            "63\n",
            "Accessibility and Location/Negative/not the most ideal location\n",
            "120\n",
            "Accessibility and Location/Negative/Massive containers filled most of the parking lot making it a bit tricky to navigate\n"
          ]
        },
        {
          "name": "stderr",
          "output_type": "stream",
          "text": [
            "\r 59%|█████▉    | 877/1479 [30:45<13:11,  1.31s/it]"
          ]
        },
        {
          "name": "stdout",
          "output_type": "stream",
          "text": [
            "56\n",
            "Charging speed and efficiency/Positive/150kw worked well\n",
            "74\n",
            "Availability and Accessibility/Negative/All chargers busy once I connected\n"
          ]
        },
        {
          "name": "stderr",
          "output_type": "stream",
          "text": [
            "\r 59%|█████▉    | 878/1479 [30:46<11:58,  1.20s/it]"
          ]
        },
        {
          "name": "stdout",
          "output_type": "stream",
          "text": [
            "117\n",
            "Accessibility and Location/Positive/Easy access to target, Very convenient location and the first one I tried worked!\n"
          ]
        },
        {
          "name": "stderr",
          "output_type": "stream",
          "text": [
            "\r 59%|█████▉    | 879/1479 [30:46<10:12,  1.02s/it]"
          ]
        },
        {
          "name": "stdout",
          "output_type": "stream",
          "text": [
            "55\n",
            "This review does not match any of the provided aspects.\n",
            "Error occurred: list index out of range\n"
          ]
        },
        {
          "name": "stderr",
          "output_type": "stream",
          "text": [
            "\r 59%|█████▉    | 880/1479 [30:47<08:53,  1.12it/s]"
          ]
        },
        {
          "name": "stdout",
          "output_type": "stream",
          "text": [
            "50\n",
            "Accessibility and Availability/Positive/no waiting\n"
          ]
        },
        {
          "name": "stderr",
          "output_type": "stream",
          "text": [
            "\r 60%|█████▉    | 881/1479 [30:48<08:36,  1.16it/s]"
          ]
        },
        {
          "name": "stdout",
          "output_type": "stream",
          "text": [
            "104\n",
            "Accessibility and Accessibility/Positive/3 Fast Charging station and located across from Bank of America\n"
          ]
        },
        {
          "name": "stderr",
          "output_type": "stream",
          "text": [
            "\r 60%|█████▉    | 882/1479 [30:49<09:56,  1.00it/s]"
          ]
        },
        {
          "name": "stdout",
          "output_type": "stream",
          "text": [
            "157\n",
            "Accessibility and Location/Positive/Great charging station, once you find it. It is not near the EV Go station but rather it’s diagonal from Bank of America.\n"
          ]
        },
        {
          "name": "stderr",
          "output_type": "stream",
          "text": [
            "\r 60%|█████▉    | 883/1479 [30:50<08:29,  1.17it/s]"
          ]
        },
        {
          "name": "stdout",
          "output_type": "stream",
          "text": [
            "78\n",
            "Accessibility and Accessibility/Positive/Easy stop and charge while traveling.\n"
          ]
        },
        {
          "name": "stderr",
          "output_type": "stream",
          "text": [
            "\r 60%|█████▉    | 884/1479 [30:51<10:00,  1.01s/it]"
          ]
        },
        {
          "name": "stdout",
          "output_type": "stream",
          "text": [
            "101\n",
            "Accessibility and Location/Negative/The app doesn't give an accurate location of the charging station\n",
            "85\n",
            "Safety/Positive/It's located across the street from the BOA in a well-lit parking lot\n"
          ]
        },
        {
          "name": "stderr",
          "output_type": "stream",
          "text": [
            "\r 60%|█████▉    | 885/1479 [30:52<09:49,  1.01it/s]"
          ]
        },
        {
          "name": "stdout",
          "output_type": "stream",
          "text": [
            "58\n",
            "Accessibility and Accessibility/Negative/Impossible to use\n",
            "56\n",
            "Amenities and location/Negative/Not ev cars parked there\n"
          ]
        },
        {
          "name": "stderr",
          "output_type": "stream",
          "text": [
            "\r 60%|█████▉    | 886/1479 [30:56<18:00,  1.82s/it]"
          ]
        },
        {
          "name": "stdout",
          "output_type": "stream",
          "text": [
            "452\n",
            "Accessibility and Amenities and Location/Positive/4 units on site with 6 CCS and 2 CHAdeMO chargers that range in output from 100kw to 350kw. It appears that if you don't have a EVgo account set up it costs $3 to connect and about $0.30 per minute to charge. EVgo reserves $30 on your card before charging and it appears to take awhile before it changes to the correct amount. Overall not a bad system, hope to see more stations installed in Minnesota.\n"
          ]
        },
        {
          "name": "stderr",
          "output_type": "stream",
          "text": [
            "\r 60%|█████▉    | 887/1479 [30:56<14:39,  1.49s/it]"
          ]
        },
        {
          "name": "stdout",
          "output_type": "stream",
          "text": [
            "53\n",
            "reliability and maintenance/Negative/CCS port damaged\n",
            "46\n",
            "customer service/Positive/agent was responsive\n"
          ]
        },
        {
          "name": "stderr",
          "output_type": "stream",
          "text": [
            "\r 60%|██████    | 888/1479 [30:59<18:41,  1.90s/it]"
          ]
        },
        {
          "name": "stdout",
          "output_type": "stream",
          "text": [
            "74\n",
            "Accessibility and Location/Neutral/Great location for charging in downtown\n",
            "88\n",
            "reliability and maintenance/Negative/Frequently ICE’d, GAS CARS STOP PARKING IN EV SPOTS\n",
            "92\n",
            "queue and waiting time/Negative/High demand charger, check app/PlugShare to see if it’s open\n",
            "88\n",
            "customer service/Neutral/Management/UMN parking does not enforce the EV only designation\n"
          ]
        },
        {
          "name": "stderr",
          "output_type": "stream",
          "text": [
            "\r 60%|██████    | 889/1479 [31:00<14:38,  1.49s/it]"
          ]
        },
        {
          "name": "stdout",
          "output_type": "stream",
          "text": [
            "41\n",
            "queue and waiting time/Negative/long wait\n"
          ]
        },
        {
          "name": "stderr",
          "output_type": "stream",
          "text": [
            "\r 60%|██████    | 890/1479 [31:01<12:58,  1.32s/it]"
          ]
        },
        {
          "name": "stdout",
          "output_type": "stream",
          "text": [
            "77\n",
            "Compatibility and Connectivity/Positive/CHAdeMO and CCS Connectors, 50kW Max.\n"
          ]
        },
        {
          "name": "stderr",
          "output_type": "stream",
          "text": [
            "\r 60%|██████    | 891/1479 [31:02<11:42,  1.19s/it]"
          ]
        },
        {
          "name": "stdout",
          "output_type": "stream",
          "text": [
            "60\n",
            "Compatibility and Connectivity/Neutral/Not a huge fan of ZEF\n",
            "68\n",
            "Availability and Accessibility/Positive/it's here and it's available\n"
          ]
        },
        {
          "name": "stderr",
          "output_type": "stream",
          "text": [
            "\r 60%|██████    | 892/1479 [31:03<12:08,  1.24s/it]"
          ]
        },
        {
          "name": "stdout",
          "output_type": "stream",
          "text": [
            "57\n",
            "reliability and maintenance/Negative/Tesla plug is broken\n",
            "95\n",
            "Compatibility and Connectivity/Positive/Chademo is up and running if you have a Shell RFID card\n"
          ]
        },
        {
          "name": "stderr",
          "output_type": "stream",
          "text": [
            "\r 60%|██████    | 893/1479 [31:04<10:34,  1.08s/it]"
          ]
        },
        {
          "name": "stdout",
          "output_type": "stream",
          "text": [
            "61\n",
            "reliability and maintenance/Negative/CCS plug entirely broken\n"
          ]
        },
        {
          "name": "stderr",
          "output_type": "stream",
          "text": [
            "\r 60%|██████    | 894/1479 [31:04<09:29,  1.03it/s]"
          ]
        },
        {
          "name": "stdout",
          "output_type": "stream",
          "text": [
            "94\n",
            "This review does not provide any specific information or opinions about the aspects mentioned.\n",
            "Error occurred: list index out of range\n"
          ]
        },
        {
          "name": "stderr",
          "output_type": "stream",
          "text": [
            "\r 61%|██████    | 895/1479 [31:06<12:24,  1.28s/it]"
          ]
        },
        {
          "name": "stdout",
          "output_type": "stream",
          "text": [
            "89\n",
            "Reliability and maintenance/Negative/The level two J1772 seems like it’ll never get fixed\n",
            "51\n",
            "Queue and waiting time/Negative/be prepared to wait\n",
            "102\n",
            "Charging speed and efficiency/Negative/many will charge above 80% and turn the charge into the trickle\n"
          ]
        },
        {
          "name": "stderr",
          "output_type": "stream",
          "text": [
            "\r 61%|██████    | 896/1479 [31:14<30:29,  3.14s/it]"
          ]
        },
        {
          "name": "stdout",
          "output_type": "stream",
          "text": [
            "223\n",
            "Accessibility and Location/Positive/Right off the freeway, Easy to find, Very easy to see glowing green station, Where lots of people could see me so I felt safe but not in a crowded area, off to the side of the parking lot\n",
            "259\n",
            "Reliability and Maintenance/Negative/It didn't work, It didn't have any reviews on Google but within the company app, it had lots of reviews with the same complaint, There were two others belonging to that company with similarly terrible locations and reviews\n",
            "91\n",
            "Charging speed and efficiency/Positive/I was 50% charged in 15 minutes for a couple dollars\n",
            "64\n",
            "Safety/Positive/Where lots of people could see me so I felt safe\n",
            "37\n",
            "Payment option/Positive/Not specified\n",
            "50\n",
            "Queue and waiting time/Not mentioned/Not mentioned\n",
            "44\n",
            "Customer service/Not mentioned/Not mentioned\n",
            "39\n",
            "Ease of use/Not mentioned/Not mentioned\n",
            "58\n",
            "Compatibility and Connectivity/Not mentioned/Not mentioned\n",
            "50\n",
            "Amenities and Location/Not mentioned/Not mentioned\n",
            "57\n",
            "User interface and mobile app/Not mentioned/Not mentioned\n",
            "42\n",
            "Price and cost/Not mentioned/Not mentioned\n"
          ]
        },
        {
          "name": "stderr",
          "output_type": "stream",
          "text": [
            "\r 61%|██████    | 897/1479 [31:15<24:13,  2.50s/it]"
          ]
        },
        {
          "name": "stdout",
          "output_type": "stream",
          "text": [
            "56\n",
            "Accessibility and Accessibility/Positive/Station is open\n",
            "49\n",
            "Amenities and location/Positive/Target has coffee\n"
          ]
        },
        {
          "name": "stderr",
          "output_type": "stream",
          "text": [
            "\r 61%|██████    | 898/1479 [31:15<18:49,  1.94s/it]"
          ]
        },
        {
          "name": "stdout",
          "output_type": "stream",
          "text": [
            "65\n",
            "Charging speed and efficiency/Negative/not charging at full speed\n"
          ]
        },
        {
          "name": "stderr",
          "output_type": "stream",
          "text": [
            "\r 61%|██████    | 899/1479 [31:18<19:53,  2.06s/it]"
          ]
        },
        {
          "name": "stdout",
          "output_type": "stream",
          "text": [
            "237\n",
            "Accessibility and Amenities and Location/Positive/Nice few charging stations. The J1772 are few up to two hours while you shop. The DCFC CCS is a paid option. Very nice to have, and easy to use. Especially for the level 2s. Just plug in!\n"
          ]
        },
        {
          "name": "stderr",
          "output_type": "stream",
          "text": [
            "\r 61%|██████    | 900/1479 [31:19<16:19,  1.69s/it]"
          ]
        },
        {
          "name": "stdout",
          "output_type": "stream",
          "text": [
            "196\n",
            "Accessibility and Amenities and Location/Positive/gorgeous, thrilling, remarkable stunning technology, plug and play, futuristic in appearance, honor to bear witness, first to adopt the technology\n"
          ]
        },
        {
          "name": "stderr",
          "output_type": "stream",
          "text": [
            "\r 61%|██████    | 901/1479 [31:19<13:35,  1.41s/it]"
          ]
        },
        {
          "name": "stdout",
          "output_type": "stream",
          "text": [
            "82\n",
            "reliability and maintenance/Negative/charging had stopped shortly after I had left\n"
          ]
        },
        {
          "name": "stderr",
          "output_type": "stream",
          "text": [
            "\r 61%|██████    | 902/1479 [31:21<14:08,  1.47s/it]"
          ]
        },
        {
          "name": "stdout",
          "output_type": "stream",
          "text": [
            "134\n",
            "Charging speed and efficiency/Positive/doesn't do the thing where it slowly decreases in charge speed over time and charges by the kwh\n",
            "75\n",
            "User interface/Positive/Easiest interface out of all the stations I've used\n"
          ]
        },
        {
          "name": "stderr",
          "output_type": "stream",
          "text": [
            "\r 61%|██████    | 903/1479 [31:22<11:34,  1.21s/it]"
          ]
        },
        {
          "name": "stdout",
          "output_type": "stream",
          "text": [
            "56\n",
            "reliability and maintenance/Positive/no issues otherwise\n"
          ]
        },
        {
          "name": "stderr",
          "output_type": "stream",
          "text": [
            "\r 61%|██████    | 904/1479 [31:22<09:26,  1.01it/s]"
          ]
        },
        {
          "name": "stdout",
          "output_type": "stream",
          "text": [
            "65\n",
            "Compatibility and Connectivity/Positive/Working great for my bike\n"
          ]
        },
        {
          "name": "stderr",
          "output_type": "stream",
          "text": [
            "\r 61%|██████    | 905/1479 [31:23<08:09,  1.17it/s]"
          ]
        },
        {
          "name": "stdout",
          "output_type": "stream",
          "text": [
            "50\n",
            "Charging speed and efficiency/Negative/Pretty slow\n"
          ]
        },
        {
          "name": "stderr",
          "output_type": "stream",
          "text": [
            "\r 61%|██████▏   | 906/1479 [31:23<08:09,  1.17it/s]"
          ]
        },
        {
          "name": "stdout",
          "output_type": "stream",
          "text": [
            "64\n",
            "Accessibility and Location/Positive/freeway, small shopping area\n"
          ]
        },
        {
          "name": "stderr",
          "output_type": "stream",
          "text": [
            "\r 61%|██████▏   | 907/1479 [31:24<07:59,  1.19it/s]"
          ]
        },
        {
          "name": "stdout",
          "output_type": "stream",
          "text": [
            "80\n",
            "reliability and maintenance/Positive/Chargers all seemed to be in working order.\n"
          ]
        },
        {
          "name": "stderr",
          "output_type": "stream",
          "text": [
            "\r 61%|██████▏   | 908/1479 [31:25<07:22,  1.29it/s]"
          ]
        },
        {
          "name": "stdout",
          "output_type": "stream",
          "text": [
            "66\n",
            "user interface/Negative/More explicit instructions would be great.\n"
          ]
        },
        {
          "name": "stderr",
          "output_type": "stream",
          "text": [
            "\r 61%|██████▏   | 909/1479 [31:26<07:16,  1.31it/s]"
          ]
        },
        {
          "name": "stdout",
          "output_type": "stream",
          "text": [
            "85\n",
            "Compatibility and Connectivity/Negative/Connector will not fit any EV car sold in US.\n"
          ]
        },
        {
          "name": "stderr",
          "output_type": "stream",
          "text": [
            "\r 62%|██████▏   | 910/1479 [31:28<11:21,  1.20s/it]"
          ]
        },
        {
          "name": "stdout",
          "output_type": "stream",
          "text": [
            "151\n",
            "Charging speed and efficiency/Negative/The chargers charge very slowly and I've never gotten my car to charge faster than 59kw/h on any of the chargers\n",
            "66\n",
            "Reliability and maintenance/Negative/One of the chargers is broken\n",
            "73\n",
            "Queue and waiting time/Neutral/If you decide to charge up here, good luck\n"
          ]
        },
        {
          "name": "stderr",
          "output_type": "stream",
          "text": [
            "\r 62%|██████▏   | 911/1479 [31:29<09:54,  1.05s/it]"
          ]
        },
        {
          "name": "stdout",
          "output_type": "stream",
          "text": [
            "72\n",
            "reliability and maintenance/Positive/Overall a quite reliable EA station\n"
          ]
        },
        {
          "name": "stderr",
          "output_type": "stream",
          "text": [
            "\r 62%|██████▏   | 912/1479 [31:29<08:19,  1.13it/s]"
          ]
        },
        {
          "name": "stdout",
          "output_type": "stream",
          "text": [
            "40\n",
            "Price and cost/Neutral/No free but close\n"
          ]
        },
        {
          "name": "stderr",
          "output_type": "stream",
          "text": [
            "\r 62%|██████▏   | 913/1479 [31:30<08:21,  1.13it/s]"
          ]
        },
        {
          "name": "stdout",
          "output_type": "stream",
          "text": [
            "91\n",
            "Accessibility and Accessibility/Positive/Free charging available here. SAE J1772 connector.\n"
          ]
        },
        {
          "name": "stderr",
          "output_type": "stream",
          "text": [
            "\r 62%|██████▏   | 914/1479 [31:36<21:45,  2.31s/it]"
          ]
        },
        {
          "name": "stdout",
          "output_type": "stream",
          "text": [
            "238\n",
            "Accessibility and Accessibility/Positive/ChargePoint has it over all the others IMHO. Better coverage, more reliable equipment, better pricing, and better driver support, and exceptional service when you need to call and speak with a rep.\n",
            "567\n",
            "Amenities and Location/Positive/This particular charging station is in the sub surface, underground garage level. If you enter the parking lot from a particular direction, you won't even be able to tell that there is an underground level. Maps usually takes you to the right spot, only not the right level. If you can see the sky above your car you're on the wrong level. Charging stations are directly below you, circle around to the underground parking level and you will find these chargers in the SouthEast corner. You're welcome! Hit the thumbs up before you go.\n"
          ]
        },
        {
          "name": "stderr",
          "output_type": "stream",
          "text": [
            "\r 62%|██████▏   | 915/1479 [31:36<16:44,  1.78s/it]"
          ]
        },
        {
          "name": "stdout",
          "output_type": "stream",
          "text": [
            "54\n",
            "Accessibility and Location/Neutral/Lower Target garage\n"
          ]
        },
        {
          "name": "stderr",
          "output_type": "stream",
          "text": [
            "\r 62%|██████▏   | 916/1479 [31:37<13:47,  1.47s/it]"
          ]
        },
        {
          "name": "stdout",
          "output_type": "stream",
          "text": [
            "75\n",
            "reliability and maintenance/Negative/3 out of 4 charging station are broken\n"
          ]
        },
        {
          "name": "stderr",
          "output_type": "stream",
          "text": [
            "\r 62%|██████▏   | 917/1479 [31:37<10:54,  1.17s/it]"
          ]
        },
        {
          "name": "stdout",
          "output_type": "stream",
          "text": [
            "51\n",
            "Accessibility and Location/Positive/next to Safeway\n"
          ]
        },
        {
          "name": "stderr",
          "output_type": "stream",
          "text": [
            "\r 62%|██████▏   | 918/1479 [31:39<11:14,  1.20s/it]"
          ]
        },
        {
          "name": "stdout",
          "output_type": "stream",
          "text": [
            "74\n",
            "reliability and maintenance/Negative/All of the chargers were out of order\n",
            "69\n",
            "amenities and location/Negative/nearby Safeway dumpster smelled awful\n"
          ]
        },
        {
          "name": "stderr",
          "output_type": "stream",
          "text": [
            "\r 62%|██████▏   | 919/1479 [31:39<09:38,  1.03s/it]"
          ]
        },
        {
          "name": "stdout",
          "output_type": "stream",
          "text": [
            "67\n",
            "Compatibility and Connectivity/Positive/Only Loki works for my Leaf\n"
          ]
        },
        {
          "name": "stderr",
          "output_type": "stream",
          "text": [
            "\r 62%|██████▏   | 920/1479 [31:40<08:55,  1.04it/s]"
          ]
        },
        {
          "name": "stdout",
          "output_type": "stream",
          "text": [
            "80\n",
            "Charging speed and efficiency/Negative/only getting 50 despite no one else here.\n"
          ]
        },
        {
          "name": "stderr",
          "output_type": "stream",
          "text": [
            "\r 62%|██████▏   | 921/1479 [31:48<28:26,  3.06s/it]"
          ]
        },
        {
          "name": "stdout",
          "output_type": "stream",
          "text": [
            "367\n",
            "Accessibility and Availability/Negative/WAS NOT OPERATIONAL AS OF 23 Aug 2022. Not sure if they have since gotten it back up and running. At that time, all chargers at this location were presently totally shut off, with many not even fully assembled, with plastic wrapping still on many of them. The parking spots for every station were blocked off with orange cones.\n",
            "236\n",
            "Compatibility and Connectivity/Negative/Google Assistant/Maps in my Volvo brought me here claiming the chargers were open. Google Maps' regular internet-facing version also indicated they were here and functioning. However, they're not.\n",
            "316\n",
            "Customer service/Negative/I called Electrify America who verified the \"outage.\" I wish they'd taken responsibility for coordinating their database with Google and with Volvo. Both Google Maps on the internet as well as the Volvo in-car version of Maps and the Google Assistant indicated this location was in service.\n",
            "226\n",
            "Safety/Negative/This inability of Google and EV charging stations to keep each other up-to-date on stuff like this is a serious issue that could easily lead to families getting stranded in god-knows-where. It's not acceptable.\n"
          ]
        },
        {
          "name": "stderr",
          "output_type": "stream",
          "text": [
            "\r 62%|██████▏   | 922/1479 [31:49<23:01,  2.48s/it]"
          ]
        },
        {
          "name": "stdout",
          "output_type": "stream",
          "text": [
            "155\n",
            "Accessibility and Amenities and Location/Positive/DCFC spot near my home, pretty decent experience charging here, newer EA charging stations installed here\n"
          ]
        },
        {
          "name": "stderr",
          "output_type": "stream",
          "text": [
            "\r 62%|██████▏   | 923/1479 [31:50<18:05,  1.95s/it]"
          ]
        },
        {
          "name": "stdout",
          "output_type": "stream",
          "text": [
            "78\n",
            "Charging speed and efficiency/Negative/None of the chargers will go above 60kw\n"
          ]
        },
        {
          "name": "stderr",
          "output_type": "stream",
          "text": [
            "\r 62%|██████▏   | 924/1479 [31:51<16:31,  1.79s/it]"
          ]
        },
        {
          "name": "stdout",
          "output_type": "stream",
          "text": [
            "188\n",
            "Accessibility and Amenities and Location/Negative/so many issues here with so many stations, Target is right there when a charger is working and doesn't stop charging after only a few mins\n"
          ]
        },
        {
          "name": "stderr",
          "output_type": "stream",
          "text": [
            "\r 63%|██████▎   | 925/1479 [31:52<14:12,  1.54s/it]"
          ]
        },
        {
          "name": "stdout",
          "output_type": "stream",
          "text": [
            "27\n",
            "Overall sentiment: Positive\n",
            "Error occurred: list index out of range\n"
          ]
        },
        {
          "name": "stderr",
          "output_type": "stream",
          "text": [
            "\r 63%|██████▎   | 926/1479 [31:53<11:16,  1.22s/it]"
          ]
        },
        {
          "name": "stdout",
          "output_type": "stream",
          "text": [
            "33\n",
            "Payment option/Negative/$6 per hr\n"
          ]
        },
        {
          "name": "stderr",
          "output_type": "stream",
          "text": [
            "\r 63%|██████▎   | 927/1479 [32:01<30:56,  3.36s/it]"
          ]
        },
        {
          "name": "stdout",
          "output_type": "stream",
          "text": [
            "282\n",
            "Accessibility and Location/Negative/parking garage on the P2 level, which is paid public parking mixed with resident parking for the Waycroft apartments. Residents and visitors are notorious for leaving their vehicles (electric or otherwise) idling in these charging spots overnight\n",
            "165\n",
            "Reliability and Maintenance/Negative/Residents and visitors are notorious for leaving their vehicles (electric or otherwise) idling in these charging spots overnight\n",
            "186\n",
            "Safety/Negative/I've heard of multiple thefts in this garage, and have personally caught a thief on camera on the P2 level in the wee hours of the morning stealing from unlocked vehicles\n",
            "79\n",
            "User Interface/Negative/don't rely on the \"available chargers\" data from Google\n",
            "376\n",
            "User Interface/Negative/When entering the garage, don't enter the first gates you see; instead, follow signs for Resident Parking / Vehicle Return to find the P2 gate. After entering the P2 gate, turn left, following the sign for Resident Parking. As mentioned before, P2 is resident parking AND paid public parking. P3 is strictly for residents only, and is gated separately.\n",
            "104\n",
            "Safety/Negative/I wouldn't leave my car plugged in here overnight unless there aren't any other options.\n"
          ]
        },
        {
          "name": "stderr",
          "output_type": "stream",
          "text": [
            "\r 63%|██████▎   | 928/1479 [32:02<23:00,  2.51s/it]"
          ]
        },
        {
          "name": "stdout",
          "output_type": "stream",
          "text": [
            "43\n",
            "Location/Neutral/The Earl apartment complex\n"
          ]
        },
        {
          "name": "stderr",
          "output_type": "stream",
          "text": [
            "\r 63%|██████▎   | 929/1479 [32:02<17:39,  1.93s/it]"
          ]
        },
        {
          "name": "stdout",
          "output_type": "stream",
          "text": [
            "37\n",
            "price and cost/Negative/Priced $/mile\n"
          ]
        },
        {
          "name": "stderr",
          "output_type": "stream",
          "text": [
            "\r 63%|██████▎   | 930/1479 [32:03<13:57,  1.53s/it]"
          ]
        },
        {
          "name": "stdout",
          "output_type": "stream",
          "text": [
            "74\n",
            "Compatibility and Connectivity/Positive/compatible with pure electric cars\n"
          ]
        },
        {
          "name": "stderr",
          "output_type": "stream",
          "text": [
            "\r 63%|██████▎   | 931/1479 [32:04<13:28,  1.48s/it]"
          ]
        },
        {
          "name": "stdout",
          "output_type": "stream",
          "text": [
            "139\n",
            "Accessibility and Amenities and location/Positive/four J1772 chargers, keep our parks green, support the environment with EV transportation\n"
          ]
        },
        {
          "name": "stderr",
          "output_type": "stream",
          "text": [
            "\r 63%|██████▎   | 932/1479 [32:05<11:36,  1.27s/it]"
          ]
        },
        {
          "name": "stdout",
          "output_type": "stream",
          "text": [
            "67\n",
            "Compatibility and Connectivity/Negative/instructions were not clear\n"
          ]
        },
        {
          "name": "stderr",
          "output_type": "stream",
          "text": [
            "\r 63%|██████▎   | 933/1479 [32:06<09:57,  1.09s/it]"
          ]
        },
        {
          "name": "stdout",
          "output_type": "stream",
          "text": [
            "62\n",
            "reliability and maintenance/Negative/Not all the chargers work\n"
          ]
        },
        {
          "name": "stderr",
          "output_type": "stream",
          "text": [
            "\r 63%|██████▎   | 934/1479 [32:07<11:04,  1.22s/it]"
          ]
        },
        {
          "name": "stdout",
          "output_type": "stream",
          "text": [
            "167\n",
            "Accessibility and Amenities and Location/Positive/8 spots, fast and faster DC charging, V simple to use, V helpful customer support, 30 yards to the Sheetz for a snack\n"
          ]
        },
        {
          "name": "stderr",
          "output_type": "stream",
          "text": [
            "\r 63%|██████▎   | 935/1479 [32:08<09:46,  1.08s/it]"
          ]
        },
        {
          "name": "stdout",
          "output_type": "stream",
          "text": [
            "70\n",
            "Charging speed and efficiency/Negative/VERY slow on my last two visits\n"
          ]
        },
        {
          "name": "stderr",
          "output_type": "stream",
          "text": [
            "\r 63%|██████▎   | 936/1479 [32:10<12:17,  1.36s/it]"
          ]
        },
        {
          "name": "stdout",
          "output_type": "stream",
          "text": [
            "113\n",
            "Compatibility and Connectivity/Negative/the only charger compatible with my car showed up online as \"unavailable\"\n",
            "58\n",
            "reliability and maintenance/Negative/It meant out of order\n",
            "54\n",
            "queue and waiting time/Negative/I figured I could wait\n",
            "36\n",
            "ease of use/Negative/Stressful night\n"
          ]
        },
        {
          "name": "stderr",
          "output_type": "stream",
          "text": [
            "\r 63%|██████▎   | 937/1479 [32:11<10:46,  1.19s/it]"
          ]
        },
        {
          "name": "stdout",
          "output_type": "stream",
          "text": [
            "67\n",
            "charging speed and efficiency/Negative/chargers downgraded to 65kwh\n"
          ]
        },
        {
          "name": "stderr",
          "output_type": "stream",
          "text": [
            "\r 63%|██████▎   | 938/1479 [32:11<09:35,  1.06s/it]"
          ]
        },
        {
          "name": "stdout",
          "output_type": "stream",
          "text": [
            "98\n",
            "reliability and maintenance/Negative/machines have been stating they are updating for over a month\n"
          ]
        },
        {
          "name": "stderr",
          "output_type": "stream",
          "text": [
            "\r 63%|██████▎   | 939/1479 [32:12<09:06,  1.01s/it]"
          ]
        },
        {
          "name": "stdout",
          "output_type": "stream",
          "text": [
            "71\n",
            "price and cost/Negative/$5.95 for the session fee PLUS $0.20 per minute\n"
          ]
        },
        {
          "name": "stderr",
          "output_type": "stream",
          "text": [
            "\r 64%|██████▎   | 940/1479 [32:13<07:46,  1.15it/s]"
          ]
        },
        {
          "name": "stdout",
          "output_type": "stream",
          "text": [
            "52\n",
            "Compatibility and Connectivity/Positive/Works great!\n"
          ]
        },
        {
          "name": "stderr",
          "output_type": "stream",
          "text": [
            "\r 64%|██████▎   | 941/1479 [32:14<07:36,  1.18it/s]"
          ]
        },
        {
          "name": "stdout",
          "output_type": "stream",
          "text": [
            "44\n",
            "Customer service/Positive/Affable employees.\n"
          ]
        },
        {
          "name": "stderr",
          "output_type": "stream",
          "text": [
            "\r 64%|██████▎   | 942/1479 [32:15<09:06,  1.02s/it]"
          ]
        },
        {
          "name": "stdout",
          "output_type": "stream",
          "text": [
            "86\n",
            "Accessibility and Accessibility/Positive/Accessible even when the dealership is closed\n",
            "106\n",
            "Reliability and Maintenance/Positive/machines look brand new, clean, quiet, and most importantly they work\n"
          ]
        },
        {
          "name": "stderr",
          "output_type": "stream",
          "text": [
            "\r 64%|██████▍   | 943/1479 [32:18<15:17,  1.71s/it]"
          ]
        },
        {
          "name": "stdout",
          "output_type": "stream",
          "text": [
            "431\n",
            "Compatibility and Connectivity/Negative/Downloaded the app to charge my Tesla. Searched and found the station I was at and it confirmed it had the proper connector and said it was good to go. Signed up for an account, added my credit card info, got out and connected the car only to get error message after error message that this particular charging station was not working. So frustrating to go through all of that for no reason.\n"
          ]
        },
        {
          "name": "stderr",
          "output_type": "stream",
          "text": [
            "\r 64%|██████▍   | 944/1479 [32:19<12:47,  1.44s/it]"
          ]
        },
        {
          "name": "stdout",
          "output_type": "stream",
          "text": [
            "95\n",
            "Compatibility and Connectivity/Positive/it does have the quick charge for Nissan Leaf (CHAdeMO)\n"
          ]
        },
        {
          "name": "stderr",
          "output_type": "stream",
          "text": [
            "\r 64%|██████▍   | 945/1479 [32:21<12:51,  1.44s/it]"
          ]
        },
        {
          "name": "stdout",
          "output_type": "stream",
          "text": [
            "87\n",
            "Compatibility and Connectivity/Negative/It took 2 or 3 times to get it to start working\n",
            "62\n",
            "Ease of use/Positive/Performed as expected once it was working\n"
          ]
        },
        {
          "name": "stderr",
          "output_type": "stream",
          "text": [
            "\r 64%|██████▍   | 946/1479 [32:22<11:27,  1.29s/it]"
          ]
        },
        {
          "name": "stdout",
          "output_type": "stream",
          "text": [
            "54\n",
            "reliability and maintenance/Negative/Inop doesn't work\n"
          ]
        },
        {
          "name": "stderr",
          "output_type": "stream",
          "text": [
            "\r 64%|██████▍   | 947/1479 [32:22<09:55,  1.12s/it]"
          ]
        },
        {
          "name": "stdout",
          "output_type": "stream",
          "text": [
            "94\n",
            "Compatibility and Connectivity/Negative/There isnt actually a Nissan charger here as stated :(\n"
          ]
        },
        {
          "name": "stderr",
          "output_type": "stream",
          "text": [
            "\r 64%|██████▍   | 948/1479 [32:26<15:59,  1.81s/it]"
          ]
        },
        {
          "name": "stdout",
          "output_type": "stream",
          "text": [
            "133\n",
            "Accessibility and Location/Positive/Located in the back of the Hidden Sands Brewing Company. Pretty nice spot only 2 chargers though.\n",
            "71\n",
            "Reliability and Maintenance/Positive/Never had a problem charging here.\n",
            "110\n",
            "Charging speed and efficiency/Positive/The chargers take about 30 minutes to 80% depending on how low you are.\n",
            "106\n",
            "Queue and Waiting Time/Negative/one time 3 cars showed up to charge at the same time and they had to wait.\n"
          ]
        },
        {
          "name": "stderr",
          "output_type": "stream",
          "text": [
            "\r 64%|██████▍   | 949/1479 [32:30<22:34,  2.56s/it]"
          ]
        },
        {
          "name": "stdout",
          "output_type": "stream",
          "text": [
            "63\n",
            "Availability and Accessibility/Positive/The charger works great\n",
            "115\n",
            "Compatibility and Connectivity/Positive/They do have both Chademo and CCS which is great for different types of EVs\n",
            "104\n",
            "Queue and waiting time/Negative/if there is someone already charging you have to wait until they're done\n",
            "60\n",
            "Price and cost/Positive/Price is a little high but not crazy\n",
            "60\n",
            "Amenities and location/Neutral/There is nothing to do nearby\n",
            "172\n",
            "Reliability and maintenance/Positive/Overall it's a great option in a pinch especially considering there are no other DC Fast level 3 chargers in the area other than Tesla.\n"
          ]
        },
        {
          "name": "stderr",
          "output_type": "stream",
          "text": [
            "\r 64%|██████▍   | 950/1479 [32:32<21:16,  2.41s/it]"
          ]
        },
        {
          "name": "stdout",
          "output_type": "stream",
          "text": [
            "72\n",
            "Charging speed and efficiency/Neutral/It took 40min to get to 90% charge\n",
            "39\n",
            "Amenities and location/Positive/brewery\n",
            "43\n",
            "Amenities and location/Positive/great beers\n",
            "60\n",
            "Amenities and location/Positive/great watermelon splash beer\n"
          ]
        },
        {
          "name": "stderr",
          "output_type": "stream",
          "text": [
            "\r 64%|██████▍   | 951/1479 [32:33<16:59,  1.93s/it]"
          ]
        },
        {
          "name": "stdout",
          "output_type": "stream",
          "text": [
            "63\n",
            "Charging speed and efficiency/Negative/only running at 25 watts\n"
          ]
        },
        {
          "name": "stderr",
          "output_type": "stream",
          "text": [
            "\r 64%|██████▍   | 952/1479 [32:33<13:11,  1.50s/it]"
          ]
        },
        {
          "name": "stdout",
          "output_type": "stream",
          "text": [
            "67\n",
            "Accessibility and Availability/Positive/one of very few in the area\n"
          ]
        },
        {
          "name": "stderr",
          "output_type": "stream",
          "text": [
            "\r 64%|██████▍   | 953/1479 [32:34<11:19,  1.29s/it]"
          ]
        },
        {
          "name": "stdout",
          "output_type": "stream",
          "text": [
            "73\n",
            "Accessibility and Availability/Negative/didn't find any charging stations\n"
          ]
        },
        {
          "name": "stderr",
          "output_type": "stream",
          "text": [
            "\r 65%|██████▍   | 954/1479 [32:35<09:15,  1.06s/it]"
          ]
        },
        {
          "name": "stdout",
          "output_type": "stream",
          "text": [
            "49\n",
            "Accessibility and Location/Neutral/charge station\n"
          ]
        },
        {
          "name": "stderr",
          "output_type": "stream",
          "text": [
            "\r 65%|██████▍   | 955/1479 [32:36<08:48,  1.01s/it]"
          ]
        },
        {
          "name": "stdout",
          "output_type": "stream",
          "text": [
            "90\n",
            "This review does not match any of the provided examples. Please provide a new review text.\n",
            "Error occurred: list index out of range\n"
          ]
        },
        {
          "name": "stderr",
          "output_type": "stream",
          "text": [
            "\r 65%|██████▍   | 956/1479 [32:36<08:20,  1.04it/s]"
          ]
        },
        {
          "name": "stdout",
          "output_type": "stream",
          "text": [
            "93\n",
            "Accessibility and Amenities and Location/Positive/non Tesla vehicles, Sunoco gas station/7-11\n"
          ]
        },
        {
          "name": "stderr",
          "output_type": "stream",
          "text": [
            "\r 65%|██████▍   | 957/1479 [32:37<08:40,  1.00it/s]"
          ]
        },
        {
          "name": "stdout",
          "output_type": "stream",
          "text": [
            "67\n",
            "Accessibility and Location/Negative/The location on google is wrong\n",
            "77\n",
            "reliability and maintenance/Negative/The charging is typical of evgo charging\n"
          ]
        },
        {
          "name": "stderr",
          "output_type": "stream",
          "text": [
            "\r 65%|██████▍   | 958/1479 [32:38<07:45,  1.12it/s]"
          ]
        },
        {
          "name": "stdout",
          "output_type": "stream",
          "text": [
            "55\n",
            "Charging speed and efficiency/Positive/Fast and working\n"
          ]
        },
        {
          "name": "stderr",
          "output_type": "stream",
          "text": [
            "\r 65%|██████▍   | 959/1479 [32:39<07:17,  1.19it/s]"
          ]
        },
        {
          "name": "stdout",
          "output_type": "stream",
          "text": [
            "86\n",
            "This review does not mention any specific aspects or provide any opinion or sentiment.\n",
            "Error occurred: list index out of range\n"
          ]
        },
        {
          "name": "stderr",
          "output_type": "stream",
          "text": [
            "\r 65%|██████▍   | 960/1479 [32:40<07:13,  1.20it/s]"
          ]
        },
        {
          "name": "stdout",
          "output_type": "stream",
          "text": [
            "69\n",
            "reliability and maintenance/Negative/gave me a charging error on dash\n"
          ]
        },
        {
          "name": "stderr",
          "output_type": "stream",
          "text": [
            "\r 65%|██████▍   | 961/1479 [32:41<07:55,  1.09it/s]"
          ]
        },
        {
          "name": "stdout",
          "output_type": "stream",
          "text": [
            "131\n",
            "Accessibility and Amenities and Location/Positive/Target, Lowes, Petsmart, Planet Fitness, and Wawa are all within walking distance\n"
          ]
        },
        {
          "name": "stderr",
          "output_type": "stream",
          "text": [
            "\r 65%|██████▌   | 962/1479 [32:44<14:15,  1.65s/it]"
          ]
        },
        {
          "name": "stdout",
          "output_type": "stream",
          "text": [
            "417\n",
            "Accessibility and Amenities and Location/Positive/The charging stations near the Cross Keys Target are always working and usually available. The area is clean and feels safe. There's also a Five Guys, Wawa, Lowes, Chick-fil-A, PetsMart and Planet Fitness (although you'll have to do just a little bit of walking for the latter four). The gym is also a good option if you need to charge your vehicle for an hour or so.\n"
          ]
        },
        {
          "name": "stderr",
          "output_type": "stream",
          "text": [
            "\r 65%|██████▌   | 963/1479 [32:46<13:52,  1.61s/it]"
          ]
        },
        {
          "name": "stdout",
          "output_type": "stream",
          "text": [
            "93\n",
            "reliability and maintenance/Positive/this one usually has the best working charger percentage\n",
            "86\n",
            "customer service/Positive/Have found other car owners to be super nice at this station\n"
          ]
        },
        {
          "name": "stderr",
          "output_type": "stream",
          "text": [
            "\r 65%|██████▌   | 964/1479 [32:47<13:17,  1.55s/it]"
          ]
        },
        {
          "name": "stdout",
          "output_type": "stream",
          "text": [
            "64\n",
            "reliability and maintenance/Negative/Some of the older ones suck\n",
            "72\n",
            "customer service/Neutral/Support is hit or miss if you are having issues\n"
          ]
        },
        {
          "name": "stderr",
          "output_type": "stream",
          "text": [
            "\r 65%|██████▌   | 965/1479 [32:48<11:54,  1.39s/it]"
          ]
        },
        {
          "name": "stdout",
          "output_type": "stream",
          "text": [
            "47\n",
            "Amenities and Location/Positive/Target and Wawa\n",
            "61\n",
            "Accessibility and Accessibility/Positive/350 and 150 chargers\n"
          ]
        },
        {
          "name": "stderr",
          "output_type": "stream",
          "text": [
            "\r 65%|██████▌   | 966/1479 [32:49<09:51,  1.15s/it]"
          ]
        },
        {
          "name": "stdout",
          "output_type": "stream",
          "text": [
            "38\n",
            "ease of use/Negative/won't work on app\n"
          ]
        },
        {
          "name": "stderr",
          "output_type": "stream",
          "text": [
            "\r 65%|██████▌   | 967/1479 [32:49<08:48,  1.03s/it]"
          ]
        },
        {
          "name": "stdout",
          "output_type": "stream",
          "text": [
            "75\n",
            "Charging speed and efficiency/Negative/charge speed has never exceeded 60kW\n",
            "62\n",
            "Reliability and maintenance/Negative/Lindsey function properly\n"
          ]
        },
        {
          "name": "stderr",
          "output_type": "stream",
          "text": [
            "\r 65%|██████▌   | 968/1479 [32:50<08:41,  1.02s/it]"
          ]
        },
        {
          "name": "stdout",
          "output_type": "stream",
          "text": [
            "49\n",
            "price and cost/Positive/Cost about 20$ to fill up\n",
            "74\n",
            "charging speed and efficiency/Positive/Took about 2.5 hours to fast charge\n"
          ]
        },
        {
          "name": "stderr",
          "output_type": "stream",
          "text": [
            "\r 66%|██████▌   | 969/1479 [32:51<07:47,  1.09it/s]"
          ]
        },
        {
          "name": "stdout",
          "output_type": "stream",
          "text": [
            "62\n",
            "reliability and maintenance/Negative/both chargers were broken\n"
          ]
        },
        {
          "name": "stderr",
          "output_type": "stream",
          "text": [
            "\r 66%|██████▌   | 970/1479 [32:52<07:07,  1.19it/s]"
          ]
        },
        {
          "name": "stdout",
          "output_type": "stream",
          "text": [
            "72\n",
            "Accessibility and Location/Negative/tricky spot to see your surroundings\n"
          ]
        },
        {
          "name": "stderr",
          "output_type": "stream",
          "text": [
            "\r 66%|██████▌   | 971/1479 [32:53<07:44,  1.09it/s]"
          ]
        },
        {
          "name": "stdout",
          "output_type": "stream",
          "text": [
            "65\n",
            "safety/Negative/One seems to be catching fire and a safety hazard\n"
          ]
        },
        {
          "name": "stderr",
          "output_type": "stream",
          "text": [
            "\r 66%|██████▌   | 972/1479 [32:54<07:39,  1.10it/s]"
          ]
        },
        {
          "name": "stdout",
          "output_type": "stream",
          "text": [
            "71\n",
            "reliability and maintenance/Negative/The stall on the left doesn't work\n"
          ]
        },
        {
          "name": "stderr",
          "output_type": "stream",
          "text": [
            "\r 66%|██████▌   | 973/1479 [32:54<06:43,  1.25it/s]"
          ]
        },
        {
          "name": "stdout",
          "output_type": "stream",
          "text": [
            "50\n",
            "Charging speed and efficiency/Positive/fast charge\n"
          ]
        },
        {
          "name": "stderr",
          "output_type": "stream",
          "text": [
            "\r 66%|██████▌   | 974/1479 [32:55<06:27,  1.30it/s]"
          ]
        },
        {
          "name": "stdout",
          "output_type": "stream",
          "text": [
            "69\n",
            "reliability and maintenance/Negative/The charging stations don't work\n"
          ]
        },
        {
          "name": "stderr",
          "output_type": "stream",
          "text": [
            "\r 66%|██████▌   | 975/1479 [32:56<05:57,  1.41it/s]"
          ]
        },
        {
          "name": "stdout",
          "output_type": "stream",
          "text": [
            "53\n",
            "reliability and maintenance/Positive/Works every time\n"
          ]
        },
        {
          "name": "stderr",
          "output_type": "stream",
          "text": [
            "\r 66%|██████▌   | 976/1479 [32:57<06:35,  1.27it/s]"
          ]
        },
        {
          "name": "stdout",
          "output_type": "stream",
          "text": [
            "142\n",
            "This review does not mention any specific aspects or opinions, so it cannot be classified or analyzed for aspect terms and sentiment polarity.\n",
            "Error occurred: list index out of range\n"
          ]
        },
        {
          "name": "stderr",
          "output_type": "stream",
          "text": [
            "\r 66%|██████▌   | 977/1479 [32:57<07:04,  1.18it/s]"
          ]
        },
        {
          "name": "stdout",
          "output_type": "stream",
          "text": [
            "99\n",
            "Accessibility and Accessibility/Negative/parking, expensive, 2 hours of charging, 2 weren't working\n"
          ]
        },
        {
          "name": "stderr",
          "output_type": "stream",
          "text": [
            "\r 66%|██████▌   | 978/1479 [32:58<07:11,  1.16it/s]"
          ]
        },
        {
          "name": "stdout",
          "output_type": "stream",
          "text": [
            "98\n",
            "Compatibility and Connectivity/Positive/J1772 level 2 charging- it takes longer but it saves money\n"
          ]
        },
        {
          "name": "stderr",
          "output_type": "stream",
          "text": [
            "\r 66%|██████▌   | 979/1479 [33:00<08:29,  1.02s/it]"
          ]
        },
        {
          "name": "stdout",
          "output_type": "stream",
          "text": [
            "90\n",
            "Charging speed and efficiency/Negative/charged my EV at around half of what it is rated at\n",
            "49\n",
            "Price and cost/Negative/charges a premium for use\n"
          ]
        },
        {
          "name": "stderr",
          "output_type": "stream",
          "text": [
            "\r 66%|██████▋   | 980/1479 [33:01<08:23,  1.01s/it]"
          ]
        },
        {
          "name": "stdout",
          "output_type": "stream",
          "text": [
            "108\n",
            "Accessibility and Amenities and Location/Positive/Fast charge, Good place to stay shopping during the charge\n"
          ]
        },
        {
          "name": "stderr",
          "output_type": "stream",
          "text": [
            "\r 66%|██████▋   | 981/1479 [33:02<09:01,  1.09s/it]"
          ]
        },
        {
          "name": "stdout",
          "output_type": "stream",
          "text": [
            "152\n",
            "Accessibility and Amenities and Location/Positive/Chipotle/Five Guys, Not Your Average Joe's restaurant, movie theater, bowling, ride on cares and games\n"
          ]
        },
        {
          "name": "stderr",
          "output_type": "stream",
          "text": [
            "\r 66%|██████▋   | 982/1479 [33:03<08:17,  1.00s/it]"
          ]
        },
        {
          "name": "stdout",
          "output_type": "stream",
          "text": [
            "71\n",
            "Charging speed and efficiency/Negative/Speed of 50kW is not fast enough\n"
          ]
        },
        {
          "name": "stderr",
          "output_type": "stream",
          "text": [
            "\r 66%|██████▋   | 983/1479 [33:06<13:32,  1.64s/it]"
          ]
        },
        {
          "name": "stdout",
          "output_type": "stream",
          "text": [
            "79\n",
            "Amenities and Location/Positive/Whole foods, Cape Cod Mall, Kohl's, Ethan Allen\n",
            "55\n",
            "Compatibility and Connectivity/Positive/DC Fast charger\n",
            "110\n",
            "Accessibility and Accessibility/Positive/Good backup is the DC Fast charger down the road at the Cape Cod Mall\n",
            "53\n",
            "Safety/Positive/Secure with a guard and security gate\n",
            "32\n",
            "Queue and Waiting Time/Neutral/-\n",
            "59\n",
            "User Interface/Positive/able to charge with the touchscreen\n"
          ]
        },
        {
          "name": "stderr",
          "output_type": "stream",
          "text": [
            "\r 67%|██████▋   | 984/1479 [33:07<11:26,  1.39s/it]"
          ]
        },
        {
          "name": "stdout",
          "output_type": "stream",
          "text": [
            "43\n",
            "Charging speed and efficiency/Negative/slow\n"
          ]
        },
        {
          "name": "stderr",
          "output_type": "stream",
          "text": [
            "\r 67%|██████▋   | 985/1479 [33:09<13:51,  1.68s/it]"
          ]
        },
        {
          "name": "stdout",
          "output_type": "stream",
          "text": [
            "70\n",
            "Amenities and location/Negative/Too bad because it’s convenient for me\n",
            "121\n",
            "Charging speed and efficiency/Negative/Most often chargers are down hard and when they do work they only deliver 60-70kwh\n",
            "78\n",
            "Charging speed and efficiency/Negative/I plugged into a 350 and only got 43kwh\n",
            "44\n",
            "Charging speed and efficiency/Negative/Awful\n",
            "62\n",
            "Compatibility and Connectivity/Negative/EA kinda sucks at this\n",
            "102\n",
            "Price and cost/Negative/come on Tesla, open your US network and put these clowns at EA out of business\n"
          ]
        },
        {
          "name": "stderr",
          "output_type": "stream",
          "text": [
            "\r 67%|██████▋   | 986/1479 [33:11<14:45,  1.80s/it]"
          ]
        },
        {
          "name": "stdout",
          "output_type": "stream",
          "text": [
            "67\n",
            "Charging speed and efficiency/Negative/Both 350kW chargers are down\n",
            "75\n",
            "Charging speed and efficiency/Positive/Charging at 150kW without difficulty\n",
            "79\n",
            "Charging speed and efficiency/Positive/The 50kW looks like it is available also\n"
          ]
        },
        {
          "name": "stderr",
          "output_type": "stream",
          "text": [
            "\r 67%|██████▋   | 987/1479 [33:12<12:27,  1.52s/it]"
          ]
        },
        {
          "name": "stdout",
          "output_type": "stream",
          "text": [
            "78\n",
            "queue and waiting time/Negative/only one charger MAYBE 2 are available for use\n"
          ]
        },
        {
          "name": "stderr",
          "output_type": "stream",
          "text": [
            "\r 67%|██████▋   | 988/1479 [33:13<10:29,  1.28s/it]"
          ]
        },
        {
          "name": "stdout",
          "output_type": "stream",
          "text": [
            "77\n",
            "reliability and maintenance/Negative/the one we started with was out of order\n"
          ]
        },
        {
          "name": "stderr",
          "output_type": "stream",
          "text": [
            "\r 67%|██████▋   | 989/1479 [33:14<09:08,  1.12s/it]"
          ]
        },
        {
          "name": "stdout",
          "output_type": "stream",
          "text": [
            "67\n",
            "This review does not mention any specific aspects or opinion terms.\n",
            "Error occurred: list index out of range\n"
          ]
        },
        {
          "name": "stderr",
          "output_type": "stream",
          "text": [
            "\r 67%|██████▋   | 990/1479 [33:14<07:55,  1.03it/s]"
          ]
        },
        {
          "name": "stdout",
          "output_type": "stream",
          "text": [
            "64\n",
            "Accessibility and Amenities and Location/Negative/defective plug\n"
          ]
        },
        {
          "name": "stderr",
          "output_type": "stream",
          "text": [
            "\r 67%|██████▋   | 991/1479 [33:16<11:01,  1.35s/it]"
          ]
        },
        {
          "name": "stdout",
          "output_type": "stream",
          "text": [
            "124\n",
            "Accessibility and Amenities and Location/Positive/Fast charging stations in the middle of nowhere, convenience store near it\n",
            "55\n",
            "Payment option/Positive/Debit and credit cards accepted\n",
            "76\n",
            "Ease of use/Positive/An App or a membership isn't needed to use this station\n"
          ]
        },
        {
          "name": "stderr",
          "output_type": "stream",
          "text": [
            "\r 67%|██████▋   | 992/1479 [33:17<09:30,  1.17s/it]"
          ]
        },
        {
          "name": "stdout",
          "output_type": "stream",
          "text": [
            "94\n",
            "Accessibility and Accessibility/Negative/Blocked by the very dealership that hosts the charger\n"
          ]
        },
        {
          "name": "stderr",
          "output_type": "stream",
          "text": [
            "\r 67%|██████▋   | 993/1479 [33:19<11:14,  1.39s/it]"
          ]
        },
        {
          "name": "stdout",
          "output_type": "stream",
          "text": [
            "54\n",
            "Amenities and Location/Positive/Walmart is right there\n",
            "67\n",
            "Reliability and Maintenance/Positive/the chargers all work (so far)\n",
            "104\n",
            "Accessibility and Accessibility/Negative/Walmart is not 24 hrs anymore (no restrooms if they are closed)\n"
          ]
        },
        {
          "name": "stderr",
          "output_type": "stream",
          "text": [
            "\r 67%|██████▋   | 994/1479 [33:20<10:19,  1.28s/it]"
          ]
        },
        {
          "name": "stdout",
          "output_type": "stream",
          "text": [
            "92\n",
            "Charging speed and efficiency/Negative/slow, slowed my trip down to a trickle averaging 8Kwh\n"
          ]
        },
        {
          "name": "stderr",
          "output_type": "stream",
          "text": [
            "\r 67%|██████▋   | 995/1479 [33:22<13:06,  1.62s/it]"
          ]
        },
        {
          "name": "stdout",
          "output_type": "stream",
          "text": [
            "88\n",
            "Charging speed and efficiency/Negative/Took way too long to get 1 charger out of 8 going\n",
            "74\n",
            "User interface and mobile app/Positive/able to charge with the touchscreen\n",
            "92\n",
            "Reliability and maintenance/Neutral/These don't get much use since a frog hopped out to help\n"
          ]
        },
        {
          "name": "stderr",
          "output_type": "stream",
          "text": [
            "\r 67%|██████▋   | 996/1479 [33:23<11:28,  1.43s/it]"
          ]
        },
        {
          "name": "stdout",
          "output_type": "stream",
          "text": [
            "95\n",
            "reliability and maintenance/Negative/One charger was pit but the other three were working fine.\n"
          ]
        },
        {
          "name": "stderr",
          "output_type": "stream",
          "text": [
            "\r 67%|██████▋   | 997/1479 [33:24<10:19,  1.29s/it]"
          ]
        },
        {
          "name": "stdout",
          "output_type": "stream",
          "text": [
            "73\n",
            "reliability and maintenance/Negative/pump 3's touch screen not responding\n"
          ]
        },
        {
          "name": "stderr",
          "output_type": "stream",
          "text": [
            "\r 67%|██████▋   | 998/1479 [33:25<08:35,  1.07s/it]"
          ]
        },
        {
          "name": "stdout",
          "output_type": "stream",
          "text": [
            "61\n",
            "Compatibility and Connectivity/Negative/the plug does not fit\n"
          ]
        },
        {
          "name": "stderr",
          "output_type": "stream",
          "text": [
            "\r 68%|██████▊   | 999/1479 [33:26<07:53,  1.01it/s]"
          ]
        },
        {
          "name": "stdout",
          "output_type": "stream",
          "text": [
            "88\n",
            "Accessibility and Availability/Negative/Only available when the facility is open, gated.\n"
          ]
        },
        {
          "name": "stderr",
          "output_type": "stream",
          "text": [
            "\r 68%|██████▊   | 1000/1479 [33:27<08:08,  1.02s/it]"
          ]
        },
        {
          "name": "stdout",
          "output_type": "stream",
          "text": [
            "151\n",
            "Accessibility and Availability/Negative/the charging station is open during business hours but doesn't work and attempts to call for repairs go ignored\n"
          ]
        },
        {
          "name": "stderr",
          "output_type": "stream",
          "text": [
            "\r 68%|██████▊   | 1001/1479 [33:28<09:32,  1.20s/it]"
          ]
        },
        {
          "name": "stdout",
          "output_type": "stream",
          "text": [
            "110\n",
            "reliability and maintenance/Negative/2 broken chargers and the \"working\" chargers are offline most of the time\n"
          ]
        },
        {
          "name": "stderr",
          "output_type": "stream",
          "text": [
            "\r 68%|██████▊   | 1002/1479 [33:30<11:14,  1.41s/it]"
          ]
        },
        {
          "name": "stdout",
          "output_type": "stream",
          "text": [
            "102\n",
            "Accessibility and Accessibility/Negative/All 350 kilowatt chargers out of service for the last 2 weeks\n",
            "106\n",
            "Reliability and Maintenance/Negative/Have notified electrify America to fix. Have not responded for repair\n",
            "39\n",
            "Customer Service/Negative/operator rude\n"
          ]
        },
        {
          "name": "stderr",
          "output_type": "stream",
          "text": [
            "\r 68%|██████▊   | 1003/1479 [33:32<11:46,  1.48s/it]"
          ]
        },
        {
          "name": "stdout",
          "output_type": "stream",
          "text": [
            "90\n",
            "Charging speed and efficiency/Positive/In twenty mins I added about 80 miles to my battery\n",
            "64\n",
            "Amenities and location/Positive/sandwich shop in the parking lot\n",
            "55\n",
            "Price and cost/Positive/Charge with tax was about $7.00\n",
            "65\n",
            "Compatibility and Connectivity/Positive/Set up on the 350 charger\n",
            "83\n",
            "Ease of use/Positive/Much more than charging at home but a lot better than gasoline\n"
          ]
        },
        {
          "name": "stderr",
          "output_type": "stream",
          "text": [
            "\r 68%|██████▊   | 1004/1479 [33:33<09:26,  1.19s/it]"
          ]
        },
        {
          "name": "stdout",
          "output_type": "stream",
          "text": [
            "57\n",
            "Compatibility and Connectivity/Negative/a lot of glitches\n"
          ]
        },
        {
          "name": "stderr",
          "output_type": "stream",
          "text": [
            " 68%|██████▊   | 1006/1479 [33:34<07:19,  1.08it/s]"
          ]
        },
        {
          "name": "stdout",
          "output_type": "stream",
          "text": [
            "170\n",
            "Accessibility and Amenities and location/Positive/Fast charging and great price. Nice coffee shop and restaurants within walking distance. Across from the Police station.\n"
          ]
        },
        {
          "name": "stderr",
          "output_type": "stream",
          "text": [
            "\r 68%|██████▊   | 1007/1479 [33:35<06:37,  1.19it/s]"
          ]
        },
        {
          "name": "stdout",
          "output_type": "stream",
          "text": [
            "64\n",
            "Location and Amenities/Positive/clear your mind, awesome artwork\n"
          ]
        },
        {
          "name": "stderr",
          "output_type": "stream",
          "text": [
            "\r 68%|██████▊   | 1008/1479 [33:36<07:01,  1.12it/s]"
          ]
        },
        {
          "name": "stdout",
          "output_type": "stream",
          "text": [
            "84\n",
            "Charging speed and efficiency/Negative/Dropped off after a bit and took 1:20 for 90%\n"
          ]
        },
        {
          "name": "stderr",
          "output_type": "stream",
          "text": [
            "\r 68%|██████▊   | 1009/1479 [33:36<06:33,  1.19it/s]"
          ]
        },
        {
          "name": "stdout",
          "output_type": "stream",
          "text": [
            "68\n",
            "Accessibility and Location/Negative/only 1 out of 2 chargers working\n"
          ]
        },
        {
          "name": "stderr",
          "output_type": "stream",
          "text": [
            "\r 68%|██████▊   | 1010/1479 [33:38<07:48,  1.00it/s]"
          ]
        },
        {
          "name": "stdout",
          "output_type": "stream",
          "text": [
            "150\n",
            "Accessibility and Amenities and Location/Positive/easy to use, right next to Sheetz, regular gas station conveniences: snacks, drinks, restrooms, etc.\n"
          ]
        },
        {
          "name": "stderr",
          "output_type": "stream",
          "text": [
            "\r 68%|██████▊   | 1011/1479 [33:39<07:54,  1.01s/it]"
          ]
        },
        {
          "name": "stdout",
          "output_type": "stream",
          "text": [
            "79\n",
            "Accessibility and Availability/Negative/advertised as being 24/7 but turned off\n"
          ]
        },
        {
          "name": "stderr",
          "output_type": "stream",
          "text": [
            "\r 68%|██████▊   | 1012/1479 [33:39<06:54,  1.13it/s]"
          ]
        },
        {
          "name": "stdout",
          "output_type": "stream",
          "text": [
            "110\n",
            "Accessibility and Accessibility/Negative/ICE cars are constantly parked in front of charger, making it useless\n"
          ]
        },
        {
          "name": "stderr",
          "output_type": "stream",
          "text": [
            "\r 68%|██████▊   | 1013/1479 [33:40<06:35,  1.18it/s]"
          ]
        },
        {
          "name": "stdout",
          "output_type": "stream",
          "text": [
            "45\n",
            "Customer service/Negative/Not a friendly guy!\n"
          ]
        },
        {
          "name": "stderr",
          "output_type": "stream",
          "text": [
            "\r 69%|██████▊   | 1014/1479 [33:41<06:53,  1.13it/s]"
          ]
        },
        {
          "name": "stdout",
          "output_type": "stream",
          "text": [
            "101\n",
            "Accessibility and Accessibility/Positive/moved one of the vehicles to make space for my car to charge\n"
          ]
        },
        {
          "name": "stderr",
          "output_type": "stream",
          "text": [
            "\r 69%|██████▊   | 1015/1479 [33:42<06:12,  1.24it/s]"
          ]
        },
        {
          "name": "stdout",
          "output_type": "stream",
          "text": [
            "66\n",
            "customer service/Negative/instruction are not clear or not working\n"
          ]
        },
        {
          "name": "stderr",
          "output_type": "stream",
          "text": [
            "\r 69%|██████▊   | 1016/1479 [33:42<05:46,  1.34it/s]"
          ]
        },
        {
          "name": "stdout",
          "output_type": "stream",
          "text": [
            "48\n",
            "reliability and maintenance/Negative/not working\n"
          ]
        },
        {
          "name": "stderr",
          "output_type": "stream",
          "text": [
            "\r 69%|██████▉   | 1017/1479 [33:44<07:51,  1.02s/it]"
          ]
        },
        {
          "name": "stdout",
          "output_type": "stream",
          "text": [
            "223\n",
            "Accessibility and Amenities and Location/Positive/Electrify America has become the only charging station I trust for a long trip. They're always next to a shopping area giving you something to do while your vehicle charges.\n"
          ]
        },
        {
          "name": "stderr",
          "output_type": "stream",
          "text": [
            "\r 69%|██████▉   | 1018/1479 [33:45<07:44,  1.01s/it]"
          ]
        },
        {
          "name": "stdout",
          "output_type": "stream",
          "text": [
            "101\n",
            "reliability and maintenance/Negative/gave a red light immediately, technical issue, would not release\n"
          ]
        },
        {
          "name": "stderr",
          "output_type": "stream",
          "text": [
            "\r 69%|██████▉   | 1019/1479 [33:46<08:33,  1.12s/it]"
          ]
        },
        {
          "name": "stdout",
          "output_type": "stream",
          "text": [
            "193\n",
            "Compatibility and Connectivity/Negative/received 2-year free charging from Mercedes-Benz but every time I plug in the charger it says connecting to the vehicle forever and never starts charging\n"
          ]
        },
        {
          "name": "stderr",
          "output_type": "stream",
          "text": [
            "\r 69%|██████▉   | 1020/1479 [33:48<08:55,  1.17s/it]"
          ]
        },
        {
          "name": "stdout",
          "output_type": "stream",
          "text": [
            "64\n",
            "reliability and maintenance/Negative/only one was \"out of order\"\n",
            "79\n",
            "queue and waiting time/Negative/so many people attempting to charge and waiting\n"
          ]
        },
        {
          "name": "stderr",
          "output_type": "stream",
          "text": [
            "\r 69%|██████▉   | 1021/1479 [33:48<07:53,  1.03s/it]"
          ]
        },
        {
          "name": "stdout",
          "output_type": "stream",
          "text": [
            "96\n",
            "reliability and maintenance/Positive/replaced all the chargers with 350s and repainted the spots\n"
          ]
        },
        {
          "name": "stderr",
          "output_type": "stream",
          "text": [
            "\r 69%|██████▉   | 1022/1479 [33:49<07:41,  1.01s/it]"
          ]
        },
        {
          "name": "stdout",
          "output_type": "stream",
          "text": [
            "134\n",
            "This review does not provide enough information to classify it or identify any specific aspects, opinion terms, or sentiment polarity.\n",
            "Error occurred: list index out of range\n"
          ]
        },
        {
          "name": "stderr",
          "output_type": "stream",
          "text": [
            "\r 69%|██████▉   | 1023/1479 [33:50<06:34,  1.16it/s]"
          ]
        },
        {
          "name": "stdout",
          "output_type": "stream",
          "text": [
            "60\n",
            "Charging speed and efficiency/Positive/fast charging station\n"
          ]
        },
        {
          "name": "stderr",
          "output_type": "stream",
          "text": [
            "\r 69%|██████▉   | 1024/1479 [33:50<05:33,  1.37it/s]"
          ]
        },
        {
          "name": "stdout",
          "output_type": "stream",
          "text": [
            "46\n",
            "Compatibility and Connectivity/Positive/Worked\n"
          ]
        },
        {
          "name": "stderr",
          "output_type": "stream",
          "text": [
            "\r 69%|██████▉   | 1025/1479 [33:53<10:59,  1.45s/it]"
          ]
        },
        {
          "name": "stdout",
          "output_type": "stream",
          "text": [
            "529\n",
            "Accessibility and Accessibility/Negative/Took a frustratingly long time to set up an account, manually find my charger number, and get the charger started. App told me it was charging for 2 hours and came back to zero charge and a bill. Account set up and charger detection based on location or NFC should be more streamlined. And if the app is not receiving data from the charger, that should be reflected and throw a warning to the user rather than showing a counter claiming charging is happening accompanied by blank metrics.\n"
          ]
        },
        {
          "name": "stderr",
          "output_type": "stream",
          "text": [
            "\r 69%|██████▉   | 1026/1479 [33:54<09:35,  1.27s/it]"
          ]
        },
        {
          "name": "stdout",
          "output_type": "stream",
          "text": [
            "70\n",
            "Charging speed and efficiency/Negative/max it puts out is 29 on my EV6\n"
          ]
        },
        {
          "name": "stderr",
          "output_type": "stream",
          "text": [
            "\r 69%|██████▉   | 1027/1479 [33:55<08:15,  1.10s/it]"
          ]
        },
        {
          "name": "stdout",
          "output_type": "stream",
          "text": [
            "64\n",
            "reliability and maintenance/Negative/two of them weren't working\n"
          ]
        },
        {
          "name": "stderr",
          "output_type": "stream",
          "text": [
            "\r 70%|██████▉   | 1028/1479 [33:57<10:02,  1.34s/it]"
          ]
        },
        {
          "name": "stdout",
          "output_type": "stream",
          "text": [
            "302\n",
            "Amenities and Location/Positive/Looked extremely futuristic and fun. Seems like a great idea. Charge your vehicle while you shop. No exhaust. No oil on the ground. Got to see car take off after charging. Thinking they will have the stations upgraded to where they are covered and secured in the future.\n"
          ]
        },
        {
          "name": "stderr",
          "output_type": "stream",
          "text": [
            "\r 70%|██████▉   | 1029/1479 [33:57<08:45,  1.17s/it]"
          ]
        },
        {
          "name": "stdout",
          "output_type": "stream",
          "text": [
            "90\n",
            "Charging speed and efficiency/Negative/Only charges for a few seconds before shutting off.\n"
          ]
        },
        {
          "name": "stderr",
          "output_type": "stream",
          "text": [
            "\r 70%|██████▉   | 1030/1479 [33:58<08:21,  1.12s/it]"
          ]
        },
        {
          "name": "stdout",
          "output_type": "stream",
          "text": [
            "86\n",
            "reliability and maintenance/Negative/DC fast charger out of service for the last month\n"
          ]
        },
        {
          "name": "stderr",
          "output_type": "stream",
          "text": [
            "\r 70%|██████▉   | 1031/1479 [33:59<07:36,  1.02s/it]"
          ]
        },
        {
          "name": "stdout",
          "output_type": "stream",
          "text": [
            "71\n",
            "reliability and maintenance/Negative/Nothing working here. Poor service\n"
          ]
        },
        {
          "name": "stderr",
          "output_type": "stream",
          "text": [
            "\r 70%|██████▉   | 1032/1479 [34:00<06:28,  1.15it/s]"
          ]
        },
        {
          "name": "stdout",
          "output_type": "stream",
          "text": [
            "54\n",
            "Accessibility and Accessibility/Positive/Easy and FREE\n"
          ]
        },
        {
          "name": "stderr",
          "output_type": "stream",
          "text": [
            "\r 70%|██████▉   | 1033/1479 [34:00<05:43,  1.30it/s]"
          ]
        },
        {
          "name": "stdout",
          "output_type": "stream",
          "text": [
            "34\n",
            "price and cost/Negative/Overpriced\n"
          ]
        },
        {
          "name": "stderr",
          "output_type": "stream",
          "text": [
            "\r 70%|██████▉   | 1034/1479 [34:01<05:28,  1.35it/s]"
          ]
        },
        {
          "name": "stdout",
          "output_type": "stream",
          "text": [
            "66\n",
            "Accessibility and Accessibility/Negative/couldn't find the charger\n"
          ]
        },
        {
          "name": "stderr",
          "output_type": "stream",
          "text": [
            "\r 70%|██████▉   | 1035/1479 [34:03<08:33,  1.16s/it]"
          ]
        },
        {
          "name": "stdout",
          "output_type": "stream",
          "text": [
            "239\n",
            "Queue and waiting time/Negative/No waiting connected fast he hobbled charge by id4 battery preservation allogoryrhm. Should be a way to turn off on a trip. Spending 30 minutes every time even to top up for a longer segment is dumb out West\n"
          ]
        },
        {
          "name": "stderr",
          "output_type": "stream",
          "text": [
            "\r 70%|███████   | 1036/1479 [34:05<09:45,  1.32s/it]"
          ]
        },
        {
          "name": "stdout",
          "output_type": "stream",
          "text": [
            "113\n",
            "Charging speed and efficiency/Positive/Chargers worked both times here for me. Includes hyperfast 350kW chargers.\n",
            "92\n",
            "Compatibility and Connectivity/Negative/Cell service on both Verizon and AT&T is bad though.\n"
          ]
        },
        {
          "name": "stderr",
          "output_type": "stream",
          "text": [
            "\r 70%|███████   | 1037/1479 [34:06<08:30,  1.15s/it]"
          ]
        },
        {
          "name": "stdout",
          "output_type": "stream",
          "text": [
            "80\n",
            "Accessibility and Accessibility/Negative/Not one of the charging stations worked\n"
          ]
        },
        {
          "name": "stderr",
          "output_type": "stream",
          "text": [
            "\r 70%|███████   | 1038/1479 [34:07<08:02,  1.09s/it]"
          ]
        },
        {
          "name": "stdout",
          "output_type": "stream",
          "text": [
            "100\n",
            "reliability and maintenance/Positive/working fine and I could see at least 4 others were operational\n"
          ]
        },
        {
          "name": "stderr",
          "output_type": "stream",
          "text": [
            "\r 70%|███████   | 1039/1479 [34:08<07:56,  1.08s/it]"
          ]
        },
        {
          "name": "stdout",
          "output_type": "stream",
          "text": [
            "38\n",
            "Aspect: Compatibility and Connectivity\n",
            "Error occurred: list index out of range\n"
          ]
        },
        {
          "name": "stderr",
          "output_type": "stream",
          "text": [
            "\r 70%|███████   | 1040/1479 [34:09<07:36,  1.04s/it]"
          ]
        },
        {
          "name": "stdout",
          "output_type": "stream",
          "text": [
            "92\n",
            "reliability and maintenance/Negative/Some chargers had to be rebooted by EV in order to work\n"
          ]
        },
        {
          "name": "stderr",
          "output_type": "stream",
          "text": [
            "\r 70%|███████   | 1041/1479 [34:09<07:08,  1.02it/s]"
          ]
        },
        {
          "name": "stdout",
          "output_type": "stream",
          "text": [
            "76\n",
            "Charging speed and efficiency/Positive/Fast chargers, Charging speed is Okay\n"
          ]
        },
        {
          "name": "stderr",
          "output_type": "stream",
          "text": [
            "\r 70%|███████   | 1042/1479 [34:11<07:39,  1.05s/it]"
          ]
        },
        {
          "name": "stdout",
          "output_type": "stream",
          "text": [
            "109\n",
            "reliability and maintenance/Negative/1st charger did not work at all, 2nd charger worked at 75 instead of 150\n"
          ]
        },
        {
          "name": "stderr",
          "output_type": "stream",
          "text": [
            "\r 71%|███████   | 1043/1479 [34:12<09:08,  1.26s/it]"
          ]
        },
        {
          "name": "stdout",
          "output_type": "stream",
          "text": [
            "203\n",
            "Availability and Accessibility/Positive/Fast complementary charging available, were able to get a spot by tracking through the EA app. One charger was being fixed/serviced but all others were functional.\n"
          ]
        },
        {
          "name": "stderr",
          "output_type": "stream",
          "text": [
            "\r 71%|███████   | 1044/1479 [34:13<07:57,  1.10s/it]"
          ]
        },
        {
          "name": "stdout",
          "output_type": "stream",
          "text": [
            "67\n",
            "Charging speed and efficiency/Negative/Slow battery charging speed.\n"
          ]
        },
        {
          "name": "stderr",
          "output_type": "stream",
          "text": [
            "\r 71%|███████   | 1045/1479 [34:16<11:09,  1.54s/it]"
          ]
        },
        {
          "name": "stdout",
          "output_type": "stream",
          "text": [
            "80\n",
            "Accessibility and Accessibility/Positive/This location got one L2 and L3 charger\n",
            "57\n",
            "Amenities and location/Positive/next to Aldi/Amazon Fresh\n",
            "64\n",
            "Charging speed and efficiency/Positive/L3 gives you up to 50 kWh\n",
            "93\n",
            "Price and cost/Positive/L2 is free, L3 is free for first 30 minutes and afterwards $.37 cents\n"
          ]
        },
        {
          "name": "stderr",
          "output_type": "stream",
          "text": [
            "\r 71%|███████   | 1046/1479 [34:16<09:32,  1.32s/it]"
          ]
        },
        {
          "name": "stdout",
          "output_type": "stream",
          "text": [
            "79\n",
            "reliability and maintenance/Negative/fast charger doesn't work for over a month\n"
          ]
        },
        {
          "name": "stderr",
          "output_type": "stream",
          "text": [
            "\r 71%|███████   | 1047/1479 [34:17<07:55,  1.10s/it]"
          ]
        },
        {
          "name": "stdout",
          "output_type": "stream",
          "text": [
            "73\n",
            "Compatibility and Connectivity/Negative/Needs more stations for charging.\n"
          ]
        },
        {
          "name": "stderr",
          "output_type": "stream",
          "text": [
            "\r 71%|███████   | 1048/1479 [34:19<08:52,  1.24s/it]"
          ]
        },
        {
          "name": "stdout",
          "output_type": "stream",
          "text": [
            "156\n",
            "Charging speed and efficiency/Negative/30kwh charing speed it takes 1 90 minutes to charge from 10% to 80%. A few stations are always broken and never fixed\n"
          ]
        },
        {
          "name": "stderr",
          "output_type": "stream",
          "text": [
            "\r 71%|███████   | 1049/1479 [34:19<07:41,  1.07s/it]"
          ]
        },
        {
          "name": "stdout",
          "output_type": "stream",
          "text": [
            "64\n",
            "reliability and maintenance/Negative/a stall or two out of order\n"
          ]
        },
        {
          "name": "stderr",
          "output_type": "stream",
          "text": [
            "\r 71%|███████   | 1050/1479 [34:20<07:09,  1.00s/it]"
          ]
        },
        {
          "name": "stdout",
          "output_type": "stream",
          "text": [
            "67\n",
            "Charging speed and efficiency/Negative/Charging is capped at 70-75W\n"
          ]
        },
        {
          "name": "stderr",
          "output_type": "stream",
          "text": [
            "\r 71%|███████   | 1051/1479 [34:21<07:32,  1.06s/it]"
          ]
        },
        {
          "name": "stdout",
          "output_type": "stream",
          "text": [
            "137\n",
            "reliability and maintenance/Negative/only 1 working from 4, and it happened not only here, every each charged stations have same problems\n"
          ]
        },
        {
          "name": "stderr",
          "output_type": "stream",
          "text": [
            "\r 71%|███████   | 1052/1479 [34:22<07:06,  1.00it/s]"
          ]
        },
        {
          "name": "stdout",
          "output_type": "stream",
          "text": [
            "90\n",
            "Compatibility and Connectivity/Negative/they have two ports but only can be used at a time\n"
          ]
        },
        {
          "name": "stderr",
          "output_type": "stream",
          "text": [
            "\r 71%|███████   | 1053/1479 [34:23<06:24,  1.11it/s]"
          ]
        },
        {
          "name": "stdout",
          "output_type": "stream",
          "text": [
            "77\n",
            "Compatibility and Connectivity/Negative/not compatible with the Tesla adapter\n"
          ]
        },
        {
          "name": "stderr",
          "output_type": "stream",
          "text": [
            "\r 71%|███████▏  | 1054/1479 [34:24<06:01,  1.18it/s]"
          ]
        },
        {
          "name": "stdout",
          "output_type": "stream",
          "text": [
            "70\n",
            "reliability and maintenance/Negative/half of the chargers need service\n"
          ]
        },
        {
          "name": "stderr",
          "output_type": "stream",
          "text": [
            "\r 71%|███████▏  | 1055/1479 [34:24<05:08,  1.37it/s]"
          ]
        },
        {
          "name": "stdout",
          "output_type": "stream",
          "text": [
            "61\n",
            "Accessibility and Accessibility/Neutral/None charging station\n"
          ]
        },
        {
          "name": "stderr",
          "output_type": "stream",
          "text": [
            "\r 71%|███████▏  | 1056/1479 [34:25<05:04,  1.39it/s]"
          ]
        },
        {
          "name": "stdout",
          "output_type": "stream",
          "text": [
            "63\n",
            "Accessibility and Availability/Negative/couldn't find a charger\n"
          ]
        },
        {
          "name": "stderr",
          "output_type": "stream",
          "text": [
            "\r 71%|███████▏  | 1057/1479 [34:26<05:12,  1.35it/s]"
          ]
        },
        {
          "name": "stdout",
          "output_type": "stream",
          "text": [
            "89\n",
            "Compatibility and Connectivity/Negative/Repeated errors trying to charge a Mustang Mach e\n"
          ]
        },
        {
          "name": "stderr",
          "output_type": "stream",
          "text": [
            "\r 72%|███████▏  | 1058/1479 [34:26<04:33,  1.54it/s]"
          ]
        },
        {
          "name": "stdout",
          "output_type": "stream",
          "text": [
            "52\n",
            "Charging speed and efficiency/Positive/Nice and fast\n"
          ]
        },
        {
          "name": "stderr",
          "output_type": "stream",
          "text": [
            "\r 72%|███████▏  | 1059/1479 [34:27<05:52,  1.19it/s]"
          ]
        },
        {
          "name": "stdout",
          "output_type": "stream",
          "text": [
            "150\n",
            "Accessibility and Accessibility/Negative/Generators were down (PSE&G). NO WARNING. Next station was about 7 miles away. Super inconvenience to travel.\n"
          ]
        },
        {
          "name": "stderr",
          "output_type": "stream",
          "text": [
            "\r 72%|███████▏  | 1060/1479 [34:28<06:25,  1.09it/s]"
          ]
        },
        {
          "name": "stdout",
          "output_type": "stream",
          "text": [
            "128\n",
            "Accessibility and Amenities and Location/Positive/convenient way to charge up with renewable energy, 2 chargers at this location\n"
          ]
        },
        {
          "name": "stderr",
          "output_type": "stream",
          "text": [
            "\r 72%|███████▏  | 1061/1479 [34:29<05:50,  1.19it/s]"
          ]
        },
        {
          "name": "stdout",
          "output_type": "stream",
          "text": [
            "87\n",
            "Compatibility and Connectivity/Positive/EVgo Charging Station performs with excellence.\n"
          ]
        },
        {
          "name": "stderr",
          "output_type": "stream",
          "text": [
            "\r 72%|███████▏  | 1062/1479 [34:30<05:40,  1.22it/s]"
          ]
        },
        {
          "name": "stdout",
          "output_type": "stream",
          "text": [
            "41\n",
            "Ease of use/Positive/Free and easy to use\n"
          ]
        },
        {
          "name": "stderr",
          "output_type": "stream",
          "text": [
            "\r 72%|███████▏  | 1063/1479 [34:31<05:42,  1.22it/s]"
          ]
        },
        {
          "name": "stdout",
          "output_type": "stream",
          "text": [
            "83\n",
            "price and cost/Negative/cheaper than gas...lol but vehicles costly than gas vehical\n"
          ]
        },
        {
          "name": "stderr",
          "output_type": "stream",
          "text": [
            "\r 72%|███████▏  | 1064/1479 [34:31<05:26,  1.27it/s]"
          ]
        },
        {
          "name": "stdout",
          "output_type": "stream",
          "text": [
            "62\n",
            "reliability and maintenance/Negative/out of service for repair\n"
          ]
        },
        {
          "name": "stderr",
          "output_type": "stream",
          "text": [
            "\r 72%|███████▏  | 1065/1479 [34:32<04:43,  1.46it/s]"
          ]
        },
        {
          "name": "stdout",
          "output_type": "stream",
          "text": [
            "38\n",
            "Accessibility/Positive/Very accessible\n"
          ]
        },
        {
          "name": "stderr",
          "output_type": "stream",
          "text": [
            "\r 72%|███████▏  | 1066/1479 [34:32<04:52,  1.41it/s]"
          ]
        },
        {
          "name": "stdout",
          "output_type": "stream",
          "text": [
            "61\n",
            "Charging speed and efficiency/Positive/charged at a 30kW rate\n"
          ]
        },
        {
          "name": "stderr",
          "output_type": "stream",
          "text": [
            "\r 72%|███████▏  | 1067/1479 [34:33<04:57,  1.38it/s]"
          ]
        },
        {
          "name": "stdout",
          "output_type": "stream",
          "text": [
            "75\n",
            "Accessibility and Availability/Negative/No station. Fake. False advertising\n"
          ]
        },
        {
          "name": "stderr",
          "output_type": "stream",
          "text": [
            "\r 72%|███████▏  | 1068/1479 [34:34<04:37,  1.48it/s]"
          ]
        },
        {
          "name": "stdout",
          "output_type": "stream",
          "text": [
            "52\n",
            "Charging speed and efficiency/Positive/Fast charging\n"
          ]
        },
        {
          "name": "stderr",
          "output_type": "stream",
          "text": [
            "\r 72%|███████▏  | 1069/1479 [34:34<04:30,  1.52it/s]"
          ]
        },
        {
          "name": "stdout",
          "output_type": "stream",
          "text": [
            "57\n",
            "Charging speed and efficiency/Negative/Charging very slow\n"
          ]
        },
        {
          "name": "stderr",
          "output_type": "stream",
          "text": [
            "\r 72%|███████▏  | 1070/1479 [34:35<04:51,  1.40it/s]"
          ]
        },
        {
          "name": "stdout",
          "output_type": "stream",
          "text": [
            "90\n",
            "Accessibility and Amenities and Location/Positive/ultracheap charging station, in the park\n"
          ]
        },
        {
          "name": "stderr",
          "output_type": "stream",
          "text": [
            "\r 72%|███████▏  | 1071/1479 [34:38<08:09,  1.20s/it]"
          ]
        },
        {
          "name": "stdout",
          "output_type": "stream",
          "text": [
            "105\n",
            "Compatibility and Connectivity/Negative/one CHAdeMO charger and chevy/vw cars park backwards in this spot\n",
            "87\n",
            "Customer service/Negative/customer service likes to blame the customer for their faults\n",
            "44\n",
            "Ease of use/Negative/app doesn't always work\n",
            "102\n",
            "Queue and waiting time/Neutral/It's not much bragging to be first when you are the only one competing.\n"
          ]
        },
        {
          "name": "stderr",
          "output_type": "stream",
          "text": [
            "\r 72%|███████▏  | 1072/1479 [34:43<15:44,  2.32s/it]"
          ]
        },
        {
          "name": "stdout",
          "output_type": "stream",
          "text": [
            "96\n",
            "Accessibility and Amenities/Positive/Great setup, Easy charge, Hyundai Ioniq easy peasy, Thanks!\n",
            "174\n",
            "Reliability and Maintenance/Negative/Ugg so yay and no, it's been a crapshoot since October when they overhauled the system, slowed fast chargers, and the app got a lil funky\n",
            "110\n",
            "Charging speed and efficiency/Negative/the chargers are still slow comparatively to August of last year (2022)\n",
            "153\n",
            "Compatibility and Connectivity/Positive/new chargers are rolling out and a true 350 KWH will be among the 150's and that the fastest chargers are to come\n",
            "91\n",
            "Reliability and Maintenance/Positive/Tesla all charge chargers are being done in NM by 2024\n"
          ]
        },
        {
          "name": "stderr",
          "output_type": "stream",
          "text": [
            "\r 73%|███████▎  | 1073/1479 [34:46<17:19,  2.56s/it]"
          ]
        },
        {
          "name": "stdout",
          "output_type": "stream",
          "text": [
            "117\n",
            "reliability and maintenance/Negative/individual chargers often don't work, and sometimes all the chargers are offline\n",
            "123\n",
            "Compatibility and Connectivity/Negative/Relying on the Electrify America network for road trips is a very risky proposition\n",
            "82\n",
            "price and cost/Positive/buy a Tesla and use their bulletproof Supercharger network\n"
          ]
        },
        {
          "name": "stderr",
          "output_type": "stream",
          "text": [
            "\r 73%|███████▎  | 1074/1479 [34:47<13:51,  2.05s/it]"
          ]
        },
        {
          "name": "stdout",
          "output_type": "stream",
          "text": [
            "91\n",
            "reliability and maintenance/Negative/Many connectors are falling apart and often don't work\n"
          ]
        },
        {
          "name": "stderr",
          "output_type": "stream",
          "text": [
            "\r 73%|███████▎  | 1075/1479 [34:47<11:07,  1.65s/it]"
          ]
        },
        {
          "name": "stdout",
          "output_type": "stream",
          "text": [
            "51\n",
            "ease of use/Negative/can never get a charge started\n"
          ]
        },
        {
          "name": "stderr",
          "output_type": "stream",
          "text": [
            "\r 73%|███████▎  | 1076/1479 [34:49<11:09,  1.66s/it]"
          ]
        },
        {
          "name": "stdout",
          "output_type": "stream",
          "text": [
            "246\n",
            "Compatibility and Connectivity/Negative/Sometimes the Go Station app works, sometimes a credit card works. The support phone number is answered by someone who says you are not at an EV Go station, which is true, but why is the phone number wrong?\n"
          ]
        },
        {
          "name": "stderr",
          "output_type": "stream",
          "text": [
            "\r 73%|███████▎  | 1077/1479 [34:51<12:49,  1.91s/it]"
          ]
        },
        {
          "name": "stdout",
          "output_type": "stream",
          "text": [
            "164\n",
            "Accessibility and Accessibility/Positive/Operational, can be busy during work hours. 4 hour parking limit, though parking and charging are both free. Thank you ABQ!\n"
          ]
        },
        {
          "name": "stderr",
          "output_type": "stream",
          "text": [
            "\r 73%|███████▎  | 1078/1479 [34:55<16:44,  2.51s/it]"
          ]
        },
        {
          "name": "stdout",
          "output_type": "stream",
          "text": [
            "89\n",
            "Amenities and Location/Positive/downtown Albuquerque, sights, eateries, retail businesses\n",
            "68\n",
            "Accessibility and Accessibility/Positive/ChargePoint charging system\n",
            "67\n",
            "Compatibility and Connectivity/Positive/ChargePoint charging system\n",
            "48\n",
            "Charging speed and efficiency/Positive/charge up\n",
            "64\n",
            "Reliability and Maintenance/Positive/ChargePoint charging system\n",
            "38\n",
            "Customer Service/Neutral/Not mentioned\n",
            "48\n",
            "Ease of Use/Positive/ChargePoint charging system\n",
            "28\n",
            "Payment Option/Not mentioned\n",
            "Error occurred: list index out of range\n"
          ]
        },
        {
          "name": "stderr",
          "output_type": "stream",
          "text": [
            "\r 73%|███████▎  | 1079/1479 [34:58<17:31,  2.63s/it]"
          ]
        },
        {
          "name": "stdout",
          "output_type": "stream",
          "text": [
            "549\n",
            "Accessibility and Amenities and Location/Negative/Employees charge there car here and leave it well after they are finished. The other EV drivers want you to unplug for them; I'm not sure if it is laziness or incompetence but it certainly isn't courteous. The business claims its open to everyone yet they use it for their own personal parking. I wouldn't trust someone else to unplug my car while it is plugged in because then I'd have to leave my car unlocked. These drivers don't realize they are in Albuquerque and they leave their car unlocked.\n"
          ]
        },
        {
          "name": "stderr",
          "output_type": "stream",
          "text": [
            "\r 73%|███████▎  | 1080/1479 [35:00<14:57,  2.25s/it]"
          ]
        },
        {
          "name": "stdout",
          "output_type": "stream",
          "text": [
            "72\n",
            "Safety/Positive/Reliable, Seemingly safe area, Ambulance right next door\n",
            "75\n",
            "Amenities and Location/Neutral/Poor planning putting those trees over there\n"
          ]
        },
        {
          "name": "stderr",
          "output_type": "stream",
          "text": [
            "\r 73%|███████▎  | 1081/1479 [35:00<11:52,  1.79s/it]"
          ]
        },
        {
          "name": "stdout",
          "output_type": "stream",
          "text": [
            "92\n",
            "This review does not mention any aspects or provide any opinion terms or sentiment polarity.\n",
            "Error occurred: list index out of range\n"
          ]
        },
        {
          "name": "stderr",
          "output_type": "stream",
          "text": [
            "\r 73%|███████▎  | 1082/1479 [35:01<10:03,  1.52s/it]"
          ]
        },
        {
          "name": "stdout",
          "output_type": "stream",
          "text": [
            "59\n",
            "Charging speed and efficiency/Positive/6.6kW, very reliable\n"
          ]
        },
        {
          "name": "stderr",
          "output_type": "stream",
          "text": [
            "\r 73%|███████▎  | 1083/1479 [35:02<08:48,  1.33s/it]"
          ]
        },
        {
          "name": "stdout",
          "output_type": "stream",
          "text": [
            "93\n",
            "Accessibility and Accessibility/Positive/plenty of both/park connections, nothing complicated\n"
          ]
        },
        {
          "name": "stderr",
          "output_type": "stream",
          "text": [
            "\r 73%|███████▎  | 1084/1479 [35:03<08:04,  1.23s/it]"
          ]
        },
        {
          "name": "stdout",
          "output_type": "stream",
          "text": [
            "75\n",
            "ease of use/Positive/Easy to charge as long as you have the ChargePoint app\n",
            "51\n",
            "payment option/Positive/It is free! Price is right!\n"
          ]
        },
        {
          "name": "stderr",
          "output_type": "stream",
          "text": [
            "\r 73%|███████▎  | 1085/1479 [35:05<10:13,  1.56s/it]"
          ]
        },
        {
          "name": "stdout",
          "output_type": "stream",
          "text": [
            "36\n",
            "Safety/Positive/Clean and seems safe\n",
            "43\n",
            "Amenities and Location/Positive/Great place\n",
            "49\n",
            "Reliability and Maintenance/Positive/always works\n",
            "59\n",
            "Charging Speed and Efficiency/Positive/Clean and seems safe\n",
            "56\n",
            "Compatibility and Connectivity/Positive/Go clean energy!\n",
            "40\n",
            "Price and Cost/Positive/Go clean energy!\n"
          ]
        },
        {
          "name": "stderr",
          "output_type": "stream",
          "text": [
            "\r 73%|███████▎  | 1086/1479 [35:06<08:52,  1.35s/it]"
          ]
        },
        {
          "name": "stdout",
          "output_type": "stream",
          "text": [
            "26\n",
            "Overall sentiment: Neutral\n",
            "Error occurred: list index out of range\n"
          ]
        },
        {
          "name": "stderr",
          "output_type": "stream",
          "text": [
            "\r 73%|███████▎  | 1087/1479 [35:09<12:01,  1.84s/it]"
          ]
        },
        {
          "name": "stdout",
          "output_type": "stream",
          "text": [
            "109\n",
            "Accessibility and Accessibility/Neutral/First spots on the first floor, adjacent from pay stations on SW side\n",
            "210\n",
            "Amenities and location/Neutral/Spots are hardly ICE'd, yet beware of the BMW who parks but doesn't charge (pictured), can leave a you option-less when ChargePoint relays the spot as free and you pull up to this\n",
            "85\n",
            "Charging speed and efficiency/Positive/speed is fine at 6.6 kW, or ~20 miles per hour\n",
            "101\n",
            "Reliability and maintenance/Neutral/perfect for students spending those hours in class or in tutoring\n"
          ]
        },
        {
          "name": "stderr",
          "output_type": "stream",
          "text": [
            "\r 74%|███████▎  | 1088/1479 [35:11<12:00,  1.84s/it]"
          ]
        },
        {
          "name": "stdout",
          "output_type": "stream",
          "text": [
            "70\n",
            "Compatibility and Connectivity/Negative/It connected but didn't charge\n",
            "77\n",
            "Accessibility and Location/Negative/The charging is free but the space is not\n",
            "83\n",
            "Compatibility and Connectivity/Negative/It also wasn't compatible with my VW e-Golf\n",
            "94\n",
            "reliability and maintenance/Negative/maybe I'll need to troubleshoot why my car didn't take it\n"
          ]
        },
        {
          "name": "stderr",
          "output_type": "stream",
          "text": [
            "\r 74%|███████▎  | 1089/1479 [35:12<09:12,  1.42s/it]"
          ]
        },
        {
          "name": "stdout",
          "output_type": "stream",
          "text": [
            "40\n",
            "Accessibility/Positive/Easily accessible\n"
          ]
        },
        {
          "name": "stderr",
          "output_type": "stream",
          "text": [
            "\r 74%|███████▎  | 1090/1479 [35:13<08:22,  1.29s/it]"
          ]
        },
        {
          "name": "stdout",
          "output_type": "stream",
          "text": [
            "97\n",
            "Charging speed and efficiency/Positive/Love the 30 minutes of Free Super Charging for EV! Thanks!\n"
          ]
        },
        {
          "name": "stderr",
          "output_type": "stream",
          "text": [
            "\r 74%|███████▍  | 1091/1479 [35:13<07:19,  1.13s/it]"
          ]
        },
        {
          "name": "stdout",
          "output_type": "stream",
          "text": [
            "75\n",
            "reliability and maintenance/Negative/One of the charging spots doesn't work\n"
          ]
        },
        {
          "name": "stderr",
          "output_type": "stream",
          "text": [
            "\r 74%|███████▍  | 1092/1479 [35:14<06:36,  1.02s/it]"
          ]
        },
        {
          "name": "stdout",
          "output_type": "stream",
          "text": [
            "84\n",
            "Charging speed and efficiency/Positive/fastest Blink Charger in downtown San Antonio\n"
          ]
        },
        {
          "name": "stderr",
          "output_type": "stream",
          "text": [
            "\r 74%|███████▍  | 1093/1479 [35:16<07:57,  1.24s/it]"
          ]
        },
        {
          "name": "stdout",
          "output_type": "stream",
          "text": [
            "73\n",
            "Accessibility and Amenities and Location/Neutral/charge area, pay to park\n",
            "77\n",
            "Payment option/Neutral/Only one charger accepted my multiple forms of payment\n",
            "46\n",
            "Charging speed and efficiency/Neutral/Got 8kwh\n"
          ]
        },
        {
          "name": "stderr",
          "output_type": "stream",
          "text": [
            "\r 74%|███████▍  | 1094/1479 [35:16<06:37,  1.03s/it]"
          ]
        },
        {
          "name": "stdout",
          "output_type": "stream",
          "text": [
            "61\n",
            "Charging speed and efficiency/Negative/Does not go above 7kwh\n"
          ]
        },
        {
          "name": "stderr",
          "output_type": "stream",
          "text": [
            "\r 74%|███████▍  | 1095/1479 [35:18<07:41,  1.20s/it]"
          ]
        },
        {
          "name": "stdout",
          "output_type": "stream",
          "text": [
            "210\n",
            "Accessibility and Accessibility/Positive/Easily accessible and timely charge when the app is already set up, etc. and luckily no one was using the charging station since there’s only one station that I noticed.\n"
          ]
        },
        {
          "name": "stderr",
          "output_type": "stream",
          "text": [
            "\r 74%|███████▍  | 1096/1479 [35:19<06:40,  1.05s/it]"
          ]
        },
        {
          "name": "stdout",
          "output_type": "stream",
          "text": [
            "64\n",
            "Accessibility and Location/Neutral/far north end of HEB property\n"
          ]
        },
        {
          "name": "stderr",
          "output_type": "stream",
          "text": [
            "\r 74%|███████▍  | 1097/1479 [35:20<06:32,  1.03s/it]"
          ]
        },
        {
          "name": "stdout",
          "output_type": "stream",
          "text": [
            "68\n",
            "reliability and maintenance/Negative/the one near SAC would not work\n",
            "43\n",
            "charging speed and efficiency/Negative/slow\n"
          ]
        },
        {
          "name": "stderr",
          "output_type": "stream",
          "text": [
            "\r 74%|███████▍  | 1098/1479 [35:22<08:55,  1.41s/it]"
          ]
        },
        {
          "name": "stdout",
          "output_type": "stream",
          "text": [
            "125\n",
            "Accessibility and Location/Positive/NE corner of first floor of the Soledad parking garage at the San Antonio Central Library\n",
            "107\n",
            "Amenities and Location/Positive/free charging, Parking is also free in the garage for the first three hours\n",
            "162\n",
            "Reliability and Maintenance/Negative/Single charger in NE corner of first floor of the Soledad parking garage at the San Antonio Central Library has free charging\n",
            "33\n",
            "Safety/Negative/Door ding central\n"
          ]
        },
        {
          "name": "stderr",
          "output_type": "stream",
          "text": [
            "\r 74%|███████▍  | 1099/1479 [35:24<09:15,  1.46s/it]"
          ]
        },
        {
          "name": "stdout",
          "output_type": "stream",
          "text": [
            "75\n",
            "Accessibility and Accessibility/Negative/ChargePoint pay sites. Rarely ICEd\n",
            "74\n",
            "Reliability and Maintenance/Negative/On 3/9/19 only one charger had power.\n"
          ]
        },
        {
          "name": "stderr",
          "output_type": "stream",
          "text": [
            "\r 74%|███████▍  | 1100/1479 [35:24<07:27,  1.18s/it]"
          ]
        },
        {
          "name": "stdout",
          "output_type": "stream",
          "text": [
            "53\n",
            "Accessibility and Accessibility/Negative/hard to find\n"
          ]
        },
        {
          "name": "stderr",
          "output_type": "stream",
          "text": [
            "\r 74%|███████▍  | 1101/1479 [35:25<06:28,  1.03s/it]"
          ]
        },
        {
          "name": "stdout",
          "output_type": "stream",
          "text": [
            "65\n",
            "Location and Amenities/Neutral/shaded from the late afternoon sun\n"
          ]
        },
        {
          "name": "stderr",
          "output_type": "stream",
          "text": [
            "\r 75%|███████▍  | 1102/1479 [35:26<06:03,  1.04it/s]"
          ]
        },
        {
          "name": "stdout",
          "output_type": "stream",
          "text": [
            "83\n",
            "Accessibility and Location/Positive/directly in front of the entrance to Forever 21\n"
          ]
        },
        {
          "name": "stderr",
          "output_type": "stream",
          "text": [
            "\r 75%|███████▍  | 1103/1479 [35:26<05:11,  1.21it/s]"
          ]
        },
        {
          "name": "stdout",
          "output_type": "stream",
          "text": [
            "49\n",
            "Compatibility and Connectivity/Positive/Volta app\n"
          ]
        },
        {
          "name": "stderr",
          "output_type": "stream",
          "text": [
            "\r 75%|███████▍  | 1104/1479 [35:27<04:46,  1.31it/s]"
          ]
        },
        {
          "name": "stdout",
          "output_type": "stream",
          "text": [
            "67\n",
            "Accessibility and Accessibility/Positive/furthest spot on the right\n"
          ]
        },
        {
          "name": "stderr",
          "output_type": "stream",
          "text": [
            "\r 75%|███████▍  | 1105/1479 [35:27<04:17,  1.45it/s]"
          ]
        },
        {
          "name": "stdout",
          "output_type": "stream",
          "text": [
            "52\n",
            "Compatibility and Connectivity/Positive/Worked great\n"
          ]
        },
        {
          "name": "stderr",
          "output_type": "stream",
          "text": [
            "\r 75%|███████▍  | 1106/1479 [35:28<03:54,  1.59it/s]"
          ]
        },
        {
          "name": "stdout",
          "output_type": "stream",
          "text": [
            "73\n",
            "Accessibility and Amenities and Location/Positive/Free parking and charge\n"
          ]
        },
        {
          "name": "stderr",
          "output_type": "stream",
          "text": [
            "\r 75%|███████▍  | 1107/1479 [35:28<03:46,  1.64it/s]"
          ]
        },
        {
          "name": "stdout",
          "output_type": "stream",
          "text": [
            "50\n",
            "Charging speed and efficiency/Negative/Slow charge\n"
          ]
        },
        {
          "name": "stderr",
          "output_type": "stream",
          "text": [
            "\r 75%|███████▍  | 1108/1479 [35:31<06:53,  1.12s/it]"
          ]
        },
        {
          "name": "stdout",
          "output_type": "stream",
          "text": [
            "72\n",
            "reliability and maintenance/Negative/Systems were randomly disconnecting\n",
            "68\n",
            "compatibility and connectivity/Negative/charging stops for no reason\n",
            "147\n",
            "charging speed and efficiency/Negative/Just because it says 350kw, doesn't mean your car will actually charge faster off it than the 150kw charger.\n"
          ]
        },
        {
          "name": "stderr",
          "output_type": "stream",
          "text": [
            "\r 75%|███████▍  | 1109/1479 [35:31<06:29,  1.05s/it]"
          ]
        },
        {
          "name": "stdout",
          "output_type": "stream",
          "text": [
            "80\n",
            "Charging speed and efficiency/Positive/Worked perfectly, About 115 max to 80kw/h\n"
          ]
        },
        {
          "name": "stderr",
          "output_type": "stream",
          "text": [
            "\r 75%|███████▌  | 1110/1479 [35:32<05:44,  1.07it/s]"
          ]
        },
        {
          "name": "stdout",
          "output_type": "stream",
          "text": [
            "64\n",
            "reliability and maintenance/Negative/NONE of these stations work\n"
          ]
        },
        {
          "name": "stderr",
          "output_type": "stream",
          "text": [
            "\r 75%|███████▌  | 1111/1479 [35:35<09:01,  1.47s/it]"
          ]
        },
        {
          "name": "stdout",
          "output_type": "stream",
          "text": [
            "384\n",
            "Accessibility and Amenities and Location/Negative/Walmart is one of the worst places to put an EV charging station because there's next to nothing around most of the time. They stick the chargers way out in the back of the parking lot, not a bathroom in sight. At this location there's not even someplace within reasonable walking distance to grab a bite to eat while you're charging.\n"
          ]
        },
        {
          "name": "stderr",
          "output_type": "stream",
          "text": [
            "\r 75%|███████▌  | 1112/1479 [35:39<13:41,  2.24s/it]"
          ]
        },
        {
          "name": "stdout",
          "output_type": "stream",
          "text": [
            "96\n",
            "Accessibility and Accessibility/Negative/difficult to reach charging port on the side of my Bolt\n",
            "64\n",
            "Amenities and location/Neutral/This location has straight spaces\n",
            "99\n",
            "Compatibility and Connectivity/Neutral/I've seen 2 different configurations of EA Charging Stations\n",
            "78\n",
            "Charging speed and efficiency/Neutral/All have very heavy and inflexible cords\n",
            "89\n",
            "Reliability and maintenance/Neutral/Cords should be more flexible and several feet longer\n",
            "120\n",
            "Queue and waiting time/Neutral/I saw one Taycan driver's solution was to take up 3 spaces to reach his side-mounted port\n"
          ]
        },
        {
          "name": "stderr",
          "output_type": "stream",
          "text": [
            "\r 75%|███████▌  | 1113/1479 [35:39<10:41,  1.75s/it]"
          ]
        },
        {
          "name": "stdout",
          "output_type": "stream",
          "text": [
            "55\n",
            "reliability and maintenance/Negative/None of these work\n"
          ]
        },
        {
          "name": "stderr",
          "output_type": "stream",
          "text": [
            "\r 75%|███████▌  | 1114/1479 [35:44<15:21,  2.52s/it]"
          ]
        },
        {
          "name": "stdout",
          "output_type": "stream",
          "text": [
            "89\n",
            "Accessibility and Accessibility/Negative/broken screen, couldn't touch any of the buttons\n",
            "80\n",
            "Charging speed and efficiency/Negative/charged me $4.48 for adding a mile or two\n",
            "82\n",
            "Reliability and maintenance/Negative/both chargers would not work at the same time\n",
            "57\n",
            "Price and cost/Negative/billed $21.45 for the second time\n",
            "118\n",
            "Customer service/Negative/No comment from the company when I called asking about the $4.48 charge for a broken charger\n",
            "75\n",
            "Compatibility and Connectivity/Positive/able to charge with the touchscreen\n",
            "76\n",
            "Queue and waiting time/Positive/11 minutes to add 46 miles at the EA station\n",
            "53\n",
            "Safety/Positive/Secure with a guard and security gate\n"
          ]
        },
        {
          "name": "stderr",
          "output_type": "stream",
          "text": [
            "\r 75%|███████▌  | 1115/1479 [35:44<11:37,  1.92s/it]"
          ]
        },
        {
          "name": "stdout",
          "output_type": "stream",
          "text": [
            "52\n",
            "Charging speed and efficiency/Positive/fast charging\n"
          ]
        },
        {
          "name": "stderr",
          "output_type": "stream",
          "text": [
            "\r 75%|███████▌  | 1116/1479 [35:46<11:28,  1.90s/it]"
          ]
        },
        {
          "name": "stdout",
          "output_type": "stream",
          "text": [
            "31\n",
            "Customer service/Negative/awful\n",
            "61\n",
            "reliability and maintenance/Negative/the station doesn't work\n",
            "83\n",
            "reliability and maintenance/Negative/none of the charged point stations have worked\n",
            "146\n",
            "customer service/Negative/none of the customer service people have done anything other than yell at us for information and want us to do their job\n"
          ]
        },
        {
          "name": "stderr",
          "output_type": "stream",
          "text": [
            "\r 76%|███████▌  | 1117/1479 [35:49<12:20,  2.04s/it]"
          ]
        },
        {
          "name": "stdout",
          "output_type": "stream",
          "text": [
            "51\n",
            "Accessibility and Accessibility/Negative/broken app\n",
            "35\n",
            "price and cost/Negative/Hidden fees\n",
            "57\n",
            "payment option/Negative/holds placed on your bank account\n",
            "71\n",
            "charging speed and efficiency/Negative/charge cost claims $.30 a minute\n",
            "95\n",
            "customer service/Negative/No receipt sent via email, no paper receipt and no receipt in the app\n"
          ]
        },
        {
          "name": "stderr",
          "output_type": "stream",
          "text": [
            "\r 76%|███████▌  | 1118/1479 [35:50<11:15,  1.87s/it]"
          ]
        },
        {
          "name": "stdout",
          "output_type": "stream",
          "text": [
            "51\n",
            "Charging speed and efficiency/Positive/Quick charge\n",
            "70\n",
            "Amenities and location/Neutral/area is still little under construction\n",
            "55\n",
            "Availability and Accessibility/Positive/Chargers worked\n"
          ]
        },
        {
          "name": "stderr",
          "output_type": "stream",
          "text": [
            "\r 76%|███████▌  | 1119/1479 [35:51<09:19,  1.55s/it]"
          ]
        },
        {
          "name": "stdout",
          "output_type": "stream",
          "text": [
            "101\n",
            "This review does not mention any specific aspects or provide any opinion terms or sentiment polarity.\n",
            "Error occurred: list index out of range\n"
          ]
        },
        {
          "name": "stderr",
          "output_type": "stream",
          "text": [
            "\r 76%|███████▌  | 1120/1479 [35:52<08:34,  1.43s/it]"
          ]
        },
        {
          "name": "stdout",
          "output_type": "stream",
          "text": [
            "88\n",
            "Charging speed and efficiency/Neutral/Good charge station but need to give little faster\n",
            "48\n",
            "Price and cost/Neutral/need to go some promotion\n"
          ]
        },
        {
          "name": "stderr",
          "output_type": "stream",
          "text": [
            "\r 76%|███████▌  | 1121/1479 [35:56<13:25,  2.25s/it]"
          ]
        },
        {
          "name": "stdout",
          "output_type": "stream",
          "text": [
            "122\n",
            "Accessibility and Accessibility/Negative/ChargePoint charges an additional $5.00 on your credit card on the first purchase\n",
            "105\n",
            "Payment option/Negative/ChargePoint charges an additional $5.00 on your credit card on the first purchase\n",
            "96\n",
            "Ease of use/Negative/it took me several minutes to get to the point on the app to Start Charging\n",
            "59\n",
            "Charging speed and efficiency/Negative/Not Charging message\n",
            "67\n",
            "Price and cost/Positive/12 hours gave me 45 miles. The cost? $0.84!\n",
            "53\n",
            "Safety/Positive/Secure with a guard and security gate\n"
          ]
        },
        {
          "name": "stderr",
          "output_type": "stream",
          "text": [
            "\r 76%|███████▌  | 1122/1479 [35:59<15:16,  2.57s/it]"
          ]
        },
        {
          "name": "stdout",
          "output_type": "stream",
          "text": [
            "414\n",
            "Compatibility and Connectivity/Negative/No standard level 2 charger for Leaf. I don't use Chadmo connection since overtime will damage battery. On Google maps found Walgreens with a charge point charger which have standard level 2. Thank goodness. Will patronize Walgreens (8 miles away) via Google maps (search for ev chargers) because of this. Funny strange, that this location is not on the chargepoint website.\n"
          ]
        },
        {
          "name": "stderr",
          "output_type": "stream",
          "text": [
            "\r 76%|███████▌  | 1123/1479 [36:08<25:28,  4.29s/it]"
          ]
        },
        {
          "name": "stdout",
          "output_type": "stream",
          "text": [
            "27\n",
            "Overall sentiment: Positive\n",
            "Error occurred: list index out of range\n"
          ]
        },
        {
          "name": "stderr",
          "output_type": "stream",
          "text": [
            "\r 76%|███████▌  | 1124/1479 [36:09<20:15,  3.43s/it]"
          ]
        },
        {
          "name": "stdout",
          "output_type": "stream",
          "text": [
            "76\n",
            "Charging speed and efficiency/Negative/Chademo only delivers 21kw, too slow.\n",
            "67\n",
            "User interface/Negative/The card reader screen for chademo is down.\n"
          ]
        },
        {
          "name": "stderr",
          "output_type": "stream",
          "text": [
            "\r 76%|███████▌  | 1125/1479 [36:10<15:05,  2.56s/it]"
          ]
        },
        {
          "name": "stdout",
          "output_type": "stream",
          "text": [
            "32\n",
            "Ease of use/Positive/Easy to use\n"
          ]
        },
        {
          "name": "stderr",
          "output_type": "stream",
          "text": [
            "\r 76%|███████▌  | 1126/1479 [36:10<11:48,  2.01s/it]"
          ]
        },
        {
          "name": "stdout",
          "output_type": "stream",
          "text": [
            "66\n",
            "Amenities and Location/Positive/Nice open clean area with shopping\n"
          ]
        },
        {
          "name": "stderr",
          "output_type": "stream",
          "text": [
            "\r 76%|███████▌  | 1127/1479 [36:11<09:20,  1.59s/it]"
          ]
        },
        {
          "name": "stdout",
          "output_type": "stream",
          "text": [
            "57\n",
            "customer service/Positive/excellent 24/7 customer service\n"
          ]
        },
        {
          "name": "stderr",
          "output_type": "stream",
          "text": [
            "\r 76%|███████▋  | 1128/1479 [36:12<07:48,  1.33s/it]"
          ]
        },
        {
          "name": "stdout",
          "output_type": "stream",
          "text": [
            "68\n",
            "Compatibility and Connectivity/Neutral/150kw supported for 400v BEVs\n"
          ]
        },
        {
          "name": "stderr",
          "output_type": "stream",
          "text": [
            "\r 76%|███████▋  | 1129/1479 [36:14<08:32,  1.46s/it]"
          ]
        },
        {
          "name": "stdout",
          "output_type": "stream",
          "text": [
            "79\n",
            "Accessibility and Availability/Negative/VERY few charging stations in this area\n",
            "84\n",
            "Compatibility and Connectivity/Negative/cord for the fact charging plug in was short\n",
            "76\n",
            "Ease of use/Negative/requires moving vehicle as close as possible to stretch\n"
          ]
        },
        {
          "name": "stderr",
          "output_type": "stream",
          "text": [
            "\r 76%|███████▋  | 1130/1479 [36:14<07:29,  1.29s/it]"
          ]
        },
        {
          "name": "stdout",
          "output_type": "stream",
          "text": [
            "94\n",
            "Accessibility and Location/Negative/near the garbage, and it’s a bit of a walk to the building\n"
          ]
        },
        {
          "name": "stderr",
          "output_type": "stream",
          "text": [
            " 77%|███████▋  | 1132/1479 [36:16<06:23,  1.11s/it]"
          ]
        },
        {
          "name": "stdout",
          "output_type": "stream",
          "text": [
            "124\n",
            "reliability and maintenance/Negative/2 station were down, Had to wait in line for 30 minutes before I get my turn to charge.\n"
          ]
        },
        {
          "name": "stderr",
          "output_type": "stream",
          "text": [
            "\r 77%|███████▋  | 1133/1479 [36:18<08:30,  1.47s/it]"
          ]
        },
        {
          "name": "stdout",
          "output_type": "stream",
          "text": [
            "92\n",
            "Accessibility and Accessibility/Negative/4 stations and on my 3rd attempt, I got one to work\n",
            "68\n",
            "user interface/Negative/screen is completely washed out from the sun\n",
            "148\n",
            "customer service/Negative/tried to contact customer service and waited on hold for 8 minutes after spending 10 minutes playing musical charge points\n"
          ]
        },
        {
          "name": "stderr",
          "output_type": "stream",
          "text": [
            "\r 77%|███████▋  | 1134/1479 [36:19<07:29,  1.30s/it]"
          ]
        },
        {
          "name": "stdout",
          "output_type": "stream",
          "text": [
            "54\n",
            "reliability and maintenance/Negative/None of them work\n"
          ]
        },
        {
          "name": "stderr",
          "output_type": "stream",
          "text": [
            "\r 77%|███████▋  | 1135/1479 [36:20<06:46,  1.18s/it]"
          ]
        },
        {
          "name": "stdout",
          "output_type": "stream",
          "text": [
            "107\n",
            "Accessibility and Accessibility/Positive/Was able to back in and get a full charge without blocking anyone.\n"
          ]
        },
        {
          "name": "stderr",
          "output_type": "stream",
          "text": [
            "\r 77%|███████▋  | 1136/1479 [36:21<06:10,  1.08s/it]"
          ]
        },
        {
          "name": "stdout",
          "output_type": "stream",
          "text": [
            "76\n",
            "Charging speed and efficiency/Positive/Excellent operating and fast charging\n"
          ]
        },
        {
          "name": "stderr",
          "output_type": "stream",
          "text": [
            "\r 77%|███████▋  | 1137/1479 [36:22<05:06,  1.12it/s]"
          ]
        },
        {
          "name": "stdout",
          "output_type": "stream",
          "text": [
            "43\n",
            "Accessibility and Location/Positive/Walmart\n"
          ]
        },
        {
          "name": "stderr",
          "output_type": "stream",
          "text": [
            "\r 77%|███████▋  | 1138/1479 [36:23<05:35,  1.02it/s]"
          ]
        },
        {
          "name": "stdout",
          "output_type": "stream",
          "text": [
            "69\n",
            "ease of use/Negative/Tap, chip, and swipe card readers are unreliable\n"
          ]
        },
        {
          "name": "stderr",
          "output_type": "stream",
          "text": [
            "\r 77%|███████▋  | 1139/1479 [36:24<05:36,  1.01it/s]"
          ]
        },
        {
          "name": "stdout",
          "output_type": "stream",
          "text": [
            "60\n",
            "Charging speed and efficiency/Negative/only generating 75 kw\n",
            "51\n",
            "Customer service/Negative/Horrible Customer Service\n"
          ]
        },
        {
          "name": "stderr",
          "output_type": "stream",
          "text": [
            "\r 77%|███████▋  | 1140/1479 [36:25<06:02,  1.07s/it]"
          ]
        },
        {
          "name": "stdout",
          "output_type": "stream",
          "text": [
            "74\n",
            "Accessibility and Location/Neutral/Not obviously visible from highway exit\n",
            "115\n",
            "Compatibility and Connectivity/Positive/Worked smoothly otherwise, newer station design with longer charging cords.\n"
          ]
        },
        {
          "name": "stderr",
          "output_type": "stream",
          "text": [
            "\r 77%|███████▋  | 1141/1479 [36:26<06:42,  1.19s/it]"
          ]
        },
        {
          "name": "stdout",
          "output_type": "stream",
          "text": [
            "72\n",
            "Accessibility and Accessibility/Positive/EAC was there to charge our car\n",
            "54\n",
            "Amenities and location/Positive/wonderful people there\n",
            "59\n",
            "Compatibility and Connectivity/Positive/wonderful EV trucks\n"
          ]
        },
        {
          "name": "stderr",
          "output_type": "stream",
          "text": [
            "\r 77%|███████▋  | 1142/1479 [36:30<10:57,  1.95s/it]"
          ]
        },
        {
          "name": "stdout",
          "output_type": "stream",
          "text": [
            "97\n",
            "Accessibility and Location/Negative/The station itself was difficult to locate in the parking lot\n",
            "98\n",
            "charging speed and efficiency/Negative-I down to 2% charge on my way to Idaho Falls in 15F weather\n",
            "Error occurred: list index out of range\n"
          ]
        },
        {
          "name": "stderr",
          "output_type": "stream",
          "text": [
            "\r 77%|███████▋  | 1143/1479 [36:31<09:30,  1.70s/it]"
          ]
        },
        {
          "name": "stdout",
          "output_type": "stream",
          "text": [
            "84\n",
            "Amenities and Location/Positive/working chargers, scenic route, nearby sandwich shop\n"
          ]
        },
        {
          "name": "stderr",
          "output_type": "stream",
          "text": [
            "\r 77%|███████▋  | 1144/1479 [36:32<08:16,  1.48s/it]"
          ]
        },
        {
          "name": "stdout",
          "output_type": "stream",
          "text": [
            "115\n",
            "Accessibility and Location/Negative/Almost no amenities nearby other than the gas station, One charger never works.\n"
          ]
        },
        {
          "name": "stderr",
          "output_type": "stream",
          "text": [
            "\r 77%|███████▋  | 1145/1479 [36:33<06:53,  1.24s/it]"
          ]
        },
        {
          "name": "stdout",
          "output_type": "stream",
          "text": [
            "62\n",
            "Charging speed and efficiency/Positive/Everything worked great\n"
          ]
        },
        {
          "name": "stderr",
          "output_type": "stream",
          "text": [
            "\r 77%|███████▋  | 1146/1479 [36:34<05:47,  1.04s/it]"
          ]
        },
        {
          "name": "stdout",
          "output_type": "stream",
          "text": [
            "62\n",
            "Accessibility and Amenities and Location/Negative/no amenities\n"
          ]
        },
        {
          "name": "stderr",
          "output_type": "stream",
          "text": [
            "\r 78%|███████▊  | 1147/1479 [36:34<05:01,  1.10it/s]"
          ]
        },
        {
          "name": "stdout",
          "output_type": "stream",
          "text": [
            "28\n",
            "Price and cost/Positive/Free\n"
          ]
        },
        {
          "name": "stderr",
          "output_type": "stream",
          "text": [
            "\r 78%|███████▊  | 1148/1479 [36:36<07:06,  1.29s/it]"
          ]
        },
        {
          "name": "stdout",
          "output_type": "stream",
          "text": [
            "281\n",
            "Accessibility and Amenities and Location/Positive/4 Level 2 chargers available, Right in front of the Fine Arts building, at the front of the parking lot, easy to get to and use, Not affiliated with any of the larger chains, so expect to download another app to track your charging\n"
          ]
        },
        {
          "name": "stderr",
          "output_type": "stream",
          "text": [
            "\r 78%|███████▊  | 1149/1479 [36:37<06:03,  1.10s/it]"
          ]
        },
        {
          "name": "stdout",
          "output_type": "stream",
          "text": [
            "76\n",
            "Compatibility and Connectivity/Negative/doesn't own Chademo to Tesla adapter\n"
          ]
        },
        {
          "name": "stderr",
          "output_type": "stream",
          "text": [
            "\r 78%|███████▊  | 1150/1479 [36:38<05:28,  1.00it/s]"
          ]
        },
        {
          "name": "stdout",
          "output_type": "stream",
          "text": [
            "67\n",
            "reliability and maintenance/Negative/none of the 4 chargers working\n"
          ]
        },
        {
          "name": "stderr",
          "output_type": "stream",
          "text": [
            "\r 78%|███████▊  | 1151/1479 [36:39<05:46,  1.06s/it]"
          ]
        },
        {
          "name": "stdout",
          "output_type": "stream",
          "text": [
            "140\n",
            "Accessibility and Location/Neutral/EV Connect in this area, it's one block north and one block west of the White Castle, near the Home Depot\n"
          ]
        },
        {
          "name": "stderr",
          "output_type": "stream",
          "text": [
            "\r 78%|███████▊  | 1152/1479 [36:39<04:57,  1.10it/s]"
          ]
        },
        {
          "name": "stdout",
          "output_type": "stream",
          "text": [
            "86\n",
            "This review does not mention any specific aspects or provide any opinion or sentiment.\n",
            "Error occurred: list index out of range\n"
          ]
        },
        {
          "name": "stderr",
          "output_type": "stream",
          "text": [
            "\r 78%|███████▊  | 1153/1479 [36:42<07:51,  1.45s/it]"
          ]
        },
        {
          "name": "stdout",
          "output_type": "stream",
          "text": [
            "316\n",
            "Accessibility and Amenities and Location/Positive/Mercedes-Benz of Columbia, ChargePoint & Bosch because of the free slow chargers(L2/J1772), Turn left where all the cars are at, The first by the service entrance is the slow charger($0-2/hr), then Bosch chargers($0) by the exit and the fast charger($$$) is further.\n"
          ]
        },
        {
          "name": "stderr",
          "output_type": "stream",
          "text": [
            "\r 78%|███████▊  | 1154/1479 [36:43<06:37,  1.22s/it]"
          ]
        },
        {
          "name": "stdout",
          "output_type": "stream",
          "text": [
            "70\n",
            "user interface/Negative/Screen fubar, cannot enter info, cannot charge\n"
          ]
        },
        {
          "name": "stderr",
          "output_type": "stream",
          "text": [
            "\r 78%|███████▊  | 1155/1479 [36:52<20:04,  3.72s/it]"
          ]
        },
        {
          "name": "stdout",
          "output_type": "stream",
          "text": [
            "39\n",
            "Aspect: Accessibility and Accessibility\n",
            "Error occurred: list index out of range\n"
          ]
        },
        {
          "name": "stderr",
          "output_type": "stream",
          "text": [
            "\r 78%|███████▊  | 1156/1479 [36:53<15:15,  2.83s/it]"
          ]
        },
        {
          "name": "stdout",
          "output_type": "stream",
          "text": [
            "77\n",
            "reliability and maintenance/Negative/This station has been broken for months.\n"
          ]
        },
        {
          "name": "stderr",
          "output_type": "stream",
          "text": [
            "\r 78%|███████▊  | 1157/1479 [36:55<14:13,  2.65s/it]"
          ]
        },
        {
          "name": "stdout",
          "output_type": "stream",
          "text": [
            "99\n",
            "reliability and maintenance/Negative/one of the chargers wouldn't work, still broken on return trip\n",
            "68\n",
            "charging speed and efficiency/Positive/the other charger worked fine\n",
            "99\n",
            "queue and waiting time/Negative/was in use on my return trip, forced to use one of the slower units\n"
          ]
        },
        {
          "name": "stderr",
          "output_type": "stream",
          "text": [
            "\r 78%|███████▊  | 1158/1479 [36:56<11:24,  2.13s/it]"
          ]
        },
        {
          "name": "stdout",
          "output_type": "stream",
          "text": [
            "85\n",
            "Charging speed and efficiency/Negative/None of the chargers would stay above 40-50 kw\n"
          ]
        },
        {
          "name": "stderr",
          "output_type": "stream",
          "text": [
            "\r 78%|███████▊  | 1159/1479 [36:58<10:31,  1.97s/it]"
          ]
        },
        {
          "name": "stdout",
          "output_type": "stream",
          "text": [
            "72\n",
            "Amenities and Location/Positive/a walk around the field behind the store\n",
            "56\n",
            "Charging speed and efficiency/Positive/Got a fast charge\n",
            "56\n",
            "Safety/Positive/a great charger if you have dogs to walk\n"
          ]
        },
        {
          "name": "stderr",
          "output_type": "stream",
          "text": [
            "\r 78%|███████▊  | 1160/1479 [37:00<10:03,  1.89s/it]"
          ]
        },
        {
          "name": "stdout",
          "output_type": "stream",
          "text": [
            "66\n",
            "Charging speed and efficiency/Positive/fairly fast and easy to use\n",
            "78\n",
            "Compatibility and Connectivity/Positive/7 ccs chargers and 1 chargemo chargers\n",
            "35\n",
            "Payment option/Positive/credit card\n"
          ]
        },
        {
          "name": "stderr",
          "output_type": "stream",
          "text": [
            "\r 78%|███████▊  | 1161/1479 [37:00<07:48,  1.47s/it]"
          ]
        },
        {
          "name": "stdout",
          "output_type": "stream",
          "text": [
            "50\n",
            "Reliability and maintenance/Positive/Always worked\n"
          ]
        },
        {
          "name": "stderr",
          "output_type": "stream",
          "text": [
            "\r 79%|███████▊  | 1162/1479 [37:03<09:13,  1.75s/it]"
          ]
        },
        {
          "name": "stdout",
          "output_type": "stream",
          "text": [
            "60\n",
            "Charging speed and efficiency/Negative/slow slow slow charge\n",
            "59\n",
            "Reliability and maintenance/Positive/Clean & always working\n",
            "69\n",
            "Queue and waiting time/Negative/Especially when a second car shows up\n",
            "91\n",
            "Location/Neutral/If heading east on I70 better to use the station 30 miles east at Schnucks\n"
          ]
        },
        {
          "name": "stderr",
          "output_type": "stream",
          "text": [
            "\r 79%|███████▊  | 1163/1479 [37:03<07:21,  1.40s/it]"
          ]
        },
        {
          "name": "stdout",
          "output_type": "stream",
          "text": [
            "61\n",
            "Charging speed and efficiency/Positive/most efficient charger\n"
          ]
        },
        {
          "name": "stderr",
          "output_type": "stream",
          "text": [
            "\r 79%|███████▊  | 1164/1479 [37:04<06:08,  1.17s/it]"
          ]
        },
        {
          "name": "stdout",
          "output_type": "stream",
          "text": [
            "58\n",
            "Amenities and location/Positive/convenience store and food\n"
          ]
        },
        {
          "name": "stderr",
          "output_type": "stream",
          "text": [
            "\r 79%|███████▉  | 1165/1479 [37:05<06:10,  1.18s/it]"
          ]
        },
        {
          "name": "stdout",
          "output_type": "stream",
          "text": [
            "161\n",
            "Accessibility and Amenities and Location/Positive/Columbia Honda & ChargePoint because of the free charge, even though sometimes a car is parked without charging\n"
          ]
        },
        {
          "name": "stderr",
          "output_type": "stream",
          "text": [
            "\r 79%|███████▉  | 1166/1479 [37:06<06:20,  1.21s/it]"
          ]
        },
        {
          "name": "stdout",
          "output_type": "stream",
          "text": [
            "146\n",
            "Charging speed and efficiency/Positive/Output on the quick charger seems to be around 40-45 kWh with a single car plugged into the shared service.\n"
          ]
        },
        {
          "name": "stderr",
          "output_type": "stream",
          "text": [
            "\r 79%|███████▉  | 1167/1479 [37:07<05:50,  1.12s/it]"
          ]
        },
        {
          "name": "stdout",
          "output_type": "stream",
          "text": [
            "89\n",
            "Charging speed and efficiency/Negative/Too fast for hotel guest, too slow for passing by.\n"
          ]
        },
        {
          "name": "stderr",
          "output_type": "stream",
          "text": [
            "\r 79%|███████▉  | 1168/1479 [37:08<05:05,  1.02it/s]"
          ]
        },
        {
          "name": "stdout",
          "output_type": "stream",
          "text": [
            "76\n",
            "Compatibility and Connectivity/Negative/All chademo chargers are unavailable\n"
          ]
        },
        {
          "name": "stderr",
          "output_type": "stream",
          "text": [
            "\r 79%|███████▉  | 1169/1479 [37:09<04:58,  1.04it/s]"
          ]
        },
        {
          "name": "stdout",
          "output_type": "stream",
          "text": [
            "92\n",
            "Reliability and maintenance/Positive/Newer chargers and I've never had any issues with them.\n"
          ]
        },
        {
          "name": "stderr",
          "output_type": "stream",
          "text": [
            "\r 79%|███████▉  | 1170/1479 [37:10<04:44,  1.09it/s]"
          ]
        },
        {
          "name": "stdout",
          "output_type": "stream",
          "text": [
            "79\n",
            "reliability and maintenance/Negative/Both 125kw chargers down won't communicate\n"
          ]
        },
        {
          "name": "stderr",
          "output_type": "stream",
          "text": [
            "\r 79%|███████▉  | 1171/1479 [37:10<04:18,  1.19it/s]"
          ]
        },
        {
          "name": "stdout",
          "output_type": "stream",
          "text": [
            "64\n",
            "Compatibility and Connectivity/Positive/Worked on the first try.\n"
          ]
        },
        {
          "name": "stderr",
          "output_type": "stream",
          "text": [
            "\r 79%|███████▉  | 1172/1479 [37:11<04:19,  1.18it/s]"
          ]
        },
        {
          "name": "stdout",
          "output_type": "stream",
          "text": [
            "54\n",
            "Accessibility and Accessibility/Neutral/Can be crowded\n",
            "44\n",
            "Charging speed and efficiency/Positive/works\n"
          ]
        },
        {
          "name": "stderr",
          "output_type": "stream",
          "text": [
            "\r 79%|███████▉  | 1173/1479 [37:12<04:14,  1.20it/s]"
          ]
        },
        {
          "name": "stdout",
          "output_type": "stream",
          "text": [
            "60\n",
            "price and cost/Negative/charged $0.25 PER MINUTE for parking\n"
          ]
        },
        {
          "name": "stderr",
          "output_type": "stream",
          "text": [
            "\r 79%|███████▉  | 1174/1479 [37:13<04:05,  1.24it/s]"
          ]
        },
        {
          "name": "stdout",
          "output_type": "stream",
          "text": [
            "96\n",
            "Accessibility and Amenities and location/Positive/The room is very big and the equipment is good\n"
          ]
        },
        {
          "name": "stderr",
          "output_type": "stream",
          "text": [
            "\r 79%|███████▉  | 1175/1479 [37:16<08:46,  1.73s/it]"
          ]
        },
        {
          "name": "stdout",
          "output_type": "stream",
          "text": [
            "128\n",
            "Accessibility and Availability/Negative/if the Ford app knows if a charger is being used or not, tends to be down, charging slow\n",
            "121\n",
            "Compatibility and Connectivity/Negative/No other charger has I got to do that even though Ford says the other ones should\n",
            "52\n",
            "Charging speed and efficiency/Negative/charging slow\n",
            "53\n",
            "Reliability and maintenance/Negative/tends to be down\n",
            "41\n",
            "Customer service/Positive/they are trying\n",
            "45\n",
            "Price and cost/Positive/complimentary session\n",
            "82\n",
            "User interface and mobile app/Positive/able to connect without further interacting\n"
          ]
        },
        {
          "name": "stderr",
          "output_type": "stream",
          "text": [
            "\r 80%|███████▉  | 1176/1479 [37:19<10:07,  2.01s/it]"
          ]
        },
        {
          "name": "stdout",
          "output_type": "stream",
          "text": [
            "362\n",
            "Accessibility and Accessibility/Negative/Very inconvenient and waste of time! Called regarding slow speed multiple times and they don’t care to fix the issue nor reflect it on the app that charging speed is slow or if the chargers are not working all together. Shame on you, guys!!!!! Giving electric cars a bad name and making it an inconvenience to own one!!!!\n"
          ]
        },
        {
          "name": "stderr",
          "output_type": "stream",
          "text": [
            "\r 80%|███████▉  | 1177/1479 [37:21<09:29,  1.89s/it]"
          ]
        },
        {
          "name": "stdout",
          "output_type": "stream",
          "text": [
            "78\n",
            "Compatibility and Connectivity/Positive/Upgraded CCS charging station are good\n",
            "116\n",
            "Amenities and Location/Neutral/Has 6 parking space but only 4 usable space because of the placement of the stations.\n"
          ]
        },
        {
          "name": "stderr",
          "output_type": "stream",
          "text": [
            "\r 80%|███████▉  | 1178/1479 [37:23<10:39,  2.12s/it]"
          ]
        },
        {
          "name": "stdout",
          "output_type": "stream",
          "text": [
            "135\n",
            "ease of use/Positive/Easy to use, large crisp display, simple GUI controls for starting the charge process on the CHAdeMO quick charger\n",
            "64\n",
            "user interface/Positive/large crisp display, simple GUI controls\n",
            "52\n",
            "charging speed and efficiency/Positive/quick charger\n",
            "104\n",
            "location/Positive/conveniently located within a short walk to Walmart or a gas station convenience store\n"
          ]
        },
        {
          "name": "stderr",
          "output_type": "stream",
          "text": [
            "\r 80%|███████▉  | 1179/1479 [37:26<11:14,  2.25s/it]"
          ]
        },
        {
          "name": "stdout",
          "output_type": "stream",
          "text": [
            "90\n",
            "Charging speed and efficiency/Negative/Horrible slow charging speed and random disconnects\n",
            "100\n",
            "Customer service/Negative/Called customer service multiple times and they don't do anything about it\n",
            "106\n",
            "Reliability and maintenance/Positive/It is faster and has more working chargers than the Stafford location\n",
            "46\n",
            "Comparison/Positive/That's a win comparatively\n"
          ]
        },
        {
          "name": "stderr",
          "output_type": "stream",
          "text": [
            "\r 80%|███████▉  | 1180/1479 [37:27<09:23,  1.89s/it]"
          ]
        },
        {
          "name": "stdout",
          "output_type": "stream",
          "text": [
            "109\n",
            "Amenities and Location/Positive/Conveniently located off BW8 and 288, with shopping and eating options handy.\n"
          ]
        },
        {
          "name": "stderr",
          "output_type": "stream",
          "text": [
            "\r 80%|███████▉  | 1181/1479 [37:28<07:39,  1.54s/it]"
          ]
        },
        {
          "name": "stdout",
          "output_type": "stream",
          "text": [
            "89\n",
            "Accessibility and Amenities and location/Negative/Parking is relatively cheap and covered\n"
          ]
        },
        {
          "name": "stderr",
          "output_type": "stream",
          "text": [
            "\r 80%|███████▉  | 1182/1479 [37:28<06:24,  1.29s/it]"
          ]
        },
        {
          "name": "stdout",
          "output_type": "stream",
          "text": [
            "73\n",
            "reliability and maintenance/Negative/some are just good front row parking\n"
          ]
        },
        {
          "name": "stderr",
          "output_type": "stream",
          "text": [
            "\r 80%|███████▉  | 1183/1479 [37:30<07:14,  1.47s/it]"
          ]
        },
        {
          "name": "stdout",
          "output_type": "stream",
          "text": [
            "63\n",
            "Charging speed and efficiency/Positive/Charged my EV very quick\n",
            "116\n",
            "Compatibility and Connectivity/Positive/an actual level 3 charging system with 4 CCS chargers and 2 CHADeMO chargers\n",
            "39\n",
            "Price and cost/Positive/Decently priced\n"
          ]
        },
        {
          "name": "stderr",
          "output_type": "stream",
          "text": [
            "\r 80%|████████  | 1184/1479 [37:31<06:38,  1.35s/it]"
          ]
        },
        {
          "name": "stdout",
          "output_type": "stream",
          "text": [
            "144\n",
            "Accessibility and Amenities and location/Positive/Multiple charging stations, easily accessible, with nearby things to do while the car charges.\n"
          ]
        },
        {
          "name": "stderr",
          "output_type": "stream",
          "text": [
            "\r 80%|████████  | 1185/1479 [37:32<05:21,  1.09s/it]"
          ]
        },
        {
          "name": "stdout",
          "output_type": "stream",
          "text": [
            "32\n",
            "Accessibility/Positive/very good\n"
          ]
        },
        {
          "name": "stderr",
          "output_type": "stream",
          "text": [
            "\r 80%|████████  | 1186/1479 [37:34<06:52,  1.41s/it]"
          ]
        },
        {
          "name": "stdout",
          "output_type": "stream",
          "text": [
            "284\n",
            "Accessibility and Accessibility/Negative/they took out the level 2 charging stations at many locations, their customer service is clueless as to what is going on, never got a return call back, also website is not updated to show that several locations no longer offer level 2 charging\n"
          ]
        },
        {
          "name": "stderr",
          "output_type": "stream",
          "text": [
            "\r 80%|████████  | 1187/1479 [37:35<06:15,  1.29s/it]"
          ]
        },
        {
          "name": "stdout",
          "output_type": "stream",
          "text": [
            "94\n",
            "Compatibility and Connectivity/Positive/ChadeMO right off of 59 and close to 610 is very handy\n"
          ]
        },
        {
          "name": "stderr",
          "output_type": "stream",
          "text": [
            "\r 80%|████████  | 1188/1479 [37:36<06:05,  1.26s/it]"
          ]
        },
        {
          "name": "stdout",
          "output_type": "stream",
          "text": [
            "149\n",
            "Compatibility and Connectivity/Negative/Google and other charge finding services state this has a J1772 charger, but there isn't one on this machine.\n"
          ]
        },
        {
          "name": "stderr",
          "output_type": "stream",
          "text": [
            "\r 80%|████████  | 1189/1479 [37:37<05:12,  1.08s/it]"
          ]
        },
        {
          "name": "stdout",
          "output_type": "stream",
          "text": [
            "88\n",
            "Compatibility and Connectivity/Negative/Needs more variety of charging \"other\" vehicles.\n"
          ]
        },
        {
          "name": "stderr",
          "output_type": "stream",
          "text": [
            "\r 80%|████████  | 1190/1479 [37:38<05:43,  1.19s/it]"
          ]
        },
        {
          "name": "stdout",
          "output_type": "stream",
          "text": [
            "72\n",
            "Accessibility and Accessibility/Positive/A less busy Evgo charge station\n",
            "83\n",
            "Amenities and location/Positive/A nice backup if you use the Alabama charge station\n"
          ]
        },
        {
          "name": "stderr",
          "output_type": "stream",
          "text": [
            "\r 81%|████████  | 1191/1479 [37:40<05:45,  1.20s/it]"
          ]
        },
        {
          "name": "stdout",
          "output_type": "stream",
          "text": [
            "155\n",
            "Accessibility and Amenities and Location/Negative/only one of the two chargers actually works right now, frequently the spot is ICE'd by restaurant patrons\n"
          ]
        },
        {
          "name": "stderr",
          "output_type": "stream",
          "text": [
            "\r 81%|████████  | 1192/1479 [37:41<06:28,  1.35s/it]"
          ]
        },
        {
          "name": "stdout",
          "output_type": "stream",
          "text": [
            "110\n",
            "Accessibility and Accessibility/Negative/They don't bother to do anything about people parking in the EV spots\n",
            "113\n",
            "Amenities and location/Negative/No markings on floor to prevent it, Tiny narrow parking spot for one of the spots\n"
          ]
        },
        {
          "name": "stderr",
          "output_type": "stream",
          "text": [
            "\r 81%|████████  | 1193/1479 [37:42<05:42,  1.20s/it]"
          ]
        },
        {
          "name": "stdout",
          "output_type": "stream",
          "text": [
            "69\n",
            "reliability and maintenance/Negative/About 50% chance it is acting up\n"
          ]
        },
        {
          "name": "stderr",
          "output_type": "stream",
          "text": [
            "\r 81%|████████  | 1194/1479 [37:43<04:47,  1.01s/it]"
          ]
        },
        {
          "name": "stdout",
          "output_type": "stream",
          "text": [
            "53\n",
            "Charging speed and efficiency/Positive/quick recharge\n"
          ]
        },
        {
          "name": "stderr",
          "output_type": "stream",
          "text": [
            "\r 81%|████████  | 1195/1479 [37:43<04:22,  1.08it/s]"
          ]
        },
        {
          "name": "stdout",
          "output_type": "stream",
          "text": [
            "62\n",
            "reliability and maintenance/Positive/working fine in July 2021\n"
          ]
        },
        {
          "name": "stderr",
          "output_type": "stream",
          "text": [
            "\r 81%|████████  | 1196/1479 [37:44<03:59,  1.18it/s]"
          ]
        },
        {
          "name": "stdout",
          "output_type": "stream",
          "text": [
            "69\n",
            "Charging speed and efficiency/Negative/Consistently only gives 35 kwh\n"
          ]
        },
        {
          "name": "stderr",
          "output_type": "stream",
          "text": [
            "\r 81%|████████  | 1197/1479 [37:45<03:40,  1.28it/s]"
          ]
        },
        {
          "name": "stdout",
          "output_type": "stream",
          "text": [
            "75\n",
            "Accessibility and Availability/Negative/Hardly anyone comes to this charger\n"
          ]
        },
        {
          "name": "stderr",
          "output_type": "stream",
          "text": [
            "\r 81%|████████  | 1198/1479 [37:47<05:14,  1.12s/it]"
          ]
        },
        {
          "name": "stdout",
          "output_type": "stream",
          "text": [
            "77\n",
            "Charging speed and efficiency/Negative/charging slower than a regular charger\n",
            "65\n",
            "Accessibility and Location/Negative/so far from the grocery store\n",
            "98\n",
            "Queue and waiting time/Negative/have to walk all the way up there and in the end it barely charged\n"
          ]
        },
        {
          "name": "stderr",
          "output_type": "stream",
          "text": [
            "\r 81%|████████  | 1199/1479 [37:47<04:35,  1.01it/s]"
          ]
        },
        {
          "name": "stdout",
          "output_type": "stream",
          "text": [
            "59\n",
            "reliability and maintenance/Negative/only one quick charger\n"
          ]
        },
        {
          "name": "stderr",
          "output_type": "stream",
          "text": [
            "\r 81%|████████  | 1200/1479 [37:48<04:11,  1.11it/s]"
          ]
        },
        {
          "name": "stdout",
          "output_type": "stream",
          "text": [
            "65\n",
            "Accessibility and Location/Positive/Best place to charge your car\n"
          ]
        },
        {
          "name": "stderr",
          "output_type": "stream",
          "text": [
            "\r 81%|████████  | 1201/1479 [37:49<03:52,  1.19it/s]"
          ]
        },
        {
          "name": "stdout",
          "output_type": "stream",
          "text": [
            "71\n",
            "Amenities and location/Positive/movie theaters and a couple restaurants\n"
          ]
        },
        {
          "name": "stderr",
          "output_type": "stream",
          "text": [
            "\r 81%|████████▏ | 1202/1479 [37:49<03:44,  1.23it/s]"
          ]
        },
        {
          "name": "stdout",
          "output_type": "stream",
          "text": [
            "79\n",
            "Compatibility and Connectivity/Negative/works ONLY if you have the CCS Addapter\n"
          ]
        },
        {
          "name": "stderr",
          "output_type": "stream",
          "text": [
            "\r 81%|████████▏ | 1203/1479 [37:50<03:33,  1.29it/s]"
          ]
        },
        {
          "name": "stdout",
          "output_type": "stream",
          "text": [
            "66\n",
            "ease of use/Positive/instructions were a little confusing at first\n"
          ]
        },
        {
          "name": "stderr",
          "output_type": "stream",
          "text": [
            "\r 81%|████████▏ | 1204/1479 [37:51<03:25,  1.34it/s]"
          ]
        },
        {
          "name": "stdout",
          "output_type": "stream",
          "text": [
            "77\n",
            "Compatibility and Connectivity/Negative/adapter and card reader does not work\n"
          ]
        },
        {
          "name": "stderr",
          "output_type": "stream",
          "text": [
            "\r 81%|████████▏ | 1205/1479 [37:51<03:00,  1.52it/s]"
          ]
        },
        {
          "name": "stdout",
          "output_type": "stream",
          "text": [
            "40\n",
            "price and cost/Negative/Pretty expensive\n"
          ]
        },
        {
          "name": "stderr",
          "output_type": "stream",
          "text": [
            "\r 82%|████████▏ | 1206/1479 [37:52<02:50,  1.60it/s]"
          ]
        },
        {
          "name": "stdout",
          "output_type": "stream",
          "text": [
            "48\n",
            "Safety/Negative/Only for residents they will tow\n"
          ]
        },
        {
          "name": "stderr",
          "output_type": "stream",
          "text": [
            "\r 82%|████████▏ | 1207/1479 [37:54<04:25,  1.02it/s]"
          ]
        },
        {
          "name": "stdout",
          "output_type": "stream",
          "text": [
            "209\n",
            "Compatibility and Connectivity/Negative/Requires app. Did not work today. Charging did not start after I typed my credit card number. EvConnect. Veefil. Chademo. Tesla model 3. Cannot use credit card directly.\n"
          ]
        },
        {
          "name": "stderr",
          "output_type": "stream",
          "text": [
            "\r 82%|████████▏ | 1208/1479 [37:54<04:18,  1.05it/s]"
          ]
        },
        {
          "name": "stdout",
          "output_type": "stream",
          "text": [
            "99\n",
            "Accessibility and Accessibility/Positive/perfect location to charge, Quiet location accessible 24/7\n"
          ]
        },
        {
          "name": "stderr",
          "output_type": "stream",
          "text": [
            "\r 82%|████████▏ | 1209/1479 [37:57<06:34,  1.46s/it]"
          ]
        },
        {
          "name": "stdout",
          "output_type": "stream",
          "text": [
            "92\n",
            "Accessibility and Accessibility/Positive/The cabinet maker has 2 destination charge stations\n",
            "75\n",
            "Queue and waiting time/Positive/All other places in CS were full with lines\n",
            "110\n",
            "Reliability and maintenance/Positive/Thank you Cabinet guys as you saved me a tow truck back to the nearest SC\n",
            "68\n",
            "Compatibility and Connectivity/Negative/When is CS going to get one?\n"
          ]
        },
        {
          "name": "stderr",
          "output_type": "stream",
          "text": [
            "\r 82%|████████▏ | 1210/1479 [37:58<06:05,  1.36s/it]"
          ]
        },
        {
          "name": "stdout",
          "output_type": "stream",
          "text": [
            "86\n",
            "Compatibility and Connectivity/Positive/Chademo plugs, up and running with no problems\n"
          ]
        },
        {
          "name": "stderr",
          "output_type": "stream",
          "text": [
            "\r 82%|████████▏ | 1211/1479 [38:00<06:54,  1.55s/it]"
          ]
        },
        {
          "name": "stdout",
          "output_type": "stream",
          "text": [
            "212\n",
            "Accessibility and Location/Negative/Charger number 4 did not work, The location is great because is right next to a Dunkin donuts and a Racetrack gas station. Very convenient for a quick bite or use the restroom.\n"
          ]
        },
        {
          "name": "stderr",
          "output_type": "stream",
          "text": [
            "\r 82%|████████▏ | 1212/1479 [38:02<06:42,  1.51s/it]"
          ]
        },
        {
          "name": "stdout",
          "output_type": "stream",
          "text": [
            "73\n",
            "Charging speed and efficiency/Negative/First one on the left doesn't work\n",
            "73\n",
            "Accessibility and Location/Positive/Convenient location for a fast refill\n"
          ]
        },
        {
          "name": "stderr",
          "output_type": "stream",
          "text": [
            "\r 82%|████████▏ | 1213/1479 [38:02<05:39,  1.28s/it]"
          ]
        },
        {
          "name": "stdout",
          "output_type": "stream",
          "text": [
            "64\n",
            "Charging speed and efficiency/Positive/charged at a rate of 70KW\n"
          ]
        },
        {
          "name": "stderr",
          "output_type": "stream",
          "text": [
            "\r 82%|████████▏ | 1214/1479 [38:04<06:32,  1.48s/it]"
          ]
        },
        {
          "name": "stdout",
          "output_type": "stream",
          "text": [
            "54\n",
            "Ease of use/Positive/Easiest to use I've ever ran into\n",
            "111\n",
            "Charging speed and efficiency/Positive/charge your vehicle so fast based on the vehicle capacity and capability\n",
            "79\n",
            "Reliability and maintenance/Positive/going to be upgraded to charge even faster\n"
          ]
        },
        {
          "name": "stderr",
          "output_type": "stream",
          "text": [
            "\r 82%|████████▏ | 1215/1479 [38:08<08:44,  1.98s/it]"
          ]
        },
        {
          "name": "stdout",
          "output_type": "stream",
          "text": [
            "434\n",
            "Accessibility and Amenities and Location/Negative/charging stations are becoming busy now and they are being heavily used so they require frequent maintenance, lots of broken chargers or chargers operating at 30% capacity, chargers omit an extremely loud buzzing noise, charging was very very slow and took about three times longer than the average time of 35 minutes, not that impressed considering the fact that it was a $20 charge.\n"
          ]
        },
        {
          "name": "stderr",
          "output_type": "stream",
          "text": [
            "\r 82%|████████▏ | 1216/1479 [38:09<08:11,  1.87s/it]"
          ]
        },
        {
          "name": "stdout",
          "output_type": "stream",
          "text": [
            "154\n",
            "Accessibility and Amenities and Location/Negative/no amenities if you're not a Sam's Club member, Dunkin, iHop, and a Waffle House within about 200 meters\n"
          ]
        },
        {
          "name": "stderr",
          "output_type": "stream",
          "text": [
            "\r 82%|████████▏ | 1217/1479 [38:12<09:25,  2.16s/it]"
          ]
        },
        {
          "name": "stdout",
          "output_type": "stream",
          "text": [
            "102\n",
            "reliability and maintenance/Negative/This station has been slowly degrading in quality and reliability\n",
            "74\n",
            "charging speed and efficiency/Negative(expect it to max at at maybe 50kwh)\n",
            "Error occurred: list index out of range\n"
          ]
        },
        {
          "name": "stderr",
          "output_type": "stream",
          "text": [
            "\r 82%|████████▏ | 1218/1479 [38:14<09:13,  2.12s/it]"
          ]
        },
        {
          "name": "stdout",
          "output_type": "stream",
          "text": [
            "247\n",
            "reliability and maintenance/Negative/One station was down, the other stations was reduced, which apparently meant 2 kWh charge rate, and the 350 station was also severely reduced. The Audi on the final station available was only charging at 35kWh.\n"
          ]
        },
        {
          "name": "stderr",
          "output_type": "stream",
          "text": [
            "\r 82%|████████▏ | 1219/1479 [38:15<07:43,  1.78s/it]"
          ]
        },
        {
          "name": "stdout",
          "output_type": "stream",
          "text": [
            "84\n",
            "reliability and maintenance/Negative/None available at site on 12/6/22. Not working.\n"
          ]
        },
        {
          "name": "stderr",
          "output_type": "stream",
          "text": [
            "\r 82%|████████▏ | 1220/1479 [38:16<06:11,  1.43s/it]"
          ]
        },
        {
          "name": "stdout",
          "output_type": "stream",
          "text": [
            "60\n",
            "Accessibility and Accessibility/Negative/Little hard to find\n"
          ]
        },
        {
          "name": "stderr",
          "output_type": "stream",
          "text": [
            "\r 83%|████████▎ | 1221/1479 [38:17<05:48,  1.35s/it]"
          ]
        },
        {
          "name": "stdout",
          "output_type": "stream",
          "text": [
            "96\n",
            "reliability and maintenance/Positive/It was not working right for months, but now it's brand new\n",
            "61\n",
            "price and cost/Negative/they are going to start charging soon\n"
          ]
        },
        {
          "name": "stderr",
          "output_type": "stream",
          "text": [
            "\r 83%|████████▎ | 1222/1479 [38:17<04:52,  1.14s/it]"
          ]
        },
        {
          "name": "stdout",
          "output_type": "stream",
          "text": [
            "62\n",
            "No aspect terms and opinion terms are mentioned in the review.\n",
            "Error occurred: list index out of range\n"
          ]
        },
        {
          "name": "stderr",
          "output_type": "stream",
          "text": [
            "\r 83%|████████▎ | 1223/1479 [38:18<04:10,  1.02it/s]"
          ]
        },
        {
          "name": "stdout",
          "output_type": "stream",
          "text": [
            "62\n",
            "None of the provided aspects are mentioned in the review text.\n",
            "Error occurred: list index out of range\n"
          ]
        },
        {
          "name": "stderr",
          "output_type": "stream",
          "text": [
            "\r 83%|████████▎ | 1224/1479 [38:19<03:56,  1.08it/s]"
          ]
        },
        {
          "name": "stdout",
          "output_type": "stream",
          "text": [
            "101\n",
            "This review does not mention any specific aspects or provide any opinion terms or sentiment polarity.\n",
            "Error occurred: list index out of range\n"
          ]
        },
        {
          "name": "stderr",
          "output_type": "stream",
          "text": [
            "\r 83%|████████▎ | 1225/1479 [38:20<04:25,  1.04s/it]"
          ]
        },
        {
          "name": "stdout",
          "output_type": "stream",
          "text": [
            "138\n",
            "Accessibility and Amenities and Location/Positive/Florida Turnpike Service Plazas, ChargePoint at this location, plaza for a cup of coffee\n"
          ]
        },
        {
          "name": "stderr",
          "output_type": "stream",
          "text": [
            "\r 83%|████████▎ | 1226/1479 [38:23<06:51,  1.63s/it]"
          ]
        },
        {
          "name": "stdout",
          "output_type": "stream",
          "text": [
            "104\n",
            "Accessibility and Availability/Negative/only two of five stations are working on a busy, bright Saturday\n",
            "111\n",
            "Compatibility and Connectivity/Negative/ChargePoint recently partnered with FPL and I expected a higher quality\n",
            "79\n",
            "Charging speed and efficiency/Negative/the charging rate was low at about 52 kW\n",
            "88\n",
            "Reliability and maintenance/Negative/ChargePoint didn't have any urgency to get it fixed\n"
          ]
        },
        {
          "name": "stderr",
          "output_type": "stream",
          "text": [
            "\r 83%|████████▎ | 1227/1479 [38:28<10:31,  2.50s/it]"
          ]
        },
        {
          "name": "stdout",
          "output_type": "stream",
          "text": [
            "56\n",
            "Charging speed and efficiency/Neutral/half speed 70-80kw\n",
            "30\n",
            "Price and cost/Neutral/7 bucks\n",
            "55\n",
            "Queue and waiting time/Neutral/30% charge in 15 minutes\n"
          ]
        },
        {
          "name": "stderr",
          "output_type": "stream",
          "text": [
            "\r 83%|████████▎ | 1228/1479 [38:29<09:03,  2.17s/it]"
          ]
        },
        {
          "name": "stdout",
          "output_type": "stream",
          "text": [
            "63\n",
            "Amenities and location/Positive/food choices, clean restaurants\n",
            "63\n",
            "Ease of use/Positive/install the FPL EV app to use the chargers\n"
          ]
        },
        {
          "name": "stderr",
          "output_type": "stream",
          "text": [
            "\r 83%|████████▎ | 1229/1479 [38:30<07:49,  1.88s/it]"
          ]
        },
        {
          "name": "stdout",
          "output_type": "stream",
          "text": [
            "74\n",
            "Accessibility and Accessibility/Negative/Only 2 Charge Points were working\n",
            "64\n",
            "Amenities and location/Positive/Nice as your close to facilities\n"
          ]
        },
        {
          "name": "stderr",
          "output_type": "stream",
          "text": [
            "\r 83%|████████▎ | 1230/1479 [38:35<11:14,  2.71s/it]"
          ]
        },
        {
          "name": "stdout",
          "output_type": "stream",
          "text": [
            "188\n",
            "Accessibility and Availability/Negative/charging stations like this one are out of order, Some chargers along route 24 are vandalized with missing charging cables, others are out of order.\n",
            "98\n",
            "Compatibility and Connectivity/Positive/Can \"recharge\" both to over.a 340 mile.range in 3 minutes.\n",
            "185\n",
            "Reliability and Maintenance/Negative/charging stations like this one are out of order, Some chargers along route 24 are vandalized with missing charging cables, others are out of order.\n",
            "93\n",
            "Price and Cost/Positive/got $5500 for it and bought a 2022 Nissan Kicks SR w/Premium package.\n"
          ]
        },
        {
          "name": "stderr",
          "output_type": "stream",
          "text": [
            "\r 83%|████████▎ | 1231/1479 [38:36<08:38,  2.09s/it]"
          ]
        },
        {
          "name": "stdout",
          "output_type": "stream",
          "text": [
            "71\n",
            "Accessibility and Location/Neutral/located right along a busy mall road\n"
          ]
        },
        {
          "name": "stderr",
          "output_type": "stream",
          "text": [
            "\r 83%|████████▎ | 1232/1479 [38:36<06:50,  1.66s/it]"
          ]
        },
        {
          "name": "stdout",
          "output_type": "stream",
          "text": [
            "64\n",
            "Compatibility and Connectivity/Negative/No 350s at this location\n"
          ]
        },
        {
          "name": "stderr",
          "output_type": "stream",
          "text": [
            "\r 83%|████████▎ | 1233/1479 [38:37<05:37,  1.37s/it]"
          ]
        },
        {
          "name": "stdout",
          "output_type": "stream",
          "text": [
            "78\n",
            "Compatibility and Connectivity/Negative/Charging plugs don't fit my Ford C Max\n"
          ]
        },
        {
          "name": "stderr",
          "output_type": "stream",
          "text": [
            "\r 83%|████████▎ | 1234/1479 [38:38<04:42,  1.15s/it]"
          ]
        },
        {
          "name": "stdout",
          "output_type": "stream",
          "text": [
            "60\n",
            "reliability and maintenance/Positive/charger works very good\n"
          ]
        },
        {
          "name": "stderr",
          "output_type": "stream",
          "text": [
            "\r 84%|████████▎ | 1235/1479 [38:40<05:44,  1.41s/it]"
          ]
        },
        {
          "name": "stdout",
          "output_type": "stream",
          "text": [
            "68\n",
            "Accessibility and Location/Positive/charging station inside a garage\n",
            "85\n",
            "Charging speed and efficiency/Positive/charged my vehicle within two and a half hours\n",
            "65\n",
            "Reliability and maintenance/Positive/Everything worked as planned\n",
            "61\n",
            "Customer service/Positive/Nice to have something go as stated\n"
          ]
        },
        {
          "name": "stderr",
          "output_type": "stream",
          "text": [
            "\r 84%|████████▎ | 1236/1479 [38:42<07:22,  1.82s/it]"
          ]
        },
        {
          "name": "stdout",
          "output_type": "stream",
          "text": [
            "106\n",
            "Charging speed and efficiency/Positive/charges 30 cents per minute and doesn't always reach the 50kw limit\n",
            "36\n",
            "Price and cost/Negative/a bit pricey\n",
            "159\n",
            "Queue and waiting time/Positive/charged for an hour started at 34kw tapering down to 21kw to charge from 32% to 78% in 50 degree weather with warm battery pack\n",
            "83\n",
            "Amenities and location/Positive/Restaurant right there, The Black Whale, was great.\n"
          ]
        },
        {
          "name": "stderr",
          "output_type": "stream",
          "text": [
            "\r 84%|████████▎ | 1237/1479 [38:43<06:17,  1.56s/it]"
          ]
        },
        {
          "name": "stdout",
          "output_type": "stream",
          "text": [
            "55\n",
            "Accessibility and Location/Neutral/no obvious amenities\n",
            "44\n",
            "Price and Cost/Negative/expensive ($.55/kwh)\n"
          ]
        },
        {
          "name": "stderr",
          "output_type": "stream",
          "text": [
            "\r 84%|████████▎ | 1238/1479 [38:44<05:36,  1.40s/it]"
          ]
        },
        {
          "name": "stdout",
          "output_type": "stream",
          "text": [
            "93\n",
            "Accessibility and Amenities and location/Positive/Available 24/7, Easy to get to, Quiet area.\n"
          ]
        },
        {
          "name": "stderr",
          "output_type": "stream",
          "text": [
            "\r 84%|████████▍ | 1239/1479 [38:45<04:56,  1.23s/it]"
          ]
        },
        {
          "name": "stdout",
          "output_type": "stream",
          "text": [
            "51\n",
            "Safety/Negative/gates are locked when it's not open\n"
          ]
        },
        {
          "name": "stderr",
          "output_type": "stream",
          "text": [
            "\r 84%|████████▍ | 1240/1479 [38:46<04:31,  1.13s/it]"
          ]
        },
        {
          "name": "stdout",
          "output_type": "stream",
          "text": [
            "55\n",
            "Charging speed and efficiency/Negative/Slow in the cold\n",
            "33\n",
            "Price and cost/Negative/Expensive\n"
          ]
        },
        {
          "name": "stderr",
          "output_type": "stream",
          "text": [
            "\r 84%|████████▍ | 1241/1479 [38:47<03:56,  1.00it/s]"
          ]
        },
        {
          "name": "stdout",
          "output_type": "stream",
          "text": [
            "69\n",
            "reliability and maintenance/Negative/None of the charge station works\n"
          ]
        },
        {
          "name": "stderr",
          "output_type": "stream",
          "text": [
            "\r 84%|████████▍ | 1242/1479 [38:47<03:26,  1.15it/s]"
          ]
        },
        {
          "name": "stdout",
          "output_type": "stream",
          "text": [
            "62\n",
            "Compatibility and Connectivity/Negative/Not for tesla vehicles\n"
          ]
        },
        {
          "name": "stderr",
          "output_type": "stream",
          "text": [
            "\r 84%|████████▍ | 1243/1479 [38:48<03:04,  1.28it/s]"
          ]
        },
        {
          "name": "stdout",
          "output_type": "stream",
          "text": [
            "61\n",
            "Compatibility and Connectivity/Negative/occupying the charger\n"
          ]
        },
        {
          "name": "stderr",
          "output_type": "stream",
          "text": [
            "\r 84%|████████▍ | 1244/1479 [38:48<02:38,  1.49it/s]"
          ]
        },
        {
          "name": "stdout",
          "output_type": "stream",
          "text": [
            "50\n",
            "Accessibility and Location/Positive/charging place\n"
          ]
        },
        {
          "name": "stderr",
          "output_type": "stream",
          "text": [
            "\r 84%|████████▍ | 1245/1479 [38:49<02:55,  1.33it/s]"
          ]
        },
        {
          "name": "stdout",
          "output_type": "stream",
          "text": [
            "90\n",
            "reliability and maintenance/Negative/Doesn't work and no way to contact someone to fix it.\n"
          ]
        },
        {
          "name": "stderr",
          "output_type": "stream",
          "text": [
            "\r 84%|████████▍ | 1246/1479 [38:50<03:03,  1.27it/s]"
          ]
        },
        {
          "name": "stdout",
          "output_type": "stream",
          "text": [
            "86\n",
            "reliability and maintenance/Negative/Don't work says occupied and won't let you charge\n"
          ]
        },
        {
          "name": "stderr",
          "output_type": "stream",
          "text": [
            "\r 84%|████████▍ | 1247/1479 [38:51<02:45,  1.40it/s]"
          ]
        },
        {
          "name": "stdout",
          "output_type": "stream",
          "text": [
            "42\n",
            "queue and waiting time/Neutral/little wait\n"
          ]
        },
        {
          "name": "stderr",
          "output_type": "stream",
          "text": [
            "\r 84%|████████▍ | 1248/1479 [38:51<02:32,  1.52it/s]"
          ]
        },
        {
          "name": "stdout",
          "output_type": "stream",
          "text": [
            "53\n",
            "Accessibility and Accessibility/Negative/Not 24 hours\n"
          ]
        },
        {
          "name": "stderr",
          "output_type": "stream",
          "text": [
            "\r 84%|████████▍ | 1249/1479 [38:52<02:28,  1.55it/s]"
          ]
        },
        {
          "name": "stdout",
          "output_type": "stream",
          "text": [
            "60\n",
            "Accessibility and Accessibility/Neutral/There are 6 stations\n"
          ]
        },
        {
          "name": "stderr",
          "output_type": "stream",
          "text": [
            "\r 85%|████████▍ | 1250/1479 [38:53<03:27,  1.10it/s]"
          ]
        },
        {
          "name": "stdout",
          "output_type": "stream",
          "text": [
            "51\n",
            "Customer service/Negative/Poor treatment by doctors\n",
            "55\n",
            "Customer service/Positive/wonderful treatment by nurses\n",
            "94\n",
            "Reliability and maintenance/Negative/doctors are rude and most of the time miss your condition\n"
          ]
        },
        {
          "name": "stderr",
          "output_type": "stream",
          "text": [
            "\r 85%|████████▍ | 1251/1479 [38:54<03:10,  1.20it/s]"
          ]
        },
        {
          "name": "stdout",
          "output_type": "stream",
          "text": [
            "69\n",
            "reliability and maintenance/Positive/This charger works as of 4/15/23\n"
          ]
        },
        {
          "name": "stderr",
          "output_type": "stream",
          "text": [
            "\r 85%|████████▍ | 1252/1479 [38:56<04:22,  1.16s/it]"
          ]
        },
        {
          "name": "stdout",
          "output_type": "stream",
          "text": [
            "46\n",
            "Amenities and Location/Positive/Wendy's/ Loves\n",
            "77\n",
            "Accessibility and Accessibility/Positive/4 of them, brightly lit, all working\n",
            "82\n",
            "Queue and Waiting Time/Positive/Better option than hit-or-miss alternatives nearby\n"
          ]
        },
        {
          "name": "stderr",
          "output_type": "stream",
          "text": [
            "\r 85%|████████▍ | 1253/1479 [38:57<03:46,  1.00s/it]"
          ]
        },
        {
          "name": "stdout",
          "output_type": "stream",
          "text": [
            "49\n",
            "Amenities and Location/Positive/Wendy's and Loves\n"
          ]
        },
        {
          "name": "stderr",
          "output_type": "stream",
          "text": [
            "\r 85%|████████▍ | 1254/1479 [38:57<03:34,  1.05it/s]"
          ]
        },
        {
          "name": "stdout",
          "output_type": "stream",
          "text": [
            "73\n",
            "Reliability and maintenance/Positive/Always know I will get a good charge\n"
          ]
        },
        {
          "name": "stderr",
          "output_type": "stream",
          "text": [
            "\r 85%|████████▍ | 1255/1479 [38:58<03:18,  1.13it/s]"
          ]
        },
        {
          "name": "stdout",
          "output_type": "stream",
          "text": [
            "66\n",
            "Charging speed and efficiency/Positive/Excellent and fast charging\n"
          ]
        },
        {
          "name": "stderr",
          "output_type": "stream",
          "text": [
            "\r 85%|████████▍ | 1256/1479 [38:59<03:37,  1.03it/s]"
          ]
        },
        {
          "name": "stdout",
          "output_type": "stream",
          "text": [
            "57\n",
            "Accessibility and Location/Positive/Great place to charge\n"
          ]
        },
        {
          "name": "stderr",
          "output_type": "stream",
          "text": [
            "\r 85%|████████▍ | 1257/1479 [39:00<03:14,  1.14it/s]"
          ]
        },
        {
          "name": "stdout",
          "output_type": "stream",
          "text": [
            "70\n",
            "Accessibility and Location/Positive/FPL chargers are always a pleasure\n"
          ]
        },
        {
          "name": "stderr",
          "output_type": "stream",
          "text": [
            "\r 85%|████████▌ | 1258/1479 [39:03<06:02,  1.64s/it]"
          ]
        },
        {
          "name": "stdout",
          "output_type": "stream",
          "text": [
            "122\n",
            "Accessibility and Availability/Positive/The chargers were occupied when we arrived, but one became available shortly after\n",
            "375\n",
            "Ease of use/Positive/The process to start charging had changed in the 6 months since we used EA. Now, you plug in immediately, then select the charger in the app and start the charging by sweeping right. The new element is that you now must place your phone by the proximity reader to start charging, I imagine for enhanced security. The charging went quickly and flawlessly.\n"
          ]
        },
        {
          "name": "stderr",
          "output_type": "stream",
          "text": [
            "\r 85%|████████▌ | 1259/1479 [39:04<05:03,  1.38s/it]"
          ]
        },
        {
          "name": "stdout",
          "output_type": "stream",
          "text": [
            "83\n",
            "Accessibility and Accessibility/Negative/Under construction and they don't tell you\n"
          ]
        },
        {
          "name": "stderr",
          "output_type": "stream",
          "text": [
            "\r 85%|████████▌ | 1260/1479 [39:05<04:05,  1.12s/it]"
          ]
        },
        {
          "name": "stdout",
          "output_type": "stream",
          "text": [
            "59\n",
            "Accessibility and Accessibility/Negative/under construction\n"
          ]
        },
        {
          "name": "stderr",
          "output_type": "stream",
          "text": [
            "\r 85%|████████▌ | 1261/1479 [39:05<03:29,  1.04it/s]"
          ]
        },
        {
          "name": "stdout",
          "output_type": "stream",
          "text": [
            "74\n",
            "customer service/Positive/customer service remotely started charger for me\n"
          ]
        },
        {
          "name": "stderr",
          "output_type": "stream",
          "text": [
            "\r 85%|████████▌ | 1262/1479 [39:06<03:05,  1.17it/s]"
          ]
        },
        {
          "name": "stdout",
          "output_type": "stream",
          "text": [
            "67\n",
            "This review does not mention any specific aspects or opinion terms.\n",
            "Error occurred: list index out of range\n"
          ]
        },
        {
          "name": "stderr",
          "output_type": "stream",
          "text": [
            "\r 85%|████████▌ | 1263/1479 [39:07<03:32,  1.02it/s]"
          ]
        },
        {
          "name": "stdout",
          "output_type": "stream",
          "text": [
            "157\n",
            "Accessibility and Amenities and Location/Positive/EVgo Charging Station is the latest way to become hip and be “one with nature”, Whole Foods would be proud!\n"
          ]
        },
        {
          "name": "stderr",
          "output_type": "stream",
          "text": [
            "\r 85%|████████▌ | 1264/1479 [39:08<03:11,  1.12it/s]"
          ]
        },
        {
          "name": "stdout",
          "output_type": "stream",
          "text": [
            "47\n",
            "user interface/Negative/couldn't charge the car\n"
          ]
        },
        {
          "name": "stderr",
          "output_type": "stream",
          "text": [
            "\r 86%|████████▌ | 1265/1479 [39:09<03:22,  1.06it/s]"
          ]
        },
        {
          "name": "stdout",
          "output_type": "stream",
          "text": [
            "80\n",
            "price and cost/Neutral/Cost me 20$ to charge my Bolt from 70 miles to 173 miles.\n"
          ]
        },
        {
          "name": "stderr",
          "output_type": "stream",
          "text": [
            "\r 86%|████████▌ | 1266/1479 [39:10<03:16,  1.09it/s]"
          ]
        },
        {
          "name": "stdout",
          "output_type": "stream",
          "text": [
            "73\n",
            "price and cost/Negative/Too expensive $15 for 45 minutes charging Level 3\n"
          ]
        },
        {
          "name": "stderr",
          "output_type": "stream",
          "text": [
            "\r 86%|████████▌ | 1267/1479 [39:10<02:49,  1.25it/s]"
          ]
        },
        {
          "name": "stdout",
          "output_type": "stream",
          "text": [
            "52\n",
            "Charging speed and efficiency/Positive/Fast and easy\n"
          ]
        },
        {
          "name": "stderr",
          "output_type": "stream",
          "text": [
            "\r 86%|████████▌ | 1268/1479 [39:12<03:44,  1.06s/it]"
          ]
        },
        {
          "name": "stdout",
          "output_type": "stream",
          "text": [
            "80\n",
            "Compatibility and Connectivity/Positive/EVConnectmput out 50kWh without problems\n",
            "45\n",
            "Amenities and Location/Positive/Blink charger\n",
            "55\n",
            "Charging speed and efficiency/Positive/Just needed 20kW\n"
          ]
        },
        {
          "name": "stderr",
          "output_type": "stream",
          "text": [
            "\r 86%|████████▌ | 1269/1479 [39:13<03:23,  1.03it/s]"
          ]
        },
        {
          "name": "stdout",
          "output_type": "stream",
          "text": [
            "63\n",
            "Charging speed and efficiency/Negative/Max i got today was 19KW\n"
          ]
        },
        {
          "name": "stderr",
          "output_type": "stream",
          "text": [
            "\r 86%|████████▌ | 1270/1479 [39:16<05:26,  1.56s/it]"
          ]
        },
        {
          "name": "stdout",
          "output_type": "stream",
          "text": [
            "61\n",
            "Accessibility and Location/Neutral/proximity to Lambeau Field\n",
            "89\n",
            "Compatibility and Connectivity/Neutral/charger to reach without it draping across my hood\n",
            "97\n",
            "Amenities and Location/Neutral/Titletown tech building, total chaos, Diagonal directional parking\n",
            "70\n",
            "Price and Cost/Negative/doubling prices of all goods in a general area\n",
            "66\n",
            "Safety/Positive/Fairly clean area, nice place to stretch your legs\n"
          ]
        },
        {
          "name": "stderr",
          "output_type": "stream",
          "text": [
            " 86%|████████▌ | 1272/1479 [39:17<03:38,  1.06s/it]"
          ]
        },
        {
          "name": "stdout",
          "output_type": "stream",
          "text": [
            "81\n",
            "Accessibility and Location/Neutral/Chargers are located at various mall entrances\n"
          ]
        },
        {
          "name": "stderr",
          "output_type": "stream",
          "text": [
            "\r 86%|████████▌ | 1273/1479 [39:17<03:19,  1.03it/s]"
          ]
        },
        {
          "name": "stdout",
          "output_type": "stream",
          "text": [
            "94\n",
            "This review does not mention any specific aspects or opinions related to the provided aspects.\n",
            "Error occurred: list index out of range\n"
          ]
        },
        {
          "name": "stderr",
          "output_type": "stream",
          "text": [
            "\r 86%|████████▌ | 1274/1479 [39:19<03:24,  1.00it/s]"
          ]
        },
        {
          "name": "stdout",
          "output_type": "stream",
          "text": [
            "105\n",
            "Amenities and Location/Positive/Philadelphia Mills parking lot, Taco Bell, McDonald's, 2 minutes off I-95\n"
          ]
        },
        {
          "name": "stderr",
          "output_type": "stream",
          "text": [
            "\r 86%|████████▌ | 1275/1479 [39:19<02:56,  1.16it/s]"
          ]
        },
        {
          "name": "stdout",
          "output_type": "stream",
          "text": [
            "91\n",
            "This review does not provide any specific feedback or opinions about the aspects mentioned.\n",
            "Error occurred: list index out of range\n"
          ]
        },
        {
          "name": "stderr",
          "output_type": "stream",
          "text": [
            "\r 86%|████████▋ | 1276/1479 [39:20<03:06,  1.09it/s]"
          ]
        },
        {
          "name": "stdout",
          "output_type": "stream",
          "text": [
            "130\n",
            "This review does not provide enough information to classify it or identify any aspect terms, opinion terms, or sentiment polarity.\n",
            "Error occurred: list index out of range\n"
          ]
        },
        {
          "name": "stderr",
          "output_type": "stream",
          "text": [
            "\r 86%|████████▋ | 1277/1479 [39:21<02:46,  1.21it/s]"
          ]
        },
        {
          "name": "stdout",
          "output_type": "stream",
          "text": [
            "55\n",
            "reliability and maintenance/Negative/it never has power\n"
          ]
        },
        {
          "name": "stderr",
          "output_type": "stream",
          "text": [
            "\r 86%|████████▋ | 1278/1479 [39:21<02:23,  1.40it/s]"
          ]
        },
        {
          "name": "stdout",
          "output_type": "stream",
          "text": [
            "65\n",
            "Availability and Accessibility/Positive/car charger is often free\n"
          ]
        },
        {
          "name": "stderr",
          "output_type": "stream",
          "text": [
            "\r 86%|████████▋ | 1279/1479 [39:22<02:16,  1.47it/s]"
          ]
        },
        {
          "name": "stdout",
          "output_type": "stream",
          "text": [
            "58\n",
            "Compatibility and Connectivity/Neutral/CCS AND J connector\n"
          ]
        },
        {
          "name": "stderr",
          "output_type": "stream",
          "text": [
            "\r 87%|████████▋ | 1280/1479 [39:23<02:34,  1.29it/s]"
          ]
        },
        {
          "name": "stdout",
          "output_type": "stream",
          "text": [
            "151\n",
            "Not enough information is provided to classify the review and recognize the aspect terms with their corresponding opinion terms and sentiment polarity.\n",
            "Error occurred: list index out of range\n"
          ]
        },
        {
          "name": "stderr",
          "output_type": "stream",
          "text": [
            "\r 87%|████████▋ | 1281/1479 [39:24<02:48,  1.17it/s]"
          ]
        },
        {
          "name": "stdout",
          "output_type": "stream",
          "text": [
            "106\n",
            "Charging speed and efficiency/Negative/Slow charging and doesn't go anywhere near 150kW where it should be\n"
          ]
        },
        {
          "name": "stderr",
          "output_type": "stream",
          "text": [
            "\r 87%|████████▋ | 1282/1479 [39:25<02:56,  1.11it/s]"
          ]
        },
        {
          "name": "stdout",
          "output_type": "stream",
          "text": [
            "82\n",
            "Compatibility and Connectivity/Negative/They don't allow Tesla to charge from here\n"
          ]
        },
        {
          "name": "stderr",
          "output_type": "stream",
          "text": [
            "\r 87%|████████▋ | 1283/1479 [39:26<03:26,  1.05s/it]"
          ]
        },
        {
          "name": "stdout",
          "output_type": "stream",
          "text": [
            "222\n",
            "Accessibility and Location/Positive/4 chargers located under the side of the parking garage. 3/4 available and working when we arrived on a Sunday afternoon. Good location to run into the mall while getting a quick charge.\n"
          ]
        },
        {
          "name": "stderr",
          "output_type": "stream",
          "text": [
            "\r 87%|████████▋ | 1284/1479 [39:27<03:08,  1.03it/s]"
          ]
        },
        {
          "name": "stdout",
          "output_type": "stream",
          "text": [
            "82\n",
            "This review does not provide any specific information about the aspects mentioned.\n",
            "Error occurred: list index out of range\n"
          ]
        },
        {
          "name": "stderr",
          "output_type": "stream",
          "text": [
            "\r 87%|████████▋ | 1285/1479 [39:28<03:01,  1.07it/s]"
          ]
        },
        {
          "name": "stdout",
          "output_type": "stream",
          "text": [
            "66\n",
            "Amenities and Location/Positive/Shopping and restaurants close by.\n"
          ]
        },
        {
          "name": "stderr",
          "output_type": "stream",
          "text": [
            "\r 87%|████████▋ | 1286/1479 [39:28<02:33,  1.26it/s]"
          ]
        },
        {
          "name": "stdout",
          "output_type": "stream",
          "text": [
            "56\n",
            "Availability and Accessibility/Positive/Always available\n"
          ]
        },
        {
          "name": "stderr",
          "output_type": "stream",
          "text": [
            "\r 87%|████████▋ | 1287/1479 [39:30<03:29,  1.09s/it]"
          ]
        },
        {
          "name": "stdout",
          "output_type": "stream",
          "text": [
            "64\n",
            "Charging speed and efficiency/Negative/only gave me a 20% charge\n",
            "41\n",
            "Price and cost/Negative/paid so much less\n",
            "90\n",
            "Compatibility and Connectivity/Positive/used electrify America afterwards and was so happy\n",
            "27\n",
            "Overall sentiment: Negative\n",
            "Error occurred: list index out of range\n"
          ]
        },
        {
          "name": "stderr",
          "output_type": "stream",
          "text": [
            "\r 87%|████████▋ | 1288/1479 [39:32<04:19,  1.36s/it]"
          ]
        },
        {
          "name": "stdout",
          "output_type": "stream",
          "text": [
            "52\n",
            "Charging speed and efficiency/Positive/fast charging\n",
            "70\n",
            "Price and cost/Negative/more expensive than using the number 2 charger\n",
            "53\n",
            "Ease of use/Positive/Super easy, quick and convenient\n",
            "60\n",
            "Compatibility and Connectivity/Positive/if you're in a hurry\n"
          ]
        },
        {
          "name": "stderr",
          "output_type": "stream",
          "text": [
            "\r 87%|████████▋ | 1289/1479 [39:33<04:01,  1.27s/it]"
          ]
        },
        {
          "name": "stdout",
          "output_type": "stream",
          "text": [
            "77\n",
            "reliability and maintenance/Negative/1 out of 3 chargers are operational only\n"
          ]
        },
        {
          "name": "stderr",
          "output_type": "stream",
          "text": [
            "\r 87%|████████▋ | 1290/1479 [39:34<03:27,  1.10s/it]"
          ]
        },
        {
          "name": "stdout",
          "output_type": "stream",
          "text": [
            "62\n",
            "Accessibility and Location/Negative/Very poorly marked and lit\n"
          ]
        },
        {
          "name": "stderr",
          "output_type": "stream",
          "text": [
            "\r 87%|████████▋ | 1291/1479 [39:35<03:39,  1.17s/it]"
          ]
        },
        {
          "name": "stdout",
          "output_type": "stream",
          "text": [
            "138\n",
            "Accessibility and Availability/Positive/Only has one charger (2 are listed here and even on the Volta app) but it works great and is free.\n"
          ]
        },
        {
          "name": "stderr",
          "output_type": "stream",
          "text": [
            "\r 87%|████████▋ | 1292/1479 [39:36<03:13,  1.04s/it]"
          ]
        },
        {
          "name": "stdout",
          "output_type": "stream",
          "text": [
            "86\n",
            "This review does not mention any specific aspects or provide any opinion or sentiment.\n",
            "Error occurred: list index out of range\n"
          ]
        },
        {
          "name": "stderr",
          "output_type": "stream",
          "text": [
            "\r 87%|████████▋ | 1293/1479 [39:38<04:13,  1.36s/it]"
          ]
        },
        {
          "name": "stdout",
          "output_type": "stream",
          "text": [
            "75\n",
            "Accessibility and Accessibility/Negative/Hidden in the back of the building\n",
            "65\n",
            "Ease of use/Negative/Couldn't even get it started through the app\n",
            "32\n",
            "Payment option/Negative/Not free\n",
            "61\n",
            "Customer service/Negative/Might be blocked for employees only\n",
            "87\n",
            "Mobile app/Negative/The app doesn't even show this charger active on the GreenPoint app\n"
          ]
        },
        {
          "name": "stderr",
          "output_type": "stream",
          "text": [
            "\r 87%|████████▋ | 1294/1479 [39:40<04:28,  1.45s/it]"
          ]
        },
        {
          "name": "stdout",
          "output_type": "stream",
          "text": [
            "138\n",
            "Customer service/Positive/Steve greets me every time I am there. He is extremely helpful, offering the use of their facilities and coffee.\n",
            "53\n",
            "Location and amenities/Positive/Great location, safe.\n"
          ]
        },
        {
          "name": "stderr",
          "output_type": "stream",
          "text": [
            "\r 88%|████████▊ | 1295/1479 [39:41<04:09,  1.35s/it]"
          ]
        },
        {
          "name": "stdout",
          "output_type": "stream",
          "text": [
            "126\n",
            "Accessibility and Amenities and Location/Positive/4 chargers, great rate, walking path, exercise stations, Sunday Flea markets\n"
          ]
        },
        {
          "name": "stderr",
          "output_type": "stream",
          "text": [
            "\r 88%|████████▊ | 1296/1479 [39:42<03:52,  1.27s/it]"
          ]
        },
        {
          "name": "stdout",
          "output_type": "stream",
          "text": [
            "127\n",
            "Charging speed and efficiency/Positive/able to achieve the full capacity of my truck's current charging capabilities of ~210kw.\n"
          ]
        },
        {
          "name": "stderr",
          "output_type": "stream",
          "text": [
            "\r 88%|████████▊ | 1297/1479 [39:44<04:47,  1.58s/it]"
          ]
        },
        {
          "name": "stdout",
          "output_type": "stream",
          "text": [
            "296\n",
            "Accessibility and Amenities and Location/Negative/chargers only charge one car at a time, very tight location and busy with Sam's traffic, only two 350 chargers and two spaces, be prepared to wait a while to charge, be careful about traffic in the parking area, Sam's bathrooms are terribly dirty\n"
          ]
        },
        {
          "name": "stderr",
          "output_type": "stream",
          "text": [
            "\r 88%|████████▊ | 1298/1479 [39:45<04:13,  1.40s/it]"
          ]
        },
        {
          "name": "stdout",
          "output_type": "stream",
          "text": [
            "122\n",
            "Charging speed and efficiency/Negative/max I got was 110kw and that was starting from 39% and my car can do a max of 210KW\n"
          ]
        },
        {
          "name": "stderr",
          "output_type": "stream",
          "text": [
            "\r 88%|████████▊ | 1299/1479 [39:46<03:55,  1.31s/it]"
          ]
        },
        {
          "name": "stdout",
          "output_type": "stream",
          "text": [
            "51\n",
            "Charging speed and efficiency/Positive/Fast charger\n",
            "32\n",
            "Ease of use/Positive/Works great\n"
          ]
        },
        {
          "name": "stderr",
          "output_type": "stream",
          "text": [
            "\r 88%|████████▊ | 1300/1479 [39:47<03:30,  1.18s/it]"
          ]
        },
        {
          "name": "stdout",
          "output_type": "stream",
          "text": [
            "117\n",
            "Compatibility and Connectivity/Negative/system said the pass reader wasn't working, then the app wouldn't override it\n"
          ]
        },
        {
          "name": "stderr",
          "output_type": "stream",
          "text": [
            "\r 88%|████████▊ | 1301/1479 [39:48<02:59,  1.01s/it]"
          ]
        },
        {
          "name": "stdout",
          "output_type": "stream",
          "text": [
            "49\n",
            "reliability and maintenance/Negative/Out of order\n"
          ]
        },
        {
          "name": "stderr",
          "output_type": "stream",
          "text": [
            "\r 88%|████████▊ | 1302/1479 [39:49<03:10,  1.08s/it]"
          ]
        },
        {
          "name": "stdout",
          "output_type": "stream",
          "text": [
            "161\n",
            "Accessibility and Amenities and Location/Negative/Tesla owners who hog up the station instead of going to the other area which is specifically for Tesla vehicles\n"
          ]
        },
        {
          "name": "stderr",
          "output_type": "stream",
          "text": [
            "\r 88%|████████▊ | 1303/1479 [39:49<02:37,  1.11it/s]"
          ]
        },
        {
          "name": "stdout",
          "output_type": "stream",
          "text": [
            "48\n",
            "Accessibility and Location/Positive/Easy to find\n"
          ]
        },
        {
          "name": "stderr",
          "output_type": "stream",
          "text": [
            "\r 88%|████████▊ | 1304/1479 [39:50<02:18,  1.26it/s]"
          ]
        },
        {
          "name": "stdout",
          "output_type": "stream",
          "text": [
            "56\n",
            "Compatibility and Connectivity/Positive/Worked perfectly\n"
          ]
        },
        {
          "name": "stderr",
          "output_type": "stream",
          "text": [
            " 88%|████████▊ | 1306/1479 [39:51<02:03,  1.40it/s]"
          ]
        },
        {
          "name": "stdout",
          "output_type": "stream",
          "text": [
            "94\n",
            "This review does not mention any specific aspects or opinions related to the aspects provided.\n",
            "Error occurred: list index out of range\n"
          ]
        },
        {
          "name": "stderr",
          "output_type": "stream",
          "text": [
            "\r 88%|████████▊ | 1307/1479 [39:54<03:50,  1.34s/it]"
          ]
        },
        {
          "name": "stdout",
          "output_type": "stream",
          "text": [
            "68\n",
            "Charging speed and efficiency/Positive/charged our Leaf very quickly\n",
            "82\n",
            "Location and Accessibility/Positive/located just to the SW, across from WhichWhich\n",
            "40\n",
            "Price and cost/Negative/pretty expensive\n",
            "50\n",
            "Compatibility and Connectivity/Positive/works well\n",
            "95\n",
            "Queue and waiting time/Neutral/even though it has the two ports, only one can be used at a time\n"
          ]
        },
        {
          "name": "stderr",
          "output_type": "stream",
          "text": [
            "\r 88%|████████▊ | 1308/1479 [39:55<03:48,  1.34s/it]"
          ]
        },
        {
          "name": "stdout",
          "output_type": "stream",
          "text": [
            "88\n",
            "ease of use/Positive/Easy to use even for an older female trying this for the first time\n",
            "29\n",
            "safety/Positive/safe location\n"
          ]
        },
        {
          "name": "stderr",
          "output_type": "stream",
          "text": [
            "\r 89%|████████▊ | 1309/1479 [39:56<03:04,  1.09s/it]"
          ]
        },
        {
          "name": "stdout",
          "output_type": "stream",
          "text": [
            "54\n",
            "Accessibility and Accessibility/Negative/not turned on\n"
          ]
        },
        {
          "name": "stderr",
          "output_type": "stream",
          "text": [
            "\r 89%|████████▊ | 1310/1479 [39:57<02:54,  1.03s/it]"
          ]
        },
        {
          "name": "stdout",
          "output_type": "stream",
          "text": [
            "101\n",
            "This review does not mention any specific aspects or provide any opinion terms or sentiment polarity.\n",
            "Error occurred: list index out of range\n"
          ]
        },
        {
          "name": "stderr",
          "output_type": "stream",
          "text": [
            "\r 89%|████████▊ | 1311/1479 [39:59<03:59,  1.43s/it]"
          ]
        },
        {
          "name": "stdout",
          "output_type": "stream",
          "text": [
            "204\n",
            "Accessibility and Amenities and Location/Positive/ChargePoint double J1772 EV charger in downtown Asheville, small fee to park in the garage, ChargePoint account, Both chargers were working as of 11-3-18.\n"
          ]
        },
        {
          "name": "stderr",
          "output_type": "stream",
          "text": [
            "\r 89%|████████▊ | 1312/1479 [40:00<03:37,  1.30s/it]"
          ]
        },
        {
          "name": "stdout",
          "output_type": "stream",
          "text": [
            "70\n",
            "reliability and maintenance/Negative/Only one charger was functioning.\n"
          ]
        },
        {
          "name": "stderr",
          "output_type": "stream",
          "text": [
            "\r 89%|████████▉ | 1313/1479 [40:01<03:10,  1.15s/it]"
          ]
        },
        {
          "name": "stdout",
          "output_type": "stream",
          "text": [
            "101\n",
            "This review does not mention any specific aspects or provide any opinion terms or sentiment polarity.\n",
            "Error occurred: list index out of range\n"
          ]
        },
        {
          "name": "stderr",
          "output_type": "stream",
          "text": [
            "\r 89%|████████▉ | 1314/1479 [40:04<04:25,  1.61s/it]"
          ]
        },
        {
          "name": "stdout",
          "output_type": "stream",
          "text": [
            "57\n",
            "Accessibility and Availability/Positive/usually available\n",
            "88\n",
            "Charging speed and efficiency/Positive/Maxes out at 3.1kwh per charger (6.2kwh for both)\n",
            "81\n",
            "Reliability and maintenance/Negative/One side has broken lock pin but still works\n",
            "85\n",
            "Ease of use/Positive/Requires ChargePoint app on your phone to start/stop lock/unlock\n"
          ]
        },
        {
          "name": "stderr",
          "output_type": "stream",
          "text": [
            "\r 89%|████████▉ | 1315/1479 [40:06<04:43,  1.73s/it]"
          ]
        },
        {
          "name": "stdout",
          "output_type": "stream",
          "text": [
            "96\n",
            "Accessibility and Availability/Negative/Only working \"fast\" charger in the Bismarck/Mandan area.\n"
          ]
        },
        {
          "name": "stderr",
          "output_type": "stream",
          "text": [
            "\r 89%|████████▉ | 1316/1479 [40:10<06:42,  2.47s/it]"
          ]
        },
        {
          "name": "stdout",
          "output_type": "stream",
          "text": [
            "77\n",
            "Accessibility and Location/Positive/Right off the highway, hardware/bait shop\n",
            "50\n",
            "Amenities and Location/Positive/hardware/bait shop\n",
            "41\n",
            "Compatibility and Connectivity/Neutral/NA\n",
            "40\n",
            "Charging speed and efficiency/Neutral/NA\n",
            "38\n",
            "Reliability and maintenance/Neutral/NA\n",
            "25\n",
            "Price and cost/Neutral/NA\n",
            "33\n",
            "Queue and waiting time/Neutral/NA\n",
            "27\n",
            "Customer service/Neutral/NA\n",
            "22\n",
            "Ease of use/Neutral/NA\n",
            "25\n",
            "Payment option/Neutral/NA\n",
            "25\n",
            "User interface/Neutral/NA\n",
            "21\n",
            "Mobile app/Neutral/NA\n"
          ]
        },
        {
          "name": "stderr",
          "output_type": "stream",
          "text": [
            "\r 89%|████████▉ | 1317/1479 [40:12<06:25,  2.38s/it]"
          ]
        },
        {
          "name": "stdout",
          "output_type": "stream",
          "text": [
            "88\n",
            "Accessibility and Accessibility/Negative/Not a public station and is on private property\n",
            "127\n",
            "Customer service/Negative/I asked them a year ago to reclassify it after trying and failing to use it in an emergency situation\n",
            "81\n",
            "Compatibility and Connectivity/Negative/It is time-of-use AND pass code protected\n"
          ]
        },
        {
          "name": "stderr",
          "output_type": "stream",
          "text": [
            " 89%|████████▉ | 1319/1479 [40:17<07:05,  2.66s/it]"
          ]
        },
        {
          "name": "stdout",
          "output_type": "stream",
          "text": [
            "189\n",
            "Accessibility and Amenities and Location/Positive/food and beverage amenities are abundant, Lots of options within reasonable walking distance in a safe, small town, downtown district area.\n",
            "140\n",
            "Reliability and Maintenance/Positive/the most reliable Electrify America (EA) location that I've encountered, the chargers worked every time\n",
            "93\n",
            "Compatibility and Connectivity/Negative/limited approach angles and limited maneuvering space\n",
            "116\n",
            "Queue and Waiting Time/Negative/challenging to back in when the area is busy and the lot is full of ICE cars and EVs\n",
            "56\n",
            "Safety/Positive/safe, small town, downtown district area\n",
            "42\n",
            "User Interface/Neutral/no specific mention\n",
            "38\n",
            "Mobile App/Neutral/no specific mention\n"
          ]
        },
        {
          "name": "stderr",
          "output_type": "stream",
          "text": [
            "\r 89%|████████▉ | 1320/1479 [40:19<06:10,  2.33s/it]"
          ]
        },
        {
          "name": "stdout",
          "output_type": "stream",
          "text": [
            "86\n",
            "Accessibility and Location/Positive/good location and seems safe in a bank parking lot\n",
            "107\n",
            "Price and Cost/Positive/Rates are pretty good with the membership at about 50% the price of gas equivalent.\n"
          ]
        },
        {
          "name": "stderr",
          "output_type": "stream",
          "text": [
            "\r 89%|████████▉ | 1321/1479 [40:20<05:03,  1.92s/it]"
          ]
        },
        {
          "name": "stdout",
          "output_type": "stream",
          "text": [
            "97\n",
            "Safety/Positive/Feels safe here on a Tuesday night, no creeps around. Chargers are all operative.\n"
          ]
        },
        {
          "name": "stderr",
          "output_type": "stream",
          "text": [
            "\r 89%|████████▉ | 1322/1479 [40:21<04:37,  1.77s/it]"
          ]
        },
        {
          "name": "stdout",
          "output_type": "stream",
          "text": [
            "178\n",
            "Accessibility and Amenities and Location/Positive/All four stations available, shady spot in afternoon, walkable neighborhood and easy to start charge via EA app on Android Auto.\n"
          ]
        },
        {
          "name": "stderr",
          "output_type": "stream",
          "text": [
            "\r 89%|████████▉ | 1323/1479 [40:21<03:37,  1.40s/it]"
          ]
        },
        {
          "name": "stdout",
          "output_type": "stream",
          "text": [
            "52\n",
            "Accessibility and Accessibility/Positive/open 24 hrs\n"
          ]
        },
        {
          "name": "stderr",
          "output_type": "stream",
          "text": [
            "\r 90%|████████▉ | 1324/1479 [40:22<03:03,  1.19s/it]"
          ]
        },
        {
          "name": "stdout",
          "output_type": "stream",
          "text": [
            "67\n",
            "This review does not mention any specific aspects or opinion terms.\n",
            "Error occurred: list index out of range\n"
          ]
        },
        {
          "name": "stderr",
          "output_type": "stream",
          "text": [
            "\r 90%|████████▉ | 1325/1479 [40:24<03:26,  1.34s/it]"
          ]
        },
        {
          "name": "stdout",
          "output_type": "stream",
          "text": [
            "97\n",
            "Accessibility and Accessibility/Negative/3/4 charging station can't initiate the charging session\n",
            "116\n",
            "Amenities and location/Positive/Next to Walmart so it is super convenient for restrooms and refill snacks and water.\n"
          ]
        },
        {
          "name": "stderr",
          "output_type": "stream",
          "text": [
            "\r 90%|████████▉ | 1326/1479 [40:25<03:10,  1.25s/it]"
          ]
        },
        {
          "name": "stdout",
          "output_type": "stream",
          "text": [
            "61\n",
            "Charging speed and efficiency/Positive/Fast around 140-150 kW\n"
          ]
        },
        {
          "name": "stderr",
          "output_type": "stream",
          "text": [
            "\r 90%|████████▉ | 1327/1479 [40:25<02:38,  1.04s/it]"
          ]
        },
        {
          "name": "stdout",
          "output_type": "stream",
          "text": [
            "54\n",
            "Accessibility and Location/Neutral/WalMart Parking lot\n"
          ]
        },
        {
          "name": "stderr",
          "output_type": "stream",
          "text": [
            "\r 90%|████████▉ | 1328/1479 [40:29<04:24,  1.75s/it]"
          ]
        },
        {
          "name": "stdout",
          "output_type": "stream",
          "text": [
            "463\n",
            "Accessibility and Location/Negative/challenge to locate these chargers, nearly got directed to the freeway, chargers listed with silly names for identification purposes, only one of the 4 machines has a name listed on the actual unit, trial and error attempting to determine which charger I was actually parked in front of, parking lot was flooded almost entirely and tricky to navigate around it to the chargers, chargers were also ponding about 3-4 inches deep.\n"
          ]
        },
        {
          "name": "stderr",
          "output_type": "stream",
          "text": [
            "\r 90%|████████▉ | 1329/1479 [40:31<04:24,  1.76s/it]"
          ]
        },
        {
          "name": "stdout",
          "output_type": "stream",
          "text": [
            "181\n",
            "Accessibility and Amenities and Location/Negative/often has 1-2 of the chargers down, Nowhere to really walk the dog, no shade, Small restaurant in the parking lot, food is alright.\n"
          ]
        },
        {
          "name": "stderr",
          "output_type": "stream",
          "text": [
            "\r 90%|████████▉ | 1330/1479 [40:31<03:22,  1.36s/it]"
          ]
        },
        {
          "name": "stdout",
          "output_type": "stream",
          "text": [
            "57\n",
            "Compatibility and Connectivity/Positive/Quick easy charge\n"
          ]
        },
        {
          "name": "stderr",
          "output_type": "stream",
          "text": [
            "\r 90%|████████▉ | 1331/1479 [40:33<03:50,  1.56s/it]"
          ]
        },
        {
          "name": "stdout",
          "output_type": "stream",
          "text": [
            "251\n",
            "Accessibility and Amenities and Location/Positive/Many stations available to charge and a very secured place. It's in Walmart parking lot and also has CircleK gas station at 30 ft away, you can either walk to Walmart Supercenter or to the gas station.\n"
          ]
        },
        {
          "name": "stderr",
          "output_type": "stream",
          "text": [
            "\r 90%|█████████ | 1332/1479 [40:35<04:06,  1.68s/it]"
          ]
        },
        {
          "name": "stdout",
          "output_type": "stream",
          "text": [
            "63\n",
            "reliability and maintenance/Negative/Chargers work sporadically\n",
            "38\n",
            "safety/Negative/Area doesn't feel safe\n",
            "143\n",
            "Compatibility and Connectivity/Neutral/Electrify America should add charges in other parts of Charlotte that have more potential for customers.\n"
          ]
        },
        {
          "name": "stderr",
          "output_type": "stream",
          "text": [
            "\r 90%|█████████ | 1333/1479 [40:39<05:43,  2.36s/it]"
          ]
        },
        {
          "name": "stdout",
          "output_type": "stream",
          "text": [
            "184\n",
            "Charging speed and efficiency/Negative/One of the 350 kWh plugs didn't work, Charging speeds vary on weather and the time you're there but that is expected, the interface is super slow\n",
            "128\n",
            "Customer service/Positive/Customer service on the phone are pretty good and answer quickly if you want to report broken chargers\n",
            "137\n",
            "User interface/Neutral/The interface was upgraded to be quicker but still not the best and there's some lag to start the charging session\n",
            "91\n",
            "Charging speed and efficiency/Neutral/The 150 kWh and the 350 kWh charger at the same speed\n"
          ]
        },
        {
          "name": "stderr",
          "output_type": "stream",
          "text": [
            "\r 90%|█████████ | 1334/1479 [40:40<04:29,  1.86s/it]"
          ]
        },
        {
          "name": "stdout",
          "output_type": "stream",
          "text": [
            "65\n",
            "reliability and maintenance/Negative/Chargers only work sometimes\n",
            "30\n",
            "location/Negative/Sketchy area\n"
          ]
        },
        {
          "name": "stderr",
          "output_type": "stream",
          "text": [
            "\r 90%|█████████ | 1335/1479 [40:53<12:30,  5.21s/it]"
          ]
        },
        {
          "name": "stdout",
          "output_type": "stream",
          "text": [
            "100\n",
            "Accessibility and Accessibility/Positive/charger 3 was complimentary, charger 1 and 10 were disabled\n",
            "367\n",
            "Review 13: [The charging station is located in a convenient area with plenty of parking. The user interface on the charger and the mobile app are both easy to use. The charging speed is fast and efficient. The customer service is excellent and responsive. The payment options are convenient with debit and credit cards accepted. Overall, a great charging experience.]\n",
            "Error occurred: list index out of range\n"
          ]
        },
        {
          "name": "stderr",
          "output_type": "stream",
          "text": [
            "\r 90%|█████████ | 1336/1479 [40:54<09:30,  3.99s/it]"
          ]
        },
        {
          "name": "stdout",
          "output_type": "stream",
          "text": [
            "116\n",
            "Accessibility and Accessibility/Negative/parking fee set by the property owner increases from $0.00/min to $0.10/min\n"
          ]
        },
        {
          "name": "stderr",
          "output_type": "stream",
          "text": [
            "\r 90%|█████████ | 1337/1479 [40:55<07:06,  3.01s/it]"
          ]
        },
        {
          "name": "stdout",
          "output_type": "stream",
          "text": [
            "75\n",
            "Accessibility and Location/Positive/Conveniently located in BP parking lot.\n"
          ]
        },
        {
          "name": "stderr",
          "output_type": "stream",
          "text": [
            "\r 90%|█████████ | 1338/1479 [40:55<05:23,  2.30s/it]"
          ]
        },
        {
          "name": "stdout",
          "output_type": "stream",
          "text": [
            "55\n",
            "reliability and maintenance/Negative/Neither ports work\n"
          ]
        },
        {
          "name": "stderr",
          "output_type": "stream",
          "text": [
            "\r 91%|█████████ | 1339/1479 [40:56<04:16,  1.83s/it]"
          ]
        },
        {
          "name": "stdout",
          "output_type": "stream",
          "text": [
            "78\n",
            "reliability and maintenance/Negative/One of the charging cables is not working\n"
          ]
        },
        {
          "name": "stderr",
          "output_type": "stream",
          "text": [
            "\r 91%|█████████ | 1340/1479 [40:57<03:31,  1.52s/it]"
          ]
        },
        {
          "name": "stdout",
          "output_type": "stream",
          "text": [
            "101\n",
            "This review does not mention any specific aspects or provide any opinion terms or sentiment polarity.\n",
            "Error occurred: list index out of range\n"
          ]
        },
        {
          "name": "stderr",
          "output_type": "stream",
          "text": [
            "\r 91%|█████████ | 1341/1479 [40:58<02:58,  1.29s/it]"
          ]
        },
        {
          "name": "stdout",
          "output_type": "stream",
          "text": [
            "80\n",
            "Accessibility and Amenities and Location/Positive/great coffee place, university\n"
          ]
        },
        {
          "name": "stderr",
          "output_type": "stream",
          "text": [
            "\r 91%|█████████ | 1342/1479 [40:59<02:46,  1.22s/it]"
          ]
        },
        {
          "name": "stdout",
          "output_type": "stream",
          "text": [
            "110\n",
            "Amenities and Location/Positive/Decent spots to grab a bite while you charge or stretch your legs in the park.\n"
          ]
        },
        {
          "name": "stderr",
          "output_type": "stream",
          "text": [
            "\r 91%|█████████ | 1343/1479 [41:08<08:07,  3.59s/it]"
          ]
        },
        {
          "name": "stdout",
          "output_type": "stream",
          "text": [
            "53\n",
            "Amenities and Location/Positive/Poppy's (coffee shop)\n",
            "308\n",
            "Review 13: [The charging station is conveniently located near a shopping center with plenty of dining options. The charging process was smooth and the user interface was easy to navigate. However, the charging speed was a bit slow compared to other stations I've used. Overall, a decent charging experience.]\n",
            "Error occurred: list index out of range\n"
          ]
        },
        {
          "name": "stderr",
          "output_type": "stream",
          "text": [
            "\r 91%|█████████ | 1344/1479 [41:09<06:27,  2.87s/it]"
          ]
        },
        {
          "name": "stdout",
          "output_type": "stream",
          "text": [
            "55\n",
            "Amenities and Location/Positive/Courtside bar and Grill\n",
            "67\n",
            "Accessibility and Accessibility/Positive/100 feet from the chargers\n"
          ]
        },
        {
          "name": "stderr",
          "output_type": "stream",
          "text": [
            "\r 91%|█████████ | 1345/1479 [41:10<04:59,  2.23s/it]"
          ]
        },
        {
          "name": "stdout",
          "output_type": "stream",
          "text": [
            "97\n",
            "Accessibility and Location/Positive/Easy parking and great layover stop coming down from Columbus\n"
          ]
        },
        {
          "name": "stderr",
          "output_type": "stream",
          "text": [
            "\r 91%|█████████ | 1346/1479 [41:10<03:55,  1.77s/it]"
          ]
        },
        {
          "name": "stdout",
          "output_type": "stream",
          "text": [
            "62\n",
            "Charging speed and efficiency/Positive/Charged my Bolt quickly\n"
          ]
        },
        {
          "name": "stderr",
          "output_type": "stream",
          "text": [
            "\r 91%|█████████ | 1347/1479 [41:11<03:15,  1.48s/it]"
          ]
        },
        {
          "name": "stdout",
          "output_type": "stream",
          "text": [
            "63\n",
            "Charging speed and efficiency/Negative/Slooooow charging 4.8 kw\n"
          ]
        },
        {
          "name": "stderr",
          "output_type": "stream",
          "text": [
            "\r 91%|█████████ | 1348/1479 [41:12<02:35,  1.18s/it]"
          ]
        },
        {
          "name": "stdout",
          "output_type": "stream",
          "text": [
            "41\n",
            "Location/Neutral/in front of the showroom\n"
          ]
        },
        {
          "name": "stderr",
          "output_type": "stream",
          "text": [
            "\r 91%|█████████ | 1349/1479 [41:12<02:10,  1.00s/it]"
          ]
        },
        {
          "name": "stdout",
          "output_type": "stream",
          "text": [
            "57\n",
            "Accessibility and Location/Neutral/McDonald's parking lot\n"
          ]
        },
        {
          "name": "stderr",
          "output_type": "stream",
          "text": [
            "\r 91%|█████████▏| 1350/1479 [41:13<02:02,  1.05it/s]"
          ]
        },
        {
          "name": "stdout",
          "output_type": "stream",
          "text": [
            "108\n",
            "This review does not provide enough information to classify and extract aspect terms and sentiment polarity.\n",
            "Error occurred: list index out of range\n"
          ]
        },
        {
          "name": "stderr",
          "output_type": "stream",
          "text": [
            "\r 91%|█████████▏| 1351/1479 [50:16<5:49:02, 163.61s/it]"
          ]
        },
        {
          "name": "stdout",
          "output_type": "stream",
          "text": [
            "Error occurred: HTTP code 502 from API (<html>\r\n",
            "<head><title>502 Bad Gateway</title></head>\r\n",
            "<body>\r\n",
            "<center><h1>502 Bad Gateway</h1></center>\r\n",
            "<hr><center>cloudflare</center>\r\n",
            "</body>\r\n",
            "</html>\r\n",
            ")\n"
          ]
        },
        {
          "name": "stderr",
          "output_type": "stream",
          "text": [
            "\r 91%|█████████▏| 1352/1479 [50:18<4:03:14, 114.92s/it]"
          ]
        },
        {
          "name": "stdout",
          "output_type": "stream",
          "text": [
            "113\n",
            "Amenities and location/Positive/Great little area to charge and if you like little shops there are plenty around.\n"
          ]
        },
        {
          "name": "stderr",
          "output_type": "stream",
          "text": [
            "\r 91%|█████████▏| 1353/1479 [50:18<2:49:25, 80.67s/it] "
          ]
        },
        {
          "name": "stdout",
          "output_type": "stream",
          "text": [
            "76\n",
            "Accessibility and Accessibility/Negative/not designated as \"EV Parking Only\"\n"
          ]
        },
        {
          "name": "stderr",
          "output_type": "stream",
          "text": [
            "\r 92%|█████████▏| 1354/1479 [50:19<1:58:04, 56.68s/it]"
          ]
        },
        {
          "name": "stdout",
          "output_type": "stream",
          "text": [
            "65\n",
            "Availability and Accessibility/Positive/Usually a space available\n"
          ]
        },
        {
          "name": "stderr",
          "output_type": "stream",
          "text": [
            "\r 92%|█████████▏| 1355/1479 [50:22<1:23:37, 40.46s/it]"
          ]
        },
        {
          "name": "stdout",
          "output_type": "stream",
          "text": [
            "295\n",
            "Compatibility and Connectivity/Negative/Only one CHAdeMO charger vs I think 7 CCS, the cord wasn't very long, I had to leave my car sticking out to plug in, and tap-and-pay was broken. Also didn't take Discover despite saying it did. Unfortunately it's the only CHAdeMO charger anywhere nearby 😑\n"
          ]
        },
        {
          "name": "stderr",
          "output_type": "stream",
          "text": [
            "\r 92%|█████████▏| 1356/1479 [50:22<58:36, 28.59s/it]  "
          ]
        },
        {
          "name": "stdout",
          "output_type": "stream",
          "text": [
            "83\n",
            "Compatibility and Connectivity/Negative/CCS chargers work, but the CHAdemo does not\n"
          ]
        },
        {
          "name": "stderr",
          "output_type": "stream",
          "text": [
            "\r 92%|█████████▏| 1357/1479 [50:23<41:06, 20.21s/it]"
          ]
        },
        {
          "name": "stdout",
          "output_type": "stream",
          "text": [
            "58\n",
            "Charging speed and efficiency/Positive/Better than nothing\n"
          ]
        },
        {
          "name": "stderr",
          "output_type": "stream",
          "text": [
            "\r 92%|█████████▏| 1358/1479 [50:24<29:03, 14.41s/it]"
          ]
        },
        {
          "name": "stdout",
          "output_type": "stream",
          "text": [
            "91\n",
            "Accessibility and Location/Positive/Logan and beyond, Bear Lake, a few eating places around\n"
          ]
        },
        {
          "name": "stderr",
          "output_type": "stream",
          "text": [
            "\r 92%|█████████▏| 1359/1479 [50:25<20:36, 10.31s/it]"
          ]
        },
        {
          "name": "stdout",
          "output_type": "stream",
          "text": [
            "60\n",
            "Accessibility and Location/Negative/Location is not accurate\n"
          ]
        },
        {
          "name": "stderr",
          "output_type": "stream",
          "text": [
            "\r 92%|█████████▏| 1360/1479 [50:26<14:52,  7.50s/it]"
          ]
        },
        {
          "name": "stdout",
          "output_type": "stream",
          "text": [
            "113\n",
            "Accessibility and Location/Negative/Parking is blocked off by either customers or vehicles waiting to be serviced\n"
          ]
        },
        {
          "name": "stderr",
          "output_type": "stream",
          "text": [
            "\r 92%|█████████▏| 1361/1479 [50:26<10:45,  5.47s/it]"
          ]
        },
        {
          "name": "stdout",
          "output_type": "stream",
          "text": [
            "32\n",
            "Summary: Privately owned charger\n",
            "Error occurred: list index out of range\n"
          ]
        },
        {
          "name": "stderr",
          "output_type": "stream",
          "text": [
            "\r 92%|█████████▏| 1362/1479 [50:27<08:02,  4.12s/it]"
          ]
        },
        {
          "name": "stdout",
          "output_type": "stream",
          "text": [
            "120\n",
            "Accessibility and Amenities and Location/Positive/best charging station north of SLC, free, Many thanks to Young Hyundai\n"
          ]
        },
        {
          "name": "stderr",
          "output_type": "stream",
          "text": [
            "\r 92%|█████████▏| 1363/1479 [50:29<06:17,  3.25s/it]"
          ]
        },
        {
          "name": "stdout",
          "output_type": "stream",
          "text": [
            "102\n",
            "Charging speed and efficiency/Positive/It took about an hour to charge from 25-80% for my Kia Niro EV.\n"
          ]
        },
        {
          "name": "stderr",
          "output_type": "stream",
          "text": [
            "\r 92%|█████████▏| 1364/1479 [50:29<04:50,  2.52s/it]"
          ]
        },
        {
          "name": "stdout",
          "output_type": "stream",
          "text": [
            "56\n",
            "Compatibility and Connectivity/Positive/CCS worked great\n",
            "59\n",
            "Amenities and Location/Positive/Appreciate the free charger\n"
          ]
        },
        {
          "name": "stderr",
          "output_type": "stream",
          "text": [
            "\r 92%|█████████▏| 1365/1479 [50:30<03:38,  1.92s/it]"
          ]
        },
        {
          "name": "stdout",
          "output_type": "stream",
          "text": [
            "48\n",
            "charging speed and efficiency/Neutral/half speed\n"
          ]
        },
        {
          "name": "stderr",
          "output_type": "stream",
          "text": [
            "\r 92%|█████████▏| 1366/1479 [50:41<08:43,  4.63s/it]"
          ]
        },
        {
          "name": "stdout",
          "output_type": "stream",
          "text": [
            "30\n",
            "Aspect: Amenities and Location\n",
            "Error occurred: list index out of range\n"
          ]
        },
        {
          "name": "stderr",
          "output_type": "stream",
          "text": [
            "\r 92%|█████████▏| 1367/1479 [50:42<06:23,  3.43s/it]"
          ]
        },
        {
          "name": "stdout",
          "output_type": "stream",
          "text": [
            "77\n",
            "Accessibility and Availability/Negative/The charger is seemingly non existent\n"
          ]
        },
        {
          "name": "stderr",
          "output_type": "stream",
          "text": [
            "\r 92%|█████████▏| 1368/1479 [50:42<04:51,  2.63s/it]"
          ]
        },
        {
          "name": "stdout",
          "output_type": "stream",
          "text": [
            "56\n",
            "Compatibility and Connectivity/Negative/Would not charge\n"
          ]
        },
        {
          "name": "stderr",
          "output_type": "stream",
          "text": [
            "\r 93%|█████████▎| 1369/1479 [50:49<07:07,  3.89s/it]"
          ]
        },
        {
          "name": "stdout",
          "output_type": "stream",
          "text": [
            "133\n",
            "reliability and maintenance/Negative/stall #1 (100183-01) is not working, stall #4 gave me an error, 50% of the stalls currently work\n",
            "92\n",
            "ease of use/Negative/the screen instructs you to plug in even though stall #1 is not working\n",
            "75\n",
            "customer service/Negative/Electrify America really needs to get it together\n"
          ]
        },
        {
          "name": "stderr",
          "output_type": "stream",
          "text": [
            "\r 93%|█████████▎| 1370/1479 [50:50<05:31,  3.04s/it]"
          ]
        },
        {
          "name": "stdout",
          "output_type": "stream",
          "text": [
            "131\n",
            "Accessibility and Accessibility/Negative/only station 01 works, surrounded by a bunch of trailers and storage units, hard to get in\n"
          ]
        },
        {
          "name": "stderr",
          "output_type": "stream",
          "text": [
            "\r 93%|█████████▎| 1371/1479 [50:51<04:12,  2.34s/it]"
          ]
        },
        {
          "name": "stdout",
          "output_type": "stream",
          "text": [
            "68\n",
            "reliability and maintenance/Negative/2 errors on different terminals\n"
          ]
        },
        {
          "name": "stderr",
          "output_type": "stream",
          "text": [
            "\r 93%|█████████▎| 1372/1479 [50:52<03:16,  1.84s/it]"
          ]
        },
        {
          "name": "stdout",
          "output_type": "stream",
          "text": [
            "73\n",
            "reliability and maintenance/Negative/Two stations are working out of four\n"
          ]
        },
        {
          "name": "stderr",
          "output_type": "stream",
          "text": [
            "\r 93%|█████████▎| 1373/1479 [50:52<02:32,  1.43s/it]"
          ]
        },
        {
          "name": "stdout",
          "output_type": "stream",
          "text": [
            "60\n",
            "customer service/Positive/Very nice folks. They were helpful\n"
          ]
        },
        {
          "name": "stderr",
          "output_type": "stream",
          "text": [
            "\r 93%|█████████▎| 1374/1479 [50:53<02:04,  1.19s/it]"
          ]
        },
        {
          "name": "stdout",
          "output_type": "stream",
          "text": [
            "47\n",
            "price and cost/Negative/more expensive than gas\n"
          ]
        },
        {
          "name": "stderr",
          "output_type": "stream",
          "text": [
            "\r 93%|█████████▎| 1375/1479 [50:54<01:57,  1.13s/it]"
          ]
        },
        {
          "name": "stdout",
          "output_type": "stream",
          "text": [
            "69\n",
            "Charging speed and efficiency/Negative/only charges at half the speed\n",
            "41\n",
            "Price and cost/Negative/highly overpriced\n"
          ]
        },
        {
          "name": "stderr",
          "output_type": "stream",
          "text": [
            "\r 93%|█████████▎| 1376/1479 [50:54<01:41,  1.02it/s]"
          ]
        },
        {
          "name": "stdout",
          "output_type": "stream",
          "text": [
            "70\n",
            "Accessibility and Amenities and Location/Negative/roofing or something\n"
          ]
        },
        {
          "name": "stderr",
          "output_type": "stream",
          "text": [
            "\r 93%|█████████▎| 1377/1479 [50:55<01:43,  1.02s/it]"
          ]
        },
        {
          "name": "stdout",
          "output_type": "stream",
          "text": [
            "109\n",
            "reliability and maintenance/Negative/A tech was working on #1 while we were there, but he did not look happy.\n"
          ]
        },
        {
          "name": "stderr",
          "output_type": "stream",
          "text": [
            "\r 93%|█████████▎| 1378/1479 [50:56<01:35,  1.06it/s]"
          ]
        },
        {
          "name": "stdout",
          "output_type": "stream",
          "text": [
            "62\n",
            "reliability and maintenance/Negative/Only 1/4 chargers working\n"
          ]
        },
        {
          "name": "stderr",
          "output_type": "stream",
          "text": [
            "\r 93%|█████████▎| 1379/1479 [50:57<01:32,  1.08it/s]"
          ]
        },
        {
          "name": "stdout",
          "output_type": "stream",
          "text": [
            "100\n",
            "reliability and maintenance/Negative/none of these work despite the EA app saying some are available\n"
          ]
        },
        {
          "name": "stderr",
          "output_type": "stream",
          "text": [
            "\r 93%|█████████▎| 1380/1479 [50:58<01:22,  1.21it/s]"
          ]
        },
        {
          "name": "stdout",
          "output_type": "stream",
          "text": [
            "59\n",
            "reliability and maintenance/Negative/only one charger works\n"
          ]
        },
        {
          "name": "stderr",
          "output_type": "stream",
          "text": [
            "\r 93%|█████████▎| 1381/1479 [51:01<02:31,  1.55s/it]"
          ]
        },
        {
          "name": "stdout",
          "output_type": "stream",
          "text": [
            "118\n",
            "reliability and maintenance/Negative/How are people supposed to have EV when they can't trust your network of chargers\n",
            "142\n",
            "customer service/Negative/Is it too much to ask that your chargers work, at least one, and not having to call your helpless support every time\n"
          ]
        },
        {
          "name": "stderr",
          "output_type": "stream",
          "text": [
            "\r 93%|█████████▎| 1382/1479 [51:04<03:09,  1.95s/it]"
          ]
        },
        {
          "name": "stdout",
          "output_type": "stream",
          "text": [
            "298\n",
            "Accessibility and Availability/Negative/CHAdeMO charger was not function (as were three of the CCS chargers), EA operator suggested it was an unknown error but it would be 24 hours to have someone correct, They exhibit no commitment to reliable Accessibility+Availability, They clearly do not care.\n"
          ]
        },
        {
          "name": "stderr",
          "output_type": "stream",
          "text": [
            "\r 94%|█████████▎| 1383/1479 [51:04<02:29,  1.55s/it]"
          ]
        },
        {
          "name": "stdout",
          "output_type": "stream",
          "text": [
            "63\n",
            "Charging speed and efficiency/Negative/not charging up to speed\n"
          ]
        },
        {
          "name": "stderr",
          "output_type": "stream",
          "text": [
            "\r 94%|█████████▎| 1384/1479 [51:06<02:37,  1.66s/it]"
          ]
        },
        {
          "name": "stdout",
          "output_type": "stream",
          "text": [
            "40\n",
            "Amenities and Location/Positive/Wal mart\n",
            "53\n",
            "Accessibility and Accessibility/Positive/simple setup\n",
            "115\n",
            "Queue and Waiting Time/Positive/Nice being able to walk in Wal mart and grab a snack and get right back on the road\n"
          ]
        },
        {
          "name": "stderr",
          "output_type": "stream",
          "text": [
            "\r 94%|█████████▎| 1385/1479 [51:07<02:14,  1.43s/it]"
          ]
        },
        {
          "name": "stdout",
          "output_type": "stream",
          "text": [
            "90\n",
            "Accessibility and Amenities and Location/Positive/the ability to charge electric cars here\n"
          ]
        },
        {
          "name": "stderr",
          "output_type": "stream",
          "text": [
            "\r 94%|█████████▎| 1386/1479 [51:08<02:02,  1.32s/it]"
          ]
        },
        {
          "name": "stdout",
          "output_type": "stream",
          "text": [
            "78\n",
            "Charging speed and efficiency/Positive/Station 4 (350kwh) has a max of 230 kwh\n"
          ]
        },
        {
          "name": "stderr",
          "output_type": "stream",
          "text": [
            "\r 94%|█████████▍| 1387/1479 [51:09<01:47,  1.17s/it]"
          ]
        },
        {
          "name": "stdout",
          "output_type": "stream",
          "text": [
            "88\n",
            "Amenities and Location/Positive/Nice and clean EV chargers with plenty of parking spaces\n"
          ]
        },
        {
          "name": "stderr",
          "output_type": "stream",
          "text": [
            "\r 94%|█████████▍| 1388/1479 [51:10<01:32,  1.02s/it]"
          ]
        },
        {
          "name": "stdout",
          "output_type": "stream",
          "text": [
            "78\n",
            "Availability and Accessibility/Positive/very much available to non-Nissan cars\n"
          ]
        },
        {
          "name": "stderr",
          "output_type": "stream",
          "text": [
            "\r 94%|█████████▍| 1389/1479 [51:10<01:19,  1.13it/s]"
          ]
        },
        {
          "name": "stdout",
          "output_type": "stream",
          "text": [
            "58\n",
            "customer service/Positive/great customer service and staff\n"
          ]
        },
        {
          "name": "stderr",
          "output_type": "stream",
          "text": [
            "\r 94%|█████████▍| 1390/1479 [51:11<01:12,  1.23it/s]"
          ]
        },
        {
          "name": "stdout",
          "output_type": "stream",
          "text": [
            "52\n",
            "Customer service/Positive/The car salesman was great\n"
          ]
        },
        {
          "name": "stderr",
          "output_type": "stream",
          "text": [
            "\r 94%|█████████▍| 1391/1479 [51:12<01:09,  1.27it/s]"
          ]
        },
        {
          "name": "stdout",
          "output_type": "stream",
          "text": [
            "81\n",
            "Accessibility and Availability/Positive/The charging station was on and available\n"
          ]
        },
        {
          "name": "stderr",
          "output_type": "stream",
          "text": [
            "\r 94%|█████████▍| 1392/1479 [51:13<01:15,  1.15it/s]"
          ]
        },
        {
          "name": "stdout",
          "output_type": "stream",
          "text": [
            "27\n",
            "Overall sentiment: Positive\n",
            "Error occurred: list index out of range\n"
          ]
        },
        {
          "name": "stderr",
          "output_type": "stream",
          "text": [
            "\r 94%|█████████▍| 1393/1479 [51:13<01:01,  1.39it/s]"
          ]
        },
        {
          "name": "stdout",
          "output_type": "stream",
          "text": [
            "27\n",
            "Safety/Negative/no lighting\n"
          ]
        },
        {
          "name": "stderr",
          "output_type": "stream",
          "text": [
            "\r 94%|█████████▍| 1394/1479 [51:14<01:02,  1.36it/s]"
          ]
        },
        {
          "name": "stdout",
          "output_type": "stream",
          "text": [
            "76\n",
            "Location and Amenities/Positive/boardwalk, pier, coffee shop and restaurants\n"
          ]
        },
        {
          "name": "stderr",
          "output_type": "stream",
          "text": [
            "\r 94%|█████████▍| 1395/1479 [51:15<01:05,  1.28it/s]"
          ]
        },
        {
          "name": "stdout",
          "output_type": "stream",
          "text": [
            "106\n",
            "Accessibility and Amenities and location/Positive/very convenient, go grab something to eat or go shopping\n"
          ]
        },
        {
          "name": "stderr",
          "output_type": "stream",
          "text": [
            "\r 94%|█████████▍| 1396/1479 [51:15<00:58,  1.42it/s]"
          ]
        },
        {
          "name": "stdout",
          "output_type": "stream",
          "text": [
            "55\n",
            "Accessibility and Location/Positive/Convenient location\n"
          ]
        },
        {
          "name": "stderr",
          "output_type": "stream",
          "text": [
            "\r 94%|█████████▍| 1397/1479 [51:17<01:19,  1.04it/s]"
          ]
        },
        {
          "name": "stdout",
          "output_type": "stream",
          "text": [
            "78\n",
            "reliability and maintenance/Positive/Both are working as of October 22nd, 2020\n"
          ]
        },
        {
          "name": "stderr",
          "output_type": "stream",
          "text": [
            "\r 95%|█████████▍| 1398/1479 [51:18<01:25,  1.05s/it]"
          ]
        },
        {
          "name": "stdout",
          "output_type": "stream",
          "text": [
            "66\n",
            "reliability and maintenance/Negative/Doesn't work. Offline/broken.\n"
          ]
        },
        {
          "name": "stderr",
          "output_type": "stream",
          "text": [
            "\r 95%|█████████▍| 1399/1479 [51:19<01:16,  1.04it/s]"
          ]
        },
        {
          "name": "stdout",
          "output_type": "stream",
          "text": [
            "90\n",
            "Accessibility and Availability/Negative/only two chargers, easily fills up during weekdays\n"
          ]
        },
        {
          "name": "stderr",
          "output_type": "stream",
          "text": [
            "\r 95%|█████████▍| 1400/1479 [51:20<01:08,  1.16it/s]"
          ]
        },
        {
          "name": "stdout",
          "output_type": "stream",
          "text": [
            "62\n",
            "Charging speed and efficiency/Negative/Slow, terrible charging\n"
          ]
        },
        {
          "name": "stderr",
          "output_type": "stream",
          "text": [
            "\r 95%|█████████▍| 1401/1479 [51:20<01:05,  1.20it/s]"
          ]
        },
        {
          "name": "stdout",
          "output_type": "stream",
          "text": [
            "60\n",
            "Charging speed and efficiency/Positive/fast charging station\n"
          ]
        },
        {
          "name": "stderr",
          "output_type": "stream",
          "text": [
            "\r 95%|█████████▍| 1402/1479 [51:21<01:06,  1.15it/s]"
          ]
        },
        {
          "name": "stdout",
          "output_type": "stream",
          "text": [
            "51\n",
            "Compatibility and Connectivity/Positive/found these\n",
            "71\n",
            "Accessibility and Accessibility/Positive/put some around the rest stops\n"
          ]
        },
        {
          "name": "stderr",
          "output_type": "stream",
          "text": [
            "\r 95%|█████████▍| 1403/1479 [51:22<01:05,  1.16it/s]"
          ]
        },
        {
          "name": "stdout",
          "output_type": "stream",
          "text": [
            "88\n",
            "reliability and maintenance/Negative/The two high-powered EVgo chargers were not working\n"
          ]
        },
        {
          "name": "stderr",
          "output_type": "stream",
          "text": [
            "\r 95%|█████████▍| 1404/1479 [51:23<01:08,  1.10it/s]"
          ]
        },
        {
          "name": "stdout",
          "output_type": "stream",
          "text": [
            "56\n",
            "reliability and maintenance/Negative/One charger is down\n",
            "52\n",
            "queue and waiting time/Negative/far too few chargers\n"
          ]
        },
        {
          "name": "stderr",
          "output_type": "stream",
          "text": [
            "\r 95%|█████████▍| 1405/1479 [51:24<01:02,  1.18it/s]"
          ]
        },
        {
          "name": "stdout",
          "output_type": "stream",
          "text": [
            "85\n",
            "Accessibility and Location/Positive/BOA and nice food options within walking distance\n"
          ]
        },
        {
          "name": "stderr",
          "output_type": "stream",
          "text": [
            "\r 95%|█████████▌| 1406/1479 [51:26<01:23,  1.14s/it]"
          ]
        },
        {
          "name": "stdout",
          "output_type": "stream",
          "text": [
            "89\n",
            "Charging speed and efficiency/Positive/Worked perfectly, got above 200kW flow through 80%\n",
            "53\n",
            "Location/Positive/Good location right off the highway\n",
            "95\n",
            "Compatibility and Connectivity/Positive/There was also a mach e and Volvo charging successfully\n"
          ]
        },
        {
          "name": "stderr",
          "output_type": "stream",
          "text": [
            "\r 95%|█████████▌| 1407/1479 [51:27<01:22,  1.15s/it]"
          ]
        },
        {
          "name": "stdout",
          "output_type": "stream",
          "text": [
            "84\n",
            "Amenities and Location/Positive/Chinese Buffet lunch close by across the parking lot\n",
            "51\n",
            "Price and Cost/Positive/Five dollar per hour charge\n"
          ]
        },
        {
          "name": "stderr",
          "output_type": "stream",
          "text": [
            "\r 95%|█████████▌| 1408/1479 [51:28<01:14,  1.05s/it]"
          ]
        },
        {
          "name": "stdout",
          "output_type": "stream",
          "text": [
            "76\n",
            "Amenities and location/Positive/one cozy rest area with restaurants and more\n"
          ]
        },
        {
          "name": "stderr",
          "output_type": "stream",
          "text": [
            "\r 95%|█████████▌| 1409/1479 [51:30<01:42,  1.46s/it]"
          ]
        },
        {
          "name": "stdout",
          "output_type": "stream",
          "text": [
            "161\n",
            "Payment option/Negative/download an app, make an account, verify your phone number, then they charge you $10 and, if you go under $5, they charge you another $10\n",
            "53\n",
            "Price and cost/Negative/spending $21 for an $8 charge\n",
            "48\n",
            "Ease of use/Negative/5-10 minutes to get started\n"
          ]
        },
        {
          "name": "stderr",
          "output_type": "stream",
          "text": [
            "\r 95%|█████████▌| 1410/1479 [51:31<01:30,  1.32s/it]"
          ]
        },
        {
          "name": "stdout",
          "output_type": "stream",
          "text": [
            "88\n",
            "Charging speed and efficiency/Positive/64 kilovolt charging did a full charge in 3 hours\n"
          ]
        },
        {
          "name": "stderr",
          "output_type": "stream",
          "text": [
            "\r 95%|█████████▌| 1411/1479 [51:33<01:35,  1.40s/it]"
          ]
        },
        {
          "name": "stdout",
          "output_type": "stream",
          "text": [
            "55\n",
            "Accessibility and Location/Neutral/frequently stop here\n"
          ]
        },
        {
          "name": "stderr",
          "output_type": "stream",
          "text": [
            "\r 95%|█████████▌| 1412/1479 [51:34<01:25,  1.28s/it]"
          ]
        },
        {
          "name": "stdout",
          "output_type": "stream",
          "text": [
            "107\n",
            "reliability and maintenance/Negative/Broken nozzles, tap is disabled, and 350 is only putting out 50-50 kwh\n"
          ]
        },
        {
          "name": "stderr",
          "output_type": "stream",
          "text": [
            "\r 96%|█████████▌| 1413/1479 [51:35<01:18,  1.19s/it]"
          ]
        },
        {
          "name": "stdout",
          "output_type": "stream",
          "text": [
            "110\n",
            "Accessibility and Amenities and Location/Positive/Very convenient to charge your car and shop at the same time\n"
          ]
        },
        {
          "name": "stderr",
          "output_type": "stream",
          "text": [
            "\r 96%|█████████▌| 1414/1479 [51:35<01:06,  1.03s/it]"
          ]
        },
        {
          "name": "stdout",
          "output_type": "stream",
          "text": [
            "67\n",
            "Accessibility and Accessibility/Positive/Convenient and easy to use\n"
          ]
        },
        {
          "name": "stderr",
          "output_type": "stream",
          "text": [
            "\r 96%|█████████▌| 1415/1479 [51:36<01:04,  1.00s/it]"
          ]
        },
        {
          "name": "stdout",
          "output_type": "stream",
          "text": [
            "58\n",
            "Charging speed and efficiency/Neutral/charging worked well\n"
          ]
        },
        {
          "name": "stderr",
          "output_type": "stream",
          "text": [
            "\r 96%|█████████▌| 1416/1479 [51:37<01:01,  1.02it/s]"
          ]
        },
        {
          "name": "stdout",
          "output_type": "stream",
          "text": [
            "95\n",
            "Availability and Accessibility/Neutral/The charging station is almost finished but not open yet\n"
          ]
        },
        {
          "name": "stderr",
          "output_type": "stream",
          "text": [
            "\r 96%|█████████▌| 1417/1479 [51:38<00:53,  1.16it/s]"
          ]
        },
        {
          "name": "stdout",
          "output_type": "stream",
          "text": [
            "52\n",
            "Charging speed and efficiency/Positive/Fast charging\n"
          ]
        },
        {
          "name": "stderr",
          "output_type": "stream",
          "text": [
            "\r 96%|█████████▌| 1418/1479 [51:38<00:48,  1.26it/s]"
          ]
        },
        {
          "name": "stdout",
          "output_type": "stream",
          "text": [
            "37\n",
            "ease of use/Positive/very easy to use\n"
          ]
        },
        {
          "name": "stderr",
          "output_type": "stream",
          "text": [
            "\r 96%|█████████▌| 1419/1479 [51:41<01:14,  1.25s/it]"
          ]
        },
        {
          "name": "stdout",
          "output_type": "stream",
          "text": [
            "48\n",
            "Queue and waiting time/Positive/there was a wait\n",
            "64\n",
            "Price and cost/Positive/Worth it for the free charging incentive\n",
            "79\n",
            "Charging speed and efficiency/Positive/Got from 58% to 92% in just over 30 mins\n",
            "70\n",
            "Customer service/Positive/Other e-car owners were friendly and helpful\n"
          ]
        },
        {
          "name": "stderr",
          "output_type": "stream",
          "text": [
            "\r 96%|█████████▌| 1420/1479 [51:46<02:18,  2.35s/it]"
          ]
        },
        {
          "name": "stdout",
          "output_type": "stream",
          "text": [
            "99\n",
            "Accessibility and Location/Positive/Proximity to other places you may need to go is very convenient\n",
            "103\n",
            "Availability and Accessibility/Negative/of the 3 stations (2 plugs per station ) only 1 was operational\n",
            "71\n",
            "Compatibility and Connectivity/Neutral/this place does DC fast charging\n",
            "100\n",
            "Reliability and Maintenance/Negative/of the 3 stations (2 plugs per station ) only 1 was operational\n",
            "137\n",
            "Queue and Waiting Time/Neutral/be prepared to try multiple times as I had to switch between charging cords a couple times to make it work\n",
            "152\n",
            "User Interface/Neutral/away from main line of sight which is good as random people who aren't charging their cars shouldn't accidentally take up a space\n",
            "52\n",
            "Safety/Neutral/Secure with a guard and security gate\n"
          ]
        },
        {
          "name": "stderr",
          "output_type": "stream",
          "text": [
            "\r 96%|█████████▌| 1421/1479 [51:47<01:58,  2.04s/it]"
          ]
        },
        {
          "name": "stdout",
          "output_type": "stream",
          "text": [
            "169\n",
            "user interface/Negative/screens are all facing into the sun in the afternoon this time of year, and they seem to overheat, making the bottom half of each screen go black\n"
          ]
        },
        {
          "name": "stderr",
          "output_type": "stream",
          "text": [
            "\r 96%|█████████▌| 1422/1479 [51:49<01:58,  2.07s/it]"
          ]
        },
        {
          "name": "stdout",
          "output_type": "stream",
          "text": [
            "287\n",
            "reliability and maintenance/Negative/Only 1 out of the 3 chargers here works properly (number 3) and even that one has issues occasionally. Charger number 1 has been unavailable for months and charger number 2 stops charging for no reason after 5 or so minutes and has done so for weeks.\n"
          ]
        },
        {
          "name": "stderr",
          "output_type": "stream",
          "text": [
            "\r 96%|█████████▌| 1423/1479 [51:50<01:31,  1.63s/it]"
          ]
        },
        {
          "name": "stdout",
          "output_type": "stream",
          "text": [
            "47\n",
            "reliability and maintenance/Positive/Works good\n"
          ]
        },
        {
          "name": "stderr",
          "output_type": "stream",
          "text": [
            "\r 96%|█████████▋| 1424/1479 [51:51<01:21,  1.48s/it]"
          ]
        },
        {
          "name": "stdout",
          "output_type": "stream",
          "text": [
            "129\n",
            "Compatibility and Connectivity/Positive/Plenty of charging units for both CCS and CHAdeMO, never a problem getting a charge here.\n"
          ]
        },
        {
          "name": "stderr",
          "output_type": "stream",
          "text": [
            "\r 96%|█████████▋| 1425/1479 [51:51<01:05,  1.21s/it]"
          ]
        },
        {
          "name": "stdout",
          "output_type": "stream",
          "text": [
            "52\n",
            "Charging speed and efficiency/Positive/Fast Charging\n"
          ]
        },
        {
          "name": "stderr",
          "output_type": "stream",
          "text": [
            "\r 96%|█████████▋| 1426/1479 [51:52<00:53,  1.01s/it]"
          ]
        },
        {
          "name": "stdout",
          "output_type": "stream",
          "text": [
            "65\n",
            "Location and Accessibility/Negative/police department parking lot\n"
          ]
        },
        {
          "name": "stderr",
          "output_type": "stream",
          "text": [
            "\r 96%|█████████▋| 1427/1479 [51:53<00:48,  1.08it/s]"
          ]
        },
        {
          "name": "stdout",
          "output_type": "stream",
          "text": [
            "99\n",
            "Compatibility and Connectivity/Positive/Great charging station if you have a spare charger with you\n"
          ]
        },
        {
          "name": "stderr",
          "output_type": "stream",
          "text": [
            "\r 97%|█████████▋| 1428/1479 [51:53<00:45,  1.13it/s]"
          ]
        },
        {
          "name": "stdout",
          "output_type": "stream",
          "text": [
            "57\n",
            "reliability and maintenance/Negative/permanently disabled\n"
          ]
        },
        {
          "name": "stderr",
          "output_type": "stream",
          "text": [
            "\r 97%|█████████▋| 1429/1479 [51:54<00:41,  1.22it/s]"
          ]
        },
        {
          "name": "stdout",
          "output_type": "stream",
          "text": [
            "97\n",
            "Compatibility and Connectivity/Negative/connection between the car and machine was malfunctioning\n"
          ]
        },
        {
          "name": "stderr",
          "output_type": "stream",
          "text": [
            "\r 97%|█████████▋| 1430/1479 [51:55<00:44,  1.11it/s]"
          ]
        },
        {
          "name": "stdout",
          "output_type": "stream",
          "text": [
            "127\n",
            "This review does not provide enough information to classify and extract aspect terms and opinion terms with sentiment polarity.\n",
            "Error occurred: list index out of range\n"
          ]
        },
        {
          "name": "stderr",
          "output_type": "stream",
          "text": [
            "\r 97%|█████████▋| 1431/1479 [51:57<01:03,  1.33s/it]"
          ]
        },
        {
          "name": "stdout",
          "output_type": "stream",
          "text": [
            "310\n",
            "Accessibility and Compatibility and Connectivity/Negative/j1772 charger, requires chargepoint app or card. The charging fee is reasonable but they add a parking fee, which makes it expensive. I successfully charged in the past but today it doesn't work; app says \"no status\" and the machine says \"unavailable.\"\n"
          ]
        },
        {
          "name": "stderr",
          "output_type": "stream",
          "text": [
            "\r 97%|█████████▋| 1432/1479 [51:59<01:11,  1.51s/it]"
          ]
        },
        {
          "name": "stdout",
          "output_type": "stream",
          "text": [
            "69\n",
            "Compatibility and Connectivity/Positive/non Tesla chargepoint station\n",
            "88\n",
            "Charging speed and efficiency/Positive/7Kw so it's definitely not as slow as a wall plug\n",
            "82\n",
            "Amenities and Location/Positive/taking the bus around the island to enjoy your day\n"
          ]
        },
        {
          "name": "stderr",
          "output_type": "stream",
          "text": [
            "\r 97%|█████████▋| 1433/1479 [52:00<00:58,  1.27s/it]"
          ]
        },
        {
          "name": "stdout",
          "output_type": "stream",
          "text": [
            "55\n",
            "price and cost/Negative/that much for a Level 2 Charger\n"
          ]
        },
        {
          "name": "stderr",
          "output_type": "stream",
          "text": [
            "\r 97%|█████████▋| 1434/1479 [52:01<00:49,  1.10s/it]"
          ]
        },
        {
          "name": "stdout",
          "output_type": "stream",
          "text": [
            "68\n",
            "Charging speed and efficiency/Positive/chargers work fast and steady\n"
          ]
        },
        {
          "name": "stderr",
          "output_type": "stream",
          "text": [
            "\r 97%|█████████▋| 1435/1479 [52:01<00:42,  1.04it/s]"
          ]
        },
        {
          "name": "stdout",
          "output_type": "stream",
          "text": [
            "63\n",
            "Compatibility and Connectivity/Negative/the charger doesn't fit\n"
          ]
        },
        {
          "name": "stderr",
          "output_type": "stream",
          "text": [
            "\r 97%|█████████▋| 1436/1479 [52:02<00:39,  1.10it/s]"
          ]
        },
        {
          "name": "stdout",
          "output_type": "stream",
          "text": [
            "61\n",
            "Charging speed and efficiency/Positive/wish there was a 350kW\n"
          ]
        },
        {
          "name": "stderr",
          "output_type": "stream",
          "text": [
            "\r 97%|█████████▋| 1437/1479 [52:05<00:56,  1.34s/it]"
          ]
        },
        {
          "name": "stdout",
          "output_type": "stream",
          "text": [
            "73\n",
            "Amenities and Location/Positive/Meijer and target within walking distance\n",
            "68\n",
            "Charging speed and efficiency/Neutral/no 350 chargers here only 150s\n",
            "104\n",
            "Queue and waiting time/Neutral/generally have enough time to finish my errands before hitting 80 percent\n"
          ]
        },
        {
          "name": "stderr",
          "output_type": "stream",
          "text": [
            "\r 97%|█████████▋| 1438/1479 [52:07<01:03,  1.54s/it]"
          ]
        },
        {
          "name": "stdout",
          "output_type": "stream",
          "text": [
            "135\n",
            "Accessibility and Accessibility/Positive/Easy access to level 3 charging at the Bob Sumerel Triple A across from the Children's Theatre\n",
            "71\n",
            "Amenities and location/Positive/There's a lot to do and eat around here\n"
          ]
        },
        {
          "name": "stderr",
          "output_type": "stream",
          "text": [
            "\r 97%|█████████▋| 1439/1479 [52:07<00:51,  1.29s/it]"
          ]
        },
        {
          "name": "stdout",
          "output_type": "stream",
          "text": [
            "67\n",
            "reliability and maintenance/Positive/neat clean and well maintained\n"
          ]
        },
        {
          "name": "stderr",
          "output_type": "stream",
          "text": [
            "\r 97%|█████████▋| 1440/1479 [52:09<00:49,  1.28s/it]"
          ]
        },
        {
          "name": "stdout",
          "output_type": "stream",
          "text": [
            "101\n",
            "This review does not mention any specific aspects or provide any opinion terms or sentiment polarity.\n",
            "Error occurred: list index out of range\n"
          ]
        },
        {
          "name": "stderr",
          "output_type": "stream",
          "text": [
            "\r 97%|█████████▋| 1441/1479 [52:09<00:42,  1.11s/it]"
          ]
        },
        {
          "name": "stdout",
          "output_type": "stream",
          "text": [
            "75\n",
            "None of the provided aspects directly match the content of the review text.\n",
            "Error occurred: list index out of range\n"
          ]
        },
        {
          "name": "stderr",
          "output_type": "stream",
          "text": [
            "\r 97%|█████████▋| 1442/1479 [52:10<00:35,  1.05it/s]"
          ]
        },
        {
          "name": "stdout",
          "output_type": "stream",
          "text": [
            "59\n",
            "None of the provided aspects are applicable to this review.\n",
            "Error occurred: list index out of range\n"
          ]
        },
        {
          "name": "stderr",
          "output_type": "stream",
          "text": [
            "\r 98%|█████████▊| 1443/1479 [52:11<00:34,  1.05it/s]"
          ]
        },
        {
          "name": "stdout",
          "output_type": "stream",
          "text": [
            "106\n",
            "This review does not provide any specific information about aspects, opinion terms, or sentiment polarity.\n",
            "Error occurred: list index out of range\n"
          ]
        },
        {
          "name": "stderr",
          "output_type": "stream",
          "text": [
            "\r 98%|█████████▊| 1444/1479 [52:12<00:36,  1.05s/it]"
          ]
        },
        {
          "name": "stdout",
          "output_type": "stream",
          "text": [
            "67\n",
            "Charging speed and efficiency/Negative/charging at 22 miles an hour\n",
            "72\n",
            "Amenities and location/Positive/free WiFi at hotel and nice place to sit\n"
          ]
        },
        {
          "name": "stderr",
          "output_type": "stream",
          "text": [
            "\r 98%|█████████▊| 1445/1479 [52:13<00:32,  1.06it/s]"
          ]
        },
        {
          "name": "stdout",
          "output_type": "stream",
          "text": [
            "68\n",
            "Location/Positive/Great location right off the Ten Mile interchange.\n"
          ]
        },
        {
          "name": "stderr",
          "output_type": "stream",
          "text": [
            "\r 98%|█████████▊| 1446/1479 [52:14<00:31,  1.04it/s]"
          ]
        },
        {
          "name": "stdout",
          "output_type": "stream",
          "text": [
            "135\n",
            "Accessibility and Amenities and Location/Negative/chargers here are typically blocked and Albertsons does nothing to police the parking\n"
          ]
        },
        {
          "name": "stderr",
          "output_type": "stream",
          "text": [
            "\r 98%|█████████▊| 1447/1479 [52:15<00:28,  1.11it/s]"
          ]
        },
        {
          "name": "stdout",
          "output_type": "stream",
          "text": [
            "77\n",
            "Charging speed and efficiency/Positive/Great place to get a high speed charge\n"
          ]
        },
        {
          "name": "stderr",
          "output_type": "stream",
          "text": [
            "\r 98%|█████████▊| 1448/1479 [52:15<00:25,  1.20it/s]"
          ]
        },
        {
          "name": "stdout",
          "output_type": "stream",
          "text": [
            "57\n",
            "Charging speed and efficiency/Positive/Charged up nicely.\n"
          ]
        },
        {
          "name": "stderr",
          "output_type": "stream",
          "text": [
            "\r 98%|█████████▊| 1449/1479 [52:16<00:23,  1.26it/s]"
          ]
        },
        {
          "name": "stdout",
          "output_type": "stream",
          "text": [
            "85\n",
            "reliability and maintenance/Negative/not yet configured and installation not complete\n"
          ]
        },
        {
          "name": "stderr",
          "output_type": "stream",
          "text": [
            "\r 98%|█████████▊| 1450/1479 [52:17<00:23,  1.22it/s]"
          ]
        },
        {
          "name": "stdout",
          "output_type": "stream",
          "text": [
            "37\n",
            "Aspect: Charging speed and efficiency\n",
            "Error occurred: list index out of range\n"
          ]
        },
        {
          "name": "stderr",
          "output_type": "stream",
          "text": [
            "\r 98%|█████████▊| 1451/1479 [52:18<00:26,  1.07it/s]"
          ]
        },
        {
          "name": "stdout",
          "output_type": "stream",
          "text": [
            "97\n",
            "Charging speed and efficiency/Negative/not working, only charging at 45 kw with 25% charge on car\n",
            "31\n",
            "Location/Positive/good location\n"
          ]
        },
        {
          "name": "stderr",
          "output_type": "stream",
          "text": [
            "\r 98%|█████████▊| 1452/1479 [52:20<00:31,  1.18s/it]"
          ]
        },
        {
          "name": "stdout",
          "output_type": "stream",
          "text": [
            "93\n",
            "Accessibility and Location/Positive/Great location to hit before heading back to the Bay Area\n",
            "69\n",
            "Charging speed and efficiency/Positive/No issues charging up my truck\n",
            "56\n",
            "Safety/Positive/Was kind of fun doing it in the snow too\n"
          ]
        },
        {
          "name": "stderr",
          "output_type": "stream",
          "text": [
            "\r 98%|█████████▊| 1453/1479 [52:22<00:36,  1.41s/it]"
          ]
        },
        {
          "name": "stdout",
          "output_type": "stream",
          "text": [
            "71\n",
            "Amenities and Location/Positive/convenient location near a good brewery\n",
            "60\n",
            "Reliability and Maintenance/Neutral/no issues charging today\n"
          ]
        },
        {
          "name": "stderr",
          "output_type": "stream",
          "text": [
            "\r 98%|█████████▊| 1454/1479 [52:23<00:36,  1.47s/it]"
          ]
        },
        {
          "name": "stdout",
          "output_type": "stream",
          "text": [
            "61\n",
            "reliability and maintenance/Negative/1 out 4 stations offline\n",
            "102\n",
            "charging speed and efficiency/Neutral/Max charge rate i was able to get was 75kw (39% SoC, 47 degrees)\n"
          ]
        },
        {
          "name": "stderr",
          "output_type": "stream",
          "text": [
            "\r 98%|█████████▊| 1455/1479 [52:24<00:29,  1.21s/it]"
          ]
        },
        {
          "name": "stdout",
          "output_type": "stream",
          "text": [
            "77\n",
            "Compatibility and Connectivity/Negative/Wouldn't charge - communication issue\n"
          ]
        },
        {
          "name": "stderr",
          "output_type": "stream",
          "text": [
            "\r 98%|█████████▊| 1456/1479 [52:25<00:25,  1.10s/it]"
          ]
        },
        {
          "name": "stdout",
          "output_type": "stream",
          "text": [
            "56\n",
            "Compatibility and Connectivity/Negative/Would not charge\n"
          ]
        },
        {
          "name": "stderr",
          "output_type": "stream",
          "text": [
            "\r 99%|█████████▊| 1457/1479 [52:25<00:20,  1.06it/s]"
          ]
        },
        {
          "name": "stdout",
          "output_type": "stream",
          "text": [
            "52\n",
            "Compatibility and Connectivity/Negative/Doesn't work\n"
          ]
        },
        {
          "name": "stderr",
          "output_type": "stream",
          "text": [
            "\r 99%|█████████▊| 1458/1479 [52:27<00:24,  1.17s/it]"
          ]
        },
        {
          "name": "stdout",
          "output_type": "stream",
          "text": [
            "60\n",
            "Charging speed and efficiency/Negative/Charger is a bit slow\n",
            "90\n",
            "Queue and waiting time/Negative/Drivers need to be courteous and unplug when fully charged\n",
            "75\n",
            "Compatibility and Connectivity/Neutral/only one charger not a parking space\n"
          ]
        },
        {
          "name": "stderr",
          "output_type": "stream",
          "text": [
            "\r 99%|█████████▊| 1459/1479 [52:28<00:20,  1.04s/it]"
          ]
        },
        {
          "name": "stdout",
          "output_type": "stream",
          "text": [
            "77\n",
            "Accessibility and Accessibility/Positive/CCS works perfectly for my Tesla MYP\n"
          ]
        },
        {
          "name": "stderr",
          "output_type": "stream",
          "text": [
            "\r 99%|█████████▊| 1460/1479 [52:30<00:24,  1.27s/it]"
          ]
        },
        {
          "name": "stdout",
          "output_type": "stream",
          "text": [
            "78\n",
            "Compatibility and Connectivity/Positive/works perfect for Tesla with a adaptor\n",
            "95\n",
            "reliability and maintenance/Positive/Reliable and convenient alternative to Tesla superchargers\n",
            "66\n",
            "charging speed and efficiency/Positive/pretty reliable 50kw+ power\n"
          ]
        },
        {
          "name": "stderr",
          "output_type": "stream",
          "text": [
            "\r 99%|█████████▉| 1461/1479 [52:30<00:20,  1.14s/it]"
          ]
        },
        {
          "name": "stdout",
          "output_type": "stream",
          "text": [
            "98\n",
            "Accessibility and Amenities and Location/Positive/chargers worked and there is a great coffee shop\n"
          ]
        },
        {
          "name": "stderr",
          "output_type": "stream",
          "text": [
            "\r 99%|█████████▉| 1462/1479 [52:31<00:17,  1.03s/it]"
          ]
        },
        {
          "name": "stdout",
          "output_type": "stream",
          "text": [
            "101\n",
            "This review does not mention any specific aspects or provide any opinion terms or sentiment polarity.\n",
            "Error occurred: list index out of range\n"
          ]
        },
        {
          "name": "stderr",
          "output_type": "stream",
          "text": [
            "\r 99%|█████████▉| 1463/1479 [52:32<00:13,  1.16it/s]"
          ]
        },
        {
          "name": "stdout",
          "output_type": "stream",
          "text": [
            "33\n",
            "price and cost/Negative/Expensive\n"
          ]
        },
        {
          "name": "stderr",
          "output_type": "stream",
          "text": [
            "\r 99%|█████████▉| 1464/1479 [52:33<00:16,  1.13s/it]"
          ]
        },
        {
          "name": "stdout",
          "output_type": "stream",
          "text": [
            "94\n",
            "reliability and maintenance/Negative/Had some problem at first which caused me to call support\n",
            "83\n",
            "charging speed and efficiency/Positive/charge from about 25% was fast and faultless\n",
            "70\n",
            "reliability and maintenance/Negative/charger disconnected at about 70%\n"
          ]
        },
        {
          "name": "stderr",
          "output_type": "stream",
          "text": [
            "\r 99%|█████████▉| 1465/1479 [52:35<00:19,  1.41s/it]"
          ]
        },
        {
          "name": "stdout",
          "output_type": "stream",
          "text": [
            "108\n",
            "Compatibility and Connectivity/Positive/Smooth operation with RFID card and connecting first time to my ID.4\n",
            "65\n",
            "Charging speed and efficiency/Positive/I'd love faster than 50 kw\n",
            "93\n",
            "Location and Amenities/Positive/chargers in Truckee to complement this location in Tahoe City\n"
          ]
        },
        {
          "name": "stderr",
          "output_type": "stream",
          "text": [
            "\r 99%|█████████▉| 1466/1479 [52:36<00:15,  1.16s/it]"
          ]
        },
        {
          "name": "stdout",
          "output_type": "stream",
          "text": [
            "55\n",
            "Accessibility and Accessibility/Negative/buried in snow\n"
          ]
        },
        {
          "name": "stderr",
          "output_type": "stream",
          "text": [
            "\r 99%|█████████▉| 1467/1479 [52:38<00:17,  1.42s/it]"
          ]
        },
        {
          "name": "stdout",
          "output_type": "stream",
          "text": [
            "83\n",
            "Accessibility and Accessibility/Negative/One of the charging stations was defective\n",
            "61\n",
            "Payment option/Negative/would not take payment by credit card\n",
            "78\n",
            "Reliability and maintenance/Negative/frustrating, unacceptable, time consuming\n",
            "62\n",
            "Compatibility and Connectivity/Negative/holds back EV adoption\n",
            "27\n",
            "Overall sentiment: Negative\n",
            "Error occurred: list index out of range\n"
          ]
        },
        {
          "name": "stderr",
          "output_type": "stream",
          "text": [
            "\r 99%|█████████▉| 1468/1479 [52:39<00:12,  1.18s/it]"
          ]
        },
        {
          "name": "stdout",
          "output_type": "stream",
          "text": [
            "55\n",
            "Accessibility/Positive/Worked and was easily accessible\n"
          ]
        },
        {
          "name": "stderr",
          "output_type": "stream",
          "text": [
            "\r 99%|█████████▉| 1469/1479 [52:43<00:22,  2.24s/it]"
          ]
        },
        {
          "name": "stdout",
          "output_type": "stream",
          "text": [
            "27\n",
            "Overall sentiment: Positive\n",
            "Error occurred: list index out of range\n"
          ]
        },
        {
          "name": "stderr",
          "output_type": "stream",
          "text": [
            "\r 99%|█████████▉| 1470/1479 [52:44<00:15,  1.76s/it]"
          ]
        },
        {
          "name": "stdout",
          "output_type": "stream",
          "text": [
            "68\n",
            "Compatibility and Connectivity/Negative/blocking the level 2 charger\n"
          ]
        },
        {
          "name": "stderr",
          "output_type": "stream",
          "text": [
            "\r 99%|█████████▉| 1471/1479 [52:45<00:11,  1.41s/it]"
          ]
        },
        {
          "name": "stdout",
          "output_type": "stream",
          "text": [
            "56\n",
            "Accessibility and Location/Positive/Good place to charge\n"
          ]
        },
        {
          "name": "stderr",
          "output_type": "stream",
          "text": [
            "\r100%|█████████▉| 1472/1479 [52:45<00:08,  1.18s/it]"
          ]
        },
        {
          "name": "stdout",
          "output_type": "stream",
          "text": [
            "74\n",
            "Location and Amenities/Positive/Convenient location with McDonald's nearby\n"
          ]
        },
        {
          "name": "stderr",
          "output_type": "stream",
          "text": [
            "\r100%|█████████▉| 1473/1479 [52:47<00:07,  1.30s/it]"
          ]
        },
        {
          "name": "stdout",
          "output_type": "stream",
          "text": [
            "80\n",
            "Accessibility and Amenities and location/Positive/Great location, nice and clean\n",
            "81\n",
            "Reliability and maintenance/Negative/The charger stopping while I was gone to eat\n",
            "53\n",
            "Queue and waiting time/Negative/Cost me about 20 mins\n"
          ]
        },
        {
          "name": "stderr",
          "output_type": "stream",
          "text": [
            "\r100%|█████████▉| 1474/1479 [52:48<00:05,  1.18s/it]"
          ]
        },
        {
          "name": "stdout",
          "output_type": "stream",
          "text": [
            "97\n",
            "Location and Amenities/Positive/near as big lots, get some snacks and something to drink and shop\n"
          ]
        },
        {
          "name": "stderr",
          "output_type": "stream",
          "text": [
            "\r100%|█████████▉| 1475/1479 [52:48<00:04,  1.03s/it]"
          ]
        },
        {
          "name": "stdout",
          "output_type": "stream",
          "text": [
            "90\n",
            "Compatibility and Connectivity/Negative/wait on a stupid battery to be charged for an hour\n"
          ]
        },
        {
          "name": "stderr",
          "output_type": "stream",
          "text": [
            "\r100%|█████████▉| 1476/1479 [52:49<00:02,  1.04it/s]"
          ]
        },
        {
          "name": "stdout",
          "output_type": "stream",
          "text": [
            "87\n",
            "Accessibility and Availability/Negative/awful the pedestrian Accessibility+Availability\n"
          ]
        },
        {
          "name": "stderr",
          "output_type": "stream",
          "text": [
            "\r100%|█████████▉| 1477/1479 [52:50<00:01,  1.04it/s]"
          ]
        },
        {
          "name": "stdout",
          "output_type": "stream",
          "text": [
            "129\n",
            "Accessibility and Amenities and Location/Positive/Blue Ridge Energies parking lot, Blue Ride Energies show room, use the bathroom\n"
          ]
        },
        {
          "name": "stderr",
          "output_type": "stream",
          "text": [
            "\r100%|█████████▉| 1478/1479 [52:52<00:01,  1.21s/it]"
          ]
        },
        {
          "name": "stdout",
          "output_type": "stream",
          "text": [
            "102\n",
            "Charging speed and efficiency/Positive/quick free electric charge from 20% to 80% in about a half hour\n",
            "51\n",
            "Customer service/Positive/people they were friendly\n",
            "59\n",
            "Ease of use/Positive/able to get in and out with no problem\n"
          ]
        },
        {
          "name": "stderr",
          "output_type": "stream",
          "text": [
            "100%|██████████| 1479/1479 [52:56<00:00,  2.15s/it]"
          ]
        },
        {
          "name": "stdout",
          "output_type": "stream",
          "text": [
            "27\n",
            "Overall sentiment: Positive\n",
            "Error occurred: list index out of range\n"
          ]
        },
        {
          "name": "stderr",
          "output_type": "stream",
          "text": [
            "\n"
          ]
        },
        {
          "data": {
            "text/html": [
              "\n",
              "\n",
              "  <div id=\"df-7f183414-4adb-472c-8bc2-398e62228ae7\">\n",
              "    <div class=\"colab-df-container\">\n",
              "      <div>\n",
              "<style scoped>\n",
              "    .dataframe tbody tr th:only-of-type {\n",
              "        vertical-align: middle;\n",
              "    }\n",
              "\n",
              "    .dataframe tbody tr th {\n",
              "        vertical-align: top;\n",
              "    }\n",
              "\n",
              "    .dataframe thead th {\n",
              "        text-align: right;\n",
              "    }\n",
              "</style>\n",
              "<table border=\"1\" class=\"dataframe\">\n",
              "  <thead>\n",
              "    <tr style=\"text-align: right;\">\n",
              "      <th></th>\n",
              "      <th>Aspect</th>\n",
              "      <th>Polarity</th>\n",
              "      <th>Summary</th>\n",
              "      <th>Review</th>\n",
              "    </tr>\n",
              "  </thead>\n",
              "  <tbody>\n",
              "    <tr>\n",
              "      <th>0</th>\n",
              "      <td>Accessibility and Availability</td>\n",
              "      <td>Neutral</td>\n",
              "      <td>Very busy, but the only Supercharger in town</td>\n",
              "      <td>Very busy, but the only Supercharger in town. ...</td>\n",
              "    </tr>\n",
              "    <tr>\n",
              "      <th>1</th>\n",
              "      <td>Amenities and Location</td>\n",
              "      <td>Neutral</td>\n",
              "      <td>10 minutes to Starbucks so easy walk while you...</td>\n",
              "      <td>Very busy, but the only Supercharger in town. ...</td>\n",
              "    </tr>\n",
              "    <tr>\n",
              "      <th>2</th>\n",
              "      <td>Reliability and Maintenance</td>\n",
              "      <td>Neutral</td>\n",
              "      <td>The app reported it was closed, but there are ...</td>\n",
              "      <td>Very busy, but the only Supercharger in town. ...</td>\n",
              "    </tr>\n",
              "    <tr>\n",
              "      <th>3</th>\n",
              "      <td>Queue and Waiting Time</td>\n",
              "      <td>Neutral</td>\n",
              "      <td>Very busy</td>\n",
              "      <td>Very busy, but the only Supercharger in town. ...</td>\n",
              "    </tr>\n",
              "    <tr>\n",
              "      <th>4</th>\n",
              "      <td>Customer Service</td>\n",
              "      <td>Neutral</td>\n",
              "      <td>The app reported it was closed, but there are ...</td>\n",
              "      <td>Very busy, but the only Supercharger in town. ...</td>\n",
              "    </tr>\n",
              "    <tr>\n",
              "      <th>...</th>\n",
              "      <td>...</td>\n",
              "      <td>...</td>\n",
              "      <td>...</td>\n",
              "      <td>...</td>\n",
              "    </tr>\n",
              "    <tr>\n",
              "      <th>2198</th>\n",
              "      <td>Accessibility and Availability</td>\n",
              "      <td>Negative</td>\n",
              "      <td>awful the pedestrian Accessibility+Availability</td>\n",
              "      <td>5 stars for the 4 fast DC charging spots to ch...</td>\n",
              "    </tr>\n",
              "    <tr>\n",
              "      <th>2199</th>\n",
              "      <td>Accessibility and Amenities and Location</td>\n",
              "      <td>Positive</td>\n",
              "      <td>Blue Ridge Energies parking lot, Blue Ride Ene...</td>\n",
              "      <td>A nice ChargePointDCFC station with both CCS &amp;...</td>\n",
              "    </tr>\n",
              "    <tr>\n",
              "      <th>2200</th>\n",
              "      <td>Charging speed and efficiency</td>\n",
              "      <td>Positive</td>\n",
              "      <td>quick free electric charge from 20% to 80% in ...</td>\n",
              "      <td>What can I say a quick free electric charge fr...</td>\n",
              "    </tr>\n",
              "    <tr>\n",
              "      <th>2201</th>\n",
              "      <td>Customer service</td>\n",
              "      <td>Positive</td>\n",
              "      <td>people they were friendly</td>\n",
              "      <td>What can I say a quick free electric charge fr...</td>\n",
              "    </tr>\n",
              "    <tr>\n",
              "      <th>2202</th>\n",
              "      <td>Ease of use</td>\n",
              "      <td>Positive</td>\n",
              "      <td>able to get in and out with no problem</td>\n",
              "      <td>What can I say a quick free electric charge fr...</td>\n",
              "    </tr>\n",
              "  </tbody>\n",
              "</table>\n",
              "<p>2203 rows × 4 columns</p>\n",
              "</div>\n",
              "      <button class=\"colab-df-convert\" onclick=\"convertToInteractive('df-7f183414-4adb-472c-8bc2-398e62228ae7')\"\n",
              "              title=\"Convert this dataframe to an interactive table.\"\n",
              "              style=\"display:none;\">\n",
              "\n",
              "  <svg xmlns=\"http://www.w3.org/2000/svg\" height=\"24px\"viewBox=\"0 0 24 24\"\n",
              "       width=\"24px\">\n",
              "    <path d=\"M0 0h24v24H0V0z\" fill=\"none\"/>\n",
              "    <path d=\"M18.56 5.44l.94 2.06.94-2.06 2.06-.94-2.06-.94-.94-2.06-.94 2.06-2.06.94zm-11 1L8.5 8.5l.94-2.06 2.06-.94-2.06-.94L8.5 2.5l-.94 2.06-2.06.94zm10 10l.94 2.06.94-2.06 2.06-.94-2.06-.94-.94-2.06-.94 2.06-2.06.94z\"/><path d=\"M17.41 7.96l-1.37-1.37c-.4-.4-.92-.59-1.43-.59-.52 0-1.04.2-1.43.59L10.3 9.45l-7.72 7.72c-.78.78-.78 2.05 0 2.83L4 21.41c.39.39.9.59 1.41.59.51 0 1.02-.2 1.41-.59l7.78-7.78 2.81-2.81c.8-.78.8-2.07 0-2.86zM5.41 20L4 18.59l7.72-7.72 1.47 1.35L5.41 20z\"/>\n",
              "  </svg>\n",
              "      </button>\n",
              "\n",
              "\n",
              "\n",
              "    <div id=\"df-6aff18d2-1cf7-48e6-9187-7a14607e6219\">\n",
              "      <button class=\"colab-df-quickchart\" onclick=\"quickchart('df-6aff18d2-1cf7-48e6-9187-7a14607e6219')\"\n",
              "              title=\"Suggest charts.\"\n",
              "              style=\"display:none;\">\n",
              "\n",
              "<svg xmlns=\"http://www.w3.org/2000/svg\" height=\"24px\"viewBox=\"0 0 24 24\"\n",
              "     width=\"24px\">\n",
              "    <g>\n",
              "        <path d=\"M19 3H5c-1.1 0-2 .9-2 2v14c0 1.1.9 2 2 2h14c1.1 0 2-.9 2-2V5c0-1.1-.9-2-2-2zM9 17H7v-7h2v7zm4 0h-2V7h2v10zm4 0h-2v-4h2v4z\"/>\n",
              "    </g>\n",
              "</svg>\n",
              "      </button>\n",
              "    </div>\n",
              "\n",
              "<style>\n",
              "  .colab-df-quickchart {\n",
              "    background-color: #E8F0FE;\n",
              "    border: none;\n",
              "    border-radius: 50%;\n",
              "    cursor: pointer;\n",
              "    display: none;\n",
              "    fill: #1967D2;\n",
              "    height: 32px;\n",
              "    padding: 0 0 0 0;\n",
              "    width: 32px;\n",
              "  }\n",
              "\n",
              "  .colab-df-quickchart:hover {\n",
              "    background-color: #E2EBFA;\n",
              "    box-shadow: 0px 1px 2px rgba(60, 64, 67, 0.3), 0px 1px 3px 1px rgba(60, 64, 67, 0.15);\n",
              "    fill: #174EA6;\n",
              "  }\n",
              "\n",
              "  [theme=dark] .colab-df-quickchart {\n",
              "    background-color: #3B4455;\n",
              "    fill: #D2E3FC;\n",
              "  }\n",
              "\n",
              "  [theme=dark] .colab-df-quickchart:hover {\n",
              "    background-color: #434B5C;\n",
              "    box-shadow: 0px 1px 3px 1px rgba(0, 0, 0, 0.15);\n",
              "    filter: drop-shadow(0px 1px 2px rgba(0, 0, 0, 0.3));\n",
              "    fill: #FFFFFF;\n",
              "  }\n",
              "</style>\n",
              "\n",
              "    <script>\n",
              "      async function quickchart(key) {\n",
              "        const containerElement = document.querySelector('#' + key);\n",
              "        const charts = await google.colab.kernel.invokeFunction(\n",
              "            'suggestCharts', [key], {});\n",
              "      }\n",
              "    </script>\n",
              "\n",
              "      <script>\n",
              "\n",
              "function displayQuickchartButton(domScope) {\n",
              "  let quickchartButtonEl =\n",
              "    domScope.querySelector('#df-6aff18d2-1cf7-48e6-9187-7a14607e6219 button.colab-df-quickchart');\n",
              "  quickchartButtonEl.style.display =\n",
              "    google.colab.kernel.accessAllowed ? 'block' : 'none';\n",
              "}\n",
              "\n",
              "        displayQuickchartButton(document);\n",
              "      </script>\n",
              "      <style>\n",
              "    .colab-df-container {\n",
              "      display:flex;\n",
              "      flex-wrap:wrap;\n",
              "      gap: 12px;\n",
              "    }\n",
              "\n",
              "    .colab-df-convert {\n",
              "      background-color: #E8F0FE;\n",
              "      border: none;\n",
              "      border-radius: 50%;\n",
              "      cursor: pointer;\n",
              "      display: none;\n",
              "      fill: #1967D2;\n",
              "      height: 32px;\n",
              "      padding: 0 0 0 0;\n",
              "      width: 32px;\n",
              "    }\n",
              "\n",
              "    .colab-df-convert:hover {\n",
              "      background-color: #E2EBFA;\n",
              "      box-shadow: 0px 1px 2px rgba(60, 64, 67, 0.3), 0px 1px 3px 1px rgba(60, 64, 67, 0.15);\n",
              "      fill: #174EA6;\n",
              "    }\n",
              "\n",
              "    [theme=dark] .colab-df-convert {\n",
              "      background-color: #3B4455;\n",
              "      fill: #D2E3FC;\n",
              "    }\n",
              "\n",
              "    [theme=dark] .colab-df-convert:hover {\n",
              "      background-color: #434B5C;\n",
              "      box-shadow: 0px 1px 3px 1px rgba(0, 0, 0, 0.15);\n",
              "      filter: drop-shadow(0px 1px 2px rgba(0, 0, 0, 0.3));\n",
              "      fill: #FFFFFF;\n",
              "    }\n",
              "  </style>\n",
              "\n",
              "      <script>\n",
              "        const buttonEl =\n",
              "          document.querySelector('#df-7f183414-4adb-472c-8bc2-398e62228ae7 button.colab-df-convert');\n",
              "        buttonEl.style.display =\n",
              "          google.colab.kernel.accessAllowed ? 'block' : 'none';\n",
              "\n",
              "        async function convertToInteractive(key) {\n",
              "          const element = document.querySelector('#df-7f183414-4adb-472c-8bc2-398e62228ae7');\n",
              "          const dataTable =\n",
              "            await google.colab.kernel.invokeFunction('convertToInteractive',\n",
              "                                                     [key], {});\n",
              "          if (!dataTable) return;\n",
              "\n",
              "          const docLinkHtml = 'Like what you see? Visit the ' +\n",
              "            '<a target=\"_blank\" href=https://colab.research.google.com/notebooks/data_table.ipynb>data table notebook</a>'\n",
              "            + ' to learn more about interactive tables.';\n",
              "          element.innerHTML = '';\n",
              "          dataTable['output_type'] = 'display_data';\n",
              "          await google.colab.output.renderOutput(dataTable, element);\n",
              "          const docLink = document.createElement('div');\n",
              "          docLink.innerHTML = docLinkHtml;\n",
              "          element.appendChild(docLink);\n",
              "        }\n",
              "      </script>\n",
              "    </div>\n",
              "  </div>\n"
            ],
            "text/plain": [
              "                                        Aspect  Polarity  \\\n",
              "0               Accessibility and Availability   Neutral   \n",
              "1                       Amenities and Location   Neutral   \n",
              "2                  Reliability and Maintenance   Neutral   \n",
              "3                       Queue and Waiting Time   Neutral   \n",
              "4                             Customer Service   Neutral   \n",
              "...                                        ...       ...   \n",
              "2198            Accessibility and Availability  Negative   \n",
              "2199  Accessibility and Amenities and Location  Positive   \n",
              "2200             Charging speed and efficiency  Positive   \n",
              "2201                          Customer service  Positive   \n",
              "2202                               Ease of use  Positive   \n",
              "\n",
              "                                                Summary  \\\n",
              "0          Very busy, but the only Supercharger in town   \n",
              "1     10 minutes to Starbucks so easy walk while you...   \n",
              "2     The app reported it was closed, but there are ...   \n",
              "3                                             Very busy   \n",
              "4     The app reported it was closed, but there are ...   \n",
              "...                                                 ...   \n",
              "2198    awful the pedestrian Accessibility+Availability   \n",
              "2199  Blue Ridge Energies parking lot, Blue Ride Ene...   \n",
              "2200  quick free electric charge from 20% to 80% in ...   \n",
              "2201                          people they were friendly   \n",
              "2202             able to get in and out with no problem   \n",
              "\n",
              "                                                 Review  \n",
              "0     Very busy, but the only Supercharger in town. ...  \n",
              "1     Very busy, but the only Supercharger in town. ...  \n",
              "2     Very busy, but the only Supercharger in town. ...  \n",
              "3     Very busy, but the only Supercharger in town. ...  \n",
              "4     Very busy, but the only Supercharger in town. ...  \n",
              "...                                                 ...  \n",
              "2198  5 stars for the 4 fast DC charging spots to ch...  \n",
              "2199  A nice ChargePointDCFC station with both CCS &...  \n",
              "2200  What can I say a quick free electric charge fr...  \n",
              "2201  What can I say a quick free electric charge fr...  \n",
              "2202  What can I say a quick free electric charge fr...  \n",
              "\n",
              "[2203 rows x 4 columns]"
            ]
          },
          "execution_count": 24,
          "metadata": {},
          "output_type": "execute_result"
        }
      ],
      "source": [
        "results = pd.DataFrame(columns=['Aspect', 'Polarity', 'Summary'])\n",
        "i = 0\n",
        "for item in tqdm(reviews):\n",
        "  try:\n",
        "\n",
        "    response = get_response(item)\n",
        "\n",
        "    if ('No feedback' not in response) and ('no feedback' not in response):\n",
        "      # res = response.split(',')\n",
        "      # print(type(response))\n",
        "      #res = response.strip('][').split('\\n')\n",
        "      # print(res)\n",
        "      df = formatted_to_dataframe(response)\n",
        "\n",
        "      df['Review'] = item\n",
        "      results = pd.concat([results, df], ignore_index=True)\n",
        "      i = i + 1\n",
        "      if i%1000 == 0:\n",
        "        results.to_csv('results_ABSA.csv', index=False)\n",
        "  except Exception as e:\n",
        "        # Handle the specific exception that occurred\n",
        "      print(f\"Error occurred: {e}\")\n",
        "results"
      ]
    },
    {
      "cell_type": "markdown",
      "metadata": {
        "id": "OtJhq3VsLaW3"
      },
      "source": [
        "# New Section"
      ]
    },
    {
      "cell_type": "code",
      "execution_count": null,
      "metadata": {
        "id": "i0q_FOvoM1IN"
      },
      "outputs": [],
      "source": [
        "results.to_csv('/content/pred_results.csv', index=False)"
      ]
    },
    {
      "cell_type": "code",
      "execution_count": null,
      "metadata": {
        "id": "kxBU90fSYMmt"
      },
      "outputs": [],
      "source": [
        "results.to_csv('/content/drive/MyDrive/results_ABSA.csv', index=False)"
      ]
    }
  ],
  "metadata": {
    "colab": {
      "provenance": []
    },
    "kernelspec": {
      "display_name": "Python 3",
      "language": "python",
      "name": "python3"
    },
    "language_info": {
      "codemirror_mode": {
        "name": "ipython",
        "version": 3
      },
      "file_extension": ".py",
      "mimetype": "text/x-python",
      "name": "python",
      "nbconvert_exporter": "python",
      "pygments_lexer": "ipython3",
      "version": "3.11.1"
    },
    "vscode": {
      "interpreter": {
        "hash": "aee8b7b246df8f9039afb4144a1f6fd8d2ca17a180786b69acc140d282b71a49"
      }
    }
  },
  "nbformat": 4,
  "nbformat_minor": 0
}
