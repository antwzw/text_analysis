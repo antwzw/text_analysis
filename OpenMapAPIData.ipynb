{
  "cells": [
    {
      "cell_type": "code",
      "execution_count": 1,
      "metadata": {
        "id": "I9iMdOKpkbEM"
      },
      "outputs": [
        {
          "ename": "ModuleNotFoundError",
          "evalue": "No module named 'requests'",
          "output_type": "error",
          "traceback": [
            "\u001b[0;31m---------------------------------------------------------------------------\u001b[0m",
            "\u001b[0;31mModuleNotFoundError\u001b[0m                       Traceback (most recent call last)",
            "Cell \u001b[0;32mIn[1], line 1\u001b[0m\n\u001b[0;32m----> 1\u001b[0m \u001b[39mimport\u001b[39;00m \u001b[39mrequests\u001b[39;00m\n\u001b[1;32m      2\u001b[0m \u001b[39mimport\u001b[39;00m \u001b[39mjson\u001b[39;00m\n\u001b[1;32m      3\u001b[0m \u001b[39mimport\u001b[39;00m \u001b[39mcsv\u001b[39;00m\n",
            "\u001b[0;31mModuleNotFoundError\u001b[0m: No module named 'requests'"
          ]
        }
      ],
      "source": [
        "import requests\n",
        "import json\n",
        "import csv\n",
        "import pprint\n",
        "import pandas as pd\n",
        "import numpy as np"
      ]
    },
    {
      "cell_type": "code",
      "execution_count": null,
      "metadata": {
        "colab": {
          "base_uri": "https://localhost:8080/"
        },
        "id": "vyqCRA6eks2P",
        "outputId": "9812b29c-e40f-4cc9-a9cf-252afdcc5a64"
      },
      "outputs": [
        {
          "name": "stdout",
          "output_type": "stream",
          "text": [
            "Mounted at /content/drive\n"
          ]
        }
      ],
      "source": [
        "from google.colab import drive\n",
        "drive.mount('/content/drive')"
      ]
    },
    {
      "cell_type": "code",
      "execution_count": null,
      "metadata": {
        "id": "kZWQACMikc-Z"
      },
      "outputs": [],
      "source": [
        "df = pd.read_csv('/content/Google_Map_review_data.csv')"
      ]
    },
    {
      "cell_type": "code",
      "execution_count": null,
      "metadata": {
        "id": "wZE_8bSVk77M"
      },
      "outputs": [],
      "source": [
        "api_key_ocm = '8b74f800-157a-4173-b0ff-c8d4a565081b' #'78770855-dee3-4eff-b188-d3273394fe0f'\n",
        "location = df[['lat','lng']]\n",
        "location = location.drop_duplicates().reset_index(drop = True)\n",
        "latitudes = location.lat.astype(float)\n",
        "longitudes = location.lng.astype(float)\n",
        "# times = df.time\n",
        "# country_code = 'US'\n",
        "ids = []\n",
        "# empty dataframe to append data\n",
        "ocm_data = pd.DataFrame()\n",
        "units = \"metric\"\n",
        "count = 10\n",
        "distanceunit = \"km\"\n",
        "output=\"json\"\n",
        "\n",
        "## loop through each major city and collect the details from opemchargemap. Same for the states\n",
        "for i in range(len(latitudes)):\n",
        "  print(i)\n",
        "  latitude = latitudes[i]\n",
        "  longitude = longitudes[i]\n",
        "\n",
        "  distance = 2000 # In meters\n",
        "  countrycode=\"US\"\n",
        "\n",
        "  # Specify the API endpoint and parameters\n",
        "  api_url = f\"https://api.openchargemap.io/v3/poi/?key={api_key_ocm}&distance={distance}&longitude={longitude}&latitude={latitude}&countrycode=US&maxresults={count}&compact=false&includecomments=true&output={output}&verbose=false\"\n",
        "\n",
        "  response = requests.get(api_url).json()\n",
        "\n",
        "  if len(response)==0:\n",
        "    ids.append(i); # save ids for charging station that have review but don't have record in OCM\n",
        "\n",
        "\n",
        "  df_nested=pd.json_normalize(response)\n",
        "  #df_nested['time'] = times[i]\n",
        "  df_nested['Address'] = df_nested['AddressInfo.AddressLine1'] +', ' + df_nested['AddressInfo.Town'] +', ' +  df_nested['AddressInfo.StateOrProvince'] +' ' + df_nested['AddressInfo.Postcode'] +', ' + df_nested['AddressInfo.Country.ISOCode']\n",
        "  df_nested['Address'] = df_nested['Address'].astype(str)\n",
        "  df_nested['match'] = df_nested['Address'].apply(lambda x: any(x in address for address in df['address']))\n",
        "  df_nested = df_nested[df_nested['match']].reset_index(drop = True)\n",
        "  for j in range(len(df_nested)):\n",
        "    if len(df_nested['Connections'][j])>0:\n",
        "      temp = pd.DataFrame(df_nested['Connections'][j][0])\n",
        "      temp = temp.dropna().reset_index(drop = 'True')\n",
        "      row = temp.iloc[1:2].reset_index(drop = 'True')\n",
        "      temp = pd.concat([row,df_nested],axis = 1, join='inner')\n",
        "      ocm_data = ocm_data.loc[:, ~ocm_data.columns.duplicated()]\n",
        "      temp = temp.loc[:, ~temp.columns.duplicated()]\n",
        "      ocm_data = pd.concat([ocm_data, temp], axis=0, ignore_index=True)\n"
      ]
    },
    {
      "cell_type": "code",
      "execution_count": null,
      "metadata": {
        "id": "xM3Fype7p7qX"
      },
      "outputs": [],
      "source": [
        "#ocm_data.to_csv('/content/drive/MyDrive/ColabNotebooks/Google_Map_review_data_combined.csv', index=False)\n",
        "ocm_data = ocm_data.drop_duplicates().reset_index(drop = True)\n",
        "ocm_data.to_csv('/content/drive/MyDrive/ColabNotebooks/Google_Map_review_data_combined.csv', index=False)"
      ]
    }
  ],
  "metadata": {
    "colab": {
      "provenance": []
    },
    "kernelspec": {
      "display_name": "Python 3",
      "language": "python",
      "name": "python3"
    },
    "language_info": {
      "codemirror_mode": {
        "name": "ipython",
        "version": 3
      },
      "file_extension": ".py",
      "mimetype": "text/x-python",
      "name": "python",
      "nbconvert_exporter": "python",
      "pygments_lexer": "ipython3",
      "version": "3.11.1 (v3.11.1:a7a450f84a, Dec  6 2022, 15:24:06) [Clang 13.0.0 (clang-1300.0.29.30)]"
    },
    "vscode": {
      "interpreter": {
        "hash": "aee8b7b246df8f9039afb4144a1f6fd8d2ca17a180786b69acc140d282b71a49"
      }
    }
  },
  "nbformat": 4,
  "nbformat_minor": 0
}
